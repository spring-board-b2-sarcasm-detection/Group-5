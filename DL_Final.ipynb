{
  "nbformat": 4,
  "nbformat_minor": 0,
  "metadata": {
    "colab": {
      "provenance": [],
      "gpuType": "T4"
    },
    "kernelspec": {
      "name": "python3",
      "display_name": "Python 3"
    },
    "language_info": {
      "name": "python"
    },
    "accelerator": "GPU"
  },
  "cells": [
    {
      "cell_type": "markdown",
      "source": [
        "# **Exploring Different Deep Learning Models**"
      ],
      "metadata": {
        "id": "ndi8Si3k6ToV"
      }
    },
    {
      "cell_type": "code",
      "source": [
        "!pip install emoji"
      ],
      "metadata": {
        "colab": {
          "base_uri": "https://localhost:8080/"
        },
        "id": "kyJDWyINcJSq",
        "outputId": "d17a405f-0cf6-4c05-a780-79d4f970afc2"
      },
      "execution_count": null,
      "outputs": [
        {
          "output_type": "stream",
          "name": "stdout",
          "text": [
            "Collecting emoji\n",
            "  Downloading emoji-2.12.1-py3-none-any.whl (431 kB)\n",
            "\u001b[2K     \u001b[90m━━━━━━━━━━━━━━━━━━━━━━━━━━━━━━━━━━━━━━━━\u001b[0m \u001b[32m431.4/431.4 kB\u001b[0m \u001b[31m4.7 MB/s\u001b[0m eta \u001b[36m0:00:00\u001b[0m\n",
            "\u001b[?25hRequirement already satisfied: typing-extensions>=4.7.0 in /usr/local/lib/python3.10/dist-packages (from emoji) (4.12.2)\n",
            "Installing collected packages: emoji\n",
            "Successfully installed emoji-2.12.1\n"
          ]
        }
      ]
    },
    {
      "cell_type": "markdown",
      "source": [
        "Importing the Libraries"
      ],
      "metadata": {
        "id": "PrIVzH58jfGA"
      }
    },
    {
      "cell_type": "code",
      "source": [
        "import pandas as pd\n",
        "import csv\n",
        "import re\n",
        "from sklearn.feature_extraction.text import TfidfVectorizer\n",
        "from tensorflow.keras.preprocessing.text import Tokenizer\n",
        "from tensorflow.keras.preprocessing.sequence import pad_sequences\n",
        "from sklearn.ensemble import RandomForestClassifier\n",
        "from sklearn.model_selection import train_test_split\n",
        "import nltk\n",
        "from nltk.tokenize import word_tokenize\n",
        "import matplotlib.pyplot as plt\n",
        "from nltk.tokenize import TweetTokenizer\n",
        "from sklearn.linear_model import LogisticRegression\n",
        "from sklearn.metrics import accuracy_score, classification_report, confusion_matrix, roc_curve, auc\n",
        "import seaborn as sns"
      ],
      "metadata": {
        "id": "KsXRKSjwcYZU"
      },
      "execution_count": null,
      "outputs": []
    },
    {
      "cell_type": "markdown",
      "source": [
        "## **DATA PREPROCESSING**"
      ],
      "metadata": {
        "id": "dgaOvF2qjjms"
      }
    },
    {
      "cell_type": "markdown",
      "source": [
        "\n",
        "\n",
        "*   Formatting the dataset\n",
        "\n"
      ],
      "metadata": {
        "id": "-5g1thkAjpas"
      }
    },
    {
      "cell_type": "code",
      "source": [
        "def extract(text):\n",
        "    # Split the text on the last comma to separate the boolean value\n",
        "    parts = text.rsplit(',', 1)\n",
        "    # Extract the string part and trim any extra whitespace\n",
        "    if len(parts) == 2:\n",
        "        es = parts[0].strip()\n",
        "        bv = parts[1].strip().lower() == 'true'\n",
        "    else: # If there's no comma, handle it by returning the entire text and a default false value\n",
        "        es = text.strip()\n",
        "        bv = False\n",
        "\n",
        "    return es, bv\n",
        "\n",
        "def process_file(filepath, output_filepath):\n",
        "    results = [] # List to store the results as tuples (extracted_string, boolean_value)\n",
        "    s = \"\"\n",
        "\n",
        "    with open(filepath, 'r') as file:\n",
        "        ls = file.readlines()\n",
        "\n",
        "    # Process each line in the file\n",
        "    for i, l in enumerate(ls):\n",
        "        l = l.strip()\n",
        "        if l:\n",
        "            s += l + \" \"\n",
        "        if (i + 1 == len(ls) or not ls[i + 1].strip()) and s:\n",
        "            es, bv = extract(s.strip())\n",
        "            results.append((es, bv))\n",
        "            s = \"\"\n",
        "    with open(output_filepath, 'w') as outfile:\n",
        "        for result in results:\n",
        "            outfile.write(f\"{result[0]}, {result[1]}\\n\")\n",
        "\n",
        "input_file_path = '/content/original_sarcasm_data.txt'\n",
        "output_file_path = 'output_file.txt'\n",
        "process_file(input_file_path, output_file_path)"
      ],
      "metadata": {
        "id": "CzIrZCY3cPIs"
      },
      "execution_count": null,
      "outputs": []
    },
    {
      "cell_type": "code",
      "source": [
        "df = pd.read_csv('output_file.txt', header=None, delimiter='\\t')\n",
        "df.head()"
      ],
      "metadata": {
        "colab": {
          "base_uri": "https://localhost:8080/",
          "height": 206
        },
        "id": "_uRmRgLjdMPU",
        "outputId": "02a1543b-703e-47e2-d5be-31e157a7fd87"
      },
      "execution_count": null,
      "outputs": [
        {
          "output_type": "execute_result",
          "data": {
            "text/plain": [
              "                                                   0\n",
              "0  Fantastic service yet again from EE. 1st you u...\n",
              "1  Not sure if that was or #realtalk . I'll take ...\n",
              "2  Barely 9 am and already shaking with rage.  #g...\n",
              "3  @deray I guess that proves it then. Black folk...\n",
              "4  @the_FF_engineer Does this tweet need a tag?, ..."
            ],
            "text/html": [
              "\n",
              "  <div id=\"df-3cf81159-2b9c-4d98-aa48-8e62d6d1febd\" class=\"colab-df-container\">\n",
              "    <div>\n",
              "<style scoped>\n",
              "    .dataframe tbody tr th:only-of-type {\n",
              "        vertical-align: middle;\n",
              "    }\n",
              "\n",
              "    .dataframe tbody tr th {\n",
              "        vertical-align: top;\n",
              "    }\n",
              "\n",
              "    .dataframe thead th {\n",
              "        text-align: right;\n",
              "    }\n",
              "</style>\n",
              "<table border=\"1\" class=\"dataframe\">\n",
              "  <thead>\n",
              "    <tr style=\"text-align: right;\">\n",
              "      <th></th>\n",
              "      <th>0</th>\n",
              "    </tr>\n",
              "  </thead>\n",
              "  <tbody>\n",
              "    <tr>\n",
              "      <th>0</th>\n",
              "      <td>Fantastic service yet again from EE. 1st you u...</td>\n",
              "    </tr>\n",
              "    <tr>\n",
              "      <th>1</th>\n",
              "      <td>Not sure if that was or #realtalk . I'll take ...</td>\n",
              "    </tr>\n",
              "    <tr>\n",
              "      <th>2</th>\n",
              "      <td>Barely 9 am and already shaking with rage.  #g...</td>\n",
              "    </tr>\n",
              "    <tr>\n",
              "      <th>3</th>\n",
              "      <td>@deray I guess that proves it then. Black folk...</td>\n",
              "    </tr>\n",
              "    <tr>\n",
              "      <th>4</th>\n",
              "      <td>@the_FF_engineer Does this tweet need a tag?, ...</td>\n",
              "    </tr>\n",
              "  </tbody>\n",
              "</table>\n",
              "</div>\n",
              "    <div class=\"colab-df-buttons\">\n",
              "\n",
              "  <div class=\"colab-df-container\">\n",
              "    <button class=\"colab-df-convert\" onclick=\"convertToInteractive('df-3cf81159-2b9c-4d98-aa48-8e62d6d1febd')\"\n",
              "            title=\"Convert this dataframe to an interactive table.\"\n",
              "            style=\"display:none;\">\n",
              "\n",
              "  <svg xmlns=\"http://www.w3.org/2000/svg\" height=\"24px\" viewBox=\"0 -960 960 960\">\n",
              "    <path d=\"M120-120v-720h720v720H120Zm60-500h600v-160H180v160Zm220 220h160v-160H400v160Zm0 220h160v-160H400v160ZM180-400h160v-160H180v160Zm440 0h160v-160H620v160ZM180-180h160v-160H180v160Zm440 0h160v-160H620v160Z\"/>\n",
              "  </svg>\n",
              "    </button>\n",
              "\n",
              "  <style>\n",
              "    .colab-df-container {\n",
              "      display:flex;\n",
              "      gap: 12px;\n",
              "    }\n",
              "\n",
              "    .colab-df-convert {\n",
              "      background-color: #E8F0FE;\n",
              "      border: none;\n",
              "      border-radius: 50%;\n",
              "      cursor: pointer;\n",
              "      display: none;\n",
              "      fill: #1967D2;\n",
              "      height: 32px;\n",
              "      padding: 0 0 0 0;\n",
              "      width: 32px;\n",
              "    }\n",
              "\n",
              "    .colab-df-convert:hover {\n",
              "      background-color: #E2EBFA;\n",
              "      box-shadow: 0px 1px 2px rgba(60, 64, 67, 0.3), 0px 1px 3px 1px rgba(60, 64, 67, 0.15);\n",
              "      fill: #174EA6;\n",
              "    }\n",
              "\n",
              "    .colab-df-buttons div {\n",
              "      margin-bottom: 4px;\n",
              "    }\n",
              "\n",
              "    [theme=dark] .colab-df-convert {\n",
              "      background-color: #3B4455;\n",
              "      fill: #D2E3FC;\n",
              "    }\n",
              "\n",
              "    [theme=dark] .colab-df-convert:hover {\n",
              "      background-color: #434B5C;\n",
              "      box-shadow: 0px 1px 3px 1px rgba(0, 0, 0, 0.15);\n",
              "      filter: drop-shadow(0px 1px 2px rgba(0, 0, 0, 0.3));\n",
              "      fill: #FFFFFF;\n",
              "    }\n",
              "  </style>\n",
              "\n",
              "    <script>\n",
              "      const buttonEl =\n",
              "        document.querySelector('#df-3cf81159-2b9c-4d98-aa48-8e62d6d1febd button.colab-df-convert');\n",
              "      buttonEl.style.display =\n",
              "        google.colab.kernel.accessAllowed ? 'block' : 'none';\n",
              "\n",
              "      async function convertToInteractive(key) {\n",
              "        const element = document.querySelector('#df-3cf81159-2b9c-4d98-aa48-8e62d6d1febd');\n",
              "        const dataTable =\n",
              "          await google.colab.kernel.invokeFunction('convertToInteractive',\n",
              "                                                    [key], {});\n",
              "        if (!dataTable) return;\n",
              "\n",
              "        const docLinkHtml = 'Like what you see? Visit the ' +\n",
              "          '<a target=\"_blank\" href=https://colab.research.google.com/notebooks/data_table.ipynb>data table notebook</a>'\n",
              "          + ' to learn more about interactive tables.';\n",
              "        element.innerHTML = '';\n",
              "        dataTable['output_type'] = 'display_data';\n",
              "        await google.colab.output.renderOutput(dataTable, element);\n",
              "        const docLink = document.createElement('div');\n",
              "        docLink.innerHTML = docLinkHtml;\n",
              "        element.appendChild(docLink);\n",
              "      }\n",
              "    </script>\n",
              "  </div>\n",
              "\n",
              "\n",
              "<div id=\"df-42950e82-019f-4521-9ba6-801abf46a08a\">\n",
              "  <button class=\"colab-df-quickchart\" onclick=\"quickchart('df-42950e82-019f-4521-9ba6-801abf46a08a')\"\n",
              "            title=\"Suggest charts\"\n",
              "            style=\"display:none;\">\n",
              "\n",
              "<svg xmlns=\"http://www.w3.org/2000/svg\" height=\"24px\"viewBox=\"0 0 24 24\"\n",
              "     width=\"24px\">\n",
              "    <g>\n",
              "        <path d=\"M19 3H5c-1.1 0-2 .9-2 2v14c0 1.1.9 2 2 2h14c1.1 0 2-.9 2-2V5c0-1.1-.9-2-2-2zM9 17H7v-7h2v7zm4 0h-2V7h2v10zm4 0h-2v-4h2v4z\"/>\n",
              "    </g>\n",
              "</svg>\n",
              "  </button>\n",
              "\n",
              "<style>\n",
              "  .colab-df-quickchart {\n",
              "      --bg-color: #E8F0FE;\n",
              "      --fill-color: #1967D2;\n",
              "      --hover-bg-color: #E2EBFA;\n",
              "      --hover-fill-color: #174EA6;\n",
              "      --disabled-fill-color: #AAA;\n",
              "      --disabled-bg-color: #DDD;\n",
              "  }\n",
              "\n",
              "  [theme=dark] .colab-df-quickchart {\n",
              "      --bg-color: #3B4455;\n",
              "      --fill-color: #D2E3FC;\n",
              "      --hover-bg-color: #434B5C;\n",
              "      --hover-fill-color: #FFFFFF;\n",
              "      --disabled-bg-color: #3B4455;\n",
              "      --disabled-fill-color: #666;\n",
              "  }\n",
              "\n",
              "  .colab-df-quickchart {\n",
              "    background-color: var(--bg-color);\n",
              "    border: none;\n",
              "    border-radius: 50%;\n",
              "    cursor: pointer;\n",
              "    display: none;\n",
              "    fill: var(--fill-color);\n",
              "    height: 32px;\n",
              "    padding: 0;\n",
              "    width: 32px;\n",
              "  }\n",
              "\n",
              "  .colab-df-quickchart:hover {\n",
              "    background-color: var(--hover-bg-color);\n",
              "    box-shadow: 0 1px 2px rgba(60, 64, 67, 0.3), 0 1px 3px 1px rgba(60, 64, 67, 0.15);\n",
              "    fill: var(--button-hover-fill-color);\n",
              "  }\n",
              "\n",
              "  .colab-df-quickchart-complete:disabled,\n",
              "  .colab-df-quickchart-complete:disabled:hover {\n",
              "    background-color: var(--disabled-bg-color);\n",
              "    fill: var(--disabled-fill-color);\n",
              "    box-shadow: none;\n",
              "  }\n",
              "\n",
              "  .colab-df-spinner {\n",
              "    border: 2px solid var(--fill-color);\n",
              "    border-color: transparent;\n",
              "    border-bottom-color: var(--fill-color);\n",
              "    animation:\n",
              "      spin 1s steps(1) infinite;\n",
              "  }\n",
              "\n",
              "  @keyframes spin {\n",
              "    0% {\n",
              "      border-color: transparent;\n",
              "      border-bottom-color: var(--fill-color);\n",
              "      border-left-color: var(--fill-color);\n",
              "    }\n",
              "    20% {\n",
              "      border-color: transparent;\n",
              "      border-left-color: var(--fill-color);\n",
              "      border-top-color: var(--fill-color);\n",
              "    }\n",
              "    30% {\n",
              "      border-color: transparent;\n",
              "      border-left-color: var(--fill-color);\n",
              "      border-top-color: var(--fill-color);\n",
              "      border-right-color: var(--fill-color);\n",
              "    }\n",
              "    40% {\n",
              "      border-color: transparent;\n",
              "      border-right-color: var(--fill-color);\n",
              "      border-top-color: var(--fill-color);\n",
              "    }\n",
              "    60% {\n",
              "      border-color: transparent;\n",
              "      border-right-color: var(--fill-color);\n",
              "    }\n",
              "    80% {\n",
              "      border-color: transparent;\n",
              "      border-right-color: var(--fill-color);\n",
              "      border-bottom-color: var(--fill-color);\n",
              "    }\n",
              "    90% {\n",
              "      border-color: transparent;\n",
              "      border-bottom-color: var(--fill-color);\n",
              "    }\n",
              "  }\n",
              "</style>\n",
              "\n",
              "  <script>\n",
              "    async function quickchart(key) {\n",
              "      const quickchartButtonEl =\n",
              "        document.querySelector('#' + key + ' button');\n",
              "      quickchartButtonEl.disabled = true;  // To prevent multiple clicks.\n",
              "      quickchartButtonEl.classList.add('colab-df-spinner');\n",
              "      try {\n",
              "        const charts = await google.colab.kernel.invokeFunction(\n",
              "            'suggestCharts', [key], {});\n",
              "      } catch (error) {\n",
              "        console.error('Error during call to suggestCharts:', error);\n",
              "      }\n",
              "      quickchartButtonEl.classList.remove('colab-df-spinner');\n",
              "      quickchartButtonEl.classList.add('colab-df-quickchart-complete');\n",
              "    }\n",
              "    (() => {\n",
              "      let quickchartButtonEl =\n",
              "        document.querySelector('#df-42950e82-019f-4521-9ba6-801abf46a08a button');\n",
              "      quickchartButtonEl.style.display =\n",
              "        google.colab.kernel.accessAllowed ? 'block' : 'none';\n",
              "    })();\n",
              "  </script>\n",
              "</div>\n",
              "\n",
              "    </div>\n",
              "  </div>\n"
            ],
            "application/vnd.google.colaboratory.intrinsic+json": {
              "type": "dataframe",
              "variable_name": "df",
              "summary": "{\n  \"name\": \"df\",\n  \"rows\": 1028,\n  \"fields\": [\n    {\n      \"column\": 0,\n      \"properties\": {\n        \"dtype\": \"string\",\n        \"num_unique_values\": 1023,\n        \"samples\": [\n          \"This is BRAND new information ... I am so shocked., True\",\n          \"@MarathonWealth gpro is a recession proof stock. Didn't they teach you that on the $12k CFP course?, True\",\n          \"@DAKINS24 @DM0GUL @SportsCenter there seems to be ZERO bias in this tweet, True\"\n        ],\n        \"semantic_type\": \"\",\n        \"description\": \"\"\n      }\n    }\n  ]\n}"
            }
          },
          "metadata": {},
          "execution_count": 9
        }
      ]
    },
    {
      "cell_type": "code",
      "source": [
        "df.to_csv('output_file.csv', index=False)"
      ],
      "metadata": {
        "id": "tV4XHuFketQJ"
      },
      "execution_count": null,
      "outputs": []
    },
    {
      "cell_type": "markdown",
      "source": [
        "\n",
        "\n",
        "*   Handling URLs, Hashtags and Mentions\n",
        "\n",
        "\n"
      ],
      "metadata": {
        "id": "hx1Q8EeYkTqk"
      }
    },
    {
      "cell_type": "code",
      "source": [
        "def clean_text(text):\n",
        "    # Remove URLs\n",
        "    text = re.sub(r'http[s]?://\\S+', '', text)\n",
        "    # Remove hashtags\n",
        "    text = re.sub(r'#\\w+', '', text)\n",
        "    # Remove @mentions\n",
        "    text = re.sub(r'@\\w+', '', text)\n",
        "    return text.strip()\n",
        "\n",
        "def process_csv(input_file, output_file):\n",
        "    with open(input_file, 'r', encoding='utf-8') as file:\n",
        "        r = csv.reader(file)\n",
        "        h = next(r)\n",
        "        df = list(r)\n",
        "# Clean text in the CSV data, handling potential IndexError\n",
        "    cleaned_data = [(clean_text(row[0]), row[1] if len(row) > 1 else '') for row in df] # Handle cases where row might have only one element\n",
        " # Write cleaned data to a new CSV file\n",
        "    with open(output_file, 'w', newline='', encoding='utf-8') as file:\n",
        "        w = csv.writer(file)\n",
        "        w.writerow(h)\n",
        "        for row in cleaned_data:\n",
        "            w.writerow(row)\n",
        "    # Print the message after processing is done and within the function's scope\n",
        "    print(\"Cleaned data has been written to\", output_file)\n",
        "\n",
        "# Call the function with the file paths\n",
        "process_csv('output_file.csv', 'cleaned_output.csv')"
      ],
      "metadata": {
        "colab": {
          "base_uri": "https://localhost:8080/"
        },
        "id": "rAfSI2yhgKuy",
        "outputId": "7d53f6ac-4fca-4fb4-c84a-3528bc7d5a00"
      },
      "execution_count": null,
      "outputs": [
        {
          "output_type": "stream",
          "name": "stdout",
          "text": [
            "Cleaned data has been written to cleaned_output.csv\n"
          ]
        }
      ]
    },
    {
      "cell_type": "markdown",
      "source": [
        "\n",
        "\n",
        "*   Replacing Emojis to a descriptive word\n",
        "\n",
        "\n"
      ],
      "metadata": {
        "id": "9Ja5H0VvkcZC"
      }
    },
    {
      "cell_type": "code",
      "source": [
        "def replace_emojis_with_descriptions(text):\n",
        "    def replace(match):\n",
        "        emoji_desc = match.group(0)\n",
        "        try:\n",
        "            return emoji.demojize(emoji_desc)\n",
        "        except KeyError:\n",
        "            return ''  # If emoji not found, replace with an empty string\n",
        "\n",
        "    emojis = re.compile(\"[\"\n",
        "                       u\"\\U0001F600-\\U0001F64F\"\n",
        "                       u\"\\U0001F300-\\U0001F5FF\"\n",
        "                       u\"\\U0001F680-\\U0001F6FF\"\n",
        "                       u\"\\U0001F700-\\U0001F77F\"\n",
        "                       u\"\\U0001F780-\\U0001F7FF\"\n",
        "                       u\"\\U0001F800-\\U0001F8FF\"\n",
        "                       u\"\\U0001F900-\\U0001F9FF\"\n",
        "                       u\"\\U0001FA00-\\U0001FA6F\"\n",
        "                       u\"\\U0001FA70-\\U0001FAFF\"\n",
        "                       u\"\\U00002702-\\U000027B0\"\n",
        "                       u\"\\U000024C2-\\U0001F251\"\n",
        "                       \"]+\", flags=re.UNICODE)\n",
        "    return emojis.sub(replace, text)\n",
        "\n",
        "def process_file(input_file_path, output_file_path):\n",
        "    with open(input_file_path, 'r', encoding='utf-8') as file:\n",
        "        lines = file.readlines()\n",
        "\n",
        "    cleaned_lines = [replace_emojis_with_descriptions(line) for line in lines]\n",
        "\n",
        "    with open(output_file_path, 'w', encoding='utf-8') as file:\n",
        "        file.writelines(cleaned_lines)\n",
        "\n",
        "input_path = 'cleaned_output.csv'\n",
        "output_path = 'emoji_removed.txt'\n",
        "process_file(input_path, output_path)\n",
        "process_csv('cleaned_output.csv', 'emoji_removed.csv')"
      ],
      "metadata": {
        "colab": {
          "base_uri": "https://localhost:8080/"
        },
        "id": "tt6d_2VHgSFl",
        "outputId": "895b07ba-16c7-4f3b-bb39-6b7db8de357b"
      },
      "execution_count": null,
      "outputs": [
        {
          "output_type": "stream",
          "name": "stdout",
          "text": [
            "Cleaned data has been written to emoji_removed.csv\n"
          ]
        }
      ]
    },
    {
      "cell_type": "markdown",
      "source": [
        "\n",
        "\n",
        "*   Handling Abbreviations\n",
        "\n",
        "\n"
      ],
      "metadata": {
        "id": "t04nqaSDkgdO"
      }
    },
    {
      "cell_type": "code",
      "source": [
        "def expand_contractions(text):\n",
        "    # Define common contractions and their expansions\n",
        "    contractions_dict = {\n",
        "        \"ain't\": \"am not\",\n",
        "        \"aren't\": \"are not\",\n",
        "        \"can't\": \"cannot\",\n",
        "        \"could've\": \"could have\",\n",
        "        \"couldn't\": \"could not\",\n",
        "        \"didn't\": \"did not\",\n",
        "        \"doesn't\": \"does not\",\n",
        "        \"don't\": \"do not\",\n",
        "        \"hadn't\": \"had not\",\n",
        "        \"hasn't\": \"has not\",\n",
        "        \"haven't\": \"have not\",\n",
        "        \"he'd\": \"he would\",\n",
        "        \"he'll\": \"he will\",\n",
        "        \"he's\": \"he is\",\n",
        "        \"how'd\": \"how did\",\n",
        "        \"how'll\": \"how will\",\n",
        "        \"how's\": \"how is\",\n",
        "        \"I'd\": \"I would\",\n",
        "        \"I'll\": \"I will\",\n",
        "        \"I'm\": \"I am\",\n",
        "        \"I've\": \"I have\",\n",
        "        \"isn't\": \"is not\",\n",
        "        \"it'd\": \"it would\",\n",
        "        \"it'll\": \"it will\",\n",
        "        \"it's\": \"it is\",\n",
        "        \"let's\": \"let us\",\n",
        "        \"mustn't\": \"must not\",\n",
        "        \"shan't\": \"shall not\",\n",
        "        \"she'd\": \"she would\",\n",
        "        \"she'll\": \"she will\",\n",
        "        \"she's\": \"she is\",\n",
        "        \"should've\": \"should have\",\n",
        "        \"shouldn't\": \"should not\",\n",
        "        \"that's\": \"that is\",\n",
        "        \"there's\": \"there is\",\n",
        "        \"they'd\": \"they would\",\n",
        "        \"they'll\": \"they will\",\n",
        "        \"they're\": \"they are\",\n",
        "        \"they've\": \"they have\",\n",
        "        \"wasn't\": \"was not\",\n",
        "        \"we'd\": \"we would\",\n",
        "        \"we'll\": \"we will\",\n",
        "        \"we're\": \"we are\",\n",
        "        \"we've\": \"we have\",\n",
        "        \"weren't\": \"were not\",\n",
        "        \"what'll\": \"what will\",\n",
        "        \"what're\": \"what are\",\n",
        "        \"what's\": \"what is\",\n",
        "        \"what've\": \"what have\",\n",
        "        \"when's\": \"when is\",\n",
        "        \"where'd\": \"where did\",\n",
        "        \"where's\": \"where is\",\n",
        "        \"who'll\": \"who will\",\n",
        "        \"who's\": \"who is\",\n",
        "        \"won't\": \"will not\",\n",
        "        \"would've\": \"would have\",\n",
        "        \"wouldn't\": \"would not\",\n",
        "        \"you'd\": \"you would\",\n",
        "        \"you'll\": \"you will\",\n",
        "        \"you're\": \"you are\",\n",
        "        \"you've\": \"you have\"\n",
        "    }\n",
        "\n",
        "    # Regular expression pattern for finding contractions\n",
        "    contractions_re = re.compile('(%s)' % '|'.join(contractions_dict.keys()))\n",
        "\n",
        "    def expand_match(contraction):\n",
        "        match = contraction.group(0)\n",
        "        expanded_contraction = contractions_dict.get(match) if contractions_dict.get(match) else contractions_dict.get(match.lower())\n",
        "        return expanded_contraction\n",
        "\n",
        "    # Replace contractions with their expansions\n",
        "    expanded_text = contractions_re.sub(expand_match, text)\n",
        "    return expanded_text\n",
        "\n",
        "# Open final.txt for reading\n",
        "with open('emoji_removed.csv', 'r') as infile:\n",
        "    # Read lines from the file\n",
        "    lines = infile.readlines()\n",
        "\n",
        "# Apply expand_contractions() function to each line\n",
        "expanded_lines = [expand_contractions(line) for line in lines]\n",
        "\n",
        "# Write the expanded content to expanded_final.txt\n",
        "with open('final.txt', 'w') as outfile:\n",
        "    # Write each expanded line to the output file\n",
        "    for line in expanded_lines:\n",
        "        outfile.write(line)\n",
        "process_csv('emoji_removed.csv', 'final.csv')"
      ],
      "metadata": {
        "colab": {
          "base_uri": "https://localhost:8080/"
        },
        "id": "oOMHAGL0gs0c",
        "outputId": "92ba9e19-0742-44f1-a07b-8faf26b127cf"
      },
      "execution_count": null,
      "outputs": [
        {
          "output_type": "stream",
          "name": "stdout",
          "text": [
            "Cleaned data has been written to final.csv\n"
          ]
        }
      ]
    },
    {
      "cell_type": "markdown",
      "source": [
        "\n",
        "\n",
        "*   Removing Special Characters\n",
        "\n",
        "\n"
      ],
      "metadata": {
        "id": "WqCq4WsqkpDs"
      }
    },
    {
      "cell_type": "code",
      "source": [
        "# Define a function to remove special characters\n",
        "def remove_special_characters(text):\n",
        "    # Remove special characters except for \",\", \".\", \"!\", and newline characters\n",
        "    cleaned_text = re.sub(r'[^\\w\\s,.!\\n]', '', text)\n",
        "    return cleaned_text\n",
        "\n",
        "with open('final.csv', 'r') as infile:\n",
        "    # Read lines from the file\n",
        "    lines = infile.readlines()\n",
        "\n",
        "# Apply remove_special_characters() function to each line\n",
        "cleaned_lines = [remove_special_characters(line) for line in lines]\n",
        "\n",
        "# Write the cleaned content to final_cleaned.txt\n",
        "with open('final_cleaned.csv', 'w') as outfile:\n",
        "    # Write each cleaned line to the output file\n",
        "    for line in cleaned_lines:\n",
        "        outfile.write(line)"
      ],
      "metadata": {
        "id": "e76x53RghUAn"
      },
      "execution_count": null,
      "outputs": []
    },
    {
      "cell_type": "markdown",
      "source": [
        "**Merging the two datasets**"
      ],
      "metadata": {
        "id": "l1_J8jhqk4q8"
      }
    },
    {
      "cell_type": "code",
      "source": [
        "df1 = pd.read_csv(\"final_cleaned.csv\")\n",
        "df2 = pd.read_csv('Clean_Dataset.csv')\n",
        "\n",
        "df1 = df1.rename(columns={\"sarcsam\": \"Sarcasm\", \"tweet\": \"Tweet\"})\n",
        "df2 = df2.rename(columns={\"Label\": \"Sarcasm\", \"Tweets\": \"Tweet\"})\n",
        "\n",
        "df1['Sarcasm'] = df1['Sarcasm'].replace({'sarcastic': 'yes', 'non sarcastic': 'no', 'not sarcastic': 'no'})\n",
        "merged_df = pd.concat([df1[['Tweet', 'Sarcasm']], df2[['Tweet', 'Sarcasm']]], ignore_index=True)\n",
        "\n",
        "merged_df.to_csv('Merge.csv', index=False)"
      ],
      "metadata": {
        "id": "QynjknmwkJk5"
      },
      "execution_count": null,
      "outputs": []
    },
    {
      "cell_type": "markdown",
      "source": [
        "# **Encoding**"
      ],
      "metadata": {
        "id": "8unHzuVSlDSw"
      }
    },
    {
      "cell_type": "markdown",
      "source": [
        "\n",
        "\n",
        "*   TF-IDF(Term Frequency-Inverse Document Frequency)\n",
        "\n",
        "\n"
      ],
      "metadata": {
        "id": "pz89EqSUlGwE"
      }
    },
    {
      "cell_type": "code",
      "source": [
        "#tfidf\n",
        "tweets = df['Tweet']\n",
        "tfidf_vectorizer = TfidfVectorizer()\n",
        "X = tfidf_vectorizer.fit_transform(tweets)\n",
        "tfidf_df = pd.DataFrame(X.toarray(), columns=tfidf_vectorizer.get_feature_names_out())\n",
        "final_df = pd.concat([df.drop('Tweet', axis=1), tfidf_df], axis=1)\n",
        "final_df.to_csv(\"tfidf_encoded_tweets.csv\", index=False)"
      ],
      "metadata": {
        "id": "aZ_EAK16jEht"
      },
      "execution_count": null,
      "outputs": []
    },
    {
      "cell_type": "markdown",
      "source": [
        "# **DL Model**"
      ],
      "metadata": {
        "id": "19KmoI58laFV"
      }
    },
    {
      "cell_type": "code",
      "source": [
        "import pandas as pd\n",
        "import matplotlib.pyplot as plt\n",
        "\n",
        "df = pd.read_csv('/content/Small.csv', index_col=False)"
      ],
      "metadata": {
        "id": "26_jJ6NYTflT"
      },
      "execution_count": 1,
      "outputs": []
    },
    {
      "cell_type": "markdown",
      "source": [
        "# **Bidirectional Long Short-Term Memory (BLSTM) Networks**"
      ],
      "metadata": {
        "id": "GDId8CKRqVVN"
      }
    },
    {
      "cell_type": "code",
      "source": [
        "max_len = 100\n",
        "vocab_size = 10000\n",
        "embedding_dim = 512\n",
        "\n",
        "texts = df['Tweet']\n",
        "texts = texts.astype(str)\n",
        "labels = df['Sarcasm']\n",
        "labels = df['Sarcasm'].map({'yes': 1, 'no': 0})\n",
        "\n",
        "tokenizer = Tokenizer(num_words=vocab_size)\n",
        "tokenizer.fit_on_texts(texts)\n",
        "sequences = tokenizer.texts_to_sequences(texts)\n",
        "padded_sequences = pad_sequences(sequences, maxlen=max_len)\n",
        "\n",
        "X_train, X_test, y_train, y_test = train_test_split(padded_sequences, labels, test_size=0.2, random_state=42)\n",
        "\n",
        "# Define the BLSTM model\n",
        "model = Sequential()\n",
        "model.add(Embedding(vocab_size, embedding_dim, input_length=max_len))\n",
        "model.add(Bidirectional(LSTM(512, return_sequences=True)))\n",
        "model.add(Bidirectional(LSTM(328, return_sequences=True)))\n",
        "model.add(Bidirectional(LSTM(128, return_sequences=True)))\n",
        "model.add(Bidirectional(LSTM(128)))\n",
        "model.add(Dense(128, activation='relu'))\n",
        "model.add(Dense(64, activation='relu'))\n",
        "model.add(Dense(1, activation='sigmoid'))\n",
        "\n",
        "#add early stopping\n",
        "early_stopping = EarlyStopping(monitor='val_loss', patience=3, restore_best_weights=True)\n",
        "\n",
        "#compile the model\n",
        "model.compile(loss='binary_crossentropy', optimizer='adam', metrics=['accuracy'])\n",
        "\n",
        "# Train the model\n",
        "model.fit(X_train, y_train, epochs=10, batch_size=256, validation_data=(X_test, y_test), callbacks=[early_stopping])\n",
        "\n",
        "# Evaluate the model\n",
        "loss, accuracy = model.evaluate(X_test, y_test)\n",
        "print(f\"Test Loss: {loss:.4f}, Accuracy: {accuracy:.4f}\")\n",
        "y_pred = (model.predict(X_test) > 0.5).astype(\"int32\")\n",
        "print(\"Classification Report:\")\n",
        "print(classification_report(y_test, y_pred))\n",
        "\n",
        "conf_matrix = confusion_matrix(y_test, y_pred)\n",
        "plt.figure(figsize=(8, 6))\n",
        "sns.heatmap(conf_matrix, annot=True, fmt='d', cmap='Blues', xticklabels=['Not Sarcastic', 'Sarcastic'], yticklabels=['Not Sarcastic', 'Sarcastic'])\n",
        "plt.xlabel('Predicted')\n",
        "plt.ylabel('Actual')\n",
        "plt.title('Confusion Matrix')\n",
        "plt.show()\n",
        "\n",
        "new_text = \"Can't wait to crush my to-do list ,tomorrow.\"\n",
        "sequence = tokenizer.texts_to_sequences([new_text])\n",
        "padded_sequence = pad_sequences(sequence, maxlen=max_len)\n",
        "prediction = model.predict(padded_sequence)\n",
        "if prediction > 0.5:\n",
        "    print(\"This text is predicted to be sarcastic.\")\n",
        "else:\n",
        "    print(\"This text is predicted to be non-sarcastic.\")"
      ],
      "metadata": {
        "colab": {
          "base_uri": "https://localhost:8080/",
          "height": 1000
        },
        "id": "MrmmX-jXdh4E",
        "outputId": "dfc801d8-6594-4774-c679-a54de128bcc6"
      },
      "execution_count": 4,
      "outputs": [
        {
          "output_type": "stream",
          "name": "stdout",
          "text": [
            "Epoch 1/10\n",
            "22/22 [==============================] - 27s 672ms/step - loss: 0.5289 - accuracy: 0.7330 - val_loss: 0.3410 - val_accuracy: 0.8838\n",
            "Epoch 2/10\n",
            "22/22 [==============================] - 12s 544ms/step - loss: 0.3031 - accuracy: 0.8795 - val_loss: 0.2576 - val_accuracy: 0.8997\n",
            "Epoch 3/10\n",
            "22/22 [==============================] - 12s 545ms/step - loss: 0.1729 - accuracy: 0.9360 - val_loss: 0.3221 - val_accuracy: 0.8853\n",
            "Epoch 4/10\n",
            "22/22 [==============================] - 12s 551ms/step - loss: 0.0852 - accuracy: 0.9722 - val_loss: 0.3070 - val_accuracy: 0.8947\n",
            "Epoch 5/10\n",
            "22/22 [==============================] - 12s 571ms/step - loss: 0.0590 - accuracy: 0.9825 - val_loss: 0.3703 - val_accuracy: 0.8817\n",
            "44/44 [==============================] - 2s 35ms/step - loss: 0.2576 - accuracy: 0.8997\n",
            "Test Loss: 0.2576, Accuracy: 0.8997\n",
            "44/44 [==============================] - 4s 33ms/step\n",
            "Classification Report:\n",
            "              precision    recall  f1-score   support\n",
            "\n",
            "           0       0.93      0.85      0.89       648\n",
            "           1       0.87      0.95      0.91       738\n",
            "\n",
            "    accuracy                           0.90      1386\n",
            "   macro avg       0.90      0.90      0.90      1386\n",
            "weighted avg       0.90      0.90      0.90      1386\n",
            "\n"
          ]
        },
        {
          "output_type": "display_data",
          "data": {
            "text/plain": [
              "<Figure size 800x600 with 2 Axes>"
            ],
            "image/png": "[encoded data removed]"
          },
          "metadata": {}
        },
        {
          "output_type": "stream",
          "name": "stdout",
          "text": [
            "1/1 [==============================] - 0s 29ms/step\n",
            "This text is predicted to be sarcastic.\n"
          ]
        }
      ]
    },
    {
      "cell_type": "markdown",
      "source": [
        "# **Conclusion**\n",
        "\n",
        "\n",
        "*   Data Loading and Preprocessing:\n",
        "\n",
        "   Loaded the dataset and displayed basic information.\n",
        "\n",
        "   Cleaned the data by removing @,# and URLs and also emojis.\n",
        "\n",
        "   Encoded and Tokenized the labels.\n",
        "\n",
        "*   Training and Evaluating the Model:\n",
        "\n",
        "    We tried various Deep learning Models and found Bidirectional Long Short-Term Memory (BLSTM) to have the best performance.\n",
        "\n",
        "    Tested the model with a new random tweet and displayed the results.\n",
        "\n",
        "    Displayed the accuracy ,classification report and confusion matrix for the same.\n",
        "\n",
        "\n"
      ],
      "metadata": {
        "id": "2v2TyeSs9t03"
      }
    }
  ]
}
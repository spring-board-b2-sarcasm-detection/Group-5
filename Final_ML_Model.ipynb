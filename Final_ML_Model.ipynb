{
 "cells": [
  {
   "cell_type": "markdown",
   "id": "5ea0b758-5cf2-429e-b01a-d4d084e32bd2",
   "metadata": {},
   "source": [
    "# Sarcasm Detection in Twitter Comments"
   ]
  },
  {
   "cell_type": "code",
   "execution_count": 1,
   "id": "562a2b57-d647-4aa5-ae95-4d14bc2d123f",
   "metadata": {},
   "outputs": [],
   "source": [
    "import pandas as pd\n",
    "import numpy as np\n",
    "import emoji\n",
    "import nltk\n",
    "from nltk.tokenize import TweetTokenizer\n",
    "from sklearn.model_selection import train_test_split\n",
    "from sklearn.feature_extraction.text import TfidfVectorizer\n",
    "from sklearn.linear_model import LogisticRegression\n",
    "from sklearn.metrics import accuracy_score, classification_report, confusion_matrix, roc_curve, roc_auc_score\n",
    "import seaborn as sns\n",
    "import matplotlib.pyplot as plt\n",
    "from imblearn.over_sampling import SMOTE\n",
    "from imblearn.over_sampling import RandomOverSampler"
   ]
  },
  {
   "cell_type": "markdown",
   "id": "441690e2-2883-4d5d-bb8d-f4ce2621d70c",
   "metadata": {},
   "source": [
    "### Loading Text File into Pandas DataFrame"
   ]
  },
  {
   "cell_type": "code",
   "execution_count": 2,
   "id": "5429746e-4245-4096-ae3b-ed05a2937795",
   "metadata": {},
   "outputs": [],
   "source": [
    "df = pd.read_csv(\"C:\\\\Users\\\\HP\\\\OneDrive\\\\Desktop\\\\Test_v1.txt\", delimiter='\\t')"
   ]
  },
  {
   "cell_type": "code",
   "execution_count": 3,
   "id": "9a80ceb0-5a1d-4952-b0fb-51b150ca1284",
   "metadata": {},
   "outputs": [
    {
     "data": {
      "text/html": [
       "<div>\n",
       "<style scoped>\n",
       "    .dataframe tbody tr th:only-of-type {\n",
       "        vertical-align: middle;\n",
       "    }\n",
       "\n",
       "    .dataframe tbody tr th {\n",
       "        vertical-align: top;\n",
       "    }\n",
       "\n",
       "    .dataframe thead th {\n",
       "        text-align: right;\n",
       "    }\n",
       "</style>\n",
       "<table border=\"1\" class=\"dataframe\">\n",
       "  <thead>\n",
       "    <tr style=\"text-align: right;\">\n",
       "      <th></th>\n",
       "      <th>TrainSen</th>\n",
       "      <th>1</th>\n",
       "      <th>I loovee when people text back ... 😒 #sarcastictweet</th>\n",
       "    </tr>\n",
       "  </thead>\n",
       "  <tbody>\n",
       "    <tr>\n",
       "      <th>0</th>\n",
       "      <td>TrainSen</td>\n",
       "      <td>1</td>\n",
       "      <td>Don't you love it when your parents are Pissed...</td>\n",
       "    </tr>\n",
       "    <tr>\n",
       "      <th>1</th>\n",
       "      <td>TrainSen</td>\n",
       "      <td>1</td>\n",
       "      <td>So many useless classes , great to be student</td>\n",
       "    </tr>\n",
       "    <tr>\n",
       "      <th>2</th>\n",
       "      <td>TrainSen</td>\n",
       "      <td>1</td>\n",
       "      <td>Oh how I love getting home from work at 3am an...</td>\n",
       "    </tr>\n",
       "    <tr>\n",
       "      <th>3</th>\n",
       "      <td>TrainSen</td>\n",
       "      <td>1</td>\n",
       "      <td>I just love having grungy ass hair 😑 #not</td>\n",
       "    </tr>\n",
       "    <tr>\n",
       "      <th>4</th>\n",
       "      <td>TrainSen</td>\n",
       "      <td>1</td>\n",
       "      <td>Thank you , random guy , for sneaking up behin...</td>\n",
       "    </tr>\n",
       "  </tbody>\n",
       "</table>\n",
       "</div>"
      ],
      "text/plain": [
       "   TrainSen  1 I loovee when people text back ... 😒 #sarcastictweet\n",
       "0  TrainSen  1  Don't you love it when your parents are Pissed...  \n",
       "1  TrainSen  1      So many useless classes , great to be student  \n",
       "2  TrainSen  1  Oh how I love getting home from work at 3am an...  \n",
       "3  TrainSen  1          I just love having grungy ass hair 😑 #not  \n",
       "4  TrainSen  1  Thank you , random guy , for sneaking up behin...  "
      ]
     },
     "execution_count": 3,
     "metadata": {},
     "output_type": "execute_result"
    }
   ],
   "source": [
    "df.head()"
   ]
  },
  {
   "cell_type": "markdown",
   "id": "6f91cf2a-eac3-44cc-8875-fb777b59318a",
   "metadata": {},
   "source": [
    "## Reading, Renaming Columns, and Saving DataFrame to CSV"
   ]
  },
  {
   "cell_type": "code",
   "execution_count": 4,
   "id": "aa1784a9-c720-41d9-82a0-fd41d00871dc",
   "metadata": {},
   "outputs": [
    {
     "name": "stdout",
     "output_type": "stream",
     "text": [
      "      Train  Label                                             Tweets\n",
      "0  TrainSen      1  I loovee when people text back ... 😒 #sarcasti...\n",
      "1  TrainSen      1  Don't you love it when your parents are Pissed...\n",
      "2  TrainSen      1      So many useless classes , great to be student\n",
      "3  TrainSen      1  Oh how I love getting home from work at 3am an...\n",
      "4  TrainSen      1          I just love having grungy ass hair 😑 #not\n"
     ]
    }
   ],
   "source": [
    "df = pd.read_csv('C:\\\\Users\\\\HP\\\\OneDrive\\\\Desktop\\\\Test_v1.txt', header=None, delimiter='\\t')\n",
    "\n",
    "# name the columns\n",
    "df.columns = ['Train', 'Label', 'Tweets']\n",
    "\n",
    "print(df.head())\n",
    "\n",
    "df.to_csv('Clean_Dataset.csv', index=False)"
   ]
  },
  {
   "cell_type": "markdown",
   "id": "b1605948-4e7b-4c02-8f65-9a36ffb4d28b",
   "metadata": {},
   "source": [
    "## Drop the 'Train' column"
   ]
  },
  {
   "cell_type": "code",
   "execution_count": 5,
   "id": "0d54f6fa-fa18-41c9-8890-99e9bcf03561",
   "metadata": {},
   "outputs": [],
   "source": [
    "if df.shape[1] == 3:\n",
    "    df.columns = ['Train', 'Label', 'Tweets']\n",
    "    \n",
    "    # Drop the 'Train' column\n",
    "    df = df.drop(columns=['Train'])\n",
    "  \n",
    "    df.to_csv('Clean_Dataset.csv', index=False)\n",
    "else:\n",
    "    print(\"Unexpected number of columns in the dataset. Expected 3 columns, but found:\", df.shape[1])"
   ]
  },
  {
   "cell_type": "code",
   "execution_count": 6,
   "id": "8d104f36-7397-45a3-ba84-7187160249bc",
   "metadata": {},
   "outputs": [
    {
     "data": {
      "text/html": [
       "<div>\n",
       "<style scoped>\n",
       "    .dataframe tbody tr th:only-of-type {\n",
       "        vertical-align: middle;\n",
       "    }\n",
       "\n",
       "    .dataframe tbody tr th {\n",
       "        vertical-align: top;\n",
       "    }\n",
       "\n",
       "    .dataframe thead th {\n",
       "        text-align: right;\n",
       "    }\n",
       "</style>\n",
       "<table border=\"1\" class=\"dataframe\">\n",
       "  <thead>\n",
       "    <tr style=\"text-align: right;\">\n",
       "      <th></th>\n",
       "      <th>Label</th>\n",
       "      <th>Tweets</th>\n",
       "    </tr>\n",
       "  </thead>\n",
       "  <tbody>\n",
       "    <tr>\n",
       "      <th>0</th>\n",
       "      <td>1</td>\n",
       "      <td>I loovee when people text back ... 😒 #sarcasti...</td>\n",
       "    </tr>\n",
       "    <tr>\n",
       "      <th>1</th>\n",
       "      <td>1</td>\n",
       "      <td>Don't you love it when your parents are Pissed...</td>\n",
       "    </tr>\n",
       "    <tr>\n",
       "      <th>2</th>\n",
       "      <td>1</td>\n",
       "      <td>So many useless classes , great to be student</td>\n",
       "    </tr>\n",
       "    <tr>\n",
       "      <th>3</th>\n",
       "      <td>1</td>\n",
       "      <td>Oh how I love getting home from work at 3am an...</td>\n",
       "    </tr>\n",
       "    <tr>\n",
       "      <th>4</th>\n",
       "      <td>1</td>\n",
       "      <td>I just love having grungy ass hair 😑 #not</td>\n",
       "    </tr>\n",
       "  </tbody>\n",
       "</table>\n",
       "</div>"
      ],
      "text/plain": [
       "   Label                                             Tweets\n",
       "0      1  I loovee when people text back ... 😒 #sarcasti...\n",
       "1      1  Don't you love it when your parents are Pissed...\n",
       "2      1      So many useless classes , great to be student\n",
       "3      1  Oh how I love getting home from work at 3am an...\n",
       "4      1          I just love having grungy ass hair 😑 #not"
      ]
     },
     "execution_count": 6,
     "metadata": {},
     "output_type": "execute_result"
    }
   ],
   "source": [
    "df.head()"
   ]
  },
  {
   "cell_type": "markdown",
   "id": "80af203e-761c-441b-8b95-24c1c9590415",
   "metadata": {},
   "source": [
    "## Replace emojis with text descriptions in the 'Tweets' column"
   ]
  },
  {
   "cell_type": "code",
   "execution_count": 7,
   "id": "fb28e248-a0fb-4864-8d0d-fbafaab10b29",
   "metadata": {},
   "outputs": [
    {
     "name": "stdout",
     "output_type": "stream",
     "text": [
      "   Label                                             Tweets\n",
      "0      1  I loovee when people text back ... unamused_fa...\n",
      "1      1  Don't you love it when your parents are Pissed...\n",
      "2      1      So many useless classes , great to be student\n",
      "3      1  Oh how I love getting home from work at 3am an...\n",
      "4      1  I just love having grungy ass hair expressionl...\n"
     ]
    }
   ],
   "source": [
    "def replace_emojis(text):\n",
    "    return emoji.demojize(text, delimiters=(\"\", \"\"))\n",
    "\n",
    "df = pd.read_csv('Clean_Dataset.csv')\n",
    "\n",
    "df['Tweets'] = df['Tweets'].apply(replace_emojis)\n",
    "\n",
    "df.to_csv('Clean_Dataset.csv', index=False)\n",
    "\n",
    "print(df.head())"
   ]
  },
  {
   "cell_type": "markdown",
   "id": "6efdab6e-e68a-4d5a-9d5c-068c4f980537",
   "metadata": {},
   "source": [
    "## Remove '#' with its following text from tweets"
   ]
  },
  {
   "cell_type": "code",
   "execution_count": 8,
   "id": "7af6e99b-8e55-4682-8576-d146169d58c9",
   "metadata": {},
   "outputs": [],
   "source": [
    "df = pd.read_csv('Clean_Dataset.csv')\n",
    "\n",
    "# Remove '#' with its following text from tweets\n",
    "df['Tweets'] = df['Tweets'].str.replace(r'#\\w+', '', regex=True)\n",
    "\n",
    "df.to_csv('Clean_Dataset.csv', index=False)"
   ]
  },
  {
   "cell_type": "markdown",
   "id": "90f483f5-33e0-4731-a891-8c52fd017233",
   "metadata": {},
   "source": [
    "## Replace abbreviations with their expansions"
   ]
  },
  {
   "cell_type": "code",
   "execution_count": 9,
   "id": "31666402-4e13-4b70-a8e2-9eb581ce40b2",
   "metadata": {},
   "outputs": [],
   "source": [
    "# Define a dictionary of abbreviations and their expansions\n",
    "abbreviations = {\n",
    "    'lol': 'laugh out loud',\n",
    "    'brb': 'be right back',\n",
    "    'btw': 'by the way',\n",
    "    'omg': 'oh my god',\n",
    "    'tbh': 'to be honest',\n",
    "    'fyi': 'for your information',\n",
    "    'idk': 'I don\\'t know',\n",
    "    'imo': 'in my opinion',\n",
    "    'imho': 'in my humble opinion',\n",
    "    'np': 'no problem',\n",
    "    'tmi': 'too much information',\n",
    "    'smh': 'shake my head',\n",
    "    'irl': 'in real life',\n",
    "    'afk': 'away from keyboard',\n",
    "    'fomo': 'fear of missing out',\n",
    "    'imo': 'in my opinion',\n",
    "    'irl': 'in real life',\n",
    "    'omw': 'on my way',\n",
    "    'rofl': 'rolling on the floor laughing',\n",
    "    'afaik': 'as far as I know',\n",
    "    'gg': 'good game',\n",
    "    'ggwp': 'good game, well played',\n",
    "    'icymi': 'in case you missed it',\n",
    "    'nvm': 'never mind',\n",
    "    'ttyl': 'talk to you later',\n",
    "    'ftw': 'for the win',\n",
    "    'smh': 'shaking my head',\n",
    "}\n",
    "\n",
    "# Function to replace abbreviations with their expansions\n",
    "def replace_abbreviations(text):\n",
    "    for word in text.split():\n",
    "        if word.lower() in abbreviations:\n",
    "            text = text.replace(word, abbreviations[word.lower()])\n",
    "    return text\n",
    "\n",
    "df = pd.read_csv('Clean_Dataset.csv')\n",
    "df['Tweets'] = df['Tweets'].apply(replace_abbreviations)\n",
    "df.to_csv('Clean_Dataset.csv', index=False)"
   ]
  },
  {
   "cell_type": "markdown",
   "id": "05ee06d1-18d8-43c3-ad81-dd6037dc40dc",
   "metadata": {},
   "source": [
    "## Check for Garbage value"
   ]
  },
  {
   "cell_type": "code",
   "execution_count": 10,
   "id": "117fbebd-f31a-486c-9752-f79a5ca09b0e",
   "metadata": {},
   "outputs": [
    {
     "name": "stdout",
     "output_type": "stream",
     "text": [
      "Tweets\n",
      "I loovee when people text back ... unamused_face                                                                       1\n",
      "MilesLong they don't listen ... seriously                                                                              1\n",
      "Been in the UK so I'm just catching up with Saturated - can't wait to hear God speak through your sermon !             1\n",
      "my ex is gonna start watching fairy tail im so happy i'll be able to speak to him about it                             1\n",
      "This lab class boring af                                                                                               1\n",
      "                                                                                                                      ..\n",
      "I lost AJ Green and Jamaal Charles from the same  team on Sunday , Maybe my tight end puts up 40 points                1\n",
      "Good thing I have a doctors appointment in the morning . Good thing it's passed 3 am .                                 1\n",
      "Good thing I'm learning about ohms law and electric fields because I'm gonna use that everyday in the health field     1\n",
      "I'm glad the shorthand \" perc \" ( for percussion ) autocorrects to \" perv \" in my phone . Every . Single . Time .      1\n",
      "I'm So Erked Nobody Better Not Speak To Me                                                                             1\n",
      "Name: count, Length: 1975, dtype: int64\n",
      "******************************\n"
     ]
    }
   ],
   "source": [
    "#Garbage value\n",
    "for i in df.select_dtypes(include = \"object\").columns:\n",
    "    print(df[i].value_counts())\n",
    "    print(\"***\"*10)"
   ]
  },
  {
   "cell_type": "markdown",
   "id": "5322a034-39a2-4fb0-91b1-bd3d59ee29fc",
   "metadata": {},
   "source": [
    "## Check for Duplicated"
   ]
  },
  {
   "cell_type": "code",
   "execution_count": 11,
   "id": "eebbc268-9c2b-4208-9670-412b2dd47970",
   "metadata": {},
   "outputs": [
    {
     "data": {
      "text/plain": [
       "0"
      ]
     },
     "execution_count": 11,
     "metadata": {},
     "output_type": "execute_result"
    }
   ],
   "source": [
    "df.duplicated().sum()"
   ]
  },
  {
   "cell_type": "markdown",
   "id": "49a7bf78-9437-4428-aff6-f8b9505f1be8",
   "metadata": {},
   "source": [
    "## Check for Null value"
   ]
  },
  {
   "cell_type": "code",
   "execution_count": 12,
   "id": "36637934-8a57-42f0-bafe-1971e3644b93",
   "metadata": {},
   "outputs": [
    {
     "data": {
      "text/plain": [
       "Label     0\n",
       "Tweets    0\n",
       "dtype: int64"
      ]
     },
     "execution_count": 12,
     "metadata": {},
     "output_type": "execute_result"
    }
   ],
   "source": [
    "df.isnull().sum()"
   ]
  },
  {
   "cell_type": "markdown",
   "id": "6e5340b9-2cab-4de7-b5ef-7e89ad02a305",
   "metadata": {},
   "source": [
    "## Removing Special Characters from Tweets and Saving to CSV"
   ]
  },
  {
   "cell_type": "code",
   "execution_count": 13,
   "id": "9687bbd5-e2b0-489c-8822-38c61b2ad834",
   "metadata": {},
   "outputs": [],
   "source": [
    "df = pd.read_csv('Clean_Dataset.csv')\n",
    "df['Tweets'] = df['Tweets'].str.replace('#', '')\n",
    "df['Tweets'] = df['Tweets'].str.replace('\"', '')\n",
    "df['Tweets'] = df['Tweets'].str.replace(':', '')\n",
    "df['Tweets'] = df['Tweets'].str.replace(':', '')\n",
    "df['Tweets'] = df['Tweets'].str.replace('?', '')\n",
    "df['Tweets'] = df['Tweets'].str.replace('*', '')\n",
    "df['Tweets'] = df['Tweets'].str.replace('<', '')\n",
    "df['Tweets'] = df['Tweets'].str.replace('...', '')\n",
    "df['Tweets'] = df['Tweets'].str.replace('/', '')\n",
    "df['Tweets'] = df['Tweets'].str.replace('@', '')\n",
    "df['Tweets'] = df['Tweets'].str.replace('~', '')\n",
    "df['Tweets'] = df['Tweets'].str.replace('!', '')\n",
    "df['Tweets'] = df['Tweets'].str.replace('>', '')\n",
    "df['Tweets'] = df['Tweets'].str.replace('-', '')\n",
    "df['Tweets'] = df['Tweets'].str.replace(')', '')\n",
    "df['Tweets'] = df['Tweets'].str.replace('(', '')\n",
    "df['Tweets'] = df['Tweets'].str.replace('3', '')\n",
    "df.to_csv('Clean_Dataset.csv', index=False)"
   ]
  },
  {
   "cell_type": "markdown",
   "id": "07f4bc9b-7fdb-4540-8bb7-15785f34fe75",
   "metadata": {},
   "source": [
    "## Replace 1 with 'sarcastic' and 0 with 'not sarcastic' in the 'Label' column"
   ]
  },
  {
   "cell_type": "code",
   "execution_count": 14,
   "id": "e8760804-2b43-419d-b983-de1ede376b8e",
   "metadata": {},
   "outputs": [],
   "source": [
    "df = pd.read_csv('Clean_Dataset.csv')\n",
    "\n",
    "# Replace 1 with 'sarcastic' and 0 with 'not sarcastic' in the 'Label' column\n",
    "df['Label'] = df['Label'].replace({1: 'sarcastic', 0: 'not sarcastic'})\n",
    "\n",
    "df.to_csv('Clean_Dataset.csv', index=False)"
   ]
  },
  {
   "cell_type": "code",
   "execution_count": 15,
   "id": "7295a325-f857-4543-9e05-dd09f4c2e079",
   "metadata": {},
   "outputs": [
    {
     "data": {
      "text/html": [
       "<div>\n",
       "<style scoped>\n",
       "    .dataframe tbody tr th:only-of-type {\n",
       "        vertical-align: middle;\n",
       "    }\n",
       "\n",
       "    .dataframe tbody tr th {\n",
       "        vertical-align: top;\n",
       "    }\n",
       "\n",
       "    .dataframe thead th {\n",
       "        text-align: right;\n",
       "    }\n",
       "</style>\n",
       "<table border=\"1\" class=\"dataframe\">\n",
       "  <thead>\n",
       "    <tr style=\"text-align: right;\">\n",
       "      <th></th>\n",
       "      <th>Label</th>\n",
       "      <th>Tweets</th>\n",
       "    </tr>\n",
       "  </thead>\n",
       "  <tbody>\n",
       "    <tr>\n",
       "      <th>0</th>\n",
       "      <td>sarcastic</td>\n",
       "      <td>I loovee when people text back  unamused_face</td>\n",
       "    </tr>\n",
       "    <tr>\n",
       "      <th>1</th>\n",
       "      <td>sarcastic</td>\n",
       "      <td>Don't you love it when your parents are Pissed...</td>\n",
       "    </tr>\n",
       "    <tr>\n",
       "      <th>2</th>\n",
       "      <td>sarcastic</td>\n",
       "      <td>So many useless classes , great to be student</td>\n",
       "    </tr>\n",
       "    <tr>\n",
       "      <th>3</th>\n",
       "      <td>sarcastic</td>\n",
       "      <td>Oh how I love getting home from work at am and...</td>\n",
       "    </tr>\n",
       "    <tr>\n",
       "      <th>4</th>\n",
       "      <td>sarcastic</td>\n",
       "      <td>I just love having grungy ass hair expressionl...</td>\n",
       "    </tr>\n",
       "  </tbody>\n",
       "</table>\n",
       "</div>"
      ],
      "text/plain": [
       "       Label                                             Tweets\n",
       "0  sarcastic     I loovee when people text back  unamused_face \n",
       "1  sarcastic  Don't you love it when your parents are Pissed...\n",
       "2  sarcastic      So many useless classes , great to be student\n",
       "3  sarcastic  Oh how I love getting home from work at am and...\n",
       "4  sarcastic  I just love having grungy ass hair expressionl..."
      ]
     },
     "execution_count": 15,
     "metadata": {},
     "output_type": "execute_result"
    }
   ],
   "source": [
    "df.head()"
   ]
  },
  {
   "cell_type": "code",
   "execution_count": 16,
   "id": "330690de-43c7-47b6-b6ee-fa21e3b0f13b",
   "metadata": {},
   "outputs": [
    {
     "data": {
      "text/plain": [
       "Label     object\n",
       "Tweets    object\n",
       "dtype: object"
      ]
     },
     "execution_count": 16,
     "metadata": {},
     "output_type": "execute_result"
    }
   ],
   "source": [
    "df.dtypes"
   ]
  },
  {
   "cell_type": "markdown",
   "id": "e2504fbe-cc69-4afd-bb59-738031006694",
   "metadata": {},
   "source": [
    "## Remove URLs from the 'Tweets' column"
   ]
  },
  {
   "cell_type": "code",
   "execution_count": 17,
   "id": "9093233e-a9ba-4890-a078-f29ebbf0fd08",
   "metadata": {},
   "outputs": [],
   "source": [
    "df = pd.read_csv('Clean_Dataset.csv')\n",
    "\n",
    "# Remove URLs from the 'Tweets' column\n",
    "df['Tweets'] = df['Tweets'].str.replace(r'https?://\\S+|www\\.\\S+', '', regex=True)\n",
    "\n",
    "df.to_csv('C:\\\\Users\\\\HP\\\\OneDrive\\\\Desktop\\\\Clean_Dataset.csv', index=False)"
   ]
  },
  {
   "cell_type": "markdown",
   "id": "45b1d6d4-c89d-4a90-9bb9-30c7820eb6d6",
   "metadata": {},
   "source": [
    "## Merge two dataset"
   ]
  },
  {
   "cell_type": "code",
   "execution_count": 18,
   "id": "54c3a196-b717-4208-987d-fe11aba16832",
   "metadata": {},
   "outputs": [],
   "source": [
    "df1 = pd.read_csv(\"C:\\\\Users\\\\HP\\\\Downloads\\\\fd1.csv\")\n",
    "df2 = pd.read_csv('Clean_Dataset.csv')\n",
    "\n",
    "df1 = df1.rename(columns={\"sarcsam\": \"Sarcasm\", \"tweet\": \"Tweet\"})\n",
    "df2 = df2.rename(columns={\"Label\": \"Sarcasm\", \"Tweets\": \"Tweet\"})\n",
    "\n",
    "df1['Sarcasm'] = df1['Sarcasm'].replace({'sarcastic': 'yes', 'non sarcastic': 'no', 'not sarcastic': 'no'})\n",
    "merged_df = pd.concat([df1[['Tweet', 'Sarcasm']], df2[['Tweet', 'Sarcasm']]], ignore_index=True)\n",
    "\n",
    "merged_df.to_csv('Merge.csv', index=False)\n"
   ]
  },
  {
   "cell_type": "code",
   "execution_count": 19,
   "id": "40fa5619-74d3-4ccc-a905-9e2c24190473",
   "metadata": {},
   "outputs": [
    {
     "data": {
      "text/html": [
       "<div>\n",
       "<style scoped>\n",
       "    .dataframe tbody tr th:only-of-type {\n",
       "        vertical-align: middle;\n",
       "    }\n",
       "\n",
       "    .dataframe tbody tr th {\n",
       "        vertical-align: top;\n",
       "    }\n",
       "\n",
       "    .dataframe thead th {\n",
       "        text-align: right;\n",
       "    }\n",
       "</style>\n",
       "<table border=\"1\" class=\"dataframe\">\n",
       "  <thead>\n",
       "    <tr style=\"text-align: right;\">\n",
       "      <th></th>\n",
       "      <th>Tweet</th>\n",
       "      <th>Sarcasm</th>\n",
       "    </tr>\n",
       "  </thead>\n",
       "  <tbody>\n",
       "    <tr>\n",
       "      <th>0</th>\n",
       "      <td>Fantastic service yet again from EE. 1st you u...</td>\n",
       "      <td>yes</td>\n",
       "    </tr>\n",
       "    <tr>\n",
       "      <th>1</th>\n",
       "      <td>Not sure if that was or. I will take it! face_...</td>\n",
       "      <td>yes</td>\n",
       "    </tr>\n",
       "    <tr>\n",
       "      <th>2</th>\n",
       "      <td>Barely 9 am and already shaking with rage.</td>\n",
       "      <td>yes</td>\n",
       "    </tr>\n",
       "    <tr>\n",
       "      <th>3</th>\n",
       "      <td>I guess that proves it then. Black folks have ...</td>\n",
       "      <td>yes</td>\n",
       "    </tr>\n",
       "    <tr>\n",
       "      <th>4</th>\n",
       "      <td>Does this tweet need a tag</td>\n",
       "      <td>yes</td>\n",
       "    </tr>\n",
       "  </tbody>\n",
       "</table>\n",
       "</div>"
      ],
      "text/plain": [
       "                                               Tweet Sarcasm\n",
       "0  Fantastic service yet again from EE. 1st you u...     yes\n",
       "1  Not sure if that was or. I will take it! face_...     yes\n",
       "2         Barely 9 am and already shaking with rage.     yes\n",
       "3  I guess that proves it then. Black folks have ...     yes\n",
       "4                         Does this tweet need a tag     yes"
      ]
     },
     "execution_count": 19,
     "metadata": {},
     "output_type": "execute_result"
    }
   ],
   "source": [
    "merged_df.head()"
   ]
  },
  {
   "cell_type": "markdown",
   "id": "79006fdc-7e35-4a85-8146-59c970bf1dca",
   "metadata": {},
   "source": [
    "## Word Tokenization"
   ]
  },
  {
   "cell_type": "code",
   "execution_count": 20,
   "id": "055559b2-44cb-41ad-a438-87fe0432b3b2",
   "metadata": {},
   "outputs": [
    {
     "name": "stdout",
     "output_type": "stream",
     "text": [
      "                                                Tweet Sarcasm  \\\n",
      "0   Fantastic service yet again from EE. 1st you u...     yes   \n",
      "1   Not sure if that was or. I will take it! face_...     yes   \n",
      "2          Barely 9 am and already shaking with rage.     yes   \n",
      "3   I guess that proves it then. Black folks have ...     yes   \n",
      "4                          Does this tweet need a tag     yes   \n",
      "5   both. Wont be using you again. Made a formal c...     yes   \n",
      "6                Fuuuuuuuuck this shit screams thug!!     yes   \n",
      "7   66 UEs from Staniel and he wins in straights. ...     yes   \n",
      "8              totally surprising to every husker fan     yes   \n",
      "9                     Haha got to love the enthusiasm     yes   \n",
      "10  a southern pride advocate but of course it has...     yes   \n",
      "11  So nice not hearing any rumors that the  are n...     yes   \n",
      "12  We should divide illegals into two lines one f...     yes   \n",
      "13      does not even look like that great of a view.     yes   \n",
      "14  Mondays are always dreadful. Why are Fridays s...     yes   \n",
      "\n",
      "                                               tokens  \n",
      "0   [Fantastic, service, yet, again, from, EE, ., ...  \n",
      "1   [Not, sure, if, that, was, or, ., I, will, tak...  \n",
      "2   [Barely, 9, am, and, already, shaking, with, r...  \n",
      "3   [I, guess, that, proves, it, then, ., Black, f...  \n",
      "4                   [Does, this, tweet, need, a, tag]  \n",
      "5   [both, ., Wont, be, using, you, again, ., Made...  \n",
      "6      [Fuuuuuuuuck, this, shit, screams, thug, !, !]  \n",
      "7   [66, UEs, from, Staniel, and, he, wins, in, st...  \n",
      "8       [totally, surprising, to, every, husker, fan]  \n",
      "9              [Haha, got, to, love, the, enthusiasm]  \n",
      "10  [a, southern, pride, advocate, but, of, course...  \n",
      "11  [So, nice, not, hearing, any, rumors, that, th...  \n",
      "12  [We, should, divide, illegals, into, two, line...  \n",
      "13  [does, not, even, look, like, that, great, of,...  \n",
      "14  [Mondays, are, always, dreadful, ., Why, are, ...  \n"
     ]
    }
   ],
   "source": [
    "tokenizer = TweetTokenizer()\n",
    "\n",
    "def tokenize_text(Tweets):\n",
    "    return tokenizer.tokenize(Tweets)\n",
    "\n",
    "df = pd.read_csv('Merge.csv')\n",
    "df['tokens'] = df['Tweet'].apply(tokenize_text)\n",
    "\n",
    "print(df.head(15))\n",
    "df.to_csv('Merge.csv', index=False)"
   ]
  },
  {
   "cell_type": "markdown",
   "id": "1ced5cd0-c6e7-49a1-9b21-48c03d9af022",
   "metadata": {},
   "source": [
    "### Converting Sarcasm Labels to Binary Values"
   ]
  },
  {
   "cell_type": "code",
   "execution_count": 21,
   "id": "c7d1170d-86c5-46e8-aa44-3d534051adf5",
   "metadata": {},
   "outputs": [
    {
     "data": {
      "text/html": [
       "<div>\n",
       "<style scoped>\n",
       "    .dataframe tbody tr th:only-of-type {\n",
       "        vertical-align: middle;\n",
       "    }\n",
       "\n",
       "    .dataframe tbody tr th {\n",
       "        vertical-align: top;\n",
       "    }\n",
       "\n",
       "    .dataframe thead th {\n",
       "        text-align: right;\n",
       "    }\n",
       "</style>\n",
       "<table border=\"1\" class=\"dataframe\">\n",
       "  <thead>\n",
       "    <tr style=\"text-align: right;\">\n",
       "      <th></th>\n",
       "      <th>Tweet</th>\n",
       "      <th>Sarcasm</th>\n",
       "      <th>tokens</th>\n",
       "    </tr>\n",
       "  </thead>\n",
       "  <tbody>\n",
       "    <tr>\n",
       "      <th>0</th>\n",
       "      <td>Fantastic service yet again from EE. 1st you u...</td>\n",
       "      <td>1</td>\n",
       "      <td>[Fantastic, service, yet, again, from, EE, ., ...</td>\n",
       "    </tr>\n",
       "    <tr>\n",
       "      <th>1</th>\n",
       "      <td>Not sure if that was or. I will take it! face_...</td>\n",
       "      <td>1</td>\n",
       "      <td>[Not, sure, if, that, was, or, ., I, will, tak...</td>\n",
       "    </tr>\n",
       "    <tr>\n",
       "      <th>2</th>\n",
       "      <td>Barely 9 am and already shaking with rage.</td>\n",
       "      <td>1</td>\n",
       "      <td>[Barely, 9, am, and, already, shaking, with, r...</td>\n",
       "    </tr>\n",
       "    <tr>\n",
       "      <th>3</th>\n",
       "      <td>I guess that proves it then. Black folks have ...</td>\n",
       "      <td>1</td>\n",
       "      <td>[I, guess, that, proves, it, then, ., Black, f...</td>\n",
       "    </tr>\n",
       "    <tr>\n",
       "      <th>4</th>\n",
       "      <td>Does this tweet need a tag</td>\n",
       "      <td>1</td>\n",
       "      <td>[Does, this, tweet, need, a, tag]</td>\n",
       "    </tr>\n",
       "  </tbody>\n",
       "</table>\n",
       "</div>"
      ],
      "text/plain": [
       "                                               Tweet  Sarcasm  \\\n",
       "0  Fantastic service yet again from EE. 1st you u...        1   \n",
       "1  Not sure if that was or. I will take it! face_...        1   \n",
       "2         Barely 9 am and already shaking with rage.        1   \n",
       "3  I guess that proves it then. Black folks have ...        1   \n",
       "4                         Does this tweet need a tag        1   \n",
       "\n",
       "                                              tokens  \n",
       "0  [Fantastic, service, yet, again, from, EE, ., ...  \n",
       "1  [Not, sure, if, that, was, or, ., I, will, tak...  \n",
       "2  [Barely, 9, am, and, already, shaking, with, r...  \n",
       "3  [I, guess, that, proves, it, then, ., Black, f...  \n",
       "4                  [Does, this, tweet, need, a, tag]  "
      ]
     },
     "execution_count": 21,
     "metadata": {},
     "output_type": "execute_result"
    }
   ],
   "source": [
    "df['Sarcasm'] = df['Sarcasm'].map({'yes': 1, 'no': 0, 'sarcastic': 1, 'not sarcastic': 0})\n",
    "df.head()"
   ]
  },
  {
   "cell_type": "markdown",
   "id": "374f4d84-3104-4939-8b28-7523ad0eb47c",
   "metadata": {},
   "source": [
    "### Splitting Data into Training and Testing Sets"
   ]
  },
  {
   "cell_type": "code",
   "execution_count": 22,
   "id": "5b9a102e-6ba7-4c1a-a171-e90733532e3e",
   "metadata": {},
   "outputs": [],
   "source": [
    "X_train, X_test, y_train, y_test = train_test_split(df['Tweet'], df['Sarcasm'], test_size=0.2, random_state=42)"
   ]
  },
  {
   "cell_type": "markdown",
   "id": "2fbdf628-38ae-42d2-9d0a-714465780e9c",
   "metadata": {},
   "source": [
    "### Creating TF-IDF Vectors for Text Data"
   ]
  },
  {
   "cell_type": "code",
   "execution_count": 23,
   "id": "e49cf944-d3fd-4707-a9eb-94a867b23618",
   "metadata": {},
   "outputs": [],
   "source": [
    "vectorizer = TfidfVectorizer(max_features=5000, ngram_range=(1, 2))\n",
    "X_train_tfidf = vectorizer.fit_transform(X_train)\n",
    "X_test_tfidf = vectorizer.transform(X_test)"
   ]
  },
  {
   "cell_type": "markdown",
   "id": "f3d3322e-ddab-4b11-ad39-6fc90edea125",
   "metadata": {},
   "source": [
    "## Function for Model Evaluation"
   ]
  },
  {
   "cell_type": "code",
   "execution_count": 24,
   "id": "afb66128-8ecb-463f-8cbd-6b6fccbbc17f",
   "metadata": {},
   "outputs": [],
   "source": [
    "def evaluate_model(y_test, y_pred, y_pred_prob):\n",
    "    # Accuracy\n",
    "    accuracy = accuracy_score(y_test, y_pred)\n",
    "    print(f'Accuracy: {accuracy * 100:.2f}%')\n",
    "\n",
    "    # Classification report\n",
    "    print(\"Classification Report:\")\n",
    "    print(classification_report(y_test, y_pred))\n",
    "\n",
    "    # Confusion matrix\n",
    "    conf_matrix = confusion_matrix(y_test, y_pred)\n",
    "    plt.figure(figsize=(8, 6))\n",
    "    sns.heatmap(conf_matrix, annot=True, fmt='d', cmap='Blues', xticklabels=['Not Sarcastic', 'Sarcastic'], yticklabels=['Not Sarcastic', 'Sarcastic'])\n",
    "    plt.xlabel('Predicted')\n",
    "    plt.ylabel('Actual')\n",
    "    plt.title('Confusion Matrix')\n",
    "    plt.show()"
   ]
  },
  {
   "cell_type": "code",
   "execution_count": 25,
   "id": "34a30377-be35-451e-b859-6949c91c5dd0",
   "metadata": {},
   "outputs": [
    {
     "data": {
      "text/html": [
       "<div>\n",
       "<style scoped>\n",
       "    .dataframe tbody tr th:only-of-type {\n",
       "        vertical-align: middle;\n",
       "    }\n",
       "\n",
       "    .dataframe tbody tr th {\n",
       "        vertical-align: top;\n",
       "    }\n",
       "\n",
       "    .dataframe thead th {\n",
       "        text-align: right;\n",
       "    }\n",
       "</style>\n",
       "<table border=\"1\" class=\"dataframe\">\n",
       "  <thead>\n",
       "    <tr style=\"text-align: right;\">\n",
       "      <th></th>\n",
       "      <th>Tweet</th>\n",
       "      <th>Sarcasm</th>\n",
       "      <th>tokens</th>\n",
       "    </tr>\n",
       "  </thead>\n",
       "  <tbody>\n",
       "    <tr>\n",
       "      <th>0</th>\n",
       "      <td>Fantastic service yet again from EE. 1st you u...</td>\n",
       "      <td>1</td>\n",
       "      <td>[Fantastic, service, yet, again, from, EE, ., ...</td>\n",
       "    </tr>\n",
       "    <tr>\n",
       "      <th>1</th>\n",
       "      <td>Not sure if that was or. I will take it! face_...</td>\n",
       "      <td>1</td>\n",
       "      <td>[Not, sure, if, that, was, or, ., I, will, tak...</td>\n",
       "    </tr>\n",
       "    <tr>\n",
       "      <th>2</th>\n",
       "      <td>Barely 9 am and already shaking with rage.</td>\n",
       "      <td>1</td>\n",
       "      <td>[Barely, 9, am, and, already, shaking, with, r...</td>\n",
       "    </tr>\n",
       "    <tr>\n",
       "      <th>3</th>\n",
       "      <td>I guess that proves it then. Black folks have ...</td>\n",
       "      <td>1</td>\n",
       "      <td>[I, guess, that, proves, it, then, ., Black, f...</td>\n",
       "    </tr>\n",
       "    <tr>\n",
       "      <th>4</th>\n",
       "      <td>Does this tweet need a tag</td>\n",
       "      <td>1</td>\n",
       "      <td>[Does, this, tweet, need, a, tag]</td>\n",
       "    </tr>\n",
       "    <tr>\n",
       "      <th>...</th>\n",
       "      <td>...</td>\n",
       "      <td>...</td>\n",
       "      <td>...</td>\n",
       "    </tr>\n",
       "    <tr>\n",
       "      <th>2976</th>\n",
       "      <td>Sometimes truth is glaring you in the face  bl...</td>\n",
       "      <td>0</td>\n",
       "      <td>[Sometimes, truth, is, glaring, you, in, the, ...</td>\n",
       "    </tr>\n",
       "    <tr>\n",
       "      <th>2977</th>\n",
       "      <td>I just love not hanging out with my boyfriend .</td>\n",
       "      <td>0</td>\n",
       "      <td>[I, just, love, not, hanging, out, with, my, b...</td>\n",
       "    </tr>\n",
       "    <tr>\n",
       "      <th>2978</th>\n",
       "      <td>There is this 1 quince picture I have that I'm...</td>\n",
       "      <td>0</td>\n",
       "      <td>[There, is, this, 1, quince, picture, I, have,...</td>\n",
       "    </tr>\n",
       "    <tr>\n",
       "      <th>2979</th>\n",
       "      <td>I feel so ill at the moment that I cant speak ...</td>\n",
       "      <td>0</td>\n",
       "      <td>[I, feel, so, ill, at, the, moment, that, I, c...</td>\n",
       "    </tr>\n",
       "    <tr>\n",
       "      <th>2980</th>\n",
       "      <td>I'm So Erked Nobody Better Not Speak To Me</td>\n",
       "      <td>0</td>\n",
       "      <td>[I'm, So, Erked, Nobody, Better, Not, Speak, T...</td>\n",
       "    </tr>\n",
       "  </tbody>\n",
       "</table>\n",
       "<p>2981 rows × 3 columns</p>\n",
       "</div>"
      ],
      "text/plain": [
       "                                                  Tweet  Sarcasm  \\\n",
       "0     Fantastic service yet again from EE. 1st you u...        1   \n",
       "1     Not sure if that was or. I will take it! face_...        1   \n",
       "2            Barely 9 am and already shaking with rage.        1   \n",
       "3     I guess that proves it then. Black folks have ...        1   \n",
       "4                            Does this tweet need a tag        1   \n",
       "...                                                 ...      ...   \n",
       "2976  Sometimes truth is glaring you in the face  bl...        0   \n",
       "2977    I just love not hanging out with my boyfriend .        0   \n",
       "2978  There is this 1 quince picture I have that I'm...        0   \n",
       "2979  I feel so ill at the moment that I cant speak ...        0   \n",
       "2980         I'm So Erked Nobody Better Not Speak To Me        0   \n",
       "\n",
       "                                                 tokens  \n",
       "0     [Fantastic, service, yet, again, from, EE, ., ...  \n",
       "1     [Not, sure, if, that, was, or, ., I, will, tak...  \n",
       "2     [Barely, 9, am, and, already, shaking, with, r...  \n",
       "3     [I, guess, that, proves, it, then, ., Black, f...  \n",
       "4                     [Does, this, tweet, need, a, tag]  \n",
       "...                                                 ...  \n",
       "2976  [Sometimes, truth, is, glaring, you, in, the, ...  \n",
       "2977  [I, just, love, not, hanging, out, with, my, b...  \n",
       "2978  [There, is, this, 1, quince, picture, I, have,...  \n",
       "2979  [I, feel, so, ill, at, the, moment, that, I, c...  \n",
       "2980  [I'm, So, Erked, Nobody, Better, Not, Speak, T...  \n",
       "\n",
       "[2981 rows x 3 columns]"
      ]
     },
     "execution_count": 25,
     "metadata": {},
     "output_type": "execute_result"
    }
   ],
   "source": [
    "df"
   ]
  },
  {
   "cell_type": "markdown",
   "id": "2a616425-bcbe-479e-948d-657289b40a31",
   "metadata": {},
   "source": [
    "## Random Forest Model"
   ]
  },
  {
   "cell_type": "code",
   "execution_count": 26,
   "id": "d3729a5c-f711-44e7-92bd-005eb9680a78",
   "metadata": {},
   "outputs": [],
   "source": [
    "from sklearn.ensemble import RandomForestClassifier\n",
    "\n",
    "rf_model = RandomForestClassifier(random_state=42)\n",
    "rf_model.fit(X_train_tfidf, y_train)\n",
    "y_pred_rf = rf_model.predict(X_test_tfidf)\n",
    "y_pred_prob_rf = rf_model.predict_proba(X_test_tfidf)[:, 1]"
   ]
  },
  {
   "cell_type": "code",
   "execution_count": 27,
   "id": "f4b2929b-fc94-4070-8066-b922b53b3fa2",
   "metadata": {},
   "outputs": [
    {
     "name": "stdout",
     "output_type": "stream",
     "text": [
      "Accuracy: 79.40%\n",
      "Classification Report:\n",
      "              precision    recall  f1-score   support\n",
      "\n",
      "           0       0.83      0.64      0.72       250\n",
      "           1       0.78      0.91      0.84       347\n",
      "\n",
      "    accuracy                           0.79       597\n",
      "   macro avg       0.80      0.77      0.78       597\n",
      "weighted avg       0.80      0.79      0.79       597\n",
      "\n"
     ]
    },
    {
     "data": {
      "image/png": "[encoded data removed]",
      "text/plain": [
       "<Figure size 800x600 with 2 Axes>"
      ]
     },
     "metadata": {},
     "output_type": "display_data"
    }
   ],
   "source": [
    "evaluate_model(y_test, y_pred_rf, y_pred_prob_rf)"
   ]
  },
  {
   "cell_type": "code",
   "execution_count": 28,
   "id": "6b68a667-7751-478b-aa32-5f06f4b39365",
   "metadata": {},
   "outputs": [
    {
     "name": "stdout",
     "output_type": "stream",
     "text": [
      "Fitting 5 folds for each of 108 candidates, totalling 540 fits\n",
      "Accuracy: 80.07%\n",
      "Classification Report:\n",
      "              precision    recall  f1-score   support\n",
      "\n",
      "           0       0.85      0.64      0.73       250\n",
      "           1       0.78      0.92      0.84       347\n",
      "\n",
      "    accuracy                           0.80       597\n",
      "   macro avg       0.81      0.78      0.79       597\n",
      "weighted avg       0.81      0.80      0.79       597\n",
      "\n"
     ]
    },
    {
     "data": {
      "image/png": "[encoded data removed]",
      "text/plain": [
       "<Figure size 800x600 with 2 Axes>"
      ]
     },
     "metadata": {},
     "output_type": "display_data"
    },
    {
     "name": "stdout",
     "output_type": "stream",
     "text": [
      "Best Parameters: {'max_depth': None, 'min_samples_leaf': 1, 'min_samples_split': 5, 'n_estimators': 200}\n"
     ]
    }
   ],
   "source": [
    "from sklearn.model_selection import GridSearchCV\n",
    "from sklearn.ensemble import RandomForestClassifier\n",
    "\n",
    "# Define the parameter grid\n",
    "param_grid = {\n",
    "    'n_estimators': [100, 200, 300],\n",
    "    'max_depth': [None, 10, 20, 30],\n",
    "    'min_samples_split': [2, 5, 10],\n",
    "    'min_samples_leaf': [1, 2, 4]\n",
    "}\n",
    "\n",
    "# Initialize the model\n",
    "rf_model = RandomForestClassifier(random_state=42)\n",
    "\n",
    "# Initialize GridSearchCV\n",
    "grid_search = GridSearchCV(estimator=rf_model, param_grid=param_grid, cv=5, n_jobs=-1, verbose=2)\n",
    "\n",
    "# Fit the model\n",
    "grid_search.fit(X_train_tfidf, y_train)\n",
    "\n",
    "# Get the best parameters\n",
    "best_params = grid_search.best_params_\n",
    "\n",
    "# Train the model with the best parameters\n",
    "best_rf_model = grid_search.best_estimator_\n",
    "y_pred_rf = best_rf_model.predict(X_test_tfidf)\n",
    "y_pred_prob_rf = best_rf_model.predict_proba(X_test_tfidf)[:, 1]\n",
    "\n",
    "# Evaluate the model\n",
    "evaluate_model(y_test, y_pred_rf, y_pred_prob_rf)\n",
    "\n",
    "print(f\"Best Parameters: {best_params}\")\n"
   ]
  },
  {
   "cell_type": "code",
   "execution_count": null,
   "id": "e03fa2ee-eeb1-41bf-8135-885b6e2d16f7",
   "metadata": {},
   "outputs": [],
   "source": []
  }
 ],
 "metadata": {
  "kernelspec": {
   "display_name": "Python 3 (ipykernel)",
   "language": "python",
   "name": "python3"
  },
  "language_info": {
   "codemirror_mode": {
    "name": "ipython",
    "version": 3
   },
   "file_extension": ".py",
   "mimetype": "text/x-python",
   "name": "python",
   "nbconvert_exporter": "python",
   "pygments_lexer": "ipython3",
   "version": "3.12.3"
  }
 },
 "nbformat": 4,
 "nbformat_minor": 5
}

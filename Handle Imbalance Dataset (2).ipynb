{
 "cells": [
  {
   "cell_type": "markdown",
   "id": "a023f55e-8eeb-44b1-8711-7e8432fa16d0",
   "metadata": {},
   "source": [
    "## Handle Imbalanced Datasets\n",
    "\n",
    "Handling an imbalanced dataset in Python involves applying techniques to ensure that your machine learning model performs well despite the disproportionate class distribution. "
   ]
  },
  {
   "cell_type": "markdown",
   "id": "1e0152aa-7aef-4baa-ba97-6204e93e5136",
   "metadata": {},
   "source": [
    "### Read data"
   ]
  },
  {
   "cell_type": "code",
   "execution_count": 2,
   "id": "b3c83642-0e4d-469e-9370-57f0c240f747",
   "metadata": {},
   "outputs": [],
   "source": [
    "import pandas as pd\n",
    "import matplotlib.pyplot as plt\n",
    "\n",
    "df = pd.read_csv('merged.csv', index_col=False)"
   ]
  },
  {
   "cell_type": "code",
   "execution_count": 3,
   "id": "05b39a18-393f-444a-9f66-620aa5982219",
   "metadata": {},
   "outputs": [
    {
     "data": {
      "text/html": [
       "<div>\n",
       "<style scoped>\n",
       "    .dataframe tbody tr th:only-of-type {\n",
       "        vertical-align: middle;\n",
       "    }\n",
       "\n",
       "    .dataframe tbody tr th {\n",
       "        vertical-align: top;\n",
       "    }\n",
       "\n",
       "    .dataframe thead th {\n",
       "        text-align: right;\n",
       "    }\n",
       "</style>\n",
       "<table border=\"1\" class=\"dataframe\">\n",
       "  <thead>\n",
       "    <tr style=\"text-align: right;\">\n",
       "      <th></th>\n",
       "      <th>Tweet</th>\n",
       "      <th>Sarcasm</th>\n",
       "    </tr>\n",
       "  </thead>\n",
       "  <tbody>\n",
       "    <tr>\n",
       "      <th>0</th>\n",
       "      <td>Fantastic service yet again from EE. 1st you u...</td>\n",
       "      <td>yes</td>\n",
       "    </tr>\n",
       "    <tr>\n",
       "      <th>1</th>\n",
       "      <td>Not sure if that was or. I will take it! face_...</td>\n",
       "      <td>yes</td>\n",
       "    </tr>\n",
       "    <tr>\n",
       "      <th>2</th>\n",
       "      <td>Barely 9 am and already shaking with rage.</td>\n",
       "      <td>yes</td>\n",
       "    </tr>\n",
       "    <tr>\n",
       "      <th>3</th>\n",
       "      <td>I guess that proves it then. Black folks have ...</td>\n",
       "      <td>yes</td>\n",
       "    </tr>\n",
       "    <tr>\n",
       "      <th>4</th>\n",
       "      <td>Does this tweet need a tag</td>\n",
       "      <td>yes</td>\n",
       "    </tr>\n",
       "    <tr>\n",
       "      <th>...</th>\n",
       "      <td>...</td>\n",
       "      <td>...</td>\n",
       "    </tr>\n",
       "    <tr>\n",
       "      <th>2976</th>\n",
       "      <td>Sometimes truth is glaring you in the face  bl...</td>\n",
       "      <td>no</td>\n",
       "    </tr>\n",
       "    <tr>\n",
       "      <th>2977</th>\n",
       "      <td>I just love not hanging out with my boyfriend .</td>\n",
       "      <td>no</td>\n",
       "    </tr>\n",
       "    <tr>\n",
       "      <th>2978</th>\n",
       "      <td>There is this 1 quince picture I have that I'm...</td>\n",
       "      <td>no</td>\n",
       "    </tr>\n",
       "    <tr>\n",
       "      <th>2979</th>\n",
       "      <td>I feel so ill at the moment that I cant speak ...</td>\n",
       "      <td>no</td>\n",
       "    </tr>\n",
       "    <tr>\n",
       "      <th>2980</th>\n",
       "      <td>I'm So Erked Nobody Better Not Speak To Me</td>\n",
       "      <td>no</td>\n",
       "    </tr>\n",
       "  </tbody>\n",
       "</table>\n",
       "<p>2981 rows × 2 columns</p>\n",
       "</div>"
      ],
      "text/plain": [
       "                                                  Tweet Sarcasm\n",
       "0     Fantastic service yet again from EE. 1st you u...     yes\n",
       "1     Not sure if that was or. I will take it! face_...     yes\n",
       "2            Barely 9 am and already shaking with rage.     yes\n",
       "3     I guess that proves it then. Black folks have ...     yes\n",
       "4                            Does this tweet need a tag     yes\n",
       "...                                                 ...     ...\n",
       "2976  Sometimes truth is glaring you in the face  bl...      no\n",
       "2977    I just love not hanging out with my boyfriend .      no\n",
       "2978  There is this 1 quince picture I have that I'm...      no\n",
       "2979  I feel so ill at the moment that I cant speak ...      no\n",
       "2980         I'm So Erked Nobody Better Not Speak To Me      no\n",
       "\n",
       "[2981 rows x 2 columns]"
      ]
     },
     "execution_count": 3,
     "metadata": {},
     "output_type": "execute_result"
    }
   ],
   "source": [
    "df"
   ]
  },
  {
   "cell_type": "code",
   "execution_count": 4,
   "id": "01b81173-de70-446d-b051-61c24bfb9195",
   "metadata": {},
   "outputs": [
    {
     "data": {
      "text/plain": [
       "Sarcasm\n",
       "yes    1687\n",
       "no     1294\n",
       "Name: count, dtype: int64"
      ]
     },
     "execution_count": 4,
     "metadata": {},
     "output_type": "execute_result"
    }
   ],
   "source": [
    "y = df['Sarcasm']\n",
    "y.value_counts()"
   ]
  },
  {
   "cell_type": "code",
   "execution_count": 5,
   "id": "04c177c7-93a2-4077-b493-1e3a0c2b1337",
   "metadata": {},
   "outputs": [
    {
     "data": {
      "text/plain": [
       "<Axes: ylabel='count'>"
      ]
     },
     "execution_count": 5,
     "metadata": {},
     "output_type": "execute_result"
    },
    {
     "data": {
      "image/png": "[encoded data removed]",
      "text/plain": [
       "<Figure size 640x480 with 1 Axes>"
      ]
     },
     "metadata": {},
     "output_type": "display_data"
    }
   ],
   "source": [
    "y.value_counts().plot.pie(autopct='%.2f')"
   ]
  },
  {
   "cell_type": "code",
   "execution_count": 6,
   "id": "e2d07c57-70cb-466c-9233-954b4061e13c",
   "metadata": {},
   "outputs": [
    {
     "data": {
      "text/plain": [
       "([<matplotlib.patches.Wedge at 0x2740bb552e0>,\n",
       "  <matplotlib.patches.Wedge at 0x2740bb41be0>],\n",
       " [Text(-0.226169841734911, 1.0764976556823547, 'yes'),\n",
       "  Text(0.2261698417349104, -1.076497655682355, 'no')],\n",
       " [Text(-0.12336536821904236, 0.5871805394631026, '56.59'),\n",
       "  Text(0.12336536821904202, -0.5871805394631026, '43.41')])"
      ]
     },
     "execution_count": 6,
     "metadata": {},
     "output_type": "execute_result"
    },
    {
     "data": {
      "image/png": "[encoded data removed]",
      "text/plain": [
       "<Figure size 640x480 with 1 Axes>"
      ]
     },
     "metadata": {},
     "output_type": "display_data"
    }
   ],
   "source": [
    "fig1, ax1 = plt.subplots()\n",
    "ax1.pie(y.value_counts(), autopct='%.2f', labels=y.value_counts().index)"
   ]
  },
  {
   "cell_type": "markdown",
   "id": "a11d9f1f-2906-43d5-96b7-8a837ca00d8c",
   "metadata": {},
   "source": [
    "### 1) Random Undersampling\n",
    "This involves reducing the number of instances in the majority class."
   ]
  },
  {
   "cell_type": "code",
   "execution_count": 7,
   "id": "565aba8c-375e-40d7-bb2e-04735f4502bc",
   "metadata": {},
   "outputs": [
    {
     "data": {
      "image/png": "[encoded data removed]",
      "text/plain": [
       "<Figure size 640x480 with 1 Axes>"
      ]
     },
     "metadata": {},
     "output_type": "display_data"
    }
   ],
   "source": [
    "from imblearn.under_sampling import RandomUnderSampler\n",
    "from sklearn.model_selection import train_test_split\n",
    "\n",
    "X = df['Tweet'].values.reshape(-1, 1) \n",
    "y = df['Sarcasm']\n",
    "\n",
    "# Apply RandomUnderSampler\n",
    "rus = RandomUnderSampler(sampling_strategy=1) \n",
    "X_res, y_res = rus.fit_resample(X, y)\n",
    "\n",
    "ax = y_res.value_counts().plot.pie(autopct='%.2f')\n",
    "_ = ax.set_title(\"Under-sampling\")"
   ]
  },
  {
   "cell_type": "code",
   "execution_count": 8,
   "id": "f1711b5e-dd5b-4653-91fe-2c4c3e2589a9",
   "metadata": {},
   "outputs": [
    {
     "data": {
      "text/plain": [
       "Sarcasm\n",
       "no     1294\n",
       "yes    1294\n",
       "Name: count, dtype: int64"
      ]
     },
     "execution_count": 8,
     "metadata": {},
     "output_type": "execute_result"
    }
   ],
   "source": [
    "y = df['Sarcasm']\n",
    "y_res.value_counts()"
   ]
  },
  {
   "cell_type": "markdown",
   "id": "04c7c726-02f1-4e6f-8ac6-b315b421b808",
   "metadata": {},
   "source": [
    "## 2) Random Oversampling\n",
    "This involves increasing the number of instances in the minority class.\n",
    "\n",
    "SMOTE (Synthetic Minority Over-sampling Technique): Generates synthetic samples for the minority class."
   ]
  },
  {
   "cell_type": "code",
   "execution_count": 9,
   "id": "f48c91ed-77a2-480c-97ed-2bd60944fae0",
   "metadata": {},
   "outputs": [
    {
     "data": {
      "text/plain": [
       "Sarcasm\n",
       "no     1294\n",
       "yes    1294\n",
       "Name: count, dtype: int64"
      ]
     },
     "execution_count": 9,
     "metadata": {},
     "output_type": "execute_result"
    }
   ],
   "source": [
    "y_res.value_counts()"
   ]
  },
  {
   "cell_type": "code",
   "execution_count": 10,
   "id": "09fa7a3f-d9ec-45aa-9b27-b4edfc02db85",
   "metadata": {},
   "outputs": [
    {
     "data": {
      "image/png": "[encoded data removed]",
      "text/plain": [
       "<Figure size 640x480 with 1 Axes>"
      ]
     },
     "metadata": {},
     "output_type": "display_data"
    }
   ],
   "source": [
    "from sklearn.feature_extraction.text import TfidfVectorizer\n",
    "from imblearn.over_sampling import SMOTE\n",
    "from imblearn.over_sampling import RandomOverSampler\n",
    "\n",
    "# Convert text data to numerical data using TF-IDF\n",
    "tfidf = TfidfVectorizer()\n",
    "tfidf = TfidfVectorizer()\n",
    "X_tfidf = tfidf.fit_transform(df['Tweet'])  \n",
    "y = df['Sarcasm'] \n",
    "smote = SMOTE()\n",
    "X_resampled, y_resampled = smote.fit_resample(X_tfidf, y)\n",
    "ax = y_resampled.value_counts().plot.pie(autopct='%.2f')\n",
    "_ = ax.set_title(\"Over-sampling with SMOTE\")\n",
    "plt.show()"
   ]
  },
  {
   "cell_type": "code",
   "execution_count": 11,
   "id": "83a84500-48ee-4aa7-aaac-60fe5b4c84cc",
   "metadata": {},
   "outputs": [
    {
     "data": {
      "text/plain": [
       "Sarcasm\n",
       "yes    1687\n",
       "no     1687\n",
       "Name: count, dtype: int64"
      ]
     },
     "execution_count": 11,
     "metadata": {},
     "output_type": "execute_result"
    }
   ],
   "source": [
    "y_resampled.value_counts()"
   ]
  },
  {
   "cell_type": "markdown",
   "id": "7fb90b7c-dcfb-4e9d-8893-7738fa3fa2c7",
   "metadata": {},
   "source": [
    "## 3) Using Ensemble Techniques\n",
    "\n",
    "### a) Balanced Random Forest:\n",
    "\n",
    "This techniques is simple and effective in creating balanced datasets, they do not account for the underlying structure of the data and can potentially lead to loss of important information (in the case of undersampling) or overfitting (in the case of oversampling).\n",
    "\n",
    "The BalancedRandomForestClassifier is an extension of the traditional random forest classifier designed to handle imbalanced datasets more effectively.\n",
    "\n",
    "While simple undersampling and oversampling can balance the dataset, the BalancedRandomForestClassifier provides a more sophisticated approach that maintains the diversity and robustness of the random forest while addressing class imbalance in each tree's training data. This typically results in better performance on imbalanced datasets compared to simply balancing the dataset before training a traditional classifier.\n",
    "\n",
    "Example Scenario\n",
    "Consider a scenario where you have a dataset with 1000 samples of class A and 100 samples of class B\n",
    "\n",
    "1) Random Undersampling:\n",
    "Reduces the number of class A samples to 100, matching the number of class B samples. This can lead to loss of important information from class A.\n",
    "Random Oversampling:\n",
    "\n",
    "2) Random Oversampling: \n",
    "Increases the number of class B samples to 1000 by duplicating or generating synthetic samples. This can lead to overfitting.\n",
    "BalancedRandomForestClassifier:\n",
    "\n",
    "3) BalancedRandomForestClassifier:\n",
    "For each tree in the forest, it ensures that the bootstrap sample is balanced (e.g., 100 samples of class A and 100 samples of class B), leading to a more robust model that can generalize better on imbalanced data."
   ]
  },
  {
   "cell_type": "code",
   "execution_count": 12,
   "id": "5e05a5ef-e69d-4e31-94fa-bb44d5608646",
   "metadata": {},
   "outputs": [
    {
     "name": "stderr",
     "output_type": "stream",
     "text": [
      "C:\\Users\\HP\\AppData\\Local\\Programs\\Python\\Python312\\Lib\\site-packages\\imblearn\\ensemble\\_forest.py:589: FutureWarning: The default of `replacement` will change from `False` to `True` in version 0.13. This change will follow the implementation proposed in the original paper. Set to `True` to silence this warning and adopt the future behaviour.\n",
      "  warn(\n",
      "C:\\Users\\HP\\AppData\\Local\\Programs\\Python\\Python312\\Lib\\site-packages\\imblearn\\ensemble\\_forest.py:601: FutureWarning: The default of `bootstrap` will change from `True` to `False` in version 0.13. This change will follow the implementation proposed in the original paper. Set to `False` to silence this warning and adopt the future behaviour.\n",
      "  warn(\n"
     ]
    },
    {
     "name": "stdout",
     "output_type": "stream",
     "text": [
      "              precision    recall  f1-score   support\n",
      "\n",
      "          no       0.80      0.69      0.74       250\n",
      "         yes       0.80      0.88      0.84       347\n",
      "\n",
      "    accuracy                           0.80       597\n",
      "   macro avg       0.80      0.78      0.79       597\n",
      "weighted avg       0.80      0.80      0.80       597\n",
      "\n",
      "Top 20 important features:\n",
      "am: 0.004915105670024825\n",
      "it: 0.0049226222300866665\n",
      "of: 0.0056664076997096\n",
      "and: 0.005789611285158124\n",
      "that: 0.005809919086250847\n",
      "me: 0.005839895824379252\n",
      "my: 0.006051019848200287\n",
      "in: 0.006316214439456468\n",
      "for: 0.006408333907861077\n",
      "but: 0.006489140176861276\n",
      "don: 0.00702783120603043\n",
      "just: 0.007837723370915288\n",
      "is: 0.008457191890732983\n",
      "this: 0.008738571558624376\n",
      "you: 0.009139293089077086\n",
      "the: 0.010323340364297884\n",
      "to: 0.023481273256369933\n",
      "love: 0.02717862791512547\n",
      "so: 0.054008951313375846\n",
      "speak: 0.0806973301612709\n"
     ]
    },
    {
     "data": {
      "image/png": "[encoded data removed]",
      "text/plain": [
       "<Figure size 640x480 with 1 Axes>"
      ]
     },
     "metadata": {},
     "output_type": "display_data"
    }
   ],
   "source": [
    "from imblearn.ensemble import BalancedRandomForestClassifier\n",
    "from sklearn.metrics import classification_report\n",
    "\n",
    "X = df['Tweet']\n",
    "y = df['Sarcasm']\n",
    "\n",
    "tfidf = TfidfVectorizer()\n",
    "X_tfidf = tfidf.fit_transform(X)\n",
    "\n",
    "X_train, X_test, y_train, y_test = train_test_split(X_tfidf, y, test_size=0.2, random_state=42)\n",
    "\n",
    "# Apply BalancedRandomForestClassifier with explicit sampling_strategy\n",
    "brf = BalancedRandomForestClassifier(sampling_strategy='auto', random_state=42)\n",
    "brf.fit(X_train, y_train)\n",
    "\n",
    "y_pred = brf.predict(X_test)\n",
    "print(classification_report(y_test, y_pred))\n",
    "\n",
    "# Display the feature importances\n",
    "importances = brf.feature_importances_\n",
    "feature_names = tfidf.get_feature_names_out()\n",
    "top_n = 20\n",
    "top_indices = importances.argsort()[-top_n:]\n",
    "\n",
    "print(\"Top 20 important features:\")\n",
    "for i in top_indices:\n",
    "    print(f\"{feature_names[i]}: {importances[i]}\")\n",
    "    \n",
    "y_train_resampled = brf.predict(X_train)\n",
    "y_train_resampled = pd.Series(y_train_resampled, name='Sarcasm')\n",
    "ax = y_train_resampled.value_counts().plot.pie(autopct='%.2f')\n",
    "_ = ax.set_title(\"Class Distribution in Training Set After Balancing with BRF\")\n",
    "plt.show()"
   ]
  },
  {
   "cell_type": "code",
   "execution_count": 13,
   "id": "e8957fa3-683a-4269-bc5a-2eeb3537632b",
   "metadata": {},
   "outputs": [
    {
     "data": {
      "text/plain": [
       "Sarcasm\n",
       "yes    1338\n",
       "no     1046\n",
       "Name: count, dtype: int64"
      ]
     },
     "execution_count": 13,
     "metadata": {},
     "output_type": "execute_result"
    }
   ],
   "source": [
    "y_train_resampled.value_counts()"
   ]
  },
  {
   "cell_type": "markdown",
   "id": "1b307c15-d671-40bc-b34e-843c806115ee",
   "metadata": {},
   "source": [
    "### b) Easy Ensemble\n",
    "\n",
    "The Easy Ensemble technique is a specific approach within ensemble learning that addresses the drawbacks of simple random oversampling by using a more sophisticated method to create multiple balanced subsamples.\n",
    "\n",
    "##### Here’s how it works:\n",
    "\n",
    "Bagging Approach: Easy Ensemble follows a bagging (bootstrap aggregating) approach where it creates multiple subsets of the training data by random sampling with replacement.\n",
    "\n",
    "Balanced Sampling: Each subset (or base learner) is constructed to have a balanced class distribution by sampling both classes in equal proportions or based on a specified sampling strategy.\n",
    "\n",
    "Aggregation: Multiple base learners are trained on these balanced subsets independently, and their predictions are aggregated (e.g., averaging for regression, voting for classification) to make the final prediction.\n",
    "\n",
    "##### Advantages of Easy Ensemble:\n",
    "\n",
    "Preservation of Information: Unlike random undersampling, Easy Ensemble does not discard majority class samples but rather balances the data in a way that preserves both classes' information.\n",
    "\n",
    "Reduction of Overfitting: By creating balanced subsamples, Easy Ensemble reduces the risk of overfitting that is common with simple random oversampling.\n",
    "\n",
    "Improved Generalization: By training multiple models on different balanced subsets, Easy Ensemble can capture different aspects of the data distribution, leading to improved generalization on unseen data."
   ]
  },
  {
   "cell_type": "code",
   "execution_count": 14,
   "id": "c6afba35-3fe8-4c4e-9896-d2d56900b615",
   "metadata": {},
   "outputs": [
    {
     "name": "stdout",
     "output_type": "stream",
     "text": [
      "              precision    recall  f1-score   support\n",
      "\n",
      "          no       0.96      0.52      0.68       250\n",
      "         yes       0.74      0.99      0.85       347\n",
      "\n",
      "    accuracy                           0.79       597\n",
      "   macro avg       0.85      0.75      0.76       597\n",
      "weighted avg       0.83      0.79      0.78       597\n",
      "\n"
     ]
    },
    {
     "data": {
      "image/png": "[encoded data removed]",
      "text/plain": [
       "<Figure size 640x480 with 1 Axes>"
      ]
     },
     "metadata": {},
     "output_type": "display_data"
    },
    {
     "data": {
      "text/plain": [
       "Sarcasm\n",
       "yes    1788\n",
       "no      596\n",
       "Name: count, dtype: int64"
      ]
     },
     "execution_count": 14,
     "metadata": {},
     "output_type": "execute_result"
    }
   ],
   "source": [
    "from imblearn.ensemble import EasyEnsembleClassifier\n",
    "\n",
    "X = df['Tweet']\n",
    "y = df['Sarcasm']\n",
    "\n",
    "tfidf = TfidfVectorizer()\n",
    "X_tfidf = tfidf.fit_transform(X)\n",
    "\n",
    "X_train, X_test, y_train, y_test = train_test_split(X_tfidf, y, test_size=0.2, random_state=42)\n",
    "\n",
    "# Apply EasyEnsembleClassifier with explicit sampling_strategy\n",
    "eec = EasyEnsembleClassifier(sampling_strategy='auto', random_state=42)\n",
    "eec.fit(X_train, y_train)\n",
    "\n",
    "y_pred = eec.predict(X_test)\n",
    "print(classification_report(y_test, y_pred))\n",
    "\n",
    "y_train_resampled = eec.predict(X_train)\n",
    "y_train_resampled = pd.Series(y_train_resampled, name='Sarcasm')\n",
    "ax = y_train_resampled.value_counts().plot.pie(autopct='%.2f')\n",
    "_ = ax.set_title(\"Class Distribution in Training Set After Balancing with EasyEnsemble\")\n",
    "plt.show()\n",
    "y_train_resampled.value_counts()"
   ]
  },
  {
   "cell_type": "markdown",
   "id": "079f0420-6c51-4e86-becc-26044d46a91d",
   "metadata": {},
   "source": [
    "## 4) BalancedBaggingClassifier\n",
    "When dealing with imbalanced datasets, traditional classifiers tend to favor the majority class, neglecting the minority class due to its lower representation. The BalancedBaggingClassifier, an extension of sklearn classifiers, addresses this imbalance by incorporating additional balancing during training."
   ]
  },
  {
   "cell_type": "code",
   "execution_count": 16,
   "id": "e7be89c9-a1de-4838-bc8d-585384ec5553",
   "metadata": {},
   "outputs": [
    {
     "name": "stdout",
     "output_type": "stream",
     "text": [
      "Accuracy: 0.8090452261306532\n",
      "Classification Report:\n",
      "               precision    recall  f1-score   support\n",
      "\n",
      "          no       0.85      0.66      0.74       250\n",
      "         yes       0.79      0.91      0.85       347\n",
      "\n",
      "    accuracy                           0.81       597\n",
      "   macro avg       0.82      0.79      0.80       597\n",
      "weighted avg       0.81      0.81      0.80       597\n",
      "\n"
     ]
    },
    {
     "data": {
      "image/png": "[encoded data removed]",
      "text/plain": [
       "<Figure size 640x480 with 1 Axes>"
      ]
     },
     "metadata": {},
     "output_type": "display_data"
    },
    {
     "name": "stdout",
     "output_type": "stream",
     "text": [
      "\n",
      "Value counts after balancing:\n",
      "Sarcasm\n",
      "yes    1332\n",
      "no     1052\n",
      "Name: count, dtype: int64\n"
     ]
    }
   ],
   "source": [
    "from sklearn.metrics import accuracy_score, classification_report\n",
    "from imblearn.ensemble import BalancedBaggingClassifier\n",
    "from sklearn.ensemble import RandomForestClassifier\n",
    "\n",
    "X = df['Tweet']\n",
    "y = df['Sarcasm']\n",
    "\n",
    "tfidf = TfidfVectorizer()\n",
    "X_tfidf = tfidf.fit_transform(X)\n",
    "X_train, X_test, y_train, y_test = train_test_split(X_tfidf, y, test_size=0.2, random_state=42)\n",
    "\n",
    "base_classifier = RandomForestClassifier(random_state=42)\n",
    "\n",
    "# Initialize the BalancedBaggingClassifier\n",
    "balanced_bagging_classifier = BalancedBaggingClassifier(estimator=base_classifier,\n",
    "                                                        sampling_strategy='auto',\n",
    "                                                        replacement=False,\n",
    "                                                        random_state=42)\n",
    "balanced_bagging_classifier.fit(X_train, y_train)\n",
    "\n",
    "y_pred = balanced_bagging_classifier.predict(X_test)\n",
    "\n",
    "print(\"Accuracy:\", accuracy_score(y_test, y_pred))\n",
    "print(\"Classification Report:\\n\", classification_report(y_test, y_pred))\n",
    "\n",
    "y_train_resampled = balanced_bagging_classifier.predict(X_train)\n",
    "y_train_resampled = pd.Series(y_train_resampled, name='Sarcasm')\n",
    "ax = y_train_resampled.value_counts().plot.pie(autopct='%.2f')\n",
    "_ = ax.set_title(\"Class Distribution in Training Set After Balancing with BalancedBaggingClassifier\")\n",
    "plt.show()\n",
    "\n",
    "print(\"\\nValue counts after balancing:\")\n",
    "print(y_train_resampled.value_counts())\n"
   ]
  },
  {
   "cell_type": "markdown",
   "id": "cb072f08-6852-426b-b695-b063f6c15813",
   "metadata": {},
   "source": [
    "## 5) Identify right evaluation matrix\n",
    "The accuracy of a classifier is the total number of correct predictions divided by the total number of predictions. This may be good enough for a well-balanced class but not ideal for an imbalanced class problem.\n",
    "\n"
   ]
  },
  {
   "cell_type": "markdown",
   "id": "7c75a667-b883-4975-88ed-6356ae45301b",
   "metadata": {},
   "source": [
    "### a) Confusion Matrix:"
   ]
  },
  {
   "cell_type": "code",
   "execution_count": 17,
   "id": "026b2635-c825-444e-8c48-941f44274c90",
   "metadata": {},
   "outputs": [
    {
     "name": "stdout",
     "output_type": "stream",
     "text": [
      "Confusion Matrix:\n",
      " [[245 141]\n",
      " [ 40 469]]\n"
     ]
    }
   ],
   "source": [
    "from sklearn.ensemble import RandomForestClassifier\n",
    "from sklearn.metrics import confusion_matrix\n",
    "\n",
    "X = df['Tweet']\n",
    "y = df['Sarcasm']\n",
    "tfidf = TfidfVectorizer()\n",
    "X_tfidf = tfidf.fit_transform(X)\n",
    "\n",
    "X_train, X_test, y_train, y_test = train_test_split(X_tfidf, y, test_size=0.3, random_state=42)\n",
    "\n",
    "model = RandomForestClassifier(class_weight='balanced', random_state=42)\n",
    "model.fit(X_train, y_train)\n",
    "\n",
    "y_pred = model.predict(X_test)\n",
    "y_prob = model.predict_proba(X_test)[:, 1]\n",
    "\n",
    "cm = confusion_matrix(y_test, y_pred)\n",
    "print(\"Confusion Matrix:\\n\", cm)"
   ]
  },
  {
   "cell_type": "markdown",
   "id": "336b09ff-a3b1-4e7e-b6d7-0a3da5753b2b",
   "metadata": {},
   "source": [
    "### b) Precision, Recall, F1-score:"
   ]
  },
  {
   "cell_type": "code",
   "execution_count": 18,
   "id": "ef9e39d3-17c6-47a2-9747-48e4a1673fe6",
   "metadata": {},
   "outputs": [
    {
     "name": "stdout",
     "output_type": "stream",
     "text": [
      "Classification Report:\n",
      "               precision    recall  f1-score   support\n",
      "\n",
      "          no       0.86      0.63      0.73       386\n",
      "         yes       0.77      0.92      0.84       509\n",
      "\n",
      "    accuracy                           0.80       895\n",
      "   macro avg       0.81      0.78      0.78       895\n",
      "weighted avg       0.81      0.80      0.79       895\n",
      "\n"
     ]
    }
   ],
   "source": [
    "from sklearn.metrics import classification_report\n",
    "print(\"Classification Report:\\n\", classification_report(y_test, y_pred))"
   ]
  },
  {
   "cell_type": "markdown",
   "id": "28a54bcd-8457-483a-83b3-f5e6ee48e77e",
   "metadata": {},
   "source": [
    "### c) ROC-AUC(Receiver Operating Characteristic - Area Under Curve):"
   ]
  },
  {
   "cell_type": "code",
   "execution_count": 19,
   "id": "d03b8ea0-f035-48e1-ba77-19a0a73f3248",
   "metadata": {},
   "outputs": [
    {
     "name": "stdout",
     "output_type": "stream",
     "text": [
      "ROC-AUC: 0.8658626586723943\n"
     ]
    }
   ],
   "source": [
    "# ROC-AUC\n",
    "from sklearn.metrics import roc_auc_score\n",
    "roc_auc = roc_auc_score(y_test, y_prob)\n",
    "print(f\"ROC-AUC: {roc_auc}\")"
   ]
  },
  {
   "cell_type": "markdown",
   "id": "b5b47965-4f57-4149-9fba-078aafb62f55",
   "metadata": {},
   "source": [
    "### 4) Precision-Recall Curve and AUC"
   ]
  },
  {
   "cell_type": "code",
   "execution_count": 20,
   "id": "bda2a119-48b8-49ac-aff8-c33d207c9c0f",
   "metadata": {},
   "outputs": [
    {
     "name": "stdout",
     "output_type": "stream",
     "text": [
      "Precision-Recall AUC: 0.8731669500830495\n"
     ]
    }
   ],
   "source": [
    "# Precision-Recall AUC\n",
    "from sklearn.metrics import precision_recall_curve, auc\n",
    "precision, recall, _ = precision_recall_curve(y_test, y_prob, pos_label='yes')\n",
    "pr_auc = auc(recall, precision)\n",
    "print(f\"Precision-Recall AUC: {pr_auc}\")"
   ]
  },
  {
   "cell_type": "markdown",
   "id": "dfe17e64-cec0-43a6-ab79-efc14fd4a220",
   "metadata": {},
   "source": [
    "### 5) Matthews Correlation Coefficient (MCC)"
   ]
  },
  {
   "cell_type": "code",
   "execution_count": 21,
   "id": "c667c609-3a97-42ef-ab07-0cd22bb73cdb",
   "metadata": {},
   "outputs": [
    {
     "name": "stdout",
     "output_type": "stream",
     "text": [
      "MCC: 0.5912091937793609\n"
     ]
    }
   ],
   "source": [
    "# Matthews Correlation Coefficient\n",
    "from sklearn.metrics import matthews_corrcoef\n",
    "mcc = matthews_corrcoef(y_test, y_pred)\n",
    "print(f\"MCC: {mcc}\")"
   ]
  },
  {
   "cell_type": "markdown",
   "id": "c0f56f65-8bb7-4547-8f17-45873ee797b0",
   "metadata": {},
   "source": [
    "### 6) Specificity (True Negative Rate)"
   ]
  },
  {
   "cell_type": "code",
   "execution_count": 22,
   "id": "ae939f49-79bb-4ae8-a6fe-221d9a274005",
   "metadata": {},
   "outputs": [
    {
     "name": "stdout",
     "output_type": "stream",
     "text": [
      "Specificity: 0.6347150259067358\n"
     ]
    }
   ],
   "source": [
    "# Specificity\n",
    "from sklearn.metrics import confusion_matrix\n",
    "tn, fp, fn, tp = cm.ravel()\n",
    "specificity = tn / (tn + fp)\n",
    "print(f\"Specificity: {specificity}\")"
   ]
  },
  {
   "cell_type": "code",
   "execution_count": null,
   "id": "069348be-1d87-4b16-85a6-ca6a7d6271bd",
   "metadata": {},
   "outputs": [],
   "source": []
  },
  {
   "cell_type": "code",
   "execution_count": null,
   "id": "c59af886-2013-428c-89f9-cc4662df57d6",
   "metadata": {},
   "outputs": [],
   "source": []
  }
 ],
 "metadata": {
  "kernelspec": {
   "display_name": "Python 3 (ipykernel)",
   "language": "python",
   "name": "python3"
  },
  "language_info": {
   "codemirror_mode": {
    "name": "ipython",
    "version": 3
   },
   "file_extension": ".py",
   "mimetype": "text/x-python",
   "name": "python",
   "nbconvert_exporter": "python",
   "pygments_lexer": "ipython3",
   "version": "3.12.3"
  }
 },
 "nbformat": 4,
 "nbformat_minor": 5
}

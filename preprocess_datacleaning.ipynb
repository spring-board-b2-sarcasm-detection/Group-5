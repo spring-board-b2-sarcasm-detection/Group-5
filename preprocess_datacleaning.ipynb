{
 "cells": [
  {
   "cell_type": "code",
   "execution_count": 14,
   "metadata": {},
   "outputs": [],
   "source": [
    "def extract(text):\n",
    "    parts = text.rsplit(',', 1)\n",
    "    \n",
    "    if len(parts) == 2:\n",
    "        es = parts[0].strip()\n",
    "        bv = parts[1].strip().lower() == 'true'\n",
    "    else:\n",
    "        es = text.strip()\n",
    "        bv = False\n",
    "\n",
    "    return es, bv\n",
    "\n",
    "def process_file(filepath, output_filepath):\n",
    "    results = []\n",
    "    s = \"\" \n",
    "\n",
    "    with open(filepath, 'r') as file:\n",
    "        ls = file.readlines()\n",
    "\n",
    "    \n",
    "    for i, l in enumerate(ls):\n",
    "        l = l.strip()\n",
    "        if l:\n",
    "            s += l + \" \"\n",
    "        if (i + 1 == len(ls) or not ls[i + 1].strip()) and s:\n",
    "            es, bv = extract(s.strip())\n",
    "            results.append((es, bv))\n",
    "            s = \"\" \n",
    "    with open(output_filepath, 'w') as outfile:\n",
    "        for result in results:\n",
    "            outfile.write(f\"{result[0]}, {result[1]}\\n\")\n",
    "\n",
    "input_file_path = 'llama2_sarcasm_training_data.txt'\n",
    "output_file_path = 'output_file.txt'\n",
    "process_file(input_file_path, output_file_path)\n",
    "\n"
   ]
  },
  {
   "cell_type": "code",
   "execution_count": 15,
   "metadata": {},
   "outputs": [],
   "source": [
    "import re\n",
    "\n",
    "def clean_text(text):\n",
    "    text = re.sub(r'http\\S+', '', text)\n",
    "    text = re.sub(r'www\\S+', '', text) \n",
    "    text = re.sub(r'@\\w+', '', text)\n",
    "    text = re.sub(r'#\\w+', '', text)\n",
    "    return text\n",
    "\n",
    "def process_tweets(input_filepath, output_filepath):\n",
    "    with open(input_filepath, 'r') as file, open(output_filepath, 'w') as outfile:\n",
    "        for line in file:\n",
    "            cleaned_line = clean_text(line)\n",
    "            outfile.write(cleaned_line)\n",
    "input_file_path = 'output_file.txt'\n",
    "output_file_path = 'path_to_your_output_file.txt'\n",
    "process_tweets(input_file_path, output_file_path)\n"
   ]
  },
  {
   "cell_type": "code",
   "execution_count": 17,
   "metadata": {},
   "outputs": [
    {
     "name": "stdout",
     "output_type": "stream",
     "text": [
      "Data has been written to output.csv.\n"
     ]
    }
   ],
   "source": [
    "import csv\n",
    "\n",
    "def process_txt_file(file_path):\n",
    "    with open(file_path, 'r', encoding='utf-8') as file:\n",
    "        lines = file.readlines()\n",
    "    df = []\n",
    "    for entry in lines:\n",
    "        text, tv = entry.strip().rsplit(\", \", 1)\n",
    "        tv = \"yes\" if tv == \"True\" else \"no\"\n",
    "        df.append((text, tv))\n",
    "\n",
    "    with open('output.csv', 'w', newline='', encoding='utf-8') as file:\n",
    "        w = csv.writer(file)\n",
    "        w.writerow(['Text', 'True/False'])\n",
    "        for row in df:\n",
    "            w.writerow(row)\n",
    "\n",
    "    print(\"Data has been written to output.csv.\")\n",
    "\n",
    "process_txt_file('output_file.txt')\n"
   ]
  },
  {
   "cell_type": "code",
   "execution_count": 18,
   "metadata": {},
   "outputs": [
    {
     "name": "stdout",
     "output_type": "stream",
     "text": [
      "Cleaned data has been written to cleaned_output.csv\n"
     ]
    }
   ],
   "source": [
    "import csv\n",
    "import re\n",
    "\n",
    "def clean_text(text):\n",
    "    text = re.sub(r'http[s]?://\\S+', '', text)\n",
    "    text = re.sub(r'#\\w+', '', text)\n",
    "    text = re.sub(r'@\\w+', '', text)\n",
    "    return text.strip()\n",
    "\n",
    "def process_csv(input_file, output_file):\n",
    "    with open(input_file, 'r', encoding='utf-8') as file:\n",
    "        r = csv.reader(file)\n",
    "        h = next(r) \n",
    "        df = list(r)\n",
    "\n",
    "    cleaned_data = [(clean_text(row[0]), row[1]) for row in df]\n",
    "\n",
    "    with open(output_file, 'w', newline='', encoding='utf-8') as file:\n",
    "        w = csv.writer(file)\n",
    "        w.writerow(h) \n",
    "        for row in cleaned_data:\n",
    "            w.writerow(row)\n",
    "\n",
    "    print(\"Cleaned data has been written to\", output_file)\n",
    "\n",
    "process_csv('output.csv', 'cleaned_output.csv')\n"
   ]
  },
  {
   "cell_type": "code",
   "execution_count": 34,
   "metadata": {},
   "outputs": [],
   "source": [
    "import re\n",
    "\n",
    "def remove_emojis(text):\n",
    "    emojis = re.compile(\"[\"\n",
    "                           u\"\\U0001F600-\\U0001F64F\"  \n",
    "                           u\"\\U0001F300-\\U0001F5FF\"  \n",
    "                           u\"\\U0001F680-\\U0001F6FF\"  \n",
    "                           u\"\\U0001F700-\\U0001F77F\"  \n",
    "                           u\"\\U0001F780-\\U0001F7FF\"  \n",
    "                           u\"\\U0001F800-\\U0001F8FF\"  \n",
    "                           u\"\\U0001F900-\\U0001F9FF\"  \n",
    "                           u\"\\U0001FA00-\\U0001FA6F\" \n",
    "                           u\"\\U0001FA70-\\U0001FAFF\"  \n",
    "                           u\"\\U00002702-\\U000027B0\"\n",
    "                           u\"\\U000024C2-\\U0001F251\" \n",
    "                           \"]+\", flags=re.UNICODE)\n",
    "    return emojis.sub(r'', text)\n",
    "\n",
    "def process_file(input_file_path, output_file_path):\n",
    "    with open(input_file_path, 'r', encoding='utf-8') as file:\n",
    "        lines = file.readlines()\n",
    "\n",
    "    cl = [remove_emojis(line) for line in lines]\n",
    "\n",
    "    with open(output_file_path, 'w', encoding='utf-8') as file:\n",
    "        file.writelines(cl)\n",
    "\n",
    "input_path = 'Tweet.txt'\n",
    "output_path = 'cleaned.txt'\n",
    "process_file(input_path, output_path)\n"
   ]
  },
  {
   "cell_type": "code",
   "execution_count": null,
   "metadata": {},
   "outputs": [],
   "source": []
  }
 ],
 "metadata": {
  "kernelspec": {
   "display_name": "base",
   "language": "python",
   "name": "python3"
  },
  "language_info": {
   "codemirror_mode": {
    "name": "ipython",
    "version": 3
   },
   "file_extension": ".py",
   "mimetype": "text/x-python",
   "name": "python",
   "nbconvert_exporter": "python",
   "pygments_lexer": "ipython3",
   "version": "3.11.7"
  }
 },
 "nbformat": 4,
 "nbformat_minor": 2
}

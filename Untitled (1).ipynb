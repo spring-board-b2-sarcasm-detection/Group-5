{
 "cells": [
  {
   "cell_type": "code",
   "execution_count": 27,
   "id": "0163b265-11e6-4108-9c0c-02abb854d843",
   "metadata": {},
   "outputs": [],
   "source": [
    "import pandas as pd\n",
    "import numpy as np"
   ]
  },
  {
   "cell_type": "code",
   "execution_count": 28,
   "id": "ec133da4-d720-4766-bc97-0da1bb956b4a",
   "metadata": {},
   "outputs": [],
   "source": [
    "df = pd.read_csv(\"C:\\\\Users\\\\HP\\\\OneDrive\\\\Desktop\\\\sarcasm_3.txt\", delimiter='\\t')\n"
   ]
  },
  {
   "cell_type": "code",
   "execution_count": 29,
   "id": "ee5e1e7e-6633-4a3b-b3ab-5cacc3ab0193",
   "metadata": {},
   "outputs": [
    {
     "data": {
      "text/html": [
       "<div>\n",
       "<style scoped>\n",
       "    .dataframe tbody tr th:only-of-type {\n",
       "        vertical-align: middle;\n",
       "    }\n",
       "\n",
       "    .dataframe tbody tr th {\n",
       "        vertical-align: top;\n",
       "    }\n",
       "\n",
       "    .dataframe thead th {\n",
       "        text-align: right;\n",
       "    }\n",
       "</style>\n",
       "<table border=\"1\" class=\"dataframe\">\n",
       "  <thead>\n",
       "    <tr style=\"text-align: right;\">\n",
       "      <th></th>\n",
       "      <th>Fantastic service yet again from EE. 1st you upgrade me to the wrong number, and now you cut me off entirely!! #perfecttiming , true</th>\n",
       "    </tr>\n",
       "  </thead>\n",
       "  <tbody>\n",
       "    <tr>\n",
       "      <th>0</th>\n",
       "      <td>Not sure if that was or #realtalk . I'll take ...</td>\n",
       "    </tr>\n",
       "    <tr>\n",
       "      <th>1</th>\n",
       "      <td>Barely 9 am and already shaking with rage.  #g...</td>\n",
       "    </tr>\n",
       "    <tr>\n",
       "      <th>2</th>\n",
       "      <td>@deray I guess that proves it then. Black folk...</td>\n",
       "    </tr>\n",
       "    <tr>\n",
       "      <th>3</th>\n",
       "      <td>@the_FF_engineer Does this tweet need a tag? ,...</td>\n",
       "    </tr>\n",
       "    <tr>\n",
       "      <th>4</th>\n",
       "      <td>@officialUKMail both. Won't be using you again...</td>\n",
       "    </tr>\n",
       "  </tbody>\n",
       "</table>\n",
       "</div>"
      ],
      "text/plain": [
       "  Fantastic service yet again from EE. 1st you upgrade me to the wrong number, and now you cut me off entirely!! #perfecttiming , true\n",
       "0  Not sure if that was or #realtalk . I'll take ...                                                                                  \n",
       "1  Barely 9 am and already shaking with rage.  #g...                                                                                  \n",
       "2  @deray I guess that proves it then. Black folk...                                                                                  \n",
       "3  @the_FF_engineer Does this tweet need a tag? ,...                                                                                  \n",
       "4  @officialUKMail both. Won't be using you again...                                                                                  "
      ]
     },
     "execution_count": 29,
     "metadata": {},
     "output_type": "execute_result"
    }
   ],
   "source": [
    "df.head()"
   ]
  },
  {
   "cell_type": "code",
   "execution_count": 30,
   "id": "68291c48-b563-4419-98f7-96cb0d57ca4d",
   "metadata": {},
   "outputs": [
    {
     "data": {
      "text/html": [
       "<div>\n",
       "<style scoped>\n",
       "    .dataframe tbody tr th:only-of-type {\n",
       "        vertical-align: middle;\n",
       "    }\n",
       "\n",
       "    .dataframe tbody tr th {\n",
       "        vertical-align: top;\n",
       "    }\n",
       "\n",
       "    .dataframe thead th {\n",
       "        text-align: right;\n",
       "    }\n",
       "</style>\n",
       "<table border=\"1\" class=\"dataframe\">\n",
       "  <thead>\n",
       "    <tr style=\"text-align: right;\">\n",
       "      <th></th>\n",
       "      <th>Fantastic service yet again from EE. 1st you upgrade me to the wrong number, and now you cut me off entirely!! #perfecttiming , true</th>\n",
       "    </tr>\n",
       "  </thead>\n",
       "  <tbody>\n",
       "    <tr>\n",
       "      <th>1115</th>\n",
       "      <td>#Humor #Mystery #Cozy #Kindle http://t.co/st6j...</td>\n",
       "    </tr>\n",
       "    <tr>\n",
       "      <th>1116</th>\n",
       "      <td>Like Tx, Fla, SC and LA  @governorPerry Was th...</td>\n",
       "    </tr>\n",
       "    <tr>\n",
       "      <th>1117</th>\n",
       "      <td>Hey, @Outlook, my mailbox won't be so full if ...</td>\n",
       "    </tr>\n",
       "    <tr>\n",
       "      <th>1118</th>\n",
       "      <td>http://t.co/4K3aGqfZgS , false</td>\n",
       "    </tr>\n",
       "    <tr>\n",
       "      <th>1119</th>\n",
       "      <td>You can't master what you don't understand. #E...</td>\n",
       "    </tr>\n",
       "  </tbody>\n",
       "</table>\n",
       "</div>"
      ],
      "text/plain": [
       "     Fantastic service yet again from EE. 1st you upgrade me to the wrong number, and now you cut me off entirely!! #perfecttiming , true\n",
       "1115  #Humor #Mystery #Cozy #Kindle http://t.co/st6j...                                                                                  \n",
       "1116  Like Tx, Fla, SC and LA  @governorPerry Was th...                                                                                  \n",
       "1117  Hey, @Outlook, my mailbox won't be so full if ...                                                                                  \n",
       "1118                   http://t.co/4K3aGqfZgS , false                                                                                    \n",
       "1119  You can't master what you don't understand. #E...                                                                                  "
      ]
     },
     "execution_count": 30,
     "metadata": {},
     "output_type": "execute_result"
    }
   ],
   "source": [
    "df.tail()"
   ]
  },
  {
   "cell_type": "code",
   "execution_count": 31,
   "id": "2e990f73-b8b2-4d14-8ca9-413da36af1bb",
   "metadata": {},
   "outputs": [
    {
     "data": {
      "text/plain": [
       "(1120, 1)"
      ]
     },
     "execution_count": 31,
     "metadata": {},
     "output_type": "execute_result"
    }
   ],
   "source": [
    "df.shape"
   ]
  },
  {
   "cell_type": "code",
   "execution_count": 32,
   "id": "34114489-8b57-4ad3-8ca6-7eb403d5ec88",
   "metadata": {},
   "outputs": [
    {
     "data": {
      "text/plain": [
       "Fantastic service yet again from EE. 1st you upgrade me to the wrong number, and now you cut me off entirely!! #perfecttiming , true    object\n",
       "dtype: object"
      ]
     },
     "execution_count": 32,
     "metadata": {},
     "output_type": "execute_result"
    }
   ],
   "source": [
    "df.dtypes"
   ]
  },
  {
   "cell_type": "code",
   "execution_count": 33,
   "id": "fafaff3e-4847-4f24-adf6-68dfe1d3f5a7",
   "metadata": {},
   "outputs": [
    {
     "name": "stdout",
     "output_type": "stream",
     "text": [
      "<class 'pandas.core.frame.DataFrame'>\n",
      "RangeIndex: 1120 entries, 0 to 1119\n",
      "Data columns (total 1 columns):\n",
      " #   Column                                                                                                                                Non-Null Count  Dtype \n",
      "---  ------                                                                                                                                --------------  ----- \n",
      " 0   Fantastic service yet again from EE. 1st you upgrade me to the wrong number, and now you cut me off entirely!! #perfecttiming , true  1120 non-null   object\n",
      "dtypes: object(1)\n",
      "memory usage: 8.9+ KB\n"
     ]
    }
   ],
   "source": [
    "df.info()"
   ]
  },
  {
   "cell_type": "code",
   "execution_count": 34,
   "id": "3878f0d5-1239-4cf9-a38d-c4728b82df17",
   "metadata": {},
   "outputs": [
    {
     "data": {
      "text/plain": [
       "Fantastic service yet again from EE. 1st you upgrade me to the wrong number, and now you cut me off entirely!! #perfecttiming , true    0\n",
       "dtype: int64"
      ]
     },
     "execution_count": 34,
     "metadata": {},
     "output_type": "execute_result"
    }
   ],
   "source": [
    "df.isnull().sum()"
   ]
  },
  {
   "cell_type": "code",
   "execution_count": 35,
   "id": "25993c46-3b67-4747-8d5b-32578511d143",
   "metadata": {},
   "outputs": [
    {
     "name": "stdout",
     "output_type": "stream",
     "text": [
      "Fantastic service yet again from EE. 1st you upgrade me to the wrong number, and now you cut me off entirely!! #perfecttiming , true\n",
      " , true                                                                                                                                 15\n",
      "#Irony , false                                                                                                                           2\n",
      "Not sure if that was or #realtalk . I'll take it! 😂 https://t.co/3p9YP2jVk6 , true                                                       1\n",
      "Yup. Moses story is totally legit... #sacrilegesunday http://t.co/8ThSicVSM8 , true                                                      1\n",
      "Dude lighten up                                                                                                                          1\n",
      "                                                                                                                                        ..\n",
      "I just wanna thank whoever posted that pic of Oberyn vs The Mountain.  , true                                                            1\n",
      "How is that possible?  Obama and @HillaryClinton said that guns are the problem.  #tcot #p2 #pjnet  https://t.co/9tAy2QL8uu , true       1\n",
      "@SensesFail @GrantTrimboli @therave But he was a fat kid and no girls ever paid attention to him. He was owed.  #sarcastic , true        1\n",
      "My favorite thing is when Luis opens my snaps but doesn't snap me back... 😡  , true                                                      1\n",
      "You can't master what you don't understand. #Education , false                                                                           1\n",
      "Name: count, Length: 1105, dtype: int64\n",
      "******************************\n"
     ]
    }
   ],
   "source": [
    "#Garbage value\n",
    "for i in df.select_dtypes(include = \"object\").columns:\n",
    "    print(df[i].value_counts())\n",
    "    print(\"***\"*10)"
   ]
  },
  {
   "cell_type": "code",
   "execution_count": 36,
   "id": "7235f860-fcb3-4e8a-be62-fcba59c4d603",
   "metadata": {},
   "outputs": [
    {
     "data": {
      "text/plain": [
       "15"
      ]
     },
     "execution_count": 36,
     "metadata": {},
     "output_type": "execute_result"
    }
   ],
   "source": [
    "#To find duplicates\n",
    "df.duplicated().sum()"
   ]
  },
  {
   "cell_type": "code",
   "execution_count": 37,
   "id": "72221faa-c3bd-4dea-8f6a-7eadb4c134f3",
   "metadata": {},
   "outputs": [
    {
     "data": {
      "text/html": [
       "<div>\n",
       "<style scoped>\n",
       "    .dataframe tbody tr th:only-of-type {\n",
       "        vertical-align: middle;\n",
       "    }\n",
       "\n",
       "    .dataframe tbody tr th {\n",
       "        vertical-align: top;\n",
       "    }\n",
       "\n",
       "    .dataframe thead th {\n",
       "        text-align: right;\n",
       "    }\n",
       "</style>\n",
       "<table border=\"1\" class=\"dataframe\">\n",
       "  <thead>\n",
       "    <tr style=\"text-align: right;\">\n",
       "      <th></th>\n",
       "      <th>count</th>\n",
       "      <th>unique</th>\n",
       "      <th>top</th>\n",
       "      <th>freq</th>\n",
       "    </tr>\n",
       "  </thead>\n",
       "  <tbody>\n",
       "    <tr>\n",
       "      <th>Fantastic service yet again from EE. 1st you upgrade me to the wrong number, and now you cut me off entirely!! #perfecttiming , true</th>\n",
       "      <td>1120</td>\n",
       "      <td>1105</td>\n",
       "      <td>, true</td>\n",
       "      <td>15</td>\n",
       "    </tr>\n",
       "  </tbody>\n",
       "</table>\n",
       "</div>"
      ],
      "text/plain": [
       "                                                   count unique        top  \\\n",
       "Fantastic service yet again from EE. 1st you up...  1120   1105   , true     \n",
       "\n",
       "                                                   freq  \n",
       "Fantastic service yet again from EE. 1st you up...   15  "
      ]
     },
     "execution_count": 37,
     "metadata": {},
     "output_type": "execute_result"
    }
   ],
   "source": [
    "df.describe().T"
   ]
  },
  {
   "cell_type": "code",
   "execution_count": 38,
   "id": "21dfde6e-4832-4ecd-b959-764b9d5236dd",
   "metadata": {},
   "outputs": [
    {
     "data": {
      "text/html": [
       "<div>\n",
       "<style scoped>\n",
       "    .dataframe tbody tr th:only-of-type {\n",
       "        vertical-align: middle;\n",
       "    }\n",
       "\n",
       "    .dataframe tbody tr th {\n",
       "        vertical-align: top;\n",
       "    }\n",
       "\n",
       "    .dataframe thead th {\n",
       "        text-align: right;\n",
       "    }\n",
       "</style>\n",
       "<table border=\"1\" class=\"dataframe\">\n",
       "  <thead>\n",
       "    <tr style=\"text-align: right;\">\n",
       "      <th></th>\n",
       "      <th>Fantastic service yet again from EE. 1st you upgrade me to the wrong number, and now you cut me off entirely!! #perfecttiming , true</th>\n",
       "    </tr>\n",
       "  </thead>\n",
       "  <tbody>\n",
       "    <tr>\n",
       "      <th>0</th>\n",
       "      <td>Not sure if that was or #realtalk . I'll take ...</td>\n",
       "    </tr>\n",
       "    <tr>\n",
       "      <th>1</th>\n",
       "      <td>Barely 9 am and already shaking with rage.  #g...</td>\n",
       "    </tr>\n",
       "    <tr>\n",
       "      <th>2</th>\n",
       "      <td>@deray I guess that proves it then. Black folk...</td>\n",
       "    </tr>\n",
       "    <tr>\n",
       "      <th>3</th>\n",
       "      <td>@the_FF_engineer Does this tweet need a tag? ,...</td>\n",
       "    </tr>\n",
       "    <tr>\n",
       "      <th>4</th>\n",
       "      <td>@officialUKMail both. Won't be using you again...</td>\n",
       "    </tr>\n",
       "    <tr>\n",
       "      <th>...</th>\n",
       "      <td>...</td>\n",
       "    </tr>\n",
       "    <tr>\n",
       "      <th>1115</th>\n",
       "      <td>#Humor #Mystery #Cozy #Kindle http://t.co/st6j...</td>\n",
       "    </tr>\n",
       "    <tr>\n",
       "      <th>1116</th>\n",
       "      <td>Like Tx, Fla, SC and LA  @governorPerry Was th...</td>\n",
       "    </tr>\n",
       "    <tr>\n",
       "      <th>1117</th>\n",
       "      <td>Hey, @Outlook, my mailbox won't be so full if ...</td>\n",
       "    </tr>\n",
       "    <tr>\n",
       "      <th>1118</th>\n",
       "      <td>http://t.co/4K3aGqfZgS , false</td>\n",
       "    </tr>\n",
       "    <tr>\n",
       "      <th>1119</th>\n",
       "      <td>You can't master what you don't understand. #E...</td>\n",
       "    </tr>\n",
       "  </tbody>\n",
       "</table>\n",
       "<p>1105 rows × 1 columns</p>\n",
       "</div>"
      ],
      "text/plain": [
       "     Fantastic service yet again from EE. 1st you upgrade me to the wrong number, and now you cut me off entirely!! #perfecttiming , true\n",
       "0     Not sure if that was or #realtalk . I'll take ...                                                                                  \n",
       "1     Barely 9 am and already shaking with rage.  #g...                                                                                  \n",
       "2     @deray I guess that proves it then. Black folk...                                                                                  \n",
       "3     @the_FF_engineer Does this tweet need a tag? ,...                                                                                  \n",
       "4     @officialUKMail both. Won't be using you again...                                                                                  \n",
       "...                                                 ...                                                                                  \n",
       "1115  #Humor #Mystery #Cozy #Kindle http://t.co/st6j...                                                                                  \n",
       "1116  Like Tx, Fla, SC and LA  @governorPerry Was th...                                                                                  \n",
       "1117  Hey, @Outlook, my mailbox won't be so full if ...                                                                                  \n",
       "1118                   http://t.co/4K3aGqfZgS , false                                                                                    \n",
       "1119  You can't master what you don't understand. #E...                                                                                  \n",
       "\n",
       "[1105 rows x 1 columns]"
      ]
     },
     "execution_count": 38,
     "metadata": {},
     "output_type": "execute_result"
    }
   ],
   "source": [
    "df.drop_duplicates()"
   ]
  },
  {
   "cell_type": "code",
   "execution_count": 39,
   "id": "5a3ab1fd-abea-457a-95ed-d5dbe54b4fce",
   "metadata": {},
   "outputs": [
    {
     "data": {
      "text/plain": [
       "15"
      ]
     },
     "execution_count": 39,
     "metadata": {},
     "output_type": "execute_result"
    }
   ],
   "source": [
    "df.duplicated().sum()"
   ]
  },
  {
   "cell_type": "code",
   "execution_count": 40,
   "id": "f7cef044-0141-48f3-a7ab-e7001d286ef0",
   "metadata": {},
   "outputs": [],
   "source": [
    "#Handle missing value\n",
    "df.replace(\"-\",np.nan,inplace = True)\n",
    "df.replace(\"?\",np.nan,inplace = True)\n",
    "df.replace(\"..\",np.nan,inplace = True)"
   ]
  },
  {
   "cell_type": "code",
   "execution_count": 41,
   "id": "ec49a633-ce8f-4c51-93c0-028c7d9352fb",
   "metadata": {},
   "outputs": [
    {
     "data": {
      "text/html": [
       "<div>\n",
       "<style scoped>\n",
       "    .dataframe tbody tr th:only-of-type {\n",
       "        vertical-align: middle;\n",
       "    }\n",
       "\n",
       "    .dataframe tbody tr th {\n",
       "        vertical-align: top;\n",
       "    }\n",
       "\n",
       "    .dataframe thead th {\n",
       "        text-align: right;\n",
       "    }\n",
       "</style>\n",
       "<table border=\"1\" class=\"dataframe\">\n",
       "  <thead>\n",
       "    <tr style=\"text-align: right;\">\n",
       "      <th></th>\n",
       "      <th>Fantastic service yet again from EE. 1st you upgrade me to the wrong number, and now you cut me off entirely!! #perfecttiming , true</th>\n",
       "    </tr>\n",
       "  </thead>\n",
       "  <tbody>\n",
       "    <tr>\n",
       "      <th>0</th>\n",
       "      <td>Not sure if that was or #realtalk . I'll take ...</td>\n",
       "    </tr>\n",
       "    <tr>\n",
       "      <th>1</th>\n",
       "      <td>Barely 9 am and already shaking with rage.  #g...</td>\n",
       "    </tr>\n",
       "    <tr>\n",
       "      <th>2</th>\n",
       "      <td>@deray I guess that proves it then. Black folk...</td>\n",
       "    </tr>\n",
       "    <tr>\n",
       "      <th>3</th>\n",
       "      <td>@the_FF_engineer Does this tweet need a tag? ,...</td>\n",
       "    </tr>\n",
       "    <tr>\n",
       "      <th>4</th>\n",
       "      <td>@officialUKMail both. Won't be using you again...</td>\n",
       "    </tr>\n",
       "  </tbody>\n",
       "</table>\n",
       "</div>"
      ],
      "text/plain": [
       "  Fantastic service yet again from EE. 1st you upgrade me to the wrong number, and now you cut me off entirely!! #perfecttiming , true\n",
       "0  Not sure if that was or #realtalk . I'll take ...                                                                                  \n",
       "1  Barely 9 am and already shaking with rage.  #g...                                                                                  \n",
       "2  @deray I guess that proves it then. Black folk...                                                                                  \n",
       "3  @the_FF_engineer Does this tweet need a tag? ,...                                                                                  \n",
       "4  @officialUKMail both. Won't be using you again...                                                                                  "
      ]
     },
     "execution_count": 41,
     "metadata": {},
     "output_type": "execute_result"
    }
   ],
   "source": [
    "df.head()"
   ]
  },
  {
   "cell_type": "code",
   "execution_count": 42,
   "id": "cbb5134c-5e78-493a-9484-496cc6626dd5",
   "metadata": {},
   "outputs": [
    {
     "data": {
      "text/html": [
       "<div>\n",
       "<style scoped>\n",
       "    .dataframe tbody tr th:only-of-type {\n",
       "        vertical-align: middle;\n",
       "    }\n",
       "\n",
       "    .dataframe tbody tr th {\n",
       "        vertical-align: top;\n",
       "    }\n",
       "\n",
       "    .dataframe thead th {\n",
       "        text-align: right;\n",
       "    }\n",
       "</style>\n",
       "<table border=\"1\" class=\"dataframe\">\n",
       "  <thead>\n",
       "    <tr style=\"text-align: right;\">\n",
       "      <th></th>\n",
       "      <th>Fantastic service yet again from EE. 1st you upgrade me to the wrong number, and now you cut me off entirely!! #perfecttiming , true</th>\n",
       "    </tr>\n",
       "  </thead>\n",
       "  <tbody>\n",
       "    <tr>\n",
       "      <th>0</th>\n",
       "      <td>False</td>\n",
       "    </tr>\n",
       "    <tr>\n",
       "      <th>1</th>\n",
       "      <td>False</td>\n",
       "    </tr>\n",
       "    <tr>\n",
       "      <th>2</th>\n",
       "      <td>False</td>\n",
       "    </tr>\n",
       "    <tr>\n",
       "      <th>3</th>\n",
       "      <td>False</td>\n",
       "    </tr>\n",
       "    <tr>\n",
       "      <th>4</th>\n",
       "      <td>False</td>\n",
       "    </tr>\n",
       "    <tr>\n",
       "      <th>...</th>\n",
       "      <td>...</td>\n",
       "    </tr>\n",
       "    <tr>\n",
       "      <th>1115</th>\n",
       "      <td>False</td>\n",
       "    </tr>\n",
       "    <tr>\n",
       "      <th>1116</th>\n",
       "      <td>False</td>\n",
       "    </tr>\n",
       "    <tr>\n",
       "      <th>1117</th>\n",
       "      <td>False</td>\n",
       "    </tr>\n",
       "    <tr>\n",
       "      <th>1118</th>\n",
       "      <td>False</td>\n",
       "    </tr>\n",
       "    <tr>\n",
       "      <th>1119</th>\n",
       "      <td>False</td>\n",
       "    </tr>\n",
       "  </tbody>\n",
       "</table>\n",
       "<p>1120 rows × 1 columns</p>\n",
       "</div>"
      ],
      "text/plain": [
       "      Fantastic service yet again from EE. 1st you upgrade me to the wrong number, and now you cut me off entirely!! #perfecttiming , true\n",
       "0                                                 False                                                                                   \n",
       "1                                                 False                                                                                   \n",
       "2                                                 False                                                                                   \n",
       "3                                                 False                                                                                   \n",
       "4                                                 False                                                                                   \n",
       "...                                                 ...                                                                                   \n",
       "1115                                              False                                                                                   \n",
       "1116                                              False                                                                                   \n",
       "1117                                              False                                                                                   \n",
       "1118                                              False                                                                                   \n",
       "1119                                              False                                                                                   \n",
       "\n",
       "[1120 rows x 1 columns]"
      ]
     },
     "execution_count": 42,
     "metadata": {},
     "output_type": "execute_result"
    }
   ],
   "source": [
    "df.isnull()"
   ]
  },
  {
   "cell_type": "code",
   "execution_count": 43,
   "id": "bd876c80-47ce-4f6e-81db-0729837643d2",
   "metadata": {},
   "outputs": [
    {
     "data": {
      "text/plain": [
       "Fantastic service yet again from EE. 1st you upgrade me to the wrong number, and now you cut me off entirely!! #perfecttiming , true    0\n",
       "dtype: int64"
      ]
     },
     "execution_count": 43,
     "metadata": {},
     "output_type": "execute_result"
    }
   ],
   "source": [
    "df.isnull().sum()"
   ]
  },
  {
   "cell_type": "code",
   "execution_count": 44,
   "id": "761c7730-bc7d-4f97-87db-87a063ce823d",
   "metadata": {},
   "outputs": [
    {
     "data": {
      "text/html": [
       "<div>\n",
       "<style scoped>\n",
       "    .dataframe tbody tr th:only-of-type {\n",
       "        vertical-align: middle;\n",
       "    }\n",
       "\n",
       "    .dataframe tbody tr th {\n",
       "        vertical-align: top;\n",
       "    }\n",
       "\n",
       "    .dataframe thead th {\n",
       "        text-align: right;\n",
       "    }\n",
       "</style>\n",
       "<table border=\"1\" class=\"dataframe\">\n",
       "  <thead>\n",
       "    <tr style=\"text-align: right;\">\n",
       "      <th></th>\n",
       "      <th>Fantastic service yet again from EE. 1st you upgrade me to the wrong number, and now you cut me off entirely!! #perfecttiming , true</th>\n",
       "    </tr>\n",
       "  </thead>\n",
       "  <tbody>\n",
       "    <tr>\n",
       "      <th>0</th>\n",
       "      <td>Not sure if that was or #realtalk . I'll take ...</td>\n",
       "    </tr>\n",
       "    <tr>\n",
       "      <th>1</th>\n",
       "      <td>Barely 9 am and already shaking with rage.  #g...</td>\n",
       "    </tr>\n",
       "    <tr>\n",
       "      <th>2</th>\n",
       "      <td>@deray I guess that proves it then. Black folk...</td>\n",
       "    </tr>\n",
       "    <tr>\n",
       "      <th>3</th>\n",
       "      <td>@the_FF_engineer Does this tweet need a tag? ,...</td>\n",
       "    </tr>\n",
       "    <tr>\n",
       "      <th>4</th>\n",
       "      <td>@officialUKMail both. Won't be using you again...</td>\n",
       "    </tr>\n",
       "  </tbody>\n",
       "</table>\n",
       "</div>"
      ],
      "text/plain": [
       "  Fantastic service yet again from EE. 1st you upgrade me to the wrong number, and now you cut me off entirely!! #perfecttiming , true\n",
       "0  Not sure if that was or #realtalk . I'll take ...                                                                                  \n",
       "1  Barely 9 am and already shaking with rage.  #g...                                                                                  \n",
       "2  @deray I guess that proves it then. Black folk...                                                                                  \n",
       "3  @the_FF_engineer Does this tweet need a tag? ,...                                                                                  \n",
       "4  @officialUKMail both. Won't be using you again...                                                                                  "
      ]
     },
     "execution_count": 44,
     "metadata": {},
     "output_type": "execute_result"
    }
   ],
   "source": [
    "df.head()"
   ]
  },
  {
   "cell_type": "code",
   "execution_count": 45,
   "id": "2dea25fc-d2d6-4d8d-bc81-88eae264760b",
   "metadata": {},
   "outputs": [
    {
     "name": "stdout",
     "output_type": "stream",
     "text": [
      "\n",
      "\n",
      "\n",
      "\n",
      "\n",
      "\n",
      "\n",
      "\n",
      "Fantastic service yet again from EE. 1st you upgrade me to the wrong number, and now you cut me off entirely!! #perfecttiming , true\n",
      "\n",
      "\n",
      "\n",
      "  \n",
      "\n",
      "\n",
      "\n",
      "Not sure if that was or #realtalk . I'll take it! 😂 https://t.co/3p9YP2jVk6 , true  \n",
      "\n",
      "\n",
      "\n"
     ]
    }
   ],
   "source": [
    "import pandas as pd\n",
    "\n",
    "with open('C:\\\\Users\\\\HP\\\\OneDrive\\\\Desktop\\\\sarcasm_3.txt', 'r', encoding='utf-8') as file:\n",
    "    lines = [next(file) for _ in range(10)]\n",
    "    for line in lines:\n",
    "        print(line)"
   ]
  },
  {
   "cell_type": "code",
   "execution_count": 46,
   "id": "6dbad1e5-ac76-4b61-8964-d69868cf6366",
   "metadata": {},
   "outputs": [
    {
     "name": "stdout",
     "output_type": "stream",
     "text": [
      "                                                text label\n",
      "0  Not sure if that was or #realtalk . I'll take ...  true\n",
      "1  Barely 9 am and already shaking with rage.  #g...  true\n",
      "2  @deray I guess that proves it then. Black folk...  true\n",
      "3      @the_FF_engineer Does this tweet need a tag?   true\n",
      "4  @officialUKMail both. Won't be using you again...  true\n"
     ]
    }
   ],
   "source": [
    "import re\n",
    "\n",
    "# Function to remove emojis\n",
    "def remove_emojis(text):\n",
    "    emoji_pattern = re.compile(\n",
    "        \"[\"\n",
    "        u\"\\U0001F600-\\U0001F64F\"  # emoticons\n",
    "        u\"\\U0001F300-\\U0001F5FF\"  # symbols & pictographs\n",
    "        u\"\\U0001F680-\\U0001F6FF\"  # transport & map symbols\n",
    "        u\"\\U0001F700-\\U0001F77F\"  # alchemical symbols\n",
    "        u\"\\U0001F780-\\U0001F7FF\"  # Geometric Shapes Extended\n",
    "        u\"\\U0001F800-\\U0001F8FF\"  # Supplemental Arrows-C\n",
    "        u\"\\U0001F900-\\U0001F9FF\"  # Supplemental Symbols and Pictographs\n",
    "        u\"\\U0001FA00-\\U0001FA6F\"  # Chess Symbols\n",
    "        u\"\\U0001FA70-\\U0001FAFF\"  # Symbols and Pictographs Extended-A\n",
    "        u\"\\U00002702-\\U000027B0\"  # Dingbats\n",
    "        u\"\\U000024C2-\\U0001F251\" \n",
    "        \"]+\", flags=re.UNICODE)\n",
    "    return emoji_pattern.sub(r'', text)\n",
    "\n",
    "def remove_urls(text):\n",
    "    url_pattern = re.compile(r'https?://\\S+|www\\.\\S+')\n",
    "    return url_pattern.sub(r'', text)\n",
    "\n",
    "with open('C:\\\\Users\\\\HP\\\\OneDrive\\\\Desktop\\\\sarcasm_3.txt', 'r', encoding='utf-8') as file:\n",
    "    lines = file.readlines()\n",
    "\n",
    "data = []\n",
    "\n",
    "for line in lines:\n",
    "    parts = line.strip().split(', ')  \n",
    "    if len(parts) == 2: \n",
    "        text = parts[0]\n",
    "        label = parts[1]\n",
    "        cleaned_text = remove_emojis(text)\n",
    "        cleaned_text = remove_urls(cleaned_text)\n",
    "        data.append([cleaned_text, label])\n",
    "        \n",
    "df = pd.DataFrame(data, columns=['text', 'label'])\n",
    "print(df.head())\n",
    "df.to_csv('c_dataset.csv', index=False, sep=',')\n",
    "\n",
    "\n",
    "        "
   ]
  },
  {
   "cell_type": "code",
   "execution_count": 47,
   "id": "fc619162-ea4a-474f-9a76-d0d66c4b1b29",
   "metadata": {},
   "outputs": [
    {
     "data": {
      "text/html": [
       "<div>\n",
       "<style scoped>\n",
       "    .dataframe tbody tr th:only-of-type {\n",
       "        vertical-align: middle;\n",
       "    }\n",
       "\n",
       "    .dataframe tbody tr th {\n",
       "        vertical-align: top;\n",
       "    }\n",
       "\n",
       "    .dataframe thead th {\n",
       "        text-align: right;\n",
       "    }\n",
       "</style>\n",
       "<table border=\"1\" class=\"dataframe\">\n",
       "  <thead>\n",
       "    <tr style=\"text-align: right;\">\n",
       "      <th></th>\n",
       "      <th>text</th>\n",
       "      <th>label</th>\n",
       "    </tr>\n",
       "  </thead>\n",
       "  <tbody>\n",
       "    <tr>\n",
       "      <th>0</th>\n",
       "      <td>Not sure if that was or #realtalk . I'll take ...</td>\n",
       "      <td>true</td>\n",
       "    </tr>\n",
       "    <tr>\n",
       "      <th>1</th>\n",
       "      <td>Barely 9 am and already shaking with rage.  #g...</td>\n",
       "      <td>true</td>\n",
       "    </tr>\n",
       "    <tr>\n",
       "      <th>2</th>\n",
       "      <td>@deray I guess that proves it then. Black folk...</td>\n",
       "      <td>true</td>\n",
       "    </tr>\n",
       "    <tr>\n",
       "      <th>3</th>\n",
       "      <td>@the_FF_engineer Does this tweet need a tag?</td>\n",
       "      <td>true</td>\n",
       "    </tr>\n",
       "    <tr>\n",
       "      <th>4</th>\n",
       "      <td>@officialUKMail both. Won't be using you again...</td>\n",
       "      <td>true</td>\n",
       "    </tr>\n",
       "  </tbody>\n",
       "</table>\n",
       "</div>"
      ],
      "text/plain": [
       "                                                text label\n",
       "0  Not sure if that was or #realtalk . I'll take ...  true\n",
       "1  Barely 9 am and already shaking with rage.  #g...  true\n",
       "2  @deray I guess that proves it then. Black folk...  true\n",
       "3      @the_FF_engineer Does this tweet need a tag?   true\n",
       "4  @officialUKMail both. Won't be using you again...  true"
      ]
     },
     "execution_count": 47,
     "metadata": {},
     "output_type": "execute_result"
    }
   ],
   "source": [
    "df.head()"
   ]
  },
  {
   "cell_type": "code",
   "execution_count": 48,
   "id": "7e4c172c-fd28-4917-a65d-1f580ad72815",
   "metadata": {},
   "outputs": [],
   "source": [
    "df = pd.read_csv('c_dataset.csv')\n",
    "df['text'] = df['text'].str.replace('#', '')\n",
    "df['label'] = df['label'].str.replace('#', '')\n",
    "df.to_csv('c_dataset.csv', index=False)"
   ]
  },
  {
   "cell_type": "code",
   "execution_count": 49,
   "id": "88490bf1-21e2-4fd3-9307-9f943c0eccca",
   "metadata": {},
   "outputs": [
    {
     "data": {
      "text/html": [
       "<div>\n",
       "<style scoped>\n",
       "    .dataframe tbody tr th:only-of-type {\n",
       "        vertical-align: middle;\n",
       "    }\n",
       "\n",
       "    .dataframe tbody tr th {\n",
       "        vertical-align: top;\n",
       "    }\n",
       "\n",
       "    .dataframe thead th {\n",
       "        text-align: right;\n",
       "    }\n",
       "</style>\n",
       "<table border=\"1\" class=\"dataframe\">\n",
       "  <thead>\n",
       "    <tr style=\"text-align: right;\">\n",
       "      <th></th>\n",
       "      <th>text</th>\n",
       "      <th>label</th>\n",
       "    </tr>\n",
       "  </thead>\n",
       "  <tbody>\n",
       "    <tr>\n",
       "      <th>0</th>\n",
       "      <td>Not sure if that was or realtalk . I'll take i...</td>\n",
       "      <td>true</td>\n",
       "    </tr>\n",
       "    <tr>\n",
       "      <th>1</th>\n",
       "      <td>Barely 9 am and already shaking with rage.  go...</td>\n",
       "      <td>true</td>\n",
       "    </tr>\n",
       "    <tr>\n",
       "      <th>2</th>\n",
       "      <td>@deray I guess that proves it then. Black folk...</td>\n",
       "      <td>true</td>\n",
       "    </tr>\n",
       "    <tr>\n",
       "      <th>3</th>\n",
       "      <td>@the_FF_engineer Does this tweet need a tag?</td>\n",
       "      <td>true</td>\n",
       "    </tr>\n",
       "    <tr>\n",
       "      <th>4</th>\n",
       "      <td>@officialUKMail both. Won't be using you again...</td>\n",
       "      <td>true</td>\n",
       "    </tr>\n",
       "  </tbody>\n",
       "</table>\n",
       "</div>"
      ],
      "text/plain": [
       "                                                text label\n",
       "0  Not sure if that was or realtalk . I'll take i...  true\n",
       "1  Barely 9 am and already shaking with rage.  go...  true\n",
       "2  @deray I guess that proves it then. Black folk...  true\n",
       "3      @the_FF_engineer Does this tweet need a tag?   true\n",
       "4  @officialUKMail both. Won't be using you again...  true"
      ]
     },
     "execution_count": 49,
     "metadata": {},
     "output_type": "execute_result"
    }
   ],
   "source": [
    "df.head()"
   ]
  },
  {
   "cell_type": "code",
   "execution_count": 50,
   "id": "a8e827de-aed0-4d66-b99f-1ad5d588280c",
   "metadata": {},
   "outputs": [],
   "source": [
    "df = pd.read_csv('c_dataset.csv')\n",
    "df['label'] = df['label'].replace({'true': 'sarcastic', 'false': 'not sarcastic'})\n",
    "df.to_csv('c_dataset.csv', index=False)"
   ]
  },
  {
   "cell_type": "code",
   "execution_count": 51,
   "id": "b22cb5de-03a9-4b05-93f5-11e32b2ebf55",
   "metadata": {},
   "outputs": [
    {
     "data": {
      "text/plain": [
       "text     object\n",
       "label    object\n",
       "dtype: object"
      ]
     },
     "execution_count": 51,
     "metadata": {},
     "output_type": "execute_result"
    }
   ],
   "source": [
    "df.dtypes"
   ]
  },
  {
   "cell_type": "code",
   "execution_count": 52,
   "id": "71eefb29-997d-4f05-99b1-bdde8b907dff",
   "metadata": {},
   "outputs": [
    {
     "data": {
      "text/plain": [
       "(816, 2)"
      ]
     },
     "execution_count": 52,
     "metadata": {},
     "output_type": "execute_result"
    }
   ],
   "source": [
    "df.shape\n"
   ]
  },
  {
   "cell_type": "code",
   "execution_count": null,
   "id": "e8500ce7-c432-479f-ba78-774c9a3354dd",
   "metadata": {},
   "outputs": [],
   "source": []
  }
 ],
 "metadata": {
  "kernelspec": {
   "display_name": "Python 3 (ipykernel)",
   "language": "python",
   "name": "python3"
  },
  "language_info": {
   "codemirror_mode": {
    "name": "ipython",
    "version": 3
   },
   "file_extension": ".py",
   "mimetype": "text/x-python",
   "name": "python",
   "nbconvert_exporter": "python",
   "pygments_lexer": "ipython3",
   "version": "3.12.3"
  }
 },
 "nbformat": 4,
 "nbformat_minor": 5
}

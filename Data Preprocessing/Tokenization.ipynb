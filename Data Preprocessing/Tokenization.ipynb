{
 "cells": [
  {
   "cell_type": "code",
   "execution_count": 1,
   "id": "02b887a6-2297-47db-b888-50eec6a84179",
   "metadata": {},
   "outputs": [],
   "source": [
    "import pandas as pd\n",
    "import numpy as np"
   ]
  },
  {
   "cell_type": "code",
   "execution_count": 2,
   "id": "eb6fcff8-25f4-4711-9d40-29e1660fdaec",
   "metadata": {},
   "outputs": [],
   "source": [
    "df = pd.read_csv(\"C:\\\\Users\\\\HP\\\\OneDrive\\\\Desktop\\\\Test_v1.txt\", delimiter='\\t')"
   ]
  },
  {
   "cell_type": "code",
   "execution_count": 3,
   "id": "f50154b2-394c-415d-a869-9d84dcaff69f",
   "metadata": {},
   "outputs": [
    {
     "data": {
      "text/html": [
       "<div>\n",
       "<style scoped>\n",
       "    .dataframe tbody tr th:only-of-type {\n",
       "        vertical-align: middle;\n",
       "    }\n",
       "\n",
       "    .dataframe tbody tr th {\n",
       "        vertical-align: top;\n",
       "    }\n",
       "\n",
       "    .dataframe thead th {\n",
       "        text-align: right;\n",
       "    }\n",
       "</style>\n",
       "<table border=\"1\" class=\"dataframe\">\n",
       "  <thead>\n",
       "    <tr style=\"text-align: right;\">\n",
       "      <th></th>\n",
       "      <th>TrainSen</th>\n",
       "      <th>1</th>\n",
       "      <th>I loovee when people text back ... 😒 #sarcastictweet</th>\n",
       "    </tr>\n",
       "  </thead>\n",
       "  <tbody>\n",
       "    <tr>\n",
       "      <th>0</th>\n",
       "      <td>TrainSen</td>\n",
       "      <td>1</td>\n",
       "      <td>Don't you love it when your parents are Pissed...</td>\n",
       "    </tr>\n",
       "    <tr>\n",
       "      <th>1</th>\n",
       "      <td>TrainSen</td>\n",
       "      <td>1</td>\n",
       "      <td>So many useless classes , great to be student</td>\n",
       "    </tr>\n",
       "    <tr>\n",
       "      <th>2</th>\n",
       "      <td>TrainSen</td>\n",
       "      <td>1</td>\n",
       "      <td>Oh how I love getting home from work at 3am an...</td>\n",
       "    </tr>\n",
       "    <tr>\n",
       "      <th>3</th>\n",
       "      <td>TrainSen</td>\n",
       "      <td>1</td>\n",
       "      <td>I just love having grungy ass hair 😑 #not</td>\n",
       "    </tr>\n",
       "    <tr>\n",
       "      <th>4</th>\n",
       "      <td>TrainSen</td>\n",
       "      <td>1</td>\n",
       "      <td>Thank you , random guy , for sneaking up behin...</td>\n",
       "    </tr>\n",
       "  </tbody>\n",
       "</table>\n",
       "</div>"
      ],
      "text/plain": [
       "   TrainSen  1 I loovee when people text back ... 😒 #sarcastictweet\n",
       "0  TrainSen  1  Don't you love it when your parents are Pissed...  \n",
       "1  TrainSen  1      So many useless classes , great to be student  \n",
       "2  TrainSen  1  Oh how I love getting home from work at 3am an...  \n",
       "3  TrainSen  1          I just love having grungy ass hair 😑 #not  \n",
       "4  TrainSen  1  Thank you , random guy , for sneaking up behin...  "
      ]
     },
     "execution_count": 3,
     "metadata": {},
     "output_type": "execute_result"
    }
   ],
   "source": [
    "df.head()"
   ]
  },
  {
   "cell_type": "code",
   "execution_count": 4,
   "id": "ba0b5881-3d38-4eac-ba6c-2791e13788ff",
   "metadata": {},
   "outputs": [
    {
     "data": {
      "text/plain": [
       "(1974, 3)"
      ]
     },
     "execution_count": 4,
     "metadata": {},
     "output_type": "execute_result"
    }
   ],
   "source": [
    "\n",
    "df.shape"
   ]
  },
  {
   "cell_type": "code",
   "execution_count": 5,
   "id": "b94caa1f-3292-44a2-8d29-243ef76aa33b",
   "metadata": {},
   "outputs": [
    {
     "name": "stdout",
     "output_type": "stream",
     "text": [
      "      Train  Label                                             Tweets\n",
      "0  TrainSen      1  I loovee when people text back ... 😒 #sarcasti...\n",
      "1  TrainSen      1  Don't you love it when your parents are Pissed...\n",
      "2  TrainSen      1      So many useless classes , great to be student\n",
      "3  TrainSen      1  Oh how I love getting home from work at 3am an...\n",
      "4  TrainSen      1          I just love having grungy ass hair 😑 #not\n"
     ]
    }
   ],
   "source": [
    "df = pd.read_csv('C:\\\\Users\\\\HP\\\\OneDrive\\\\Desktop\\\\Test_v1.txt', header=None, delimiter='\\t')\n",
    "\n",
    "# name the columns\n",
    "df.columns = ['Train', 'Label', 'Tweets']\n",
    "\n",
    "print(df.head())\n",
    "\n",
    "# Save the new dataset\n",
    "df.to_csv('Clean_Dataset.csv', index=False)\n"
   ]
  },
  {
   "cell_type": "code",
   "execution_count": 6,
   "id": "7f8229fb-f368-4691-b0a2-a486241dc260",
   "metadata": {},
   "outputs": [
    {
     "data": {
      "text/plain": [
       "(1975, 3)"
      ]
     },
     "execution_count": 6,
     "metadata": {},
     "output_type": "execute_result"
    }
   ],
   "source": [
    "df.shape"
   ]
  },
  {
   "cell_type": "code",
   "execution_count": 7,
   "id": "b0d7fa68-3bb3-4a4a-8952-252d542336ae",
   "metadata": {},
   "outputs": [],
   "source": [
    "\n",
    "df = pd.read_csv('C:\\\\Users\\\\HP\\\\OneDrive\\\\Desktop\\\\Test_v1.txt', header=None, delimiter='\\t')\n",
    "\n",
    "# Check if the dataset has 3 columns\n",
    "if df.shape[1] == 3:\n",
    "    df.columns = ['Train', 'Label', 'Tweets']\n",
    "    \n",
    "    # Drop the 'Train' column\n",
    "    df = df.drop(columns=['Train'])\n",
    "  \n",
    "    df.to_csv('Clean_Dataset.csv', index=False)\n",
    "else:\n",
    "    print(\"Unexpected number of columns in the dataset. Expected 3 columns, but found:\", df.shape[1])\n"
   ]
  },
  {
   "cell_type": "code",
   "execution_count": 8,
   "id": "a7c01e0d-bab9-4121-a8f1-998c30c2779b",
   "metadata": {},
   "outputs": [
    {
     "data": {
      "text/html": [
       "<div>\n",
       "<style scoped>\n",
       "    .dataframe tbody tr th:only-of-type {\n",
       "        vertical-align: middle;\n",
       "    }\n",
       "\n",
       "    .dataframe tbody tr th {\n",
       "        vertical-align: top;\n",
       "    }\n",
       "\n",
       "    .dataframe thead th {\n",
       "        text-align: right;\n",
       "    }\n",
       "</style>\n",
       "<table border=\"1\" class=\"dataframe\">\n",
       "  <thead>\n",
       "    <tr style=\"text-align: right;\">\n",
       "      <th></th>\n",
       "      <th>Label</th>\n",
       "      <th>Tweets</th>\n",
       "    </tr>\n",
       "  </thead>\n",
       "  <tbody>\n",
       "    <tr>\n",
       "      <th>0</th>\n",
       "      <td>1</td>\n",
       "      <td>I loovee when people text back ... 😒 #sarcasti...</td>\n",
       "    </tr>\n",
       "    <tr>\n",
       "      <th>1</th>\n",
       "      <td>1</td>\n",
       "      <td>Don't you love it when your parents are Pissed...</td>\n",
       "    </tr>\n",
       "    <tr>\n",
       "      <th>2</th>\n",
       "      <td>1</td>\n",
       "      <td>So many useless classes , great to be student</td>\n",
       "    </tr>\n",
       "    <tr>\n",
       "      <th>3</th>\n",
       "      <td>1</td>\n",
       "      <td>Oh how I love getting home from work at 3am an...</td>\n",
       "    </tr>\n",
       "    <tr>\n",
       "      <th>4</th>\n",
       "      <td>1</td>\n",
       "      <td>I just love having grungy ass hair 😑 #not</td>\n",
       "    </tr>\n",
       "  </tbody>\n",
       "</table>\n",
       "</div>"
      ],
      "text/plain": [
       "   Label                                             Tweets\n",
       "0      1  I loovee when people text back ... 😒 #sarcasti...\n",
       "1      1  Don't you love it when your parents are Pissed...\n",
       "2      1      So many useless classes , great to be student\n",
       "3      1  Oh how I love getting home from work at 3am an...\n",
       "4      1          I just love having grungy ass hair 😑 #not"
      ]
     },
     "execution_count": 8,
     "metadata": {},
     "output_type": "execute_result"
    }
   ],
   "source": [
    "df.head()"
   ]
  },
  {
   "cell_type": "code",
   "execution_count": 9,
   "id": "f6d3fd8c-fb24-4c77-8e7b-88635d63a1f4",
   "metadata": {},
   "outputs": [
    {
     "data": {
      "text/plain": [
       "(1975, 2)"
      ]
     },
     "execution_count": 9,
     "metadata": {},
     "output_type": "execute_result"
    }
   ],
   "source": [
    "df.shape"
   ]
  },
  {
   "cell_type": "code",
   "execution_count": 10,
   "id": "5834707e-d1df-4824-a84b-49a7cbbacdef",
   "metadata": {},
   "outputs": [
    {
     "name": "stdout",
     "output_type": "stream",
     "text": [
      "   Label                                             Tweets\n",
      "0      1  I loovee when people text back ... unamused_fa...\n",
      "1      1  Don't you love it when your parents are Pissed...\n",
      "2      1      So many useless classes , great to be student\n",
      "3      1  Oh how I love getting home from work at 3am an...\n",
      "4      1  I just love having grungy ass hair expressionl...\n"
     ]
    }
   ],
   "source": [
    "import emoji\n",
    "\n",
    "# Function to replace emojis with their text descriptions\n",
    "def replace_emojis(text):\n",
    "    return emoji.demojize(text, delimiters=(\"\", \"\"))\n",
    "\n",
    "# Load the dataset\n",
    "df = pd.read_csv('Clean_Dataset.csv')\n",
    "\n",
    "# Replace emojis with text descriptions in the 'Tweets' column\n",
    "df['Tweets'] = df['Tweets'].apply(replace_emojis)\n",
    "\n",
    "df.to_csv('Clean_Dataset.csv', index=False)\n",
    "\n",
    "print(df.head())\n"
   ]
  },
  {
   "cell_type": "code",
   "execution_count": 11,
   "id": "3ad2cc5c-1065-42f3-b4d4-7a50eb2d1786",
   "metadata": {},
   "outputs": [],
   "source": [
    "df = pd.read_csv('Clean_Dataset.csv')\n",
    "\n",
    "# Remove '#' with its following text from tweets\n",
    "df['Tweets'] = df['Tweets'].str.replace(r'#\\w+', '', regex=True)\n",
    "\n",
    "df.to_csv('Clean_Dataset.csv', index=False)"
   ]
  },
  {
   "cell_type": "code",
   "execution_count": 12,
   "id": "e048410a-5fdd-4c3f-8e25-8c71db265d63",
   "metadata": {},
   "outputs": [
    {
     "data": {
      "text/html": [
       "<div>\n",
       "<style scoped>\n",
       "    .dataframe tbody tr th:only-of-type {\n",
       "        vertical-align: middle;\n",
       "    }\n",
       "\n",
       "    .dataframe tbody tr th {\n",
       "        vertical-align: top;\n",
       "    }\n",
       "\n",
       "    .dataframe thead th {\n",
       "        text-align: right;\n",
       "    }\n",
       "</style>\n",
       "<table border=\"1\" class=\"dataframe\">\n",
       "  <thead>\n",
       "    <tr style=\"text-align: right;\">\n",
       "      <th></th>\n",
       "      <th>Label</th>\n",
       "      <th>Tweets</th>\n",
       "    </tr>\n",
       "  </thead>\n",
       "  <tbody>\n",
       "    <tr>\n",
       "      <th>0</th>\n",
       "      <td>1</td>\n",
       "      <td>I loovee when people text back ... unamused_face</td>\n",
       "    </tr>\n",
       "    <tr>\n",
       "      <th>1</th>\n",
       "      <td>1</td>\n",
       "      <td>Don't you love it when your parents are Pissed...</td>\n",
       "    </tr>\n",
       "    <tr>\n",
       "      <th>2</th>\n",
       "      <td>1</td>\n",
       "      <td>So many useless classes , great to be student</td>\n",
       "    </tr>\n",
       "    <tr>\n",
       "      <th>3</th>\n",
       "      <td>1</td>\n",
       "      <td>Oh how I love getting home from work at 3am an...</td>\n",
       "    </tr>\n",
       "    <tr>\n",
       "      <th>4</th>\n",
       "      <td>1</td>\n",
       "      <td>I just love having grungy ass hair expressionl...</td>\n",
       "    </tr>\n",
       "  </tbody>\n",
       "</table>\n",
       "</div>"
      ],
      "text/plain": [
       "   Label                                             Tweets\n",
       "0      1  I loovee when people text back ... unamused_face \n",
       "1      1  Don't you love it when your parents are Pissed...\n",
       "2      1      So many useless classes , great to be student\n",
       "3      1  Oh how I love getting home from work at 3am an...\n",
       "4      1  I just love having grungy ass hair expressionl..."
      ]
     },
     "execution_count": 12,
     "metadata": {},
     "output_type": "execute_result"
    }
   ],
   "source": [
    "df.head()"
   ]
  },
  {
   "cell_type": "code",
   "execution_count": 13,
   "id": "3da8c48d-16ca-44cf-b302-889f06399c2a",
   "metadata": {},
   "outputs": [],
   "source": [
    "import pandas as pd\n",
    "\n",
    "# Define a dictionary of abbreviations and their expansions\n",
    "abbreviations = {\n",
    "    'lol': 'laugh out loud',\n",
    "    'brb': 'be right back',\n",
    "    'btw': 'by the way',\n",
    "    'omg': 'oh my god',\n",
    "    'tbh': 'to be honest',\n",
    "    'fyi': 'for your information',\n",
    "    'idk': 'I don\\'t know',\n",
    "    'imo': 'in my opinion',\n",
    "    'imho': 'in my humble opinion',\n",
    "    'np': 'no problem',\n",
    "    'tmi': 'too much information',\n",
    "    'smh': 'shake my head',\n",
    "    'irl': 'in real life',\n",
    "    'afk': 'away from keyboard',\n",
    "    'fomo': 'fear of missing out',\n",
    "    'imo': 'in my opinion',\n",
    "    'irl': 'in real life',\n",
    "    'omw': 'on my way',\n",
    "    'rofl': 'rolling on the floor laughing',\n",
    "    'afaik': 'as far as I know',\n",
    "    'gg': 'good game',\n",
    "    'ggwp': 'good game, well played',\n",
    "    'icymi': 'in case you missed it',\n",
    "    'nvm': 'never mind',\n",
    "    'ttyl': 'talk to you later',\n",
    "    'ftw': 'for the win',\n",
    "    'smh': 'shaking my head',\n",
    "}\n",
    "\n",
    "# Function to replace abbreviations with their expansions\n",
    "def replace_abbreviations(text):\n",
    "    for word in text.split():\n",
    "        if word.lower() in abbreviations:\n",
    "            text = text.replace(word, abbreviations[word.lower()])\n",
    "    return text\n",
    "\n",
    "df = pd.read_csv('Clean_Dataset.csv')\n",
    "df['Tweets'] = df['Tweets'].apply(replace_abbreviations)\n",
    "df.to_csv('Clean_Dataset.csv', index=False)\n"
   ]
  },
  {
   "cell_type": "code",
   "execution_count": 14,
   "id": "a96798e8-aca8-4f4b-ad40-bf7e95b46830",
   "metadata": {},
   "outputs": [
    {
     "name": "stdout",
     "output_type": "stream",
     "text": [
      "Tweets\n",
      "I loovee when people text back ... unamused_face                                                                       1\n",
      "MilesLong they don't listen ... seriously                                                                              1\n",
      "Been in the UK so I'm just catching up with Saturated - can't wait to hear God speak through your sermon !             1\n",
      "my ex is gonna start watching fairy tail im so happy i'll be able to speak to him about it                             1\n",
      "This lab class boring af                                                                                               1\n",
      "                                                                                                                      ..\n",
      "I lost AJ Green and Jamaal Charles from the same  team on Sunday , Maybe my tight end puts up 40 points                1\n",
      "Good thing I have a doctors appointment in the morning . Good thing it's passed 3 am .                                 1\n",
      "Good thing I'm learning about ohms law and electric fields because I'm gonna use that everyday in the health field     1\n",
      "I'm glad the shorthand \" perc \" ( for percussion ) autocorrects to \" perv \" in my phone . Every . Single . Time .      1\n",
      "I'm So Erked Nobody Better Not Speak To Me                                                                             1\n",
      "Name: count, Length: 1975, dtype: int64\n",
      "******************************\n"
     ]
    }
   ],
   "source": [
    "#Garbage value\n",
    "for i in df.select_dtypes(include = \"object\").columns:\n",
    "    print(df[i].value_counts())\n",
    "    print(\"***\"*10)"
   ]
  },
  {
   "cell_type": "code",
   "execution_count": 15,
   "id": "fe64f219-b126-44a9-aa15-611d4ea34ddf",
   "metadata": {},
   "outputs": [
    {
     "data": {
      "text/plain": [
       "0"
      ]
     },
     "execution_count": 15,
     "metadata": {},
     "output_type": "execute_result"
    }
   ],
   "source": [
    "#To find duplicates\n",
    "df.duplicated().sum()"
   ]
  },
  {
   "cell_type": "code",
   "execution_count": 16,
   "id": "513fcabe-9c86-4da6-8c16-4301d8a4d80f",
   "metadata": {},
   "outputs": [
    {
     "data": {
      "text/plain": [
       "Label     0\n",
       "Tweets    0\n",
       "dtype: int64"
      ]
     },
     "execution_count": 16,
     "metadata": {},
     "output_type": "execute_result"
    }
   ],
   "source": [
    "df.isnull().sum()"
   ]
  },
  {
   "cell_type": "code",
   "execution_count": 17,
   "id": "610019f5-22d7-4824-8a4a-e825fbcfc912",
   "metadata": {},
   "outputs": [],
   "source": [
    "df = pd.read_csv('Clean_Dataset.csv')\n",
    "df['Tweets'] = df['Tweets'].str.replace('#', '')\n",
    "df['Tweets'] = df['Tweets'].str.replace('\"', '')\n",
    "df['Tweets'] = df['Tweets'].str.replace(':', '')\n",
    "df['Tweets'] = df['Tweets'].str.replace(':', '')\n",
    "df['Tweets'] = df['Tweets'].str.replace('?', '')\n",
    "df['Tweets'] = df['Tweets'].str.replace('*', '')\n",
    "df['Tweets'] = df['Tweets'].str.replace('<', '')\n",
    "df['Tweets'] = df['Tweets'].str.replace('...', '')\n",
    "df['Tweets'] = df['Tweets'].str.replace('/', '')\n",
    "df['Tweets'] = df['Tweets'].str.replace('@', '')\n",
    "df['Tweets'] = df['Tweets'].str.replace('~', '')\n",
    "df['Tweets'] = df['Tweets'].str.replace('!', '')\n",
    "df['Tweets'] = df['Tweets'].str.replace('>', '')\n",
    "df['Tweets'] = df['Tweets'].str.replace('-', '')\n",
    "df['Tweets'] = df['Tweets'].str.replace(')', '')\n",
    "df['Tweets'] = df['Tweets'].str.replace('(', '')\n",
    "df['Tweets'] = df['Tweets'].str.replace('3', '')\n",
    "df.to_csv('Clean_Dataset.csv', index=False)"
   ]
  },
  {
   "cell_type": "code",
   "execution_count": 18,
   "id": "f4f00820-e24e-411d-b890-71c8c7b63d10",
   "metadata": {},
   "outputs": [
    {
     "data": {
      "text/plain": [
       "Label      int64\n",
       "Tweets    object\n",
       "dtype: object"
      ]
     },
     "execution_count": 18,
     "metadata": {},
     "output_type": "execute_result"
    }
   ],
   "source": [
    "df.dtypes"
   ]
  },
  {
   "cell_type": "code",
   "execution_count": 19,
   "id": "49fe1d47-6ee6-4b25-abba-8aa293a4fa6e",
   "metadata": {},
   "outputs": [
    {
     "name": "stdout",
     "output_type": "stream",
     "text": [
      "<class 'pandas.core.frame.DataFrame'>\n",
      "RangeIndex: 1975 entries, 0 to 1974\n",
      "Data columns (total 2 columns):\n",
      " #   Column  Non-Null Count  Dtype \n",
      "---  ------  --------------  ----- \n",
      " 0   Label   1975 non-null   int64 \n",
      " 1   Tweets  1975 non-null   object\n",
      "dtypes: int64(1), object(1)\n",
      "memory usage: 31.0+ KB\n"
     ]
    }
   ],
   "source": [
    "df.info()"
   ]
  },
  {
   "cell_type": "code",
   "execution_count": 20,
   "id": "88f67857-0ab5-46ac-b099-338bbfe9c157",
   "metadata": {},
   "outputs": [],
   "source": [
    "import pandas as pd\n",
    "\n",
    "# Load the dataset\n",
    "df = pd.read_csv('Clean_Dataset.csv')\n",
    "\n",
    "# Replace 1 with 'sarcastic' and 0 with 'not sarcastic' in the 'Label' column\n",
    "df['Label'] = df['Label'].replace({1: 'sarcastic', 0: 'not sarcastic'})\n",
    "\n",
    "# Save the updated DataFrame back to the CSV file\n",
    "df.to_csv('Clean_Dataset.csv', index=False)\n"
   ]
  },
  {
   "cell_type": "code",
   "execution_count": 21,
   "id": "6d86344b-b3f6-415b-bad0-efb474f2b6f7",
   "metadata": {},
   "outputs": [
    {
     "data": {
      "text/plain": [
       "Label     object\n",
       "Tweets    object\n",
       "dtype: object"
      ]
     },
     "execution_count": 21,
     "metadata": {},
     "output_type": "execute_result"
    }
   ],
   "source": [
    "df.dtypes"
   ]
  },
  {
   "cell_type": "code",
   "execution_count": 22,
   "id": "26246c5d-5be8-4885-ae30-144250e37d93",
   "metadata": {},
   "outputs": [],
   "source": [
    "# Load the dataset\n",
    "df = pd.read_csv('Clean_Dataset.csv')\n",
    "\n",
    "# Remove URLs from the 'Tweets' column\n",
    "df['Tweets'] = df['Tweets'].str.replace(r'https?://\\S+|www\\.\\S+', '', regex=True)\n",
    "\n",
    "df.to_csv('C:\\\\Users\\\\HP\\\\OneDrive\\\\Desktop\\\\Clean_Dataset.csv', index=False)\n"
   ]
  },
  {
   "cell_type": "code",
   "execution_count": 23,
   "id": "92830f84-a381-4655-9bde-913ab37d26ac",
   "metadata": {},
   "outputs": [
    {
     "data": {
      "text/html": [
       "<div>\n",
       "<style scoped>\n",
       "    .dataframe tbody tr th:only-of-type {\n",
       "        vertical-align: middle;\n",
       "    }\n",
       "\n",
       "    .dataframe tbody tr th {\n",
       "        vertical-align: top;\n",
       "    }\n",
       "\n",
       "    .dataframe thead th {\n",
       "        text-align: right;\n",
       "    }\n",
       "</style>\n",
       "<table border=\"1\" class=\"dataframe\">\n",
       "  <thead>\n",
       "    <tr style=\"text-align: right;\">\n",
       "      <th></th>\n",
       "      <th>Label</th>\n",
       "      <th>Tweets</th>\n",
       "    </tr>\n",
       "  </thead>\n",
       "  <tbody>\n",
       "    <tr>\n",
       "      <th>0</th>\n",
       "      <td>sarcastic</td>\n",
       "      <td>I loovee when people text back  unamused_face</td>\n",
       "    </tr>\n",
       "    <tr>\n",
       "      <th>1</th>\n",
       "      <td>sarcastic</td>\n",
       "      <td>Don't you love it when your parents are Pissed...</td>\n",
       "    </tr>\n",
       "    <tr>\n",
       "      <th>2</th>\n",
       "      <td>sarcastic</td>\n",
       "      <td>So many useless classes , great to be student</td>\n",
       "    </tr>\n",
       "    <tr>\n",
       "      <th>3</th>\n",
       "      <td>sarcastic</td>\n",
       "      <td>Oh how I love getting home from work at am and...</td>\n",
       "    </tr>\n",
       "    <tr>\n",
       "      <th>4</th>\n",
       "      <td>sarcastic</td>\n",
       "      <td>I just love having grungy ass hair expressionl...</td>\n",
       "    </tr>\n",
       "  </tbody>\n",
       "</table>\n",
       "</div>"
      ],
      "text/plain": [
       "       Label                                             Tweets\n",
       "0  sarcastic     I loovee when people text back  unamused_face \n",
       "1  sarcastic  Don't you love it when your parents are Pissed...\n",
       "2  sarcastic      So many useless classes , great to be student\n",
       "3  sarcastic  Oh how I love getting home from work at am and...\n",
       "4  sarcastic  I just love having grungy ass hair expressionl..."
      ]
     },
     "execution_count": 23,
     "metadata": {},
     "output_type": "execute_result"
    }
   ],
   "source": [
    "df.head()"
   ]
  },
  {
   "cell_type": "code",
   "execution_count": 24,
   "id": "bee1a4bb-04f1-41cd-aae8-2e0a8b6ad0cc",
   "metadata": {},
   "outputs": [
    {
     "data": {
      "text/plain": [
       "(1975, 2)"
      ]
     },
     "execution_count": 24,
     "metadata": {},
     "output_type": "execute_result"
    }
   ],
   "source": [
    "df.shape"
   ]
  },
  {
   "cell_type": "code",
   "execution_count": 26,
   "id": "df8fcbb9-c4a0-4cd2-976c-eea06e0515cb",
   "metadata": {},
   "outputs": [
    {
     "name": "stdout",
     "output_type": "stream",
     "text": [
      "        Label                                             Tweets  \\\n",
      "0   sarcastic     I loovee when people text back  unamused_face    \n",
      "1   sarcastic  Don't you love it when your parents are Pissed...   \n",
      "2   sarcastic      So many useless classes , great to be student   \n",
      "3   sarcastic  Oh how I love getting home from work at am and...   \n",
      "4   sarcastic  I just love having grungy ass hair expressionl...   \n",
      "5   sarcastic  Thank you , random guy , for sneaking up behin...   \n",
      "6   sarcastic  Being half spanish and not being able to speak...   \n",
      "7   sarcastic  I know no one will remember it broken_heart   ...   \n",
      "8   sarcastic  Anyone in Chem that has to do OWLs knows my pa...   \n",
      "9   sarcastic                          Holy crap I look great      \n",
      "10  sarcastic      I love doing 20 sprints in 10 degree weather    \n",
      "11  sarcastic  feeling like a million bucks after that chem 2...   \n",
      "12  sarcastic  I love working in Sydney river It makes me wan...   \n",
      "13  sarcastic  I love hearing things about me that I didn't k...   \n",
      "14  sarcastic  I'm gonna let it slide today , but next time t...   \n",
      "\n",
      "                                               tokens  \n",
      "0   [I, loovee, when, people, text, back, unamused...  \n",
      "1   [Don't, you, love, it, when, your, parents, ar...  \n",
      "2   [So, many, useless, classes, ,, great, to, be,...  \n",
      "3   [Oh, how, I, love, getting, home, from, work, ...  \n",
      "4   [I, just, love, having, grungy, ass, hair, exp...  \n",
      "5   [Thank, you, ,, random, guy, ,, for, sneaking,...  \n",
      "6   [Being, half, spanish, and, not, being, able, ...  \n",
      "7   [I, know, no, one, will, remember, it, broken_...  \n",
      "8   [Anyone, in, Chem, that, has, to, do, OWLs, kn...  \n",
      "9                        [Holy, crap, I, look, great]  \n",
      "10  [I, love, doing, 20, sprints, in, 10, degree, ...  \n",
      "11  [feeling, like, a, million, bucks, after, that...  \n",
      "12  [I, love, working, in, Sydney, river, It, make...  \n",
      "13  [I, love, hearing, things, about, me, that, I,...  \n",
      "14  [I'm, gonna, let, it, slide, today, ,, but, ne...  \n"
     ]
    }
   ],
   "source": [
    "import nltk\n",
    "from nltk.tokenize import TweetTokenizer\n",
    "\n",
    "# Initialize the TweetTokenizer\n",
    "tokenizer = TweetTokenizer()\n",
    "\n",
    "# Function to tokenize text using TweetTokenizer\n",
    "def tokenize_text(Tweets):\n",
    "    return tokenizer.tokenize(Tweets)\n",
    "\n",
    "df = pd.read_csv('Clean_Dataset.csv')\n",
    "df['tokens'] = df['Tweets'].apply(tokenize_text)\n",
    "\n",
    "print(df.head(15))\n",
    "df.to_csv('tokenized_dataset.csv', index=False)\n"
   ]
  },
  {
   "cell_type": "code",
   "execution_count": null,
   "id": "34646cdf-393e-4c6c-b80f-7f9286b35219",
   "metadata": {},
   "outputs": [],
   "source": [
    "import pandas as pd\n",
    "import torch\n",
    "from transformers import BertTokenizer, BertModel\n",
    "\n",
    "# Load your dataset\n",
    "df = pd.read_csv('Clean_Dataset.csv')\n",
    "\n",
    "# Initialize the BERT tokenizer and model\n",
    "tokenizer = BertTokenizer.from_pretrained('bert-base-uncased')\n",
    "model = BertModel.from_pretrained('bert-base-uncased')\n",
    "\n",
    "# Function to get BERT embeddings for a given text\n",
    "def get_bert_embedding(text):\n",
    "    inputs = tokenizer(text, return_tensors='pt', truncation=True, padding=True, max_length=512)\n",
    "    with torch.no_grad():\n",
    "        outputs = model(**inputs)\n",
    "    return outputs.last_hidden_state.mean(dim=1).squeeze().numpy()\n",
    "\n",
    "# Apply the embedding function to the 'Tweets' column\n",
    "df['embedding'] = df['Tweets'].apply(get_bert_embedding)\n",
    "\n",
    "# Display the first few rows to verify the embeddings\n",
    "print(df.head())\n",
    "\n",
    "# Save the dataset with embeddings\n",
    "df.to_csv('embedded_dataset.csv', index=False)\n",
    "\n",
    "print(\"Embedding complete. The dataset with embeddings is saved as 'embedded_dataset.csv'.\")\n"
   ]
  },
  {
   "cell_type": "code",
   "execution_count": null,
   "id": "09e72243-82fd-4d58-a6de-35f4642d83f9",
   "metadata": {},
   "outputs": [],
   "source": []
  },
  {
   "cell_type": "code",
   "execution_count": null,
   "id": "dd15ffd5-4e0c-484e-a1ea-10bfb09350f4",
   "metadata": {},
   "outputs": [],
   "source": []
  }
 ],
 "metadata": {
  "kernelspec": {
   "display_name": "Python 3 (ipykernel)",
   "language": "python",
   "name": "python3"
  },
  "language_info": {
   "codemirror_mode": {
    "name": "ipython",
    "version": 3
   },
   "file_extension": ".py",
   "mimetype": "text/x-python",
   "name": "python",
   "nbconvert_exporter": "python",
   "pygments_lexer": "ipython3",
   "version": "3.12.3"
  }
 },
 "nbformat": 4,
 "nbformat_minor": 5
}

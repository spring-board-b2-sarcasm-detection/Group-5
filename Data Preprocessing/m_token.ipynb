{
 "cells": [
  {
   "cell_type": "code",
   "execution_count": 7,
   "id": "4006a150-87b0-414b-8866-174ef29007f1",
   "metadata": {},
   "outputs": [
    {
     "name": "stdout",
     "output_type": "stream",
     "text": [
      "                                               Tweet Sarcasm  \\\n",
      "0  Fantastic service yet again from EE. 1st you u...     yes   \n",
      "1  Not sure if that was or. I will take it! face_...     yes   \n",
      "2         Barely 9 am and already shaking with rage.     yes   \n",
      "3  I guess that proves it then. Black folks have ...     yes   \n",
      "4                         Does this tweet need a tag     yes   \n",
      "\n",
      "                                              tokens  \n",
      "0  [Fantastic, service, yet, again, from, EE, ., ...  \n",
      "1  [Not, sure, if, that, was, or, ., I, will, tak...  \n",
      "2  [Barely, 9, am, and, already, shaking, with, r...  \n",
      "3  [I, guess, that, proves, it, then, ., Black, f...  \n",
      "4                  [Does, this, tweet, need, a, tag]  \n"
     ]
    }
   ],
   "source": [
    "import nltk\n",
    "from nltk.tokenize import TweetTokenizer\n",
    "\n",
    "\n",
    "tokenizer = TweetTokenizer()\n",
    "\n",
    "# Function to tokenize text using TweetTokenizer\n",
    "def tokenize_text(Tweets):\n",
    "    return tokenizer.tokenize(Tweets)\n",
    "\n",
    "df = pd.read_csv('merged_file.csv')\n",
    "df['tokens'] = df['Tweet'].apply(tokenize_text)\n",
    "\n",
    "print(df.head())\n",
    "df.to_csv('token_dataset.csv', index=False)"
   ]
  },
  {
   "cell_type": "code",
   "execution_count": 8,
   "id": "65eff80f-c7fd-4b81-adaa-775989ebb25f",
   "metadata": {},
   "outputs": [
    {
     "data": {
      "text/html": [
       "<div>\n",
       "<style scoped>\n",
       "    .dataframe tbody tr th:only-of-type {\n",
       "        vertical-align: middle;\n",
       "    }\n",
       "\n",
       "    .dataframe tbody tr th {\n",
       "        vertical-align: top;\n",
       "    }\n",
       "\n",
       "    .dataframe thead th {\n",
       "        text-align: right;\n",
       "    }\n",
       "</style>\n",
       "<table border=\"1\" class=\"dataframe\">\n",
       "  <thead>\n",
       "    <tr style=\"text-align: right;\">\n",
       "      <th></th>\n",
       "      <th>Tweet</th>\n",
       "      <th>Sarcasm</th>\n",
       "      <th>tokens</th>\n",
       "    </tr>\n",
       "  </thead>\n",
       "  <tbody>\n",
       "    <tr>\n",
       "      <th>0</th>\n",
       "      <td>Fantastic service yet again from EE. 1st you u...</td>\n",
       "      <td>yes</td>\n",
       "      <td>[Fantastic, service, yet, again, from, EE, ., ...</td>\n",
       "    </tr>\n",
       "    <tr>\n",
       "      <th>1</th>\n",
       "      <td>Not sure if that was or. I will take it! face_...</td>\n",
       "      <td>yes</td>\n",
       "      <td>[Not, sure, if, that, was, or, ., I, will, tak...</td>\n",
       "    </tr>\n",
       "    <tr>\n",
       "      <th>2</th>\n",
       "      <td>Barely 9 am and already shaking with rage.</td>\n",
       "      <td>yes</td>\n",
       "      <td>[Barely, 9, am, and, already, shaking, with, r...</td>\n",
       "    </tr>\n",
       "    <tr>\n",
       "      <th>3</th>\n",
       "      <td>I guess that proves it then. Black folks have ...</td>\n",
       "      <td>yes</td>\n",
       "      <td>[I, guess, that, proves, it, then, ., Black, f...</td>\n",
       "    </tr>\n",
       "    <tr>\n",
       "      <th>4</th>\n",
       "      <td>Does this tweet need a tag</td>\n",
       "      <td>yes</td>\n",
       "      <td>[Does, this, tweet, need, a, tag]</td>\n",
       "    </tr>\n",
       "  </tbody>\n",
       "</table>\n",
       "</div>"
      ],
      "text/plain": [
       "                                               Tweet Sarcasm  \\\n",
       "0  Fantastic service yet again from EE. 1st you u...     yes   \n",
       "1  Not sure if that was or. I will take it! face_...     yes   \n",
       "2         Barely 9 am and already shaking with rage.     yes   \n",
       "3  I guess that proves it then. Black folks have ...     yes   \n",
       "4                         Does this tweet need a tag     yes   \n",
       "\n",
       "                                              tokens  \n",
       "0  [Fantastic, service, yet, again, from, EE, ., ...  \n",
       "1  [Not, sure, if, that, was, or, ., I, will, tak...  \n",
       "2  [Barely, 9, am, and, already, shaking, with, r...  \n",
       "3  [I, guess, that, proves, it, then, ., Black, f...  \n",
       "4                  [Does, this, tweet, need, a, tag]  "
      ]
     },
     "execution_count": 8,
     "metadata": {},
     "output_type": "execute_result"
    }
   ],
   "source": [
    "df.head()"
   ]
  },
  {
   "cell_type": "code",
   "execution_count": 9,
   "id": "950b777e-edaa-4591-b72a-85678338e840",
   "metadata": {},
   "outputs": [
    {
     "data": {
      "text/html": [
       "<div>\n",
       "<style scoped>\n",
       "    .dataframe tbody tr th:only-of-type {\n",
       "        vertical-align: middle;\n",
       "    }\n",
       "\n",
       "    .dataframe tbody tr th {\n",
       "        vertical-align: top;\n",
       "    }\n",
       "\n",
       "    .dataframe thead th {\n",
       "        text-align: right;\n",
       "    }\n",
       "</style>\n",
       "<table border=\"1\" class=\"dataframe\">\n",
       "  <thead>\n",
       "    <tr style=\"text-align: right;\">\n",
       "      <th></th>\n",
       "      <th>Tweet</th>\n",
       "      <th>Sarcasm</th>\n",
       "      <th>tokens</th>\n",
       "    </tr>\n",
       "  </thead>\n",
       "  <tbody>\n",
       "    <tr>\n",
       "      <th>2976</th>\n",
       "      <td>Sometimes truth is glaring you in the face  bl...</td>\n",
       "      <td>no</td>\n",
       "      <td>[Sometimes, truth, is, glaring, you, in, the, ...</td>\n",
       "    </tr>\n",
       "    <tr>\n",
       "      <th>2977</th>\n",
       "      <td>I just love not hanging out with my boyfriend .</td>\n",
       "      <td>no</td>\n",
       "      <td>[I, just, love, not, hanging, out, with, my, b...</td>\n",
       "    </tr>\n",
       "    <tr>\n",
       "      <th>2978</th>\n",
       "      <td>There is this 1 quince picture I have that I'm...</td>\n",
       "      <td>no</td>\n",
       "      <td>[There, is, this, 1, quince, picture, I, have,...</td>\n",
       "    </tr>\n",
       "    <tr>\n",
       "      <th>2979</th>\n",
       "      <td>I feel so ill at the moment that I cant speak ...</td>\n",
       "      <td>no</td>\n",
       "      <td>[I, feel, so, ill, at, the, moment, that, I, c...</td>\n",
       "    </tr>\n",
       "    <tr>\n",
       "      <th>2980</th>\n",
       "      <td>I'm So Erked Nobody Better Not Speak To Me</td>\n",
       "      <td>no</td>\n",
       "      <td>[I'm, So, Erked, Nobody, Better, Not, Speak, T...</td>\n",
       "    </tr>\n",
       "  </tbody>\n",
       "</table>\n",
       "</div>"
      ],
      "text/plain": [
       "                                                  Tweet Sarcasm  \\\n",
       "2976  Sometimes truth is glaring you in the face  bl...      no   \n",
       "2977    I just love not hanging out with my boyfriend .      no   \n",
       "2978  There is this 1 quince picture I have that I'm...      no   \n",
       "2979  I feel so ill at the moment that I cant speak ...      no   \n",
       "2980         I'm So Erked Nobody Better Not Speak To Me      no   \n",
       "\n",
       "                                                 tokens  \n",
       "2976  [Sometimes, truth, is, glaring, you, in, the, ...  \n",
       "2977  [I, just, love, not, hanging, out, with, my, b...  \n",
       "2978  [There, is, this, 1, quince, picture, I, have,...  \n",
       "2979  [I, feel, so, ill, at, the, moment, that, I, c...  \n",
       "2980  [I'm, So, Erked, Nobody, Better, Not, Speak, T...  "
      ]
     },
     "execution_count": 9,
     "metadata": {},
     "output_type": "execute_result"
    }
   ],
   "source": [
    "df.tail()"
   ]
  },
  {
   "cell_type": "code",
   "execution_count": 10,
   "id": "4be42424-1af2-47a1-a8c7-90ab1a220cf3",
   "metadata": {},
   "outputs": [
    {
     "data": {
      "text/plain": [
       "(2981, 3)"
      ]
     },
     "execution_count": 10,
     "metadata": {},
     "output_type": "execute_result"
    }
   ],
   "source": [
    "df.shape"
   ]
  }
 ],
 "metadata": {
  "kernelspec": {
   "display_name": "Python 3 (ipykernel)",
   "language": "python",
   "name": "python3"
  },
  "language_info": {
   "codemirror_mode": {
    "name": "ipython",
    "version": 3
   },
   "file_extension": ".py",
   "mimetype": "text/x-python",
   "name": "python",
   "nbconvert_exporter": "python",
   "pygments_lexer": "ipython3",
   "version": "3.11.7"
  }
 },
 "nbformat": 4,
 "nbformat_minor": 5
}

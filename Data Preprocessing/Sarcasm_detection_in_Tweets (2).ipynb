{
 "cells": [
  {
   "cell_type": "markdown",
   "id": "d6592210-daac-4bc4-9702-09fd87bf8083",
   "metadata": {},
   "source": [
    "# Sarcasm Detection in Twitter Comments"
   ]
  },
  {
   "cell_type": "markdown",
   "id": "91713c6c-1128-4c45-8775-de45e2ebe7cb",
   "metadata": {},
   "source": [
    "Sarcasm means words to insult, show aggression or make things funny. It’s a way to express feelings in a cleaver or humorous way.  \n",
    "Sarcasm Detection is used in Twitter. As a tweets people share their thoughts, feelings etc to each other and sometime this tweet can be sarcastic.\n"
   ]
  },
  {
   "cell_type": "code",
   "execution_count": 42,
   "id": "352701c3-cdff-4d92-852a-31a89cce74e1",
   "metadata": {},
   "outputs": [],
   "source": [
    "import pandas as pd\n",
    "import numpy as np"
   ]
  },
  {
   "cell_type": "markdown",
   "id": "415ee197-6e2e-43df-acc4-53f74454417e",
   "metadata": {},
   "source": [
    "### Loading Text File into Pandas DataFrame"
   ]
  },
  {
   "cell_type": "code",
   "execution_count": 43,
   "id": "eb6fcff8-25f4-4711-9d40-29e1660fdaec",
   "metadata": {},
   "outputs": [],
   "source": [
    "df = pd.read_csv(\"C:\\\\Users\\\\HP\\\\OneDrive\\\\Desktop\\\\Test_v1.txt\", delimiter='\\t')"
   ]
  },
  {
   "cell_type": "markdown",
   "id": "19895913-c002-4c96-90ce-1aa361afd622",
   "metadata": {},
   "source": [
    "### Displaying First 5 Rows of DataFrame 'df'"
   ]
  },
  {
   "cell_type": "code",
   "execution_count": 44,
   "id": "f50154b2-394c-415d-a869-9d84dcaff69f",
   "metadata": {},
   "outputs": [
    {
     "data": {
      "text/html": [
       "<div>\n",
       "<style scoped>\n",
       "    .dataframe tbody tr th:only-of-type {\n",
       "        vertical-align: middle;\n",
       "    }\n",
       "\n",
       "    .dataframe tbody tr th {\n",
       "        vertical-align: top;\n",
       "    }\n",
       "\n",
       "    .dataframe thead th {\n",
       "        text-align: right;\n",
       "    }\n",
       "</style>\n",
       "<table border=\"1\" class=\"dataframe\">\n",
       "  <thead>\n",
       "    <tr style=\"text-align: right;\">\n",
       "      <th></th>\n",
       "      <th>TrainSen</th>\n",
       "      <th>1</th>\n",
       "      <th>I loovee when people text back ... 😒 #sarcastictweet</th>\n",
       "    </tr>\n",
       "  </thead>\n",
       "  <tbody>\n",
       "    <tr>\n",
       "      <th>0</th>\n",
       "      <td>TrainSen</td>\n",
       "      <td>1</td>\n",
       "      <td>Don't you love it when your parents are Pissed...</td>\n",
       "    </tr>\n",
       "    <tr>\n",
       "      <th>1</th>\n",
       "      <td>TrainSen</td>\n",
       "      <td>1</td>\n",
       "      <td>So many useless classes , great to be student</td>\n",
       "    </tr>\n",
       "    <tr>\n",
       "      <th>2</th>\n",
       "      <td>TrainSen</td>\n",
       "      <td>1</td>\n",
       "      <td>Oh how I love getting home from work at 3am an...</td>\n",
       "    </tr>\n",
       "    <tr>\n",
       "      <th>3</th>\n",
       "      <td>TrainSen</td>\n",
       "      <td>1</td>\n",
       "      <td>I just love having grungy ass hair 😑 #not</td>\n",
       "    </tr>\n",
       "    <tr>\n",
       "      <th>4</th>\n",
       "      <td>TrainSen</td>\n",
       "      <td>1</td>\n",
       "      <td>Thank you , random guy , for sneaking up behin...</td>\n",
       "    </tr>\n",
       "  </tbody>\n",
       "</table>\n",
       "</div>"
      ],
      "text/plain": [
       "   TrainSen  1 I loovee when people text back ... 😒 #sarcastictweet\n",
       "0  TrainSen  1  Don't you love it when your parents are Pissed...  \n",
       "1  TrainSen  1      So many useless classes , great to be student  \n",
       "2  TrainSen  1  Oh how I love getting home from work at 3am an...  \n",
       "3  TrainSen  1          I just love having grungy ass hair 😑 #not  \n",
       "4  TrainSen  1  Thank you , random guy , for sneaking up behin...  "
      ]
     },
     "execution_count": 44,
     "metadata": {},
     "output_type": "execute_result"
    }
   ],
   "source": [
    "df.head()"
   ]
  },
  {
   "cell_type": "markdown",
   "id": "f233acce-d69a-40a5-a211-9dbb89ab5378",
   "metadata": {},
   "source": [
    "### Shape refers to the dimensions or structure of the DataFrame. Specifically, it typically includes two numbers: the number of rows and columns in the DataFrame."
   ]
  },
  {
   "cell_type": "code",
   "execution_count": 45,
   "id": "ba0b5881-3d38-4eac-ba6c-2791e13788ff",
   "metadata": {},
   "outputs": [
    {
     "data": {
      "text/plain": [
       "(1974, 3)"
      ]
     },
     "execution_count": 45,
     "metadata": {},
     "output_type": "execute_result"
    }
   ],
   "source": [
    "\n",
    "df.shape"
   ]
  },
  {
   "cell_type": "markdown",
   "id": "8c606219-adb0-4232-913d-1d112900bb10",
   "metadata": {},
   "source": [
    "## Reading, Renaming Columns, and Saving DataFrame to CSV"
   ]
  },
  {
   "cell_type": "code",
   "execution_count": 46,
   "id": "b94caa1f-3292-44a2-8d29-243ef76aa33b",
   "metadata": {},
   "outputs": [
    {
     "name": "stdout",
     "output_type": "stream",
     "text": [
      "      Train  Label                                             Tweets\n",
      "0  TrainSen      1  I loovee when people text back ... 😒 #sarcasti...\n",
      "1  TrainSen      1  Don't you love it when your parents are Pissed...\n",
      "2  TrainSen      1      So many useless classes , great to be student\n",
      "3  TrainSen      1  Oh how I love getting home from work at 3am an...\n",
      "4  TrainSen      1          I just love having grungy ass hair 😑 #not\n"
     ]
    }
   ],
   "source": [
    "df = pd.read_csv('C:\\\\Users\\\\HP\\\\OneDrive\\\\Desktop\\\\Test_v1.txt', header=None, delimiter='\\t')\n",
    "\n",
    "# name the columns\n",
    "df.columns = ['Train', 'Label', 'Tweets']\n",
    "\n",
    "print(df.head())\n",
    "\n",
    "df.to_csv('Clean_Dataset.csv', index=False)\n"
   ]
  },
  {
   "cell_type": "code",
   "execution_count": 47,
   "id": "7f8229fb-f368-4691-b0a2-a486241dc260",
   "metadata": {},
   "outputs": [
    {
     "data": {
      "text/plain": [
       "(1975, 3)"
      ]
     },
     "execution_count": 47,
     "metadata": {},
     "output_type": "execute_result"
    }
   ],
   "source": [
    "df.shape"
   ]
  },
  {
   "cell_type": "markdown",
   "id": "cbc55218-8ecf-4bce-aa89-fe179b1a11f6",
   "metadata": {},
   "source": [
    "## Drop the 'Train' column"
   ]
  },
  {
   "cell_type": "code",
   "execution_count": 48,
   "id": "b0d7fa68-3bb3-4a4a-8952-252d542336ae",
   "metadata": {},
   "outputs": [],
   "source": [
    "\n",
    "df = pd.read_csv('C:\\\\Users\\\\HP\\\\OneDrive\\\\Desktop\\\\Test_v1.txt', header=None, delimiter='\\t')\n",
    "\n",
    "if df.shape[1] == 3:\n",
    "    df.columns = ['Train', 'Label', 'Tweets']\n",
    "    \n",
    "    # Drop the 'Train' column\n",
    "    df = df.drop(columns=['Train'])\n",
    "  \n",
    "    df.to_csv('Clean_Dataset.csv', index=False)\n",
    "else:\n",
    "    print(\"Unexpected number of columns in the dataset. Expected 3 columns, but found:\", df.shape[1])\n"
   ]
  },
  {
   "cell_type": "code",
   "execution_count": 49,
   "id": "a7c01e0d-bab9-4121-a8f1-998c30c2779b",
   "metadata": {},
   "outputs": [
    {
     "data": {
      "text/html": [
       "<div>\n",
       "<style scoped>\n",
       "    .dataframe tbody tr th:only-of-type {\n",
       "        vertical-align: middle;\n",
       "    }\n",
       "\n",
       "    .dataframe tbody tr th {\n",
       "        vertical-align: top;\n",
       "    }\n",
       "\n",
       "    .dataframe thead th {\n",
       "        text-align: right;\n",
       "    }\n",
       "</style>\n",
       "<table border=\"1\" class=\"dataframe\">\n",
       "  <thead>\n",
       "    <tr style=\"text-align: right;\">\n",
       "      <th></th>\n",
       "      <th>Label</th>\n",
       "      <th>Tweets</th>\n",
       "    </tr>\n",
       "  </thead>\n",
       "  <tbody>\n",
       "    <tr>\n",
       "      <th>0</th>\n",
       "      <td>1</td>\n",
       "      <td>I loovee when people text back ... 😒 #sarcasti...</td>\n",
       "    </tr>\n",
       "    <tr>\n",
       "      <th>1</th>\n",
       "      <td>1</td>\n",
       "      <td>Don't you love it when your parents are Pissed...</td>\n",
       "    </tr>\n",
       "    <tr>\n",
       "      <th>2</th>\n",
       "      <td>1</td>\n",
       "      <td>So many useless classes , great to be student</td>\n",
       "    </tr>\n",
       "    <tr>\n",
       "      <th>3</th>\n",
       "      <td>1</td>\n",
       "      <td>Oh how I love getting home from work at 3am an...</td>\n",
       "    </tr>\n",
       "    <tr>\n",
       "      <th>4</th>\n",
       "      <td>1</td>\n",
       "      <td>I just love having grungy ass hair 😑 #not</td>\n",
       "    </tr>\n",
       "  </tbody>\n",
       "</table>\n",
       "</div>"
      ],
      "text/plain": [
       "   Label                                             Tweets\n",
       "0      1  I loovee when people text back ... 😒 #sarcasti...\n",
       "1      1  Don't you love it when your parents are Pissed...\n",
       "2      1      So many useless classes , great to be student\n",
       "3      1  Oh how I love getting home from work at 3am an...\n",
       "4      1          I just love having grungy ass hair 😑 #not"
      ]
     },
     "execution_count": 49,
     "metadata": {},
     "output_type": "execute_result"
    }
   ],
   "source": [
    "df.head()"
   ]
  },
  {
   "cell_type": "code",
   "execution_count": 50,
   "id": "f6d3fd8c-fb24-4c77-8e7b-88635d63a1f4",
   "metadata": {},
   "outputs": [
    {
     "data": {
      "text/plain": [
       "(1975, 2)"
      ]
     },
     "execution_count": 50,
     "metadata": {},
     "output_type": "execute_result"
    }
   ],
   "source": [
    "df.shape"
   ]
  },
  {
   "cell_type": "markdown",
   "id": "bc96edb7-cbfa-4aed-9902-273964a9a104",
   "metadata": {},
   "source": [
    "## Replace emojis with text descriptions in the 'Tweets' column"
   ]
  },
  {
   "cell_type": "code",
   "execution_count": 51,
   "id": "5834707e-d1df-4824-a84b-49a7cbbacdef",
   "metadata": {},
   "outputs": [
    {
     "name": "stdout",
     "output_type": "stream",
     "text": [
      "   Label                                             Tweets\n",
      "0      1  I loovee when people text back ... unamused_fa...\n",
      "1      1  Don't you love it when your parents are Pissed...\n",
      "2      1      So many useless classes , great to be student\n",
      "3      1  Oh how I love getting home from work at 3am an...\n",
      "4      1  I just love having grungy ass hair expressionl...\n"
     ]
    }
   ],
   "source": [
    "import emoji\n",
    "\n",
    "# Function to replace emojis with their text descriptions\n",
    "def replace_emojis(text):\n",
    "    return emoji.demojize(text, delimiters=(\"\", \"\"))\n",
    "\n",
    "df = pd.read_csv('Clean_Dataset.csv')\n",
    "\n",
    "df['Tweets'] = df['Tweets'].apply(replace_emojis)\n",
    "\n",
    "df.to_csv('Clean_Dataset.csv', index=False)\n",
    "\n",
    "print(df.head())\n"
   ]
  },
  {
   "cell_type": "markdown",
   "id": "d7fd20fc-8223-4b63-9c69-e145c9ee15d1",
   "metadata": {},
   "source": [
    "## Remove '#' with its following text from tweets"
   ]
  },
  {
   "cell_type": "code",
   "execution_count": 52,
   "id": "3ad2cc5c-1065-42f3-b4d4-7a50eb2d1786",
   "metadata": {},
   "outputs": [],
   "source": [
    "df = pd.read_csv('Clean_Dataset.csv')\n",
    "\n",
    "# Remove '#' with its following text from tweets\n",
    "df['Tweets'] = df['Tweets'].str.replace(r'#\\w+', '', regex=True)\n",
    "\n",
    "df.to_csv('Clean_Dataset.csv', index=False)"
   ]
  },
  {
   "cell_type": "code",
   "execution_count": 53,
   "id": "e048410a-5fdd-4c3f-8e25-8c71db265d63",
   "metadata": {},
   "outputs": [
    {
     "data": {
      "text/html": [
       "<div>\n",
       "<style scoped>\n",
       "    .dataframe tbody tr th:only-of-type {\n",
       "        vertical-align: middle;\n",
       "    }\n",
       "\n",
       "    .dataframe tbody tr th {\n",
       "        vertical-align: top;\n",
       "    }\n",
       "\n",
       "    .dataframe thead th {\n",
       "        text-align: right;\n",
       "    }\n",
       "</style>\n",
       "<table border=\"1\" class=\"dataframe\">\n",
       "  <thead>\n",
       "    <tr style=\"text-align: right;\">\n",
       "      <th></th>\n",
       "      <th>Label</th>\n",
       "      <th>Tweets</th>\n",
       "    </tr>\n",
       "  </thead>\n",
       "  <tbody>\n",
       "    <tr>\n",
       "      <th>0</th>\n",
       "      <td>1</td>\n",
       "      <td>I loovee when people text back ... unamused_face</td>\n",
       "    </tr>\n",
       "    <tr>\n",
       "      <th>1</th>\n",
       "      <td>1</td>\n",
       "      <td>Don't you love it when your parents are Pissed...</td>\n",
       "    </tr>\n",
       "    <tr>\n",
       "      <th>2</th>\n",
       "      <td>1</td>\n",
       "      <td>So many useless classes , great to be student</td>\n",
       "    </tr>\n",
       "    <tr>\n",
       "      <th>3</th>\n",
       "      <td>1</td>\n",
       "      <td>Oh how I love getting home from work at 3am an...</td>\n",
       "    </tr>\n",
       "    <tr>\n",
       "      <th>4</th>\n",
       "      <td>1</td>\n",
       "      <td>I just love having grungy ass hair expressionl...</td>\n",
       "    </tr>\n",
       "  </tbody>\n",
       "</table>\n",
       "</div>"
      ],
      "text/plain": [
       "   Label                                             Tweets\n",
       "0      1  I loovee when people text back ... unamused_face \n",
       "1      1  Don't you love it when your parents are Pissed...\n",
       "2      1      So many useless classes , great to be student\n",
       "3      1  Oh how I love getting home from work at 3am an...\n",
       "4      1  I just love having grungy ass hair expressionl..."
      ]
     },
     "execution_count": 53,
     "metadata": {},
     "output_type": "execute_result"
    }
   ],
   "source": [
    "df.head()"
   ]
  },
  {
   "cell_type": "markdown",
   "id": "2f09ec52-d570-45de-84e0-cf9e19b0f2fe",
   "metadata": {},
   "source": [
    "## Replace abbreviations with their expansions"
   ]
  },
  {
   "cell_type": "code",
   "execution_count": 54,
   "id": "3da8c48d-16ca-44cf-b302-889f06399c2a",
   "metadata": {},
   "outputs": [],
   "source": [
    "import pandas as pd\n",
    "\n",
    "# Define a dictionary of abbreviations and their expansions\n",
    "abbreviations = {\n",
    "    'lol': 'laugh out loud',\n",
    "    'brb': 'be right back',\n",
    "    'btw': 'by the way',\n",
    "    'omg': 'oh my god',\n",
    "    'tbh': 'to be honest',\n",
    "    'fyi': 'for your information',\n",
    "    'idk': 'I don\\'t know',\n",
    "    'imo': 'in my opinion',\n",
    "    'imho': 'in my humble opinion',\n",
    "    'np': 'no problem',\n",
    "    'tmi': 'too much information',\n",
    "    'smh': 'shake my head',\n",
    "    'irl': 'in real life',\n",
    "    'afk': 'away from keyboard',\n",
    "    'fomo': 'fear of missing out',\n",
    "    'imo': 'in my opinion',\n",
    "    'irl': 'in real life',\n",
    "    'omw': 'on my way',\n",
    "    'rofl': 'rolling on the floor laughing',\n",
    "    'afaik': 'as far as I know',\n",
    "    'gg': 'good game',\n",
    "    'ggwp': 'good game, well played',\n",
    "    'icymi': 'in case you missed it',\n",
    "    'nvm': 'never mind',\n",
    "    'ttyl': 'talk to you later',\n",
    "    'ftw': 'for the win',\n",
    "    'smh': 'shaking my head',\n",
    "}\n",
    "\n",
    "# Function to replace abbreviations with their expansions\n",
    "def replace_abbreviations(text):\n",
    "    for word in text.split():\n",
    "        if word.lower() in abbreviations:\n",
    "            text = text.replace(word, abbreviations[word.lower()])\n",
    "    return text\n",
    "\n",
    "df = pd.read_csv('Clean_Dataset.csv')\n",
    "df['Tweets'] = df['Tweets'].apply(replace_abbreviations)\n",
    "df.to_csv('Clean_Dataset.csv', index=False)\n"
   ]
  },
  {
   "cell_type": "markdown",
   "id": "380c7f19-d688-4316-88fe-21b4cc3cfa8d",
   "metadata": {},
   "source": [
    "## Check for Garbage value"
   ]
  },
  {
   "cell_type": "code",
   "execution_count": 55,
   "id": "a96798e8-aca8-4f4b-ad40-bf7e95b46830",
   "metadata": {},
   "outputs": [
    {
     "name": "stdout",
     "output_type": "stream",
     "text": [
      "Tweets\n",
      "I loovee when people text back ... unamused_face                                                                       1\n",
      "MilesLong they don't listen ... seriously                                                                              1\n",
      "Been in the UK so I'm just catching up with Saturated - can't wait to hear God speak through your sermon !             1\n",
      "my ex is gonna start watching fairy tail im so happy i'll be able to speak to him about it                             1\n",
      "This lab class boring af                                                                                               1\n",
      "                                                                                                                      ..\n",
      "I lost AJ Green and Jamaal Charles from the same  team on Sunday , Maybe my tight end puts up 40 points                1\n",
      "Good thing I have a doctors appointment in the morning . Good thing it's passed 3 am .                                 1\n",
      "Good thing I'm learning about ohms law and electric fields because I'm gonna use that everyday in the health field     1\n",
      "I'm glad the shorthand \" perc \" ( for percussion ) autocorrects to \" perv \" in my phone . Every . Single . Time .      1\n",
      "I'm So Erked Nobody Better Not Speak To Me                                                                             1\n",
      "Name: count, Length: 1975, dtype: int64\n",
      "******************************\n"
     ]
    }
   ],
   "source": [
    "#Garbage value\n",
    "for i in df.select_dtypes(include = \"object\").columns:\n",
    "    print(df[i].value_counts())\n",
    "    print(\"***\"*10)"
   ]
  },
  {
   "cell_type": "markdown",
   "id": "c1e49bba-9ad0-423e-8c5e-aa8d46ecd26b",
   "metadata": {},
   "source": [
    "## Check for Duplicated"
   ]
  },
  {
   "cell_type": "code",
   "execution_count": 56,
   "id": "fe64f219-b126-44a9-aa15-611d4ea34ddf",
   "metadata": {},
   "outputs": [
    {
     "data": {
      "text/plain": [
       "0"
      ]
     },
     "execution_count": 56,
     "metadata": {},
     "output_type": "execute_result"
    }
   ],
   "source": [
    "#To find duplicates\n",
    "df.duplicated().sum()"
   ]
  },
  {
   "cell_type": "markdown",
   "id": "ea076032-4032-45b6-9424-3851b1476d93",
   "metadata": {},
   "source": [
    "## Check for Null value"
   ]
  },
  {
   "cell_type": "code",
   "execution_count": 57,
   "id": "513fcabe-9c86-4da6-8c16-4301d8a4d80f",
   "metadata": {},
   "outputs": [
    {
     "data": {
      "text/plain": [
       "Label     0\n",
       "Tweets    0\n",
       "dtype: int64"
      ]
     },
     "execution_count": 57,
     "metadata": {},
     "output_type": "execute_result"
    }
   ],
   "source": [
    "df.isnull().sum()"
   ]
  },
  {
   "cell_type": "markdown",
   "id": "a4340211-3a67-4dfd-9801-7454c7fc79f3",
   "metadata": {},
   "source": [
    "## Removing Special Characters from Tweets and Saving to CSV"
   ]
  },
  {
   "cell_type": "code",
   "execution_count": 58,
   "id": "610019f5-22d7-4824-8a4a-e825fbcfc912",
   "metadata": {},
   "outputs": [],
   "source": [
    "df = pd.read_csv('Clean_Dataset.csv')\n",
    "df['Tweets'] = df['Tweets'].str.replace('#', '')\n",
    "df['Tweets'] = df['Tweets'].str.replace('\"', '')\n",
    "df['Tweets'] = df['Tweets'].str.replace(':', '')\n",
    "df['Tweets'] = df['Tweets'].str.replace(':', '')\n",
    "df['Tweets'] = df['Tweets'].str.replace('?', '')\n",
    "df['Tweets'] = df['Tweets'].str.replace('*', '')\n",
    "df['Tweets'] = df['Tweets'].str.replace('<', '')\n",
    "df['Tweets'] = df['Tweets'].str.replace('...', '')\n",
    "df['Tweets'] = df['Tweets'].str.replace('/', '')\n",
    "df['Tweets'] = df['Tweets'].str.replace('@', '')\n",
    "df['Tweets'] = df['Tweets'].str.replace('~', '')\n",
    "df['Tweets'] = df['Tweets'].str.replace('!', '')\n",
    "df['Tweets'] = df['Tweets'].str.replace('>', '')\n",
    "df['Tweets'] = df['Tweets'].str.replace('-', '')\n",
    "df['Tweets'] = df['Tweets'].str.replace(')', '')\n",
    "df['Tweets'] = df['Tweets'].str.replace('(', '')\n",
    "df['Tweets'] = df['Tweets'].str.replace('3', '')\n",
    "df.to_csv('Clean_Dataset.csv', index=False)"
   ]
  },
  {
   "cell_type": "markdown",
   "id": "36ad30c1-fd95-4c0b-bebc-14f4ef9a9079",
   "metadata": {},
   "source": [
    "## Check for Data Types of DataFrame Columns"
   ]
  },
  {
   "cell_type": "code",
   "execution_count": 59,
   "id": "f4f00820-e24e-411d-b890-71c8c7b63d10",
   "metadata": {},
   "outputs": [
    {
     "data": {
      "text/plain": [
       "Label      int64\n",
       "Tweets    object\n",
       "dtype: object"
      ]
     },
     "execution_count": 59,
     "metadata": {},
     "output_type": "execute_result"
    }
   ],
   "source": [
    "df.dtypes"
   ]
  },
  {
   "cell_type": "code",
   "execution_count": 60,
   "id": "49fe1d47-6ee6-4b25-abba-8aa293a4fa6e",
   "metadata": {},
   "outputs": [
    {
     "name": "stdout",
     "output_type": "stream",
     "text": [
      "<class 'pandas.core.frame.DataFrame'>\n",
      "RangeIndex: 1975 entries, 0 to 1974\n",
      "Data columns (total 2 columns):\n",
      " #   Column  Non-Null Count  Dtype \n",
      "---  ------  --------------  ----- \n",
      " 0   Label   1975 non-null   int64 \n",
      " 1   Tweets  1975 non-null   object\n",
      "dtypes: int64(1), object(1)\n",
      "memory usage: 31.0+ KB\n"
     ]
    }
   ],
   "source": [
    "df.info()"
   ]
  },
  {
   "cell_type": "markdown",
   "id": "8550616e-9d5e-44af-9207-26b9bf80222d",
   "metadata": {},
   "source": [
    "## Replace 1 with 'sarcastic' and 0 with 'not sarcastic' in the 'Label' column"
   ]
  },
  {
   "cell_type": "code",
   "execution_count": 61,
   "id": "88f67857-0ab5-46ac-b099-338bbfe9c157",
   "metadata": {},
   "outputs": [],
   "source": [
    "import pandas as pd\n",
    "\n",
    "df = pd.read_csv('Clean_Dataset.csv')\n",
    "\n",
    "# Replace 1 with 'sarcastic' and 0 with 'not sarcastic' in the 'Label' column\n",
    "df['Label'] = df['Label'].replace({1: 'sarcastic', 0: 'not sarcastic'})\n",
    "\n",
    "df.to_csv('Clean_Dataset.csv', index=False)\n"
   ]
  },
  {
   "cell_type": "code",
   "execution_count": 62,
   "id": "6d86344b-b3f6-415b-bad0-efb474f2b6f7",
   "metadata": {},
   "outputs": [
    {
     "data": {
      "text/plain": [
       "Label     object\n",
       "Tweets    object\n",
       "dtype: object"
      ]
     },
     "execution_count": 62,
     "metadata": {},
     "output_type": "execute_result"
    }
   ],
   "source": [
    "df.dtypes"
   ]
  },
  {
   "cell_type": "markdown",
   "id": "94b2cf13-d5c1-4390-bcf9-32e213ec7d1c",
   "metadata": {},
   "source": [
    "## Remove URLs from the 'Tweets' column"
   ]
  },
  {
   "cell_type": "code",
   "execution_count": 63,
   "id": "26246c5d-5be8-4885-ae30-144250e37d93",
   "metadata": {},
   "outputs": [],
   "source": [
    "df = pd.read_csv('Clean_Dataset.csv')\n",
    "\n",
    "# Remove URLs from the 'Tweets' column\n",
    "df['Tweets'] = df['Tweets'].str.replace(r'https?://\\S+|www\\.\\S+', '', regex=True)\n",
    "\n",
    "df.to_csv('C:\\\\Users\\\\HP\\\\OneDrive\\\\Desktop\\\\Clean_Dataset.csv', index=False)\n"
   ]
  },
  {
   "cell_type": "code",
   "execution_count": 64,
   "id": "92830f84-a381-4655-9bde-913ab37d26ac",
   "metadata": {},
   "outputs": [
    {
     "data": {
      "text/html": [
       "<div>\n",
       "<style scoped>\n",
       "    .dataframe tbody tr th:only-of-type {\n",
       "        vertical-align: middle;\n",
       "    }\n",
       "\n",
       "    .dataframe tbody tr th {\n",
       "        vertical-align: top;\n",
       "    }\n",
       "\n",
       "    .dataframe thead th {\n",
       "        text-align: right;\n",
       "    }\n",
       "</style>\n",
       "<table border=\"1\" class=\"dataframe\">\n",
       "  <thead>\n",
       "    <tr style=\"text-align: right;\">\n",
       "      <th></th>\n",
       "      <th>Label</th>\n",
       "      <th>Tweets</th>\n",
       "    </tr>\n",
       "  </thead>\n",
       "  <tbody>\n",
       "    <tr>\n",
       "      <th>0</th>\n",
       "      <td>sarcastic</td>\n",
       "      <td>I loovee when people text back  unamused_face</td>\n",
       "    </tr>\n",
       "    <tr>\n",
       "      <th>1</th>\n",
       "      <td>sarcastic</td>\n",
       "      <td>Don't you love it when your parents are Pissed...</td>\n",
       "    </tr>\n",
       "    <tr>\n",
       "      <th>2</th>\n",
       "      <td>sarcastic</td>\n",
       "      <td>So many useless classes , great to be student</td>\n",
       "    </tr>\n",
       "    <tr>\n",
       "      <th>3</th>\n",
       "      <td>sarcastic</td>\n",
       "      <td>Oh how I love getting home from work at am and...</td>\n",
       "    </tr>\n",
       "    <tr>\n",
       "      <th>4</th>\n",
       "      <td>sarcastic</td>\n",
       "      <td>I just love having grungy ass hair expressionl...</td>\n",
       "    </tr>\n",
       "  </tbody>\n",
       "</table>\n",
       "</div>"
      ],
      "text/plain": [
       "       Label                                             Tweets\n",
       "0  sarcastic     I loovee when people text back  unamused_face \n",
       "1  sarcastic  Don't you love it when your parents are Pissed...\n",
       "2  sarcastic      So many useless classes , great to be student\n",
       "3  sarcastic  Oh how I love getting home from work at am and...\n",
       "4  sarcastic  I just love having grungy ass hair expressionl..."
      ]
     },
     "execution_count": 64,
     "metadata": {},
     "output_type": "execute_result"
    }
   ],
   "source": [
    "df.head()"
   ]
  },
  {
   "cell_type": "code",
   "execution_count": 65,
   "id": "bee1a4bb-04f1-41cd-aae8-2e0a8b6ad0cc",
   "metadata": {},
   "outputs": [
    {
     "data": {
      "text/plain": [
       "(1975, 2)"
      ]
     },
     "execution_count": 65,
     "metadata": {},
     "output_type": "execute_result"
    }
   ],
   "source": [
    "df.shape"
   ]
  },
  {
   "cell_type": "markdown",
   "id": "188ad3f4-ff74-4538-8f94-b106c947a917",
   "metadata": {},
   "source": [
    "## Plot histograms of tweet length for sarcastic and non-sarcastic tweets"
   ]
  },
  {
   "cell_type": "code",
   "execution_count": 66,
   "id": "2cb79114-b02a-479c-a327-b2b3d3a89558",
   "metadata": {},
   "outputs": [
    {
     "name": "stdout",
     "output_type": "stream",
     "text": [
      "Label\n",
      "sarcastic        1000\n",
      "not sarcastic     975\n",
      "Name: count, dtype: int64\n",
      "Unique labels: ['sarcastic' 'not sarcastic']\n",
      "\n",
      "Example sarcastic tweet:\n",
      "I loovee when people text back  unamused_face \n",
      "\n",
      "Example non-sarcastic tweet:\n",
      "i just imagined you dancing like this\n"
     ]
    },
    {
     "data": {
      "image/png": "[encoded data removed]",
      "text/plain": [
       "<Figure size 1000x600 with 1 Axes>"
      ]
     },
     "metadata": {},
     "output_type": "display_data"
    }
   ],
   "source": [
    "import pandas as pd\n",
    "import matplotlib.pyplot as plt\n",
    "import seaborn as sns\n",
    "\n",
    "df = pd.read_csv('Clean_Dataset.csv')\n",
    "print(df['Label'].value_counts())\n",
    "\n",
    "# Check unique values in 'Label' column\n",
    "print(\"Unique labels:\", df['Label'].unique())\n",
    "\n",
    "# Sample sarcastic tweet\n",
    "sarcastic_tweets = df[df['Label'] == 'sarcastic']['Tweets']\n",
    "if not sarcastic_tweets.empty:\n",
    "    print(\"\\nExample sarcastic tweet:\")\n",
    "    print(sarcastic_tweets.iloc[0])\n",
    "else:\n",
    "    print(\"\\nNo sarcastic tweets found.\")\n",
    "\n",
    "# Sample non-sarcastic tweet\n",
    "non_sarcastic_tweets = df[df['Label'] == 'not sarcastic']['Tweets']\n",
    "if not non_sarcastic_tweets.empty:\n",
    "    print(\"\\nExample non-sarcastic tweet:\")\n",
    "    print(non_sarcastic_tweets.iloc[0])\n",
    "else:\n",
    "    print(\"\\nNo non-sarcastic tweets found.\")\n",
    "\n",
    "# Add a column for tweet length\n",
    "df['Tweet_Length'] = df['Tweets'].apply(len)\n",
    "\n",
    "# Plot histograms of tweet length for sarcastic and non-sarcastic tweets\n",
    "plt.figure(figsize=(10, 6))\n",
    "sns.histplot(df[df['Label'] == 'sarcastic']['Tweet_Length'], color='skyblue', label='Sarcastic', kde=True)\n",
    "sns.histplot(df[df['Label'] == 'not sarcastic']['Tweet_Length'], color='orange', label='Not Sarcastic', kde=True)\n",
    "plt.xlabel('Tweet Length')\n",
    "plt.ylabel('Density')\n",
    "plt.title('Distribution of Tweet Length')\n",
    "plt.legend()\n",
    "plt.show()\n"
   ]
  },
  {
   "cell_type": "markdown",
   "id": "60b520b5-657d-4ea4-b2f9-343349bf22d4",
   "metadata": {},
   "source": [
    "## Split the dataset into training and testing sets"
   ]
  },
  {
   "cell_type": "code",
   "execution_count": 67,
   "id": "33cd8a7c-6f75-4a63-a87b-7c59f2c61ced",
   "metadata": {},
   "outputs": [
    {
     "name": "stdout",
     "output_type": "stream",
     "text": [
      "Shape of the dataset: (1975, 2)\n",
      "       Label                                             Tweets\n",
      "0  sarcastic     I loovee when people text back  unamused_face \n",
      "1  sarcastic  Don't you love it when your parents are Pissed...\n",
      "2  sarcastic      So many useless classes , great to be student\n",
      "3  sarcastic  Oh how I love getting home from work at am and...\n",
      "4  sarcastic  I just love having grungy ass hair expressionl...\n",
      "\n",
      "Shape of training set: (1580, 2)\n",
      "Shape of testing set: (395, 2)\n"
     ]
    }
   ],
   "source": [
    "import pandas as pd\n",
    "from sklearn.model_selection import train_test_split\n",
    "\n",
    "df = pd.read_csv('Clean_Dataset.csv')\n",
    "\n",
    "print(\"Shape of the dataset:\", df.shape)\n",
    "print(df.head())\n",
    "\n",
    "train_df, test_df = train_test_split(df, test_size=0.2, random_state=42, stratify=df['Label'])\n",
    "\n",
    "print(\"\\nShape of training set:\", train_df.shape)\n",
    "print(\"Shape of testing set:\", test_df.shape)\n",
    "\n",
    "train_df.to_csv('train_dataset.csv', index=False)\n",
    "test_df.to_csv('test_dataset.csv', index=False)\n"
   ]
  },
  {
   "cell_type": "code",
   "execution_count": null,
   "id": "d1fde483-27c9-44d5-8d8d-4fe61d6673ae",
   "metadata": {},
   "outputs": [],
   "source": []
  },
  {
   "cell_type": "code",
   "execution_count": null,
   "id": "6140375a-2c81-4dde-96e2-26b5585a235a",
   "metadata": {},
   "outputs": [],
   "source": []
  }
 ],
 "metadata": {
  "kernelspec": {
   "display_name": "Python 3 (ipykernel)",
   "language": "python",
   "name": "python3"
  },
  "language_info": {
   "codemirror_mode": {
    "name": "ipython",
    "version": 3
   },
   "file_extension": ".py",
   "mimetype": "text/x-python",
   "name": "python",
   "nbconvert_exporter": "python",
   "pygments_lexer": "ipython3",
   "version": "3.12.3"
  }
 },
 "nbformat": 4,
 "nbformat_minor": 5
}

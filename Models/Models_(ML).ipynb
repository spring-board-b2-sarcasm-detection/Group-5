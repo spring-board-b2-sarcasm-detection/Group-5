{
  "nbformat": 4,
  "nbformat_minor": 0,
  "metadata": {
    "colab": {
      "provenance": [],
      "toc_visible": true
    },
    "kernelspec": {
      "name": "python3",
      "display_name": "Python 3"
    },
    "language_info": {
      "name": "python"
    }
  },
  "cells": [
    {
      "cell_type": "code",
      "execution_count": null,
      "metadata": {
        "id": "37p_4sLiuNKB"
      },
      "outputs": [],
      "source": [
        "import pandas as pd\n",
        "from sklearn.model_selection import train_test_split\n",
        "from sklearn.feature_extraction.text import TfidfVectorizer\n",
        "from sklearn.linear_model import LogisticRegression\n",
        "from sklearn.metrics import accuracy_score, classification_report, confusion_matrix, roc_curve, auc\n",
        "import matplotlib.pyplot as plt\n",
        "import seaborn as sns\n",
        "from sklearn.svm import SVC\n",
        "from sklearn.naive_bayes import MultinomialNB\n",
        "from sklearn.tree import DecisionTreeClassifier\n",
        "from sklearn.neighbors import KNeighborsClassifier\n",
        "from sklearn.ensemble import GradientBoostingClassifier\n",
        "from sklearn.metrics import accuracy_score as acc\n",
        "from sklearn.ensemble import AdaBoostClassifier"
      ]
    },
    {
      "cell_type": "code",
      "source": [
        "df = pd.read_csv('t_dataset.csv', index_col=False)\n",
        "\n",
        "df['Sarcasm'] = df['Sarcasm'].map({'yes': 1, 'no': 0})"
      ],
      "metadata": {
        "id": "E53O7bWku2up"
      },
      "execution_count": null,
      "outputs": []
    },
    {
      "cell_type": "code",
      "source": [
        "X_train, X_test, y_train, y_test = train_test_split(df['Tweet'], df['Sarcasm'], test_size=0.2, random_state=42)\n",
        "\n",
        "vectorizer = TfidfVectorizer(max_features=5000, ngram_range=(1, 2))\n",
        "X_train_tfidf = vectorizer.fit_transform(X_train)\n",
        "X_test_tfidf = vectorizer.transform(X_test)"
      ],
      "metadata": {
        "id": "YIHtXQsuv8w7"
      },
      "execution_count": null,
      "outputs": []
    },
    {
      "cell_type": "code",
      "source": [
        "def acc(x, y):\n",
        "    accuracy = accuracy_score(x, y)\n",
        "    print(f'Accuracy: {accuracy * 100:.2f}%')\n",
        "\n",
        "    print(\"Classification Report:\")\n",
        "    print(classification_report(x, y))"
      ],
      "metadata": {
        "id": "xKOlVcqDO19E"
      },
      "execution_count": null,
      "outputs": []
    },
    {
      "cell_type": "markdown",
      "source": [
        "#Logistic Regression"
      ],
      "metadata": {
        "id": "UdBAIxvE7CVY"
      }
    },
    {
      "cell_type": "code",
      "source": [
        "model = LogisticRegression()\n",
        "model.fit(X_train_tfidf, y_train)\n",
        "\n",
        "y_pred = model.predict(X_test_tfidf)\n",
        "y_pred_prob = model.predict_proba(X_test_tfidf)[:, 1]\n",
        "\n",
        "acc(y_test, y_pred)"
      ],
      "metadata": {
        "colab": {
          "base_uri": "https://localhost:8080/"
        },
        "id": "N3GOtuiJ64Uc",
        "outputId": "200c315c-80ff-4d03-8664-34e02b92aaef"
      },
      "execution_count": null,
      "outputs": [
        {
          "output_type": "stream",
          "name": "stdout",
          "text": [
            "Accuracy: 77.89%\n",
            "Classification Report:\n",
            "              precision    recall  f1-score   support\n",
            "\n",
            "           0       0.83      0.59      0.69       250\n",
            "           1       0.76      0.91      0.83       347\n",
            "\n",
            "    accuracy                           0.78       597\n",
            "   macro avg       0.79      0.75      0.76       597\n",
            "weighted avg       0.79      0.78      0.77       597\n",
            "\n"
          ]
        }
      ]
    },
    {
      "cell_type": "markdown",
      "source": [
        "#SVM(Support Vector Machine) Model"
      ],
      "metadata": {
        "id": "ktYBREPY7U0a"
      }
    },
    {
      "cell_type": "code",
      "source": [
        "model = SVC(kernel='linear', probability=True)\n",
        "model.fit(X_train_tfidf, y_train)\n",
        "\n",
        "y_pred = model.predict(X_test_tfidf)\n",
        "\n",
        "acc(y_test, y_pred)"
      ],
      "metadata": {
        "colab": {
          "base_uri": "https://localhost:8080/"
        },
        "id": "wE6x4vwg7mQW",
        "outputId": "602f80c2-7ede-45d1-82e3-053bb68ce2e4"
      },
      "execution_count": null,
      "outputs": [
        {
          "output_type": "stream",
          "name": "stdout",
          "text": [
            "Accuracy: 77.55%\n",
            "Classification Report:\n",
            "              precision    recall  f1-score   support\n",
            "\n",
            "           0       0.82      0.60      0.69       250\n",
            "           1       0.76      0.90      0.82       347\n",
            "\n",
            "    accuracy                           0.78       597\n",
            "   macro avg       0.79      0.75      0.76       597\n",
            "weighted avg       0.78      0.78      0.77       597\n",
            "\n"
          ]
        }
      ]
    },
    {
      "cell_type": "markdown",
      "source": [
        "#Naive Bayes Model"
      ],
      "metadata": {
        "id": "x3VUWf547zCj"
      }
    },
    {
      "cell_type": "code",
      "source": [
        "model = MultinomialNB()\n",
        "model.fit(X_train_tfidf, y_train)\n",
        "\n",
        "y_pred = model.predict(X_test_tfidf)\n",
        "\n",
        "acc(y_test, y_pred)"
      ],
      "metadata": {
        "colab": {
          "base_uri": "https://localhost:8080/"
        },
        "id": "rgK5p4MH74Fd",
        "outputId": "cc35a81b-d6dd-4b02-bd8b-1240f44ca68a"
      },
      "execution_count": null,
      "outputs": [
        {
          "output_type": "stream",
          "name": "stdout",
          "text": [
            "Accuracy: 78.22%\n",
            "Classification Report:\n",
            "              precision    recall  f1-score   support\n",
            "\n",
            "           0       0.83      0.60      0.70       250\n",
            "           1       0.76      0.91      0.83       347\n",
            "\n",
            "    accuracy                           0.78       597\n",
            "   macro avg       0.80      0.76      0.76       597\n",
            "weighted avg       0.79      0.78      0.77       597\n",
            "\n"
          ]
        }
      ]
    },
    {
      "cell_type": "markdown",
      "source": [
        "#Decision Tree Model"
      ],
      "metadata": {
        "id": "lLW0oxPh7-jU"
      }
    },
    {
      "cell_type": "code",
      "source": [
        "model = DecisionTreeClassifier(random_state=42)\n",
        "model.fit(X_train_tfidf, y_train)\n",
        "\n",
        "y_pred = model.predict(X_test_tfidf)\n",
        "\n",
        "acc(y_test, y_pred)"
      ],
      "metadata": {
        "colab": {
          "base_uri": "https://localhost:8080/"
        },
        "id": "ZbCDlG1e8DWz",
        "outputId": "0735402f-02c1-497e-e50c-4814332a54d6"
      },
      "execution_count": null,
      "outputs": [
        {
          "output_type": "stream",
          "name": "stdout",
          "text": [
            "Accuracy: 76.72%\n",
            "Classification Report:\n",
            "              precision    recall  f1-score   support\n",
            "\n",
            "           0       0.72      0.74      0.73       250\n",
            "           1       0.81      0.79      0.80       347\n",
            "\n",
            "    accuracy                           0.77       597\n",
            "   macro avg       0.76      0.76      0.76       597\n",
            "weighted avg       0.77      0.77      0.77       597\n",
            "\n"
          ]
        }
      ]
    },
    {
      "cell_type": "markdown",
      "source": [
        "#KNN Model"
      ],
      "metadata": {
        "id": "5X1rK3LM8Hq-"
      }
    },
    {
      "cell_type": "code",
      "source": [
        "k = 5\n",
        "model = KNeighborsClassifier(n_neighbors=k)\n",
        "model.fit(X_train_tfidf, y_train)\n",
        "\n",
        "y_pred = model.predict(X_test_tfidf)\n",
        "\n",
        "acc(y_test, y_pred)"
      ],
      "metadata": {
        "colab": {
          "base_uri": "https://localhost:8080/"
        },
        "id": "6P7jWyN58LEJ",
        "outputId": "003e5a2d-2a6f-4ca1-8cfe-8f38bd262ede"
      },
      "execution_count": null,
      "outputs": [
        {
          "output_type": "stream",
          "name": "stdout",
          "text": [
            "Accuracy: 43.22%\n",
            "Classification Report:\n",
            "              precision    recall  f1-score   support\n",
            "\n",
            "           0       0.42      0.99      0.59       250\n",
            "           1       0.79      0.03      0.06       347\n",
            "\n",
            "    accuracy                           0.43       597\n",
            "   macro avg       0.60      0.51      0.33       597\n",
            "weighted avg       0.63      0.43      0.28       597\n",
            "\n"
          ]
        }
      ]
    },
    {
      "cell_type": "markdown",
      "source": [
        "#GBM(Gradient Boosting Machines)"
      ],
      "metadata": {
        "id": "VvQxnhA2_x4j"
      }
    },
    {
      "cell_type": "code",
      "source": [
        "model = GradientBoostingClassifier()\n",
        "\n",
        "model.fit(X_train_tfidf, y_train)\n",
        "y_pred = model.predict(X_test_tfidf)\n",
        "\n",
        "acc(y_test, y_pred)"
      ],
      "metadata": {
        "colab": {
          "base_uri": "https://localhost:8080/"
        },
        "id": "p8DKRsfT_5t2",
        "outputId": "1d7a9964-33b1-4b1e-fee7-062eb8d28eb0"
      },
      "execution_count": null,
      "outputs": [
        {
          "output_type": "stream",
          "name": "stdout",
          "text": [
            "Accuracy: 79.56%\n",
            "Classification Report:\n",
            "              precision    recall  f1-score   support\n",
            "\n",
            "           0       0.92      0.56      0.70       250\n",
            "           1       0.75      0.97      0.85       347\n",
            "\n",
            "    accuracy                           0.80       597\n",
            "   macro avg       0.84      0.76      0.77       597\n",
            "weighted avg       0.82      0.80      0.78       597\n",
            "\n"
          ]
        }
      ]
    }
  ]
}
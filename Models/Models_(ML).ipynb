{
  "nbformat": 4,
  "nbformat_minor": 0,
  "metadata": {
    "colab": {
      "provenance": []
    },
    "kernelspec": {
      "name": "python3",
      "display_name": "Python 3"
    },
    "language_info": {
      "name": "python"
    }
  },
  "cells": [
    {
      "cell_type": "code",
      "execution_count": 1,
      "metadata": {
        "id": "37p_4sLiuNKB"
      },
      "outputs": [],
      "source": [
        "import pandas as pd\n",
        "from sklearn.model_selection import train_test_split\n",
        "from sklearn.feature_extraction.text import TfidfVectorizer\n",
        "from sklearn.linear_model import LogisticRegression\n",
        "from sklearn.metrics import accuracy_score, classification_report, confusion_matrix, roc_curve, auc\n",
        "import matplotlib.pyplot as plt\n",
        "import seaborn as sns\n",
        "from sklearn.svm import SVC\n",
        "from sklearn.naive_bayes import MultinomialNB\n",
        "from sklearn.tree import DecisionTreeClassifier\n",
        "from sklearn.neighbors import KNeighborsClassifier"
      ]
    },
    {
      "cell_type": "code",
      "source": [
        "df = pd.read_csv('t_dataset.csv', index_col=False)\n",
        "\n",
        "df['Sarcasm'] = df['Sarcasm'].map({'yes': 1, 'no': 0})"
      ],
      "metadata": {
        "id": "E53O7bWku2up"
      },
      "execution_count": 2,
      "outputs": []
    },
    {
      "cell_type": "code",
      "source": [
        "X_train, X_test, y_train, y_test = train_test_split(df['Tweet'], df['Sarcasm'], test_size=0.2, random_state=42)\n",
        "\n",
        "vectorizer = TfidfVectorizer(max_features=5000, ngram_range=(1, 2))\n",
        "X_train_tfidf = vectorizer.fit_transform(X_train)\n",
        "X_test_tfidf = vectorizer.transform(X_test)"
      ],
      "metadata": {
        "id": "YIHtXQsuv8w7"
      },
      "execution_count": 3,
      "outputs": []
    },
    {
      "cell_type": "code",
      "source": [
        "def acc(x, y):\n",
        "    accuracy = accuracy_score(x, y)\n",
        "    print(f'Accuracy: {accuracy * 100:.2f}%')\n",
        "\n",
        "    print(\"Classification Report:\")\n",
        "    print(classification_report(x, y))"
      ],
      "metadata": {
        "id": "xKOlVcqDO19E"
      },
      "execution_count": 10,
      "outputs": []
    },
    {
      "cell_type": "markdown",
      "source": [
        "#Logistic Regression"
      ],
      "metadata": {
        "id": "UdBAIxvE7CVY"
      }
    },
    {
      "cell_type": "code",
      "source": [
        "model = LogisticRegression()\n",
        "model.fit(X_train_tfidf, y_train)\n",
        "\n",
        "y_pred = model.predict(X_test_tfidf)\n",
        "y_pred_prob = model.predict_proba(X_test_tfidf)[:, 1]\n",
        "\n",
        "acc(y_test, y_pred)"
      ],
      "metadata": {
        "colab": {
          "base_uri": "https://localhost:8080/"
        },
        "id": "N3GOtuiJ64Uc",
        "outputId": "54a1ec8b-fc5e-4ecc-8e90-371fdf692c46"
      },
      "execution_count": 5,
      "outputs": [
        {
          "output_type": "stream",
          "name": "stdout",
          "text": [
            "Accuracy: 77.89%\n",
            "Classification Report:\n",
            "              precision    recall  f1-score   support\n",
            "\n",
            "           0       0.83      0.59      0.69       250\n",
            "           1       0.76      0.91      0.83       347\n",
            "\n",
            "    accuracy                           0.78       597\n",
            "   macro avg       0.79      0.75      0.76       597\n",
            "weighted avg       0.79      0.78      0.77       597\n",
            "\n"
          ]
        }
      ]
    },
    {
      "cell_type": "markdown",
      "source": [
        "#SVM(Support Vector Machine) Model"
      ],
      "metadata": {
        "id": "ktYBREPY7U0a"
      }
    },
    {
      "cell_type": "code",
      "source": [
        "model = SVC(kernel='linear', probability=True)\n",
        "model.fit(X_train_tfidf, y_train)\n",
        "\n",
        "y_pred = model.predict(X_test_tfidf)\n",
        "\n",
        "acc(y_test, y_pred)"
      ],
      "metadata": {
        "colab": {
          "base_uri": "https://localhost:8080/"
        },
        "id": "wE6x4vwg7mQW",
        "outputId": "774ab4bf-9b55-4398-a690-2de9d1eaa168"
      },
      "execution_count": 6,
      "outputs": [
        {
          "output_type": "stream",
          "name": "stdout",
          "text": [
            "Accuracy: 77.55%\n",
            "Classification Report:\n",
            "              precision    recall  f1-score   support\n",
            "\n",
            "           0       0.82      0.60      0.69       250\n",
            "           1       0.76      0.90      0.82       347\n",
            "\n",
            "    accuracy                           0.78       597\n",
            "   macro avg       0.79      0.75      0.76       597\n",
            "weighted avg       0.78      0.78      0.77       597\n",
            "\n"
          ]
        }
      ]
    },
    {
      "cell_type": "markdown",
      "source": [
        "#Naive Bayes Model"
      ],
      "metadata": {
        "id": "x3VUWf547zCj"
      }
    },
    {
      "cell_type": "code",
      "source": [
        "model = MultinomialNB()\n",
        "model.fit(X_train_tfidf, y_train)\n",
        "\n",
        "y_pred = model.predict(X_test_tfidf)\n",
        "\n",
        "acc(y_test, y_pred)"
      ],
      "metadata": {
        "colab": {
          "base_uri": "https://localhost:8080/"
        },
        "id": "rgK5p4MH74Fd",
        "outputId": "2ea3596e-cb61-4d91-fabf-bf722f3d2142"
      },
      "execution_count": 7,
      "outputs": [
        {
          "output_type": "stream",
          "name": "stdout",
          "text": [
            "Accuracy: 78.22%\n",
            "Classification Report:\n",
            "              precision    recall  f1-score   support\n",
            "\n",
            "           0       0.83      0.60      0.70       250\n",
            "           1       0.76      0.91      0.83       347\n",
            "\n",
            "    accuracy                           0.78       597\n",
            "   macro avg       0.80      0.76      0.76       597\n",
            "weighted avg       0.79      0.78      0.77       597\n",
            "\n"
          ]
        }
      ]
    },
    {
      "cell_type": "markdown",
      "source": [
        "#Decision Tree Model"
      ],
      "metadata": {
        "id": "lLW0oxPh7-jU"
      }
    },
    {
      "cell_type": "code",
      "source": [
        "model = DecisionTreeClassifier(random_state=42)\n",
        "model.fit(X_train_tfidf, y_train)\n",
        "\n",
        "y_pred = model.predict(X_test_tfidf)\n",
        "\n",
        "acc(y_test, y_pred)"
      ],
      "metadata": {
        "colab": {
          "base_uri": "https://localhost:8080/"
        },
        "id": "ZbCDlG1e8DWz",
        "outputId": "14bf64f2-209d-4c5b-cbdd-96e653e9eaff"
      },
      "execution_count": 8,
      "outputs": [
        {
          "output_type": "stream",
          "name": "stdout",
          "text": [
            "Accuracy: 76.72%\n",
            "Classification Report:\n",
            "              precision    recall  f1-score   support\n",
            "\n",
            "           0       0.72      0.74      0.73       250\n",
            "           1       0.81      0.79      0.80       347\n",
            "\n",
            "    accuracy                           0.77       597\n",
            "   macro avg       0.76      0.76      0.76       597\n",
            "weighted avg       0.77      0.77      0.77       597\n",
            "\n"
          ]
        }
      ]
    },
    {
      "cell_type": "markdown",
      "source": [
        "#KNN Model"
      ],
      "metadata": {
        "id": "5X1rK3LM8Hq-"
      }
    },
    {
      "cell_type": "code",
      "source": [
        "k = 5\n",
        "model = KNeighborsClassifier(n_neighbors=k)\n",
        "model.fit(X_train_tfidf, y_train)\n",
        "\n",
        "y_pred = model.predict(X_test_tfidf)\n",
        "\n",
        "acc(y_test, y_pred)"
      ],
      "metadata": {
        "colab": {
          "base_uri": "https://localhost:8080/"
        },
        "id": "6P7jWyN58LEJ",
        "outputId": "fa2cae48-2155-4ec4-d185-cfdccb23b9e4"
      },
      "execution_count": 9,
      "outputs": [
        {
          "output_type": "stream",
          "name": "stdout",
          "text": [
            "Accuracy: 43.22%\n",
            "Classification Report:\n",
            "              precision    recall  f1-score   support\n",
            "\n",
            "           0       0.42      0.99      0.59       250\n",
            "           1       0.79      0.03      0.06       347\n",
            "\n",
            "    accuracy                           0.43       597\n",
            "   macro avg       0.60      0.51      0.33       597\n",
            "weighted avg       0.63      0.43      0.28       597\n",
            "\n"
          ]
        }
      ]
    }
  ]
}
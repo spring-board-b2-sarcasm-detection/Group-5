{
  "nbformat": 4,
  "nbformat_minor": 0,
  "metadata": {
    "colab": {
      "provenance": []
    },
    "kernelspec": {
      "name": "python3",
      "display_name": "Python 3"
    },
    "language_info": {
      "name": "python"
    }
  },
  "cells": [
    {
      "cell_type": "markdown",
      "source": [
        "#Gated Recurrent Units (GRUs)"
      ],
      "metadata": {
        "id": "1DfJGcbHSVT-"
      }
    },
    {
      "cell_type": "code",
      "execution_count": 1,
      "metadata": {
        "id": "q4cp7vzPSRvu"
      },
      "outputs": [],
      "source": [
        "import pandas as pd\n",
        "import matplotlib.pyplot as plt\n",
        "from tensorflow.keras.preprocessing.text import Tokenizer\n",
        "from tensorflow.keras.preprocessing.sequence import pad_sequences\n",
        "from tensorflow.keras.models import Sequential\n",
        "from tensorflow.keras.layers import Embedding, GRU, Dense, Dropout\n",
        "from sklearn.model_selection import train_test_split"
      ]
    },
    {
      "cell_type": "code",
      "source": [
        "df = pd.read_csv('Small.csv', index_col=False)\n",
        "texts = df['Tweet']\n",
        "labels = df['Sarcasm'].map({'yes': 1, 'no': 0})"
      ],
      "metadata": {
        "id": "Kbl020xpSlRj"
      },
      "execution_count": 2,
      "outputs": []
    },
    {
      "cell_type": "code",
      "source": [
        "max_len = 100\n",
        "vocab_size = 10000\n",
        "embedding_dim = 128\n",
        "\n",
        "tokenizer = Tokenizer(num_words=vocab_size)\n",
        "tokenizer.fit_on_texts(texts)\n",
        "sequences = tokenizer.texts_to_sequences(texts)\n",
        "\n",
        "padded_sequences = pad_sequences(sequences, maxlen=max_len)\n",
        "\n",
        "X_train, X_test, y_train, y_test = train_test_split(padded_sequences, labels, test_size=0.2, random_state=42)"
      ],
      "metadata": {
        "id": "hahy3Rx0S8u0"
      },
      "execution_count": 3,
      "outputs": []
    },
    {
      "cell_type": "code",
      "source": [
        "def predict_sarcasm(text, tokenizer, model, max_len):\n",
        "    sequence = tokenizer.texts_to_sequences([text])\n",
        "    padded_sequence = pad_sequences(sequence, maxlen=max_len)\n",
        "    prediction = model.predict(padded_sequence)\n",
        "    if prediction > 0.5:\n",
        "        return \"This text is predicted to be sarcastic.\"\n",
        "    else:\n",
        "        return \"This text is predicted to be non-sarcastic.\""
      ],
      "metadata": {
        "id": "z5PcFp17T2gY"
      },
      "execution_count": 4,
      "outputs": []
    },
    {
      "cell_type": "code",
      "source": [
        "model = Sequential()\n",
        "model.add(Embedding(vocab_size, embedding_dim, input_length=max_len))\n",
        "model.add(GRU(64, return_sequences=True))\n",
        "model.add(Dropout(0.2))\n",
        "model.add(GRU(32))\n",
        "model.add(Dropout(0.2))\n",
        "model.add(Dense(1, activation='sigmoid'))\n",
        "\n",
        "model.compile(loss='binary_crossentropy', optimizer='adam', metrics=['accuracy'])\n",
        "\n",
        "model.fit(X_train, y_train, epochs=10, batch_size=32, validation_data=(X_test, y_test))\n",
        "\n",
        "loss, accuracy = model.evaluate(X_test, y_test)\n",
        "print(f\"Test Loss: {loss:.4f}, Accuracy: {accuracy:.4f}\")\n",
        "\n",
        "new_text = \"My name is Tanisha.\"\n",
        "result = predict_sarcasm(new_text, tokenizer, model, max_len)\n",
        "print(result)"
      ],
      "metadata": {
        "colab": {
          "base_uri": "https://localhost:8080/"
        },
        "id": "BVV1QQt6S5uv",
        "outputId": "754fe7a6-f68e-4f4b-c91c-9942d0fcd6af"
      },
      "execution_count": 5,
      "outputs": [
        {
          "output_type": "stream",
          "name": "stdout",
          "text": [
            "Epoch 1/10\n",
            "174/174 [==============================] - 35s 170ms/step - loss: 0.3961 - accuracy: 0.8247 - val_loss: 0.2779 - val_accuracy: 0.8961\n",
            "Epoch 2/10\n",
            "174/174 [==============================] - 23s 130ms/step - loss: 0.1825 - accuracy: 0.9291 - val_loss: 0.2671 - val_accuracy: 0.8911\n",
            "Epoch 3/10\n",
            "174/174 [==============================] - 26s 148ms/step - loss: 0.0831 - accuracy: 0.9733 - val_loss: 0.2723 - val_accuracy: 0.8932\n",
            "Epoch 4/10\n",
            "174/174 [==============================] - 24s 139ms/step - loss: 0.0525 - accuracy: 0.9841 - val_loss: 0.3882 - val_accuracy: 0.8968\n",
            "Epoch 5/10\n",
            "174/174 [==============================] - 23s 133ms/step - loss: 0.0283 - accuracy: 0.9921 - val_loss: 0.4293 - val_accuracy: 0.8860\n",
            "Epoch 6/10\n",
            "174/174 [==============================] - 24s 138ms/step - loss: 0.0211 - accuracy: 0.9948 - val_loss: 0.4298 - val_accuracy: 0.8918\n",
            "Epoch 7/10\n",
            "174/174 [==============================] - 24s 139ms/step - loss: 0.0147 - accuracy: 0.9959 - val_loss: 0.4824 - val_accuracy: 0.8954\n",
            "Epoch 8/10\n",
            "174/174 [==============================] - 24s 137ms/step - loss: 0.0116 - accuracy: 0.9969 - val_loss: 0.5385 - val_accuracy: 0.8954\n",
            "Epoch 9/10\n",
            "174/174 [==============================] - 24s 140ms/step - loss: 0.0110 - accuracy: 0.9968 - val_loss: 0.5436 - val_accuracy: 0.8997\n",
            "Epoch 10/10\n",
            "174/174 [==============================] - 24s 138ms/step - loss: 0.0149 - accuracy: 0.9948 - val_loss: 0.5127 - val_accuracy: 0.8983\n",
            "44/44 [==============================] - 1s 34ms/step - loss: 0.5127 - accuracy: 0.8983\n",
            "Test Loss: 0.5127, Accuracy: 0.8983\n",
            "1/1 [==============================] - 1s 826ms/step\n",
            "This text is predicted to be non-sarcastic.\n"
          ]
        }
      ]
    },
    {
      "cell_type": "code",
      "source": [
        "from sklearn.metrics import f1_score"
      ],
      "metadata": {
        "id": "ciB5OGFwd5JC"
      },
      "execution_count": 8,
      "outputs": []
    },
    {
      "cell_type": "code",
      "source": [
        "y_pred = (model.predict(X_test) > 0.5).astype(int)\n",
        "f1 = f1_score(y_test, y_pred, average='weighted')\n",
        "print(f\"F1 Score (weighted): {f1:.4f}\")"
      ],
      "metadata": {
        "colab": {
          "base_uri": "https://localhost:8080/"
        },
        "id": "E62hP0vqdwRo",
        "outputId": "d4977e02-1860-4238-cf96-241e387be74d"
      },
      "execution_count": 10,
      "outputs": [
        {
          "output_type": "stream",
          "name": "stdout",
          "text": [
            "44/44 [==============================] - 2s 39ms/step\n",
            "F1 Score (weighted): 0.8982\n"
          ]
        }
      ]
    },
    {
      "cell_type": "code",
      "source": [
        "new_text = \"My mom asked me this question as well.\"\n",
        "result = predict_sarcasm(new_text, tokenizer, model, max_len)\n",
        "print(result)"
      ],
      "metadata": {
        "colab": {
          "base_uri": "https://localhost:8080/"
        },
        "id": "vkPnUdiATX7W",
        "outputId": "f7fc41cd-9b09-4c12-f29e-68b92857c5c1"
      },
      "execution_count": 6,
      "outputs": [
        {
          "output_type": "stream",
          "name": "stdout",
          "text": [
            "1/1 [==============================] - 0s 31ms/step\n",
            "This text is predicted to be sarcastic.\n"
          ]
        }
      ]
    },
    {
      "cell_type": "code",
      "source": [
        "new_text = \"Sure, let's just add this to my already overflowing to-do list.\"\n",
        "result = predict_sarcasm(new_text, tokenizer, model, max_len)\n",
        "print(result)"
      ],
      "metadata": {
        "colab": {
          "base_uri": "https://localhost:8080/"
        },
        "id": "7-I8mIzETaN2",
        "outputId": "d21c917b-ebd3-4de2-8d1b-0668154f942f"
      },
      "execution_count": 11,
      "outputs": [
        {
          "output_type": "stream",
          "name": "stdout",
          "text": [
            "1/1 [==============================] - 0s 49ms/step\n",
            "This text is predicted to be sarcastic.\n"
          ]
        }
      ]
    },
    {
      "cell_type": "code",
      "source": [
        "new_text = \"Sure, let's just add this to my already overflowing to-do list.\"\n",
        "result = predict_sarcasm(new_text, tokenizer, model, max_len)\n",
        "print(result)"
      ],
      "metadata": {
        "colab": {
          "base_uri": "https://localhost:8080/"
        },
        "id": "fiZzX2e8Tcuo",
        "outputId": "ed85a649-86bf-44dc-dadb-3437c37eae0c"
      },
      "execution_count": 12,
      "outputs": [
        {
          "output_type": "stream",
          "name": "stdout",
          "text": [
            "1/1 [==============================] - 0s 30ms/step\n",
            "This text is predicted to be sarcastic.\n"
          ]
        }
      ]
    }
  ]
}
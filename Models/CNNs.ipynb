{
  "nbformat": 4,
  "nbformat_minor": 0,
  "metadata": {
    "colab": {
      "provenance": []
    },
    "kernelspec": {
      "name": "python3",
      "display_name": "Python 3"
    },
    "language_info": {
      "name": "python"
    }
  },
  "cells": [
    {
      "cell_type": "markdown",
      "source": [
        "#CNNs with Gated Convolutions"
      ],
      "metadata": {
        "id": "j-2LXCl6U465"
      }
    },
    {
      "cell_type": "code",
      "execution_count": 1,
      "metadata": {
        "id": "485h-VLmU3EG"
      },
      "outputs": [],
      "source": [
        "import pandas as pd\n",
        "import matplotlib.pyplot as plt\n",
        "from tensorflow.keras.preprocessing.text import Tokenizer\n",
        "from tensorflow.keras.preprocessing.sequence import pad_sequences\n",
        "from tensorflow.keras.models import Sequential\n",
        "from tensorflow.keras.layers import Embedding, Conv1D, GlobalMaxPooling1D, Dense, Dropout\n",
        "from tensorflow.keras.callbacks import EarlyStopping\n",
        "from sklearn.model_selection import train_test_split"
      ]
    },
    {
      "cell_type": "code",
      "source": [
        "df = pd.read_csv('Small.csv', index_col=False)\n",
        "texts = df['Tweet']\n",
        "labels = df['Sarcasm'].map({'yes': 1, 'no': 0})"
      ],
      "metadata": {
        "id": "qDESMemQVf9s"
      },
      "execution_count": 2,
      "outputs": []
    },
    {
      "cell_type": "code",
      "source": [
        "def predict_sarcasm(text, tokenizer, model, max_len):\n",
        "    sequence = tokenizer.texts_to_sequences([text])\n",
        "    padded_sequence = pad_sequences(sequence, maxlen=max_len)\n",
        "    prediction = model.predict(padded_sequence)\n",
        "    if prediction > 0.5:\n",
        "        return \"This text is predicted to be sarcastic.\"\n",
        "    else:\n",
        "        return \"This text is predicted to be non-sarcastic.\""
      ],
      "metadata": {
        "id": "tHllt6gXWvwy"
      },
      "execution_count": 3,
      "outputs": []
    },
    {
      "cell_type": "code",
      "source": [
        "max_len = 100\n",
        "vocab_size = 10000\n",
        "embedding_dim = 128\n",
        "filter_sizes = [3, 4, 5]\n",
        "num_filters = 64\n",
        "texts = df['Tweet']\n",
        "labels = df['Sarcasm']\n",
        "labels = df['Sarcasm'].map({'yes': 1, 'no': 0})\n",
        "tokenizer = Tokenizer(num_words=vocab_size)\n",
        "tokenizer.fit_on_texts(texts)\n",
        "sequences = tokenizer.texts_to_sequences(texts)\n",
        "\n",
        "padded_sequences = pad_sequences(sequences, maxlen=max_len)\n",
        "\n",
        "from sklearn.model_selection import train_test_split\n",
        "X_train, X_test, y_train, y_test = train_test_split(padded_sequences, labels, test_size=0.2, random_state=42)\n",
        "\n",
        "embedding_layer = Embedding(vocab_size, embedding_dim, input_length=max_len)\n",
        "\n",
        "model = Sequential()\n",
        "model.add(embedding_layer)\n",
        "\n",
        "for filter_size in filter_sizes:\n",
        "    conv_layer = Conv1D(num_filters, filter_size, activation='tanh', padding='same')\n",
        "    gated_conv_layer = Conv1D(num_filters, filter_size, activation='sigmoid', padding='same')\n",
        "    model.add(conv_layer)\n",
        "    model.add(gated_conv_layer)\n",
        "    model.add(Dropout(0.2))\n",
        "\n",
        "model.add(GlobalMaxPooling1D())\n",
        "\n",
        "model.add(Dense(64, activation='relu'))\n",
        "model.add(Dropout(0.2))\n",
        "model.add(Dense(1, activation='sigmoid'))\n",
        "model.compile(loss='binary_crossentropy', optimizer='adam', metrics=['accuracy'])\n",
        "\n",
        "model.fit(X_train, y_train, epochs=10, batch_size=32, validation_data=(X_test, y_test))\n",
        "\n",
        "loss, accuracy = model.evaluate(X_test, y_test)\n",
        "print(f\"Test Loss: {loss:.4f}, Accuracy: {accuracy:.4f}\")\n",
        "\n",
        "new_text = \"My name is Tanisha.\"\n",
        "result = predict_sarcasm(new_text, tokenizer, model, max_len)\n",
        "print(result)"
      ],
      "metadata": {
        "colab": {
          "base_uri": "https://localhost:8080/"
        },
        "id": "t__mLtxIV6z7",
        "outputId": "209d27fe-e0b5-453c-8379-89847305e9f3"
      },
      "execution_count": 4,
      "outputs": [
        {
          "output_type": "stream",
          "name": "stdout",
          "text": [
            "Epoch 1/10\n",
            "174/174 [==============================] - 21s 104ms/step - loss: 0.6986 - accuracy: 0.5215 - val_loss: 0.6920 - val_accuracy: 0.5325\n",
            "Epoch 2/10\n",
            "174/174 [==============================] - 19s 108ms/step - loss: 0.5978 - accuracy: 0.6497 - val_loss: 0.3835 - val_accuracy: 0.8586\n",
            "Epoch 3/10\n",
            "174/174 [==============================] - 16s 90ms/step - loss: 0.2998 - accuracy: 0.8847 - val_loss: 0.3207 - val_accuracy: 0.8665\n",
            "Epoch 4/10\n",
            "174/174 [==============================] - 16s 93ms/step - loss: 0.1708 - accuracy: 0.9416 - val_loss: 0.2954 - val_accuracy: 0.8788\n",
            "Epoch 5/10\n",
            "174/174 [==============================] - 16s 90ms/step - loss: 0.1083 - accuracy: 0.9643 - val_loss: 0.3600 - val_accuracy: 0.8672\n",
            "Epoch 6/10\n",
            "174/174 [==============================] - 16s 93ms/step - loss: 0.0709 - accuracy: 0.9756 - val_loss: 0.3597 - val_accuracy: 0.8853\n",
            "Epoch 7/10\n",
            "174/174 [==============================] - 17s 96ms/step - loss: 0.0453 - accuracy: 0.9872 - val_loss: 0.3344 - val_accuracy: 0.8925\n",
            "Epoch 8/10\n",
            "174/174 [==============================] - 16s 95ms/step - loss: 0.0319 - accuracy: 0.9903 - val_loss: 0.3524 - val_accuracy: 0.8867\n",
            "Epoch 9/10\n",
            "174/174 [==============================] - 16s 91ms/step - loss: 0.0338 - accuracy: 0.9903 - val_loss: 0.4355 - val_accuracy: 0.8831\n",
            "Epoch 10/10\n",
            "174/174 [==============================] - 16s 92ms/step - loss: 0.0271 - accuracy: 0.9917 - val_loss: 0.4676 - val_accuracy: 0.8838\n",
            "44/44 [==============================] - 1s 16ms/step - loss: 0.4676 - accuracy: 0.8838\n",
            "Test Loss: 0.4676, Accuracy: 0.8838\n",
            "1/1 [==============================] - 0s 200ms/step\n",
            "This text is predicted to be sarcastic.\n"
          ]
        }
      ]
    },
    {
      "cell_type": "code",
      "source": [
        "new_text = \"My mom asked me this question as well.\"\n",
        "result = predict_sarcasm(new_text, tokenizer, model, max_len)\n",
        "print(result)"
      ],
      "metadata": {
        "colab": {
          "base_uri": "https://localhost:8080/"
        },
        "id": "n4BEGw9uXNAv",
        "outputId": "eeb6daa9-5873-4d91-d09e-50398f9c07cc"
      },
      "execution_count": 5,
      "outputs": [
        {
          "output_type": "stream",
          "name": "stdout",
          "text": [
            "1/1 [==============================] - 0s 21ms/step\n",
            "This text is predicted to be non-sarcastic.\n"
          ]
        }
      ]
    },
    {
      "cell_type": "code",
      "source": [
        "new_text = \"Sure, let's just add this to my already overflowing to-do list.\"\n",
        "result = predict_sarcasm(new_text, tokenizer, model, max_len)\n",
        "print(result)"
      ],
      "metadata": {
        "colab": {
          "base_uri": "https://localhost:8080/"
        },
        "id": "zWEjjQpKXOxk",
        "outputId": "9d4ad0a1-64a1-4778-87c7-03bc8bc5560a"
      },
      "execution_count": 6,
      "outputs": [
        {
          "output_type": "stream",
          "name": "stdout",
          "text": [
            "1/1 [==============================] - 0s 27ms/step\n",
            "This text is predicted to be sarcastic.\n"
          ]
        }
      ]
    },
    {
      "cell_type": "code",
      "source": [
        "new_text = \"Sure, let's just add this to my already overflowing to-do list.\"\n",
        "result = predict_sarcasm(new_text, tokenizer, model, max_len)\n",
        "print(result)"
      ],
      "metadata": {
        "colab": {
          "base_uri": "https://localhost:8080/"
        },
        "id": "G4bZx72DXSIw",
        "outputId": "44aa1513-a5d3-4a69-e15a-7a05b9174eed"
      },
      "execution_count": 7,
      "outputs": [
        {
          "output_type": "stream",
          "name": "stdout",
          "text": [
            "1/1 [==============================] - 0s 21ms/step\n",
            "This text is predicted to be sarcastic.\n"
          ]
        }
      ]
    }
  ]
}
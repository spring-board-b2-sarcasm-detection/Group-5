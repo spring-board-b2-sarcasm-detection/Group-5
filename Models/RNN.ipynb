{
  "nbformat": 4,
  "nbformat_minor": 0,
  "metadata": {
    "colab": {
      "provenance": []
    },
    "kernelspec": {
      "name": "python3",
      "display_name": "Python 3"
    },
    "language_info": {
      "name": "python"
    }
  },
  "cells": [
    {
      "cell_type": "code",
      "source": [
        "import pandas as pd\n",
        "from tensorflow.keras.preprocessing.text import Tokenizer\n",
        "from tensorflow.keras.preprocessing.sequence import pad_sequences\n",
        "from tensorflow.keras.models import Sequential\n",
        "from tensorflow.keras.layers import Embedding, LSTM, Dense, Dropout, Bidirectional\n",
        "from tensorflow.keras.callbacks import EarlyStopping\n",
        "from sklearn.model_selection import train_test_split\n",
        "from sklearn.metrics import f1_score\n",
        "import matplotlib.pyplot as plt"
      ],
      "metadata": {
        "id": "v2ubTaA5WYqV",
        "colab": {
          "base_uri": "https://localhost:8080/"
        },
        "outputId": "fbb6d82c-1f00-4214-e02e-a584f6c64aec"
      },
      "execution_count": 1,
      "outputs": [
        {
          "output_type": "stream",
          "name": "stderr",
          "text": [
            "Exception ignored in: <function _xla_gc_callback at 0x78e58ef789d0>\n",
            "Traceback (most recent call last):\n",
            "  File \"/usr/local/lib/python3.10/dist-packages/jax/_src/lib/__init__.py\", line 98, in _xla_gc_callback\n",
            "    def _xla_gc_callback(*args):\n",
            "KeyboardInterrupt: \n"
          ]
        }
      ]
    },
    {
      "cell_type": "code",
      "source": [
        "df = pd.read_csv('Small.csv', index_col=False)\n",
        "texts = df['Tweet'].astype(str)\n",
        "labels = df['Sarcasm'].map({'yes': 1, 'no': 0})"
      ],
      "metadata": {
        "id": "u99vg9oeWdoR"
      },
      "execution_count": 2,
      "outputs": []
    },
    {
      "cell_type": "code",
      "source": [
        "def predict_sarcasm(text, tokenizer, model, max_len):\n",
        "    sequence = tokenizer.texts_to_sequences([text])\n",
        "    padded_sequence = pad_sequences(sequence, maxlen=max_len)\n",
        "    prediction = model.predict(padded_sequence)\n",
        "    if prediction > 0.5:\n",
        "        return \"This text is predicted to be sarcastic.\"\n",
        "    else:\n",
        "        return \"This text is predicted to be non-sarcastic.\""
      ],
      "metadata": {
        "id": "2syowF-iXYVh"
      },
      "execution_count": 3,
      "outputs": []
    },
    {
      "cell_type": "code",
      "execution_count": 4,
      "metadata": {
        "colab": {
          "base_uri": "https://localhost:8080/"
        },
        "id": "8KhzLQPzVLTO",
        "outputId": "85b1c8ac-b08f-46db-a00b-28002496d3af"
      },
      "outputs": [
        {
          "output_type": "stream",
          "name": "stdout",
          "text": [
            "Epoch 1/10\n",
            "174/174 [==============================] - 250s 1s/step - loss: 0.3715 - accuracy: 0.5222 - val_loss: 0.2597 - val_accuracy: 0.5325\n",
            "Epoch 2/10\n",
            "174/174 [==============================] - 236s 1s/step - loss: 0.1619 - accuracy: 0.5222 - val_loss: 0.2643 - val_accuracy: 0.5325\n",
            "Epoch 3/10\n",
            "174/174 [==============================] - 246s 1s/step - loss: 0.0756 - accuracy: 0.5222 - val_loss: 0.3626 - val_accuracy: 0.5325\n",
            "Epoch 4/10\n",
            "174/174 [==============================] - 247s 1s/step - loss: 0.0423 - accuracy: 0.5222 - val_loss: 0.3662 - val_accuracy: 0.5325\n",
            "Epoch 5/10\n",
            "174/174 [==============================] - 246s 1s/step - loss: 0.0284 - accuracy: 0.5222 - val_loss: 0.3891 - val_accuracy: 0.5325\n",
            "Epoch 6/10\n",
            "174/174 [==============================] - 243s 1s/step - loss: 0.0197 - accuracy: 0.5222 - val_loss: 0.4346 - val_accuracy: 0.5325\n",
            "44/44 [==============================] - 14s 295ms/step\n",
            "F1 Score (weighted): 0.3700\n",
            "44/44 [==============================] - 13s 300ms/step - loss: 0.4346 - accuracy: 0.5325\n",
            "Test Loss: 0.4346, Accuracy: 0.5325\n"
          ]
        }
      ],
      "source": [
        "max_len = 128\n",
        "vocab_size = 10000\n",
        "embedding_dim = 512\n",
        "\n",
        "tokenizer = Tokenizer(num_words=vocab_size)\n",
        "tokenizer.fit_on_texts(texts)\n",
        "sequences = tokenizer.texts_to_sequences(texts)\n",
        "\n",
        "padded_sequences = pad_sequences(sequences, maxlen=max_len)\n",
        "\n",
        "X_train, X_test, y_train, y_test = train_test_split(padded_sequences, labels, test_size=0.2, random_state=42)\n",
        "\n",
        "model = Sequential()\n",
        "model.add(Embedding(vocab_size, embedding_dim, input_length=max_len))\n",
        "model.add(Bidirectional(LSTM(128, return_sequences=True)))\n",
        "model.add(Dropout(0.5))\n",
        "model.add(Bidirectional(LSTM(128)))\n",
        "model.add(Dropout(0.5))\n",
        "model.add(Dense(1, activation='softmax'))\n",
        "\n",
        "\n",
        "\n",
        "model.compile(loss='binary_crossentropy', optimizer='adam', metrics=['accuracy'])\n",
        "\n",
        "early_stopping = EarlyStopping(monitor='val_loss', patience=5)\n",
        "\n",
        "model.fit(X_train, y_train, epochs=10, batch_size=32, validation_data=(X_test, y_test), callbacks=[early_stopping])\n",
        "\n",
        "y_pred = model.predict(X_test)\n",
        "y_pred = (y_pred > 0.5).astype(int)\n",
        "f1 = f1_score(y_test, y_pred, average='weighted')\n",
        "print(f\"F1 Score (weighted): {f1:.4f}\")\n",
        "\n",
        "loss, accuracy = model.evaluate(X_test, y_test)\n",
        "print(f\"Test Loss: {loss:.4f}, Accuracy: {accuracy:.4f}\")"
      ]
    },
    {
      "cell_type": "code",
      "source": [
        "new_text = \"My name is Tanisha.\"\n",
        "result = predict_sarcasm(new_text, tokenizer, model, max_len)\n",
        "print(result)"
      ],
      "metadata": {
        "colab": {
          "base_uri": "https://localhost:8080/"
        },
        "id": "zCQRT5n428Pr",
        "outputId": "dd84db6e-e9d3-43ed-e1ab-fb3227877727"
      },
      "execution_count": 5,
      "outputs": [
        {
          "output_type": "stream",
          "name": "stdout",
          "text": [
            "1/1 [==============================] - 0s 84ms/step\n",
            "This text is predicted to be sarcastic.\n"
          ]
        }
      ]
    },
    {
      "cell_type": "code",
      "source": [
        "new_text = \"My mom asked me this question as well.\"\n",
        "result = predict_sarcasm(new_text, tokenizer, model, max_len)\n",
        "print(result)"
      ],
      "metadata": {
        "colab": {
          "base_uri": "https://localhost:8080/"
        },
        "id": "HHXphy_qYAo_",
        "outputId": "e29c3d27-2b3a-4f44-efa7-27581956877f"
      },
      "execution_count": 6,
      "outputs": [
        {
          "output_type": "stream",
          "name": "stdout",
          "text": [
            "1/1 [==============================] - 0s 167ms/step\n",
            "This text is predicted to be sarcastic.\n"
          ]
        }
      ]
    },
    {
      "cell_type": "code",
      "source": [
        "new_text = \"Sure, let's just add this to my already overflowing to-do list.\"\n",
        "result = predict_sarcasm(new_text, tokenizer, model, max_len)\n",
        "print(result)"
      ],
      "metadata": {
        "colab": {
          "base_uri": "https://localhost:8080/"
        },
        "id": "zsJxf_yRYDdV",
        "outputId": "db36caa6-676b-4969-caa6-294743a6fa9c"
      },
      "execution_count": 7,
      "outputs": [
        {
          "output_type": "stream",
          "name": "stdout",
          "text": [
            "1/1 [==============================] - 0s 83ms/step\n",
            "This text is predicted to be sarcastic.\n"
          ]
        }
      ]
    },
    {
      "cell_type": "code",
      "source": [
        "new_text = \"Sure, let's just add this to my already overflowing to-do list.\"\n",
        "result = predict_sarcasm(new_text, tokenizer, model, max_len)\n",
        "print(result)"
      ],
      "metadata": {
        "colab": {
          "base_uri": "https://localhost:8080/"
        },
        "id": "_eNI70acYGaY",
        "outputId": "68af1d40-d4cb-4e66-cb89-c25d11657458"
      },
      "execution_count": 8,
      "outputs": [
        {
          "output_type": "stream",
          "name": "stdout",
          "text": [
            "1/1 [==============================] - 0s 103ms/step\n",
            "This text is predicted to be sarcastic.\n"
          ]
        }
      ]
    }
  ]
}
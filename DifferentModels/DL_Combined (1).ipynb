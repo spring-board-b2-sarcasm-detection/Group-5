{
  "nbformat": 4,
  "nbformat_minor": 0,
  "metadata": {
    "colab": {
      "provenance": [],
      "gpuType": "T4"
    },
    "kernelspec": {
      "name": "python3",
      "display_name": "Python 3"
    },
    "language_info": {
      "name": "python"
    },
    "accelerator": "GPU"
  },
  "cells": [
    {
      "cell_type": "markdown",
      "source": [
        "# **Exploring Different Deep Learning Models**"
      ],
      "metadata": {
        "id": "ndi8Si3k6ToV"
      }
    },
    {
      "cell_type": "code",
      "source": [
        "!pip install emoji"
      ],
      "metadata": {
        "colab": {
          "base_uri": "https://localhost:8080/"
        },
        "id": "kyJDWyINcJSq",
        "outputId": "d17a405f-0cf6-4c05-a780-79d4f970afc2"
      },
      "execution_count": null,
      "outputs": [
        {
          "output_type": "stream",
          "name": "stdout",
          "text": [
            "Collecting emoji\n",
            "  Downloading emoji-2.12.1-py3-none-any.whl (431 kB)\n",
            "\u001b[2K     \u001b[90m━━━━━━━━━━━━━━━━━━━━━━━━━━━━━━━━━━━━━━━━\u001b[0m \u001b[32m431.4/431.4 kB\u001b[0m \u001b[31m4.7 MB/s\u001b[0m eta \u001b[36m0:00:00\u001b[0m\n",
            "\u001b[?25hRequirement already satisfied: typing-extensions>=4.7.0 in /usr/local/lib/python3.10/dist-packages (from emoji) (4.12.2)\n",
            "Installing collected packages: emoji\n",
            "Successfully installed emoji-2.12.1\n"
          ]
        }
      ]
    },
    {
      "cell_type": "markdown",
      "source": [
        "Importing the Libraries"
      ],
      "metadata": {
        "id": "PrIVzH58jfGA"
      }
    },
    {
      "cell_type": "code",
      "source": [
        "import pandas as pd\n",
        "import csv\n",
        "import re\n",
        "from sklearn.feature_extraction.text import TfidfVectorizer\n",
        "from tensorflow.keras.preprocessing.text import Tokenizer\n",
        "from tensorflow.keras.preprocessing.sequence import pad_sequences\n",
        "from sklearn.ensemble import RandomForestClassifier\n",
        "from sklearn.model_selection import train_test_split\n",
        "import nltk\n",
        "from nltk.tokenize import word_tokenize\n",
        "import matplotlib.pyplot as plt\n",
        "from nltk.tokenize import TweetTokenizer\n",
        "from sklearn.linear_model import LogisticRegression\n",
        "from sklearn.metrics import accuracy_score, classification_report, confusion_matrix, roc_curve, auc\n",
        "import seaborn as sns"
      ],
      "metadata": {
        "id": "KsXRKSjwcYZU"
      },
      "execution_count": null,
      "outputs": []
    },
    {
      "cell_type": "markdown",
      "source": [
        "## **DATA PREPROCESSING**"
      ],
      "metadata": {
        "id": "dgaOvF2qjjms"
      }
    },
    {
      "cell_type": "markdown",
      "source": [
        "\n",
        "\n",
        "*   Formatting the dataset\n",
        "\n"
      ],
      "metadata": {
        "id": "-5g1thkAjpas"
      }
    },
    {
      "cell_type": "code",
      "source": [
        "def extract(text):\n",
        "    # Split the text on the last comma to separate the boolean value\n",
        "    parts = text.rsplit(',', 1)\n",
        "    # Extract the string part and trim any extra whitespace\n",
        "    if len(parts) == 2:\n",
        "        es = parts[0].strip()\n",
        "        bv = parts[1].strip().lower() == 'true'\n",
        "    else: # If there's no comma, handle it by returning the entire text and a default false value\n",
        "        es = text.strip()\n",
        "        bv = False\n",
        "\n",
        "    return es, bv\n",
        "\n",
        "def process_file(filepath, output_filepath):\n",
        "    results = [] # List to store the results as tuples (extracted_string, boolean_value)\n",
        "    s = \"\"\n",
        "\n",
        "    with open(filepath, 'r') as file:\n",
        "        ls = file.readlines()\n",
        "\n",
        "    # Process each line in the file\n",
        "    for i, l in enumerate(ls):\n",
        "        l = l.strip()\n",
        "        if l:\n",
        "            s += l + \" \"\n",
        "        if (i + 1 == len(ls) or not ls[i + 1].strip()) and s:\n",
        "            es, bv = extract(s.strip())\n",
        "            results.append((es, bv))\n",
        "            s = \"\"\n",
        "    with open(output_filepath, 'w') as outfile:\n",
        "        for result in results:\n",
        "            outfile.write(f\"{result[0]}, {result[1]}\\n\")\n",
        "\n",
        "input_file_path = '/content/original_sarcasm_data.txt'\n",
        "output_file_path = 'output_file.txt'\n",
        "process_file(input_file_path, output_file_path)"
      ],
      "metadata": {
        "id": "CzIrZCY3cPIs"
      },
      "execution_count": null,
      "outputs": []
    },
    {
      "cell_type": "code",
      "source": [
        "df = pd.read_csv('output_file.txt', header=None, delimiter='\\t')\n",
        "df.head()"
      ],
      "metadata": {
        "colab": {
          "base_uri": "https://localhost:8080/",
          "height": 206
        },
        "id": "_uRmRgLjdMPU",
        "outputId": "02a1543b-703e-47e2-d5be-31e157a7fd87"
      },
      "execution_count": null,
      "outputs": [
        {
          "output_type": "execute_result",
          "data": {
            "text/plain": [
              "                                                   0\n",
              "0  Fantastic service yet again from EE. 1st you u...\n",
              "1  Not sure if that was or #realtalk . I'll take ...\n",
              "2  Barely 9 am and already shaking with rage.  #g...\n",
              "3  @deray I guess that proves it then. Black folk...\n",
              "4  @the_FF_engineer Does this tweet need a tag?, ..."
            ],
            "text/html": [
              "\n",
              "  <div id=\"df-3cf81159-2b9c-4d98-aa48-8e62d6d1febd\" class=\"colab-df-container\">\n",
              "    <div>\n",
              "<style scoped>\n",
              "    .dataframe tbody tr th:only-of-type {\n",
              "        vertical-align: middle;\n",
              "    }\n",
              "\n",
              "    .dataframe tbody tr th {\n",
              "        vertical-align: top;\n",
              "    }\n",
              "\n",
              "    .dataframe thead th {\n",
              "        text-align: right;\n",
              "    }\n",
              "</style>\n",
              "<table border=\"1\" class=\"dataframe\">\n",
              "  <thead>\n",
              "    <tr style=\"text-align: right;\">\n",
              "      <th></th>\n",
              "      <th>0</th>\n",
              "    </tr>\n",
              "  </thead>\n",
              "  <tbody>\n",
              "    <tr>\n",
              "      <th>0</th>\n",
              "      <td>Fantastic service yet again from EE. 1st you u...</td>\n",
              "    </tr>\n",
              "    <tr>\n",
              "      <th>1</th>\n",
              "      <td>Not sure if that was or #realtalk . I'll take ...</td>\n",
              "    </tr>\n",
              "    <tr>\n",
              "      <th>2</th>\n",
              "      <td>Barely 9 am and already shaking with rage.  #g...</td>\n",
              "    </tr>\n",
              "    <tr>\n",
              "      <th>3</th>\n",
              "      <td>@deray I guess that proves it then. Black folk...</td>\n",
              "    </tr>\n",
              "    <tr>\n",
              "      <th>4</th>\n",
              "      <td>@the_FF_engineer Does this tweet need a tag?, ...</td>\n",
              "    </tr>\n",
              "  </tbody>\n",
              "</table>\n",
              "</div>\n",
              "    <div class=\"colab-df-buttons\">\n",
              "\n",
              "  <div class=\"colab-df-container\">\n",
              "    <button class=\"colab-df-convert\" onclick=\"convertToInteractive('df-3cf81159-2b9c-4d98-aa48-8e62d6d1febd')\"\n",
              "            title=\"Convert this dataframe to an interactive table.\"\n",
              "            style=\"display:none;\">\n",
              "\n",
              "  <svg xmlns=\"http://www.w3.org/2000/svg\" height=\"24px\" viewBox=\"0 -960 960 960\">\n",
              "    <path d=\"M120-120v-720h720v720H120Zm60-500h600v-160H180v160Zm220 220h160v-160H400v160Zm0 220h160v-160H400v160ZM180-400h160v-160H180v160Zm440 0h160v-160H620v160ZM180-180h160v-160H180v160Zm440 0h160v-160H620v160Z\"/>\n",
              "  </svg>\n",
              "    </button>\n",
              "\n",
              "  <style>\n",
              "    .colab-df-container {\n",
              "      display:flex;\n",
              "      gap: 12px;\n",
              "    }\n",
              "\n",
              "    .colab-df-convert {\n",
              "      background-color: #E8F0FE;\n",
              "      border: none;\n",
              "      border-radius: 50%;\n",
              "      cursor: pointer;\n",
              "      display: none;\n",
              "      fill: #1967D2;\n",
              "      height: 32px;\n",
              "      padding: 0 0 0 0;\n",
              "      width: 32px;\n",
              "    }\n",
              "\n",
              "    .colab-df-convert:hover {\n",
              "      background-color: #E2EBFA;\n",
              "      box-shadow: 0px 1px 2px rgba(60, 64, 67, 0.3), 0px 1px 3px 1px rgba(60, 64, 67, 0.15);\n",
              "      fill: #174EA6;\n",
              "    }\n",
              "\n",
              "    .colab-df-buttons div {\n",
              "      margin-bottom: 4px;\n",
              "    }\n",
              "\n",
              "    [theme=dark] .colab-df-convert {\n",
              "      background-color: #3B4455;\n",
              "      fill: #D2E3FC;\n",
              "    }\n",
              "\n",
              "    [theme=dark] .colab-df-convert:hover {\n",
              "      background-color: #434B5C;\n",
              "      box-shadow: 0px 1px 3px 1px rgba(0, 0, 0, 0.15);\n",
              "      filter: drop-shadow(0px 1px 2px rgba(0, 0, 0, 0.3));\n",
              "      fill: #FFFFFF;\n",
              "    }\n",
              "  </style>\n",
              "\n",
              "    <script>\n",
              "      const buttonEl =\n",
              "        document.querySelector('#df-3cf81159-2b9c-4d98-aa48-8e62d6d1febd button.colab-df-convert');\n",
              "      buttonEl.style.display =\n",
              "        google.colab.kernel.accessAllowed ? 'block' : 'none';\n",
              "\n",
              "      async function convertToInteractive(key) {\n",
              "        const element = document.querySelector('#df-3cf81159-2b9c-4d98-aa48-8e62d6d1febd');\n",
              "        const dataTable =\n",
              "          await google.colab.kernel.invokeFunction('convertToInteractive',\n",
              "                                                    [key], {});\n",
              "        if (!dataTable) return;\n",
              "\n",
              "        const docLinkHtml = 'Like what you see? Visit the ' +\n",
              "          '<a target=\"_blank\" href=https://colab.research.google.com/notebooks/data_table.ipynb>data table notebook</a>'\n",
              "          + ' to learn more about interactive tables.';\n",
              "        element.innerHTML = '';\n",
              "        dataTable['output_type'] = 'display_data';\n",
              "        await google.colab.output.renderOutput(dataTable, element);\n",
              "        const docLink = document.createElement('div');\n",
              "        docLink.innerHTML = docLinkHtml;\n",
              "        element.appendChild(docLink);\n",
              "      }\n",
              "    </script>\n",
              "  </div>\n",
              "\n",
              "\n",
              "<div id=\"df-42950e82-019f-4521-9ba6-801abf46a08a\">\n",
              "  <button class=\"colab-df-quickchart\" onclick=\"quickchart('df-42950e82-019f-4521-9ba6-801abf46a08a')\"\n",
              "            title=\"Suggest charts\"\n",
              "            style=\"display:none;\">\n",
              "\n",
              "<svg xmlns=\"http://www.w3.org/2000/svg\" height=\"24px\"viewBox=\"0 0 24 24\"\n",
              "     width=\"24px\">\n",
              "    <g>\n",
              "        <path d=\"M19 3H5c-1.1 0-2 .9-2 2v14c0 1.1.9 2 2 2h14c1.1 0 2-.9 2-2V5c0-1.1-.9-2-2-2zM9 17H7v-7h2v7zm4 0h-2V7h2v10zm4 0h-2v-4h2v4z\"/>\n",
              "    </g>\n",
              "</svg>\n",
              "  </button>\n",
              "\n",
              "<style>\n",
              "  .colab-df-quickchart {\n",
              "      --bg-color: #E8F0FE;\n",
              "      --fill-color: #1967D2;\n",
              "      --hover-bg-color: #E2EBFA;\n",
              "      --hover-fill-color: #174EA6;\n",
              "      --disabled-fill-color: #AAA;\n",
              "      --disabled-bg-color: #DDD;\n",
              "  }\n",
              "\n",
              "  [theme=dark] .colab-df-quickchart {\n",
              "      --bg-color: #3B4455;\n",
              "      --fill-color: #D2E3FC;\n",
              "      --hover-bg-color: #434B5C;\n",
              "      --hover-fill-color: #FFFFFF;\n",
              "      --disabled-bg-color: #3B4455;\n",
              "      --disabled-fill-color: #666;\n",
              "  }\n",
              "\n",
              "  .colab-df-quickchart {\n",
              "    background-color: var(--bg-color);\n",
              "    border: none;\n",
              "    border-radius: 50%;\n",
              "    cursor: pointer;\n",
              "    display: none;\n",
              "    fill: var(--fill-color);\n",
              "    height: 32px;\n",
              "    padding: 0;\n",
              "    width: 32px;\n",
              "  }\n",
              "\n",
              "  .colab-df-quickchart:hover {\n",
              "    background-color: var(--hover-bg-color);\n",
              "    box-shadow: 0 1px 2px rgba(60, 64, 67, 0.3), 0 1px 3px 1px rgba(60, 64, 67, 0.15);\n",
              "    fill: var(--button-hover-fill-color);\n",
              "  }\n",
              "\n",
              "  .colab-df-quickchart-complete:disabled,\n",
              "  .colab-df-quickchart-complete:disabled:hover {\n",
              "    background-color: var(--disabled-bg-color);\n",
              "    fill: var(--disabled-fill-color);\n",
              "    box-shadow: none;\n",
              "  }\n",
              "\n",
              "  .colab-df-spinner {\n",
              "    border: 2px solid var(--fill-color);\n",
              "    border-color: transparent;\n",
              "    border-bottom-color: var(--fill-color);\n",
              "    animation:\n",
              "      spin 1s steps(1) infinite;\n",
              "  }\n",
              "\n",
              "  @keyframes spin {\n",
              "    0% {\n",
              "      border-color: transparent;\n",
              "      border-bottom-color: var(--fill-color);\n",
              "      border-left-color: var(--fill-color);\n",
              "    }\n",
              "    20% {\n",
              "      border-color: transparent;\n",
              "      border-left-color: var(--fill-color);\n",
              "      border-top-color: var(--fill-color);\n",
              "    }\n",
              "    30% {\n",
              "      border-color: transparent;\n",
              "      border-left-color: var(--fill-color);\n",
              "      border-top-color: var(--fill-color);\n",
              "      border-right-color: var(--fill-color);\n",
              "    }\n",
              "    40% {\n",
              "      border-color: transparent;\n",
              "      border-right-color: var(--fill-color);\n",
              "      border-top-color: var(--fill-color);\n",
              "    }\n",
              "    60% {\n",
              "      border-color: transparent;\n",
              "      border-right-color: var(--fill-color);\n",
              "    }\n",
              "    80% {\n",
              "      border-color: transparent;\n",
              "      border-right-color: var(--fill-color);\n",
              "      border-bottom-color: var(--fill-color);\n",
              "    }\n",
              "    90% {\n",
              "      border-color: transparent;\n",
              "      border-bottom-color: var(--fill-color);\n",
              "    }\n",
              "  }\n",
              "</style>\n",
              "\n",
              "  <script>\n",
              "    async function quickchart(key) {\n",
              "      const quickchartButtonEl =\n",
              "        document.querySelector('#' + key + ' button');\n",
              "      quickchartButtonEl.disabled = true;  // To prevent multiple clicks.\n",
              "      quickchartButtonEl.classList.add('colab-df-spinner');\n",
              "      try {\n",
              "        const charts = await google.colab.kernel.invokeFunction(\n",
              "            'suggestCharts', [key], {});\n",
              "      } catch (error) {\n",
              "        console.error('Error during call to suggestCharts:', error);\n",
              "      }\n",
              "      quickchartButtonEl.classList.remove('colab-df-spinner');\n",
              "      quickchartButtonEl.classList.add('colab-df-quickchart-complete');\n",
              "    }\n",
              "    (() => {\n",
              "      let quickchartButtonEl =\n",
              "        document.querySelector('#df-42950e82-019f-4521-9ba6-801abf46a08a button');\n",
              "      quickchartButtonEl.style.display =\n",
              "        google.colab.kernel.accessAllowed ? 'block' : 'none';\n",
              "    })();\n",
              "  </script>\n",
              "</div>\n",
              "\n",
              "    </div>\n",
              "  </div>\n"
            ],
            "application/vnd.google.colaboratory.intrinsic+json": {
              "type": "dataframe",
              "variable_name": "df",
              "summary": "{\n  \"name\": \"df\",\n  \"rows\": 1028,\n  \"fields\": [\n    {\n      \"column\": 0,\n      \"properties\": {\n        \"dtype\": \"string\",\n        \"num_unique_values\": 1023,\n        \"samples\": [\n          \"This is BRAND new information ... I am so shocked., True\",\n          \"@MarathonWealth gpro is a recession proof stock. Didn't they teach you that on the $12k CFP course?, True\",\n          \"@DAKINS24 @DM0GUL @SportsCenter there seems to be ZERO bias in this tweet, True\"\n        ],\n        \"semantic_type\": \"\",\n        \"description\": \"\"\n      }\n    }\n  ]\n}"
            }
          },
          "metadata": {},
          "execution_count": 9
        }
      ]
    },
    {
      "cell_type": "code",
      "source": [
        "df.to_csv('output_file.csv', index=False)"
      ],
      "metadata": {
        "id": "tV4XHuFketQJ"
      },
      "execution_count": null,
      "outputs": []
    },
    {
      "cell_type": "markdown",
      "source": [
        "\n",
        "\n",
        "*   Handling URLs, Hashtags and Mentions\n",
        "\n",
        "\n"
      ],
      "metadata": {
        "id": "hx1Q8EeYkTqk"
      }
    },
    {
      "cell_type": "code",
      "source": [
        "def clean_text(text):\n",
        "    # Remove URLs\n",
        "    text = re.sub(r'http[s]?://\\S+', '', text)\n",
        "    # Remove hashtags\n",
        "    text = re.sub(r'#\\w+', '', text)\n",
        "    # Remove @mentions\n",
        "    text = re.sub(r'@\\w+', '', text)\n",
        "    return text.strip()\n",
        "\n",
        "def process_csv(input_file, output_file):\n",
        "    with open(input_file, 'r', encoding='utf-8') as file:\n",
        "        r = csv.reader(file)\n",
        "        h = next(r)\n",
        "        df = list(r)\n",
        "# Clean text in the CSV data, handling potential IndexError\n",
        "    cleaned_data = [(clean_text(row[0]), row[1] if len(row) > 1 else '') for row in df] # Handle cases where row might have only one element\n",
        " # Write cleaned data to a new CSV file\n",
        "    with open(output_file, 'w', newline='', encoding='utf-8') as file:\n",
        "        w = csv.writer(file)\n",
        "        w.writerow(h)\n",
        "        for row in cleaned_data:\n",
        "            w.writerow(row)\n",
        "    # Print the message after processing is done and within the function's scope\n",
        "    print(\"Cleaned data has been written to\", output_file)\n",
        "\n",
        "# Call the function with the file paths\n",
        "process_csv('output_file.csv', 'cleaned_output.csv')"
      ],
      "metadata": {
        "colab": {
          "base_uri": "https://localhost:8080/"
        },
        "id": "rAfSI2yhgKuy",
        "outputId": "7d53f6ac-4fca-4fb4-c84a-3528bc7d5a00"
      },
      "execution_count": null,
      "outputs": [
        {
          "output_type": "stream",
          "name": "stdout",
          "text": [
            "Cleaned data has been written to cleaned_output.csv\n"
          ]
        }
      ]
    },
    {
      "cell_type": "markdown",
      "source": [
        "\n",
        "\n",
        "*   Replacing Emojis to a descriptive word\n",
        "\n",
        "\n"
      ],
      "metadata": {
        "id": "9Ja5H0VvkcZC"
      }
    },
    {
      "cell_type": "code",
      "source": [
        "def replace_emojis_with_descriptions(text):\n",
        "    def replace(match):\n",
        "        emoji_desc = match.group(0)\n",
        "        try:\n",
        "            return emoji.demojize(emoji_desc)\n",
        "        except KeyError:\n",
        "            return ''  # If emoji not found, replace with an empty string\n",
        "\n",
        "    emojis = re.compile(\"[\"\n",
        "                       u\"\\U0001F600-\\U0001F64F\"\n",
        "                       u\"\\U0001F300-\\U0001F5FF\"\n",
        "                       u\"\\U0001F680-\\U0001F6FF\"\n",
        "                       u\"\\U0001F700-\\U0001F77F\"\n",
        "                       u\"\\U0001F780-\\U0001F7FF\"\n",
        "                       u\"\\U0001F800-\\U0001F8FF\"\n",
        "                       u\"\\U0001F900-\\U0001F9FF\"\n",
        "                       u\"\\U0001FA00-\\U0001FA6F\"\n",
        "                       u\"\\U0001FA70-\\U0001FAFF\"\n",
        "                       u\"\\U00002702-\\U000027B0\"\n",
        "                       u\"\\U000024C2-\\U0001F251\"\n",
        "                       \"]+\", flags=re.UNICODE)\n",
        "    return emojis.sub(replace, text)\n",
        "\n",
        "def process_file(input_file_path, output_file_path):\n",
        "    with open(input_file_path, 'r', encoding='utf-8') as file:\n",
        "        lines = file.readlines()\n",
        "\n",
        "    cleaned_lines = [replace_emojis_with_descriptions(line) for line in lines]\n",
        "\n",
        "    with open(output_file_path, 'w', encoding='utf-8') as file:\n",
        "        file.writelines(cleaned_lines)\n",
        "\n",
        "input_path = 'cleaned_output.csv'\n",
        "output_path = 'emoji_removed.txt'\n",
        "process_file(input_path, output_path)\n",
        "process_csv('cleaned_output.csv', 'emoji_removed.csv')"
      ],
      "metadata": {
        "colab": {
          "base_uri": "https://localhost:8080/"
        },
        "id": "tt6d_2VHgSFl",
        "outputId": "895b07ba-16c7-4f3b-bb39-6b7db8de357b"
      },
      "execution_count": null,
      "outputs": [
        {
          "output_type": "stream",
          "name": "stdout",
          "text": [
            "Cleaned data has been written to emoji_removed.csv\n"
          ]
        }
      ]
    },
    {
      "cell_type": "markdown",
      "source": [
        "\n",
        "\n",
        "*   Handling Abbreviations\n",
        "\n",
        "\n"
      ],
      "metadata": {
        "id": "t04nqaSDkgdO"
      }
    },
    {
      "cell_type": "code",
      "source": [
        "def expand_contractions(text):\n",
        "    # Define common contractions and their expansions\n",
        "    contractions_dict = {\n",
        "        \"ain't\": \"am not\",\n",
        "        \"aren't\": \"are not\",\n",
        "        \"can't\": \"cannot\",\n",
        "        \"could've\": \"could have\",\n",
        "        \"couldn't\": \"could not\",\n",
        "        \"didn't\": \"did not\",\n",
        "        \"doesn't\": \"does not\",\n",
        "        \"don't\": \"do not\",\n",
        "        \"hadn't\": \"had not\",\n",
        "        \"hasn't\": \"has not\",\n",
        "        \"haven't\": \"have not\",\n",
        "        \"he'd\": \"he would\",\n",
        "        \"he'll\": \"he will\",\n",
        "        \"he's\": \"he is\",\n",
        "        \"how'd\": \"how did\",\n",
        "        \"how'll\": \"how will\",\n",
        "        \"how's\": \"how is\",\n",
        "        \"I'd\": \"I would\",\n",
        "        \"I'll\": \"I will\",\n",
        "        \"I'm\": \"I am\",\n",
        "        \"I've\": \"I have\",\n",
        "        \"isn't\": \"is not\",\n",
        "        \"it'd\": \"it would\",\n",
        "        \"it'll\": \"it will\",\n",
        "        \"it's\": \"it is\",\n",
        "        \"let's\": \"let us\",\n",
        "        \"mustn't\": \"must not\",\n",
        "        \"shan't\": \"shall not\",\n",
        "        \"she'd\": \"she would\",\n",
        "        \"she'll\": \"she will\",\n",
        "        \"she's\": \"she is\",\n",
        "        \"should've\": \"should have\",\n",
        "        \"shouldn't\": \"should not\",\n",
        "        \"that's\": \"that is\",\n",
        "        \"there's\": \"there is\",\n",
        "        \"they'd\": \"they would\",\n",
        "        \"they'll\": \"they will\",\n",
        "        \"they're\": \"they are\",\n",
        "        \"they've\": \"they have\",\n",
        "        \"wasn't\": \"was not\",\n",
        "        \"we'd\": \"we would\",\n",
        "        \"we'll\": \"we will\",\n",
        "        \"we're\": \"we are\",\n",
        "        \"we've\": \"we have\",\n",
        "        \"weren't\": \"were not\",\n",
        "        \"what'll\": \"what will\",\n",
        "        \"what're\": \"what are\",\n",
        "        \"what's\": \"what is\",\n",
        "        \"what've\": \"what have\",\n",
        "        \"when's\": \"when is\",\n",
        "        \"where'd\": \"where did\",\n",
        "        \"where's\": \"where is\",\n",
        "        \"who'll\": \"who will\",\n",
        "        \"who's\": \"who is\",\n",
        "        \"won't\": \"will not\",\n",
        "        \"would've\": \"would have\",\n",
        "        \"wouldn't\": \"would not\",\n",
        "        \"you'd\": \"you would\",\n",
        "        \"you'll\": \"you will\",\n",
        "        \"you're\": \"you are\",\n",
        "        \"you've\": \"you have\"\n",
        "    }\n",
        "\n",
        "    # Regular expression pattern for finding contractions\n",
        "    contractions_re = re.compile('(%s)' % '|'.join(contractions_dict.keys()))\n",
        "\n",
        "    def expand_match(contraction):\n",
        "        match = contraction.group(0)\n",
        "        expanded_contraction = contractions_dict.get(match) if contractions_dict.get(match) else contractions_dict.get(match.lower())\n",
        "        return expanded_contraction\n",
        "\n",
        "    # Replace contractions with their expansions\n",
        "    expanded_text = contractions_re.sub(expand_match, text)\n",
        "    return expanded_text\n",
        "\n",
        "# Open final.txt for reading\n",
        "with open('emoji_removed.csv', 'r') as infile:\n",
        "    # Read lines from the file\n",
        "    lines = infile.readlines()\n",
        "\n",
        "# Apply expand_contractions() function to each line\n",
        "expanded_lines = [expand_contractions(line) for line in lines]\n",
        "\n",
        "# Write the expanded content to expanded_final.txt\n",
        "with open('final.txt', 'w') as outfile:\n",
        "    # Write each expanded line to the output file\n",
        "    for line in expanded_lines:\n",
        "        outfile.write(line)\n",
        "process_csv('emoji_removed.csv', 'final.csv')"
      ],
      "metadata": {
        "colab": {
          "base_uri": "https://localhost:8080/"
        },
        "id": "oOMHAGL0gs0c",
        "outputId": "92ba9e19-0742-44f1-a07b-8faf26b127cf"
      },
      "execution_count": null,
      "outputs": [
        {
          "output_type": "stream",
          "name": "stdout",
          "text": [
            "Cleaned data has been written to final.csv\n"
          ]
        }
      ]
    },
    {
      "cell_type": "markdown",
      "source": [
        "\n",
        "\n",
        "*   Removing Special Characters\n",
        "\n",
        "\n"
      ],
      "metadata": {
        "id": "WqCq4WsqkpDs"
      }
    },
    {
      "cell_type": "code",
      "source": [
        "# Define a function to remove special characters\n",
        "def remove_special_characters(text):\n",
        "    # Remove special characters except for \",\", \".\", \"!\", and newline characters\n",
        "    cleaned_text = re.sub(r'[^\\w\\s,.!\\n]', '', text)\n",
        "    return cleaned_text\n",
        "\n",
        "with open('final.csv', 'r') as infile:\n",
        "    # Read lines from the file\n",
        "    lines = infile.readlines()\n",
        "\n",
        "# Apply remove_special_characters() function to each line\n",
        "cleaned_lines = [remove_special_characters(line) for line in lines]\n",
        "\n",
        "# Write the cleaned content to final_cleaned.txt\n",
        "with open('final_cleaned.csv', 'w') as outfile:\n",
        "    # Write each cleaned line to the output file\n",
        "    for line in cleaned_lines:\n",
        "        outfile.write(line)"
      ],
      "metadata": {
        "id": "e76x53RghUAn"
      },
      "execution_count": null,
      "outputs": []
    },
    {
      "cell_type": "markdown",
      "source": [
        "**Merging the two datasets**"
      ],
      "metadata": {
        "id": "l1_J8jhqk4q8"
      }
    },
    {
      "cell_type": "code",
      "source": [
        "df1 = pd.read_csv(\"final_cleaned.csv\")\n",
        "df2 = pd.read_csv('Clean_Dataset.csv')\n",
        "\n",
        "df1 = df1.rename(columns={\"sarcsam\": \"Sarcasm\", \"tweet\": \"Tweet\"})\n",
        "df2 = df2.rename(columns={\"Label\": \"Sarcasm\", \"Tweets\": \"Tweet\"})\n",
        "\n",
        "df1['Sarcasm'] = df1['Sarcasm'].replace({'sarcastic': 'yes', 'non sarcastic': 'no', 'not sarcastic': 'no'})\n",
        "merged_df = pd.concat([df1[['Tweet', 'Sarcasm']], df2[['Tweet', 'Sarcasm']]], ignore_index=True)\n",
        "\n",
        "merged_df.to_csv('Merge.csv', index=False)"
      ],
      "metadata": {
        "id": "QynjknmwkJk5"
      },
      "execution_count": null,
      "outputs": []
    },
    {
      "cell_type": "markdown",
      "source": [
        "# **Tokenization**"
      ],
      "metadata": {
        "id": "AP6lq1Dch47W"
      }
    },
    {
      "cell_type": "code",
      "source": [
        "df = pd.read_csv('merged_file.csv', index_col=False)\n",
        "\n",
        "df.head()"
      ],
      "metadata": {
        "colab": {
          "base_uri": "https://localhost:8080/",
          "height": 206
        },
        "id": "HVDOsI1misag",
        "outputId": "b1a82a2e-3f8e-4271-db80-f2073285114a"
      },
      "execution_count": null,
      "outputs": [
        {
          "output_type": "execute_result",
          "data": {
            "text/plain": [
              "                                               Tweet Sarcasm\n",
              "0  Fantastic service yet again from EE. 1st you u...     yes\n",
              "1  Not sure if that was or. I will take it! face_...     yes\n",
              "2         Barely 9 am and already shaking with rage.     yes\n",
              "3  I guess that proves it then. Black folks have ...     yes\n",
              "4                         Does this tweet need a tag     yes"
            ],
            "text/html": [
              "\n",
              "  <div id=\"df-ebf3535d-8a40-43c5-b09d-9a8b93daa168\" class=\"colab-df-container\">\n",
              "    <div>\n",
              "<style scoped>\n",
              "    .dataframe tbody tr th:only-of-type {\n",
              "        vertical-align: middle;\n",
              "    }\n",
              "\n",
              "    .dataframe tbody tr th {\n",
              "        vertical-align: top;\n",
              "    }\n",
              "\n",
              "    .dataframe thead th {\n",
              "        text-align: right;\n",
              "    }\n",
              "</style>\n",
              "<table border=\"1\" class=\"dataframe\">\n",
              "  <thead>\n",
              "    <tr style=\"text-align: right;\">\n",
              "      <th></th>\n",
              "      <th>Tweet</th>\n",
              "      <th>Sarcasm</th>\n",
              "    </tr>\n",
              "  </thead>\n",
              "  <tbody>\n",
              "    <tr>\n",
              "      <th>0</th>\n",
              "      <td>Fantastic service yet again from EE. 1st you u...</td>\n",
              "      <td>yes</td>\n",
              "    </tr>\n",
              "    <tr>\n",
              "      <th>1</th>\n",
              "      <td>Not sure if that was or. I will take it! face_...</td>\n",
              "      <td>yes</td>\n",
              "    </tr>\n",
              "    <tr>\n",
              "      <th>2</th>\n",
              "      <td>Barely 9 am and already shaking with rage.</td>\n",
              "      <td>yes</td>\n",
              "    </tr>\n",
              "    <tr>\n",
              "      <th>3</th>\n",
              "      <td>I guess that proves it then. Black folks have ...</td>\n",
              "      <td>yes</td>\n",
              "    </tr>\n",
              "    <tr>\n",
              "      <th>4</th>\n",
              "      <td>Does this tweet need a tag</td>\n",
              "      <td>yes</td>\n",
              "    </tr>\n",
              "  </tbody>\n",
              "</table>\n",
              "</div>\n",
              "    <div class=\"colab-df-buttons\">\n",
              "\n",
              "  <div class=\"colab-df-container\">\n",
              "    <button class=\"colab-df-convert\" onclick=\"convertToInteractive('df-ebf3535d-8a40-43c5-b09d-9a8b93daa168')\"\n",
              "            title=\"Convert this dataframe to an interactive table.\"\n",
              "            style=\"display:none;\">\n",
              "\n",
              "  <svg xmlns=\"http://www.w3.org/2000/svg\" height=\"24px\" viewBox=\"0 -960 960 960\">\n",
              "    <path d=\"M120-120v-720h720v720H120Zm60-500h600v-160H180v160Zm220 220h160v-160H400v160Zm0 220h160v-160H400v160ZM180-400h160v-160H180v160Zm440 0h160v-160H620v160ZM180-180h160v-160H180v160Zm440 0h160v-160H620v160Z\"/>\n",
              "  </svg>\n",
              "    </button>\n",
              "\n",
              "  <style>\n",
              "    .colab-df-container {\n",
              "      display:flex;\n",
              "      gap: 12px;\n",
              "    }\n",
              "\n",
              "    .colab-df-convert {\n",
              "      background-color: #E8F0FE;\n",
              "      border: none;\n",
              "      border-radius: 50%;\n",
              "      cursor: pointer;\n",
              "      display: none;\n",
              "      fill: #1967D2;\n",
              "      height: 32px;\n",
              "      padding: 0 0 0 0;\n",
              "      width: 32px;\n",
              "    }\n",
              "\n",
              "    .colab-df-convert:hover {\n",
              "      background-color: #E2EBFA;\n",
              "      box-shadow: 0px 1px 2px rgba(60, 64, 67, 0.3), 0px 1px 3px 1px rgba(60, 64, 67, 0.15);\n",
              "      fill: #174EA6;\n",
              "    }\n",
              "\n",
              "    .colab-df-buttons div {\n",
              "      margin-bottom: 4px;\n",
              "    }\n",
              "\n",
              "    [theme=dark] .colab-df-convert {\n",
              "      background-color: #3B4455;\n",
              "      fill: #D2E3FC;\n",
              "    }\n",
              "\n",
              "    [theme=dark] .colab-df-convert:hover {\n",
              "      background-color: #434B5C;\n",
              "      box-shadow: 0px 1px 3px 1px rgba(0, 0, 0, 0.15);\n",
              "      filter: drop-shadow(0px 1px 2px rgba(0, 0, 0, 0.3));\n",
              "      fill: #FFFFFF;\n",
              "    }\n",
              "  </style>\n",
              "\n",
              "    <script>\n",
              "      const buttonEl =\n",
              "        document.querySelector('#df-ebf3535d-8a40-43c5-b09d-9a8b93daa168 button.colab-df-convert');\n",
              "      buttonEl.style.display =\n",
              "        google.colab.kernel.accessAllowed ? 'block' : 'none';\n",
              "\n",
              "      async function convertToInteractive(key) {\n",
              "        const element = document.querySelector('#df-ebf3535d-8a40-43c5-b09d-9a8b93daa168');\n",
              "        const dataTable =\n",
              "          await google.colab.kernel.invokeFunction('convertToInteractive',\n",
              "                                                    [key], {});\n",
              "        if (!dataTable) return;\n",
              "\n",
              "        const docLinkHtml = 'Like what you see? Visit the ' +\n",
              "          '<a target=\"_blank\" href=https://colab.research.google.com/notebooks/data_table.ipynb>data table notebook</a>'\n",
              "          + ' to learn more about interactive tables.';\n",
              "        element.innerHTML = '';\n",
              "        dataTable['output_type'] = 'display_data';\n",
              "        await google.colab.output.renderOutput(dataTable, element);\n",
              "        const docLink = document.createElement('div');\n",
              "        docLink.innerHTML = docLinkHtml;\n",
              "        element.appendChild(docLink);\n",
              "      }\n",
              "    </script>\n",
              "  </div>\n",
              "\n",
              "\n",
              "<div id=\"df-3dc04537-c107-4cca-b4ba-c2d9c742c579\">\n",
              "  <button class=\"colab-df-quickchart\" onclick=\"quickchart('df-3dc04537-c107-4cca-b4ba-c2d9c742c579')\"\n",
              "            title=\"Suggest charts\"\n",
              "            style=\"display:none;\">\n",
              "\n",
              "<svg xmlns=\"http://www.w3.org/2000/svg\" height=\"24px\"viewBox=\"0 0 24 24\"\n",
              "     width=\"24px\">\n",
              "    <g>\n",
              "        <path d=\"M19 3H5c-1.1 0-2 .9-2 2v14c0 1.1.9 2 2 2h14c1.1 0 2-.9 2-2V5c0-1.1-.9-2-2-2zM9 17H7v-7h2v7zm4 0h-2V7h2v10zm4 0h-2v-4h2v4z\"/>\n",
              "    </g>\n",
              "</svg>\n",
              "  </button>\n",
              "\n",
              "<style>\n",
              "  .colab-df-quickchart {\n",
              "      --bg-color: #E8F0FE;\n",
              "      --fill-color: #1967D2;\n",
              "      --hover-bg-color: #E2EBFA;\n",
              "      --hover-fill-color: #174EA6;\n",
              "      --disabled-fill-color: #AAA;\n",
              "      --disabled-bg-color: #DDD;\n",
              "  }\n",
              "\n",
              "  [theme=dark] .colab-df-quickchart {\n",
              "      --bg-color: #3B4455;\n",
              "      --fill-color: #D2E3FC;\n",
              "      --hover-bg-color: #434B5C;\n",
              "      --hover-fill-color: #FFFFFF;\n",
              "      --disabled-bg-color: #3B4455;\n",
              "      --disabled-fill-color: #666;\n",
              "  }\n",
              "\n",
              "  .colab-df-quickchart {\n",
              "    background-color: var(--bg-color);\n",
              "    border: none;\n",
              "    border-radius: 50%;\n",
              "    cursor: pointer;\n",
              "    display: none;\n",
              "    fill: var(--fill-color);\n",
              "    height: 32px;\n",
              "    padding: 0;\n",
              "    width: 32px;\n",
              "  }\n",
              "\n",
              "  .colab-df-quickchart:hover {\n",
              "    background-color: var(--hover-bg-color);\n",
              "    box-shadow: 0 1px 2px rgba(60, 64, 67, 0.3), 0 1px 3px 1px rgba(60, 64, 67, 0.15);\n",
              "    fill: var(--button-hover-fill-color);\n",
              "  }\n",
              "\n",
              "  .colab-df-quickchart-complete:disabled,\n",
              "  .colab-df-quickchart-complete:disabled:hover {\n",
              "    background-color: var(--disabled-bg-color);\n",
              "    fill: var(--disabled-fill-color);\n",
              "    box-shadow: none;\n",
              "  }\n",
              "\n",
              "  .colab-df-spinner {\n",
              "    border: 2px solid var(--fill-color);\n",
              "    border-color: transparent;\n",
              "    border-bottom-color: var(--fill-color);\n",
              "    animation:\n",
              "      spin 1s steps(1) infinite;\n",
              "  }\n",
              "\n",
              "  @keyframes spin {\n",
              "    0% {\n",
              "      border-color: transparent;\n",
              "      border-bottom-color: var(--fill-color);\n",
              "      border-left-color: var(--fill-color);\n",
              "    }\n",
              "    20% {\n",
              "      border-color: transparent;\n",
              "      border-left-color: var(--fill-color);\n",
              "      border-top-color: var(--fill-color);\n",
              "    }\n",
              "    30% {\n",
              "      border-color: transparent;\n",
              "      border-left-color: var(--fill-color);\n",
              "      border-top-color: var(--fill-color);\n",
              "      border-right-color: var(--fill-color);\n",
              "    }\n",
              "    40% {\n",
              "      border-color: transparent;\n",
              "      border-right-color: var(--fill-color);\n",
              "      border-top-color: var(--fill-color);\n",
              "    }\n",
              "    60% {\n",
              "      border-color: transparent;\n",
              "      border-right-color: var(--fill-color);\n",
              "    }\n",
              "    80% {\n",
              "      border-color: transparent;\n",
              "      border-right-color: var(--fill-color);\n",
              "      border-bottom-color: var(--fill-color);\n",
              "    }\n",
              "    90% {\n",
              "      border-color: transparent;\n",
              "      border-bottom-color: var(--fill-color);\n",
              "    }\n",
              "  }\n",
              "</style>\n",
              "\n",
              "  <script>\n",
              "    async function quickchart(key) {\n",
              "      const quickchartButtonEl =\n",
              "        document.querySelector('#' + key + ' button');\n",
              "      quickchartButtonEl.disabled = true;  // To prevent multiple clicks.\n",
              "      quickchartButtonEl.classList.add('colab-df-spinner');\n",
              "      try {\n",
              "        const charts = await google.colab.kernel.invokeFunction(\n",
              "            'suggestCharts', [key], {});\n",
              "      } catch (error) {\n",
              "        console.error('Error during call to suggestCharts:', error);\n",
              "      }\n",
              "      quickchartButtonEl.classList.remove('colab-df-spinner');\n",
              "      quickchartButtonEl.classList.add('colab-df-quickchart-complete');\n",
              "    }\n",
              "    (() => {\n",
              "      let quickchartButtonEl =\n",
              "        document.querySelector('#df-3dc04537-c107-4cca-b4ba-c2d9c742c579 button');\n",
              "      quickchartButtonEl.style.display =\n",
              "        google.colab.kernel.accessAllowed ? 'block' : 'none';\n",
              "    })();\n",
              "  </script>\n",
              "</div>\n",
              "\n",
              "    </div>\n",
              "  </div>\n"
            ],
            "application/vnd.google.colaboratory.intrinsic+json": {
              "type": "dataframe",
              "variable_name": "df",
              "summary": "{\n  \"name\": \"df\",\n  \"rows\": 2981,\n  \"fields\": [\n    {\n      \"column\": \"Tweet\",\n      \"properties\": {\n        \"dtype\": \"string\",\n        \"num_unique_values\": 2980,\n        \"samples\": [\n          \"if the other girls in my grade try to talk to him , ill cut off their tongues so they lose the ability to speak \",\n          \"trisler I'm still on the ground \",\n          \"Want to create more  and meaning in your day Surround yourself with truth and beauty!\"\n        ],\n        \"semantic_type\": \"\",\n        \"description\": \"\"\n      }\n    },\n    {\n      \"column\": \"Sarcasm\",\n      \"properties\": {\n        \"dtype\": \"category\",\n        \"num_unique_values\": 2,\n        \"samples\": [\n          \"no\",\n          \"yes\"\n        ],\n        \"semantic_type\": \"\",\n        \"description\": \"\"\n      }\n    }\n  ]\n}"
            }
          },
          "metadata": {},
          "execution_count": 25
        }
      ]
    },
    {
      "cell_type": "markdown",
      "source": [
        "\n",
        "\n",
        "*   Word Tokenization\n",
        "\n",
        "\n"
      ],
      "metadata": {
        "id": "9SuPAPK5kxlc"
      }
    },
    {
      "cell_type": "code",
      "source": [
        "# Initialize the TweetTokenizer\n",
        "tokenizer = TweetTokenizer()\n",
        "\n",
        "def tokenize_text(Tweet):\n",
        "    return tokenizer.tokenize(Tweet)\n",
        "\n",
        "df = pd.read_csv('merged_file.csv')\n",
        "df['tokens'] = df['Tweet'].apply(tokenize_text)\n",
        "\n",
        "print(df.head(15))\n",
        "df.to_csv('t_dataset.csv', index=False)"
      ],
      "metadata": {
        "colab": {
          "base_uri": "https://localhost:8080/"
        },
        "id": "5ZD5kck_h8eb",
        "outputId": "9edbcb55-e57f-4bdf-c948-8386afea1e28"
      },
      "execution_count": null,
      "outputs": [
        {
          "output_type": "stream",
          "name": "stdout",
          "text": [
            "                                                Tweet Sarcasm  \\\n",
            "0   Fantastic service yet again from EE. 1st you u...     yes   \n",
            "1   Not sure if that was or. I will take it! face_...     yes   \n",
            "2          Barely 9 am and already shaking with rage.     yes   \n",
            "3   I guess that proves it then. Black folks have ...     yes   \n",
            "4                          Does this tweet need a tag     yes   \n",
            "5   both. Wont be using you again. Made a formal c...     yes   \n",
            "6                Fuuuuuuuuck this shit screams thug!!     yes   \n",
            "7   66 UEs from Staniel and he wins in straights. ...     yes   \n",
            "8              totally surprising to every husker fan     yes   \n",
            "9                     Haha got to love the enthusiasm     yes   \n",
            "10  a southern pride advocate but of course it has...     yes   \n",
            "11  So nice not hearing any rumors that the  are n...     yes   \n",
            "12  We should divide illegals into two lines one f...     yes   \n",
            "13      does not even look like that great of a view.     yes   \n",
            "14  Mondays are always dreadful. Why are Fridays s...     yes   \n",
            "\n",
            "                                               tokens  \n",
            "0   [Fantastic, service, yet, again, from, EE, ., ...  \n",
            "1   [Not, sure, if, that, was, or, ., I, will, tak...  \n",
            "2   [Barely, 9, am, and, already, shaking, with, r...  \n",
            "3   [I, guess, that, proves, it, then, ., Black, f...  \n",
            "4                   [Does, this, tweet, need, a, tag]  \n",
            "5   [both, ., Wont, be, using, you, again, ., Made...  \n",
            "6      [Fuuuuuuuuck, this, shit, screams, thug, !, !]  \n",
            "7   [66, UEs, from, Staniel, and, he, wins, in, st...  \n",
            "8       [totally, surprising, to, every, husker, fan]  \n",
            "9              [Haha, got, to, love, the, enthusiasm]  \n",
            "10  [a, southern, pride, advocate, but, of, course...  \n",
            "11  [So, nice, not, hearing, any, rumors, that, th...  \n",
            "12  [We, should, divide, illegals, into, two, line...  \n",
            "13  [does, not, even, look, like, that, great, of,...  \n",
            "14  [Mondays, are, always, dreadful, ., Why, are, ...  \n"
          ]
        }
      ]
    },
    {
      "cell_type": "markdown",
      "source": [
        "# **Encoding**"
      ],
      "metadata": {
        "id": "8unHzuVSlDSw"
      }
    },
    {
      "cell_type": "markdown",
      "source": [
        "\n",
        "\n",
        "*   TF-IDF(Term Frequency-Inverse Document Frequency)\n",
        "\n",
        "\n"
      ],
      "metadata": {
        "id": "pz89EqSUlGwE"
      }
    },
    {
      "cell_type": "code",
      "source": [
        "#tfidf\n",
        "tweets = df['Tweet']\n",
        "tfidf_vectorizer = TfidfVectorizer()\n",
        "X = tfidf_vectorizer.fit_transform(tweets)\n",
        "tfidf_df = pd.DataFrame(X.toarray(), columns=tfidf_vectorizer.get_feature_names_out())\n",
        "final_df = pd.concat([df.drop('Tweet', axis=1), tfidf_df], axis=1)\n",
        "final_df.to_csv(\"tfidf_encoded_tweets.csv\", index=False)"
      ],
      "metadata": {
        "id": "aZ_EAK16jEht"
      },
      "execution_count": null,
      "outputs": []
    },
    {
      "cell_type": "markdown",
      "source": [
        "# **Handling Imbalance in our Dataset**"
      ],
      "metadata": {
        "id": "w0TdVmtOlLrm"
      }
    },
    {
      "cell_type": "markdown",
      "source": [
        "# **DL Model**"
      ],
      "metadata": {
        "id": "19KmoI58laFV"
      }
    },
    {
      "cell_type": "code",
      "source": [
        "import pandas as pd\n",
        "import matplotlib.pyplot as plt\n",
        "\n",
        "df = pd.read_csv('/content/Small.csv', index_col=False)"
      ],
      "metadata": {
        "id": "26_jJ6NYTflT"
      },
      "execution_count": 1,
      "outputs": []
    },
    {
      "cell_type": "markdown",
      "source": [
        "\n",
        "\n",
        "*   Bidirectional Long Short-Term Memory (BLSTM) Networks\n",
        "\n"
      ],
      "metadata": {
        "id": "GDId8CKRqVVN"
      }
    },
    {
      "cell_type": "code",
      "source": [
        "import pandas as pd\n",
        "import matplotlib.pyplot as plt\n",
        "from tensorflow.keras.preprocessing.text import Tokenizer\n",
        "from tensorflow.keras.preprocessing.sequence import pad_sequences\n",
        "from tensorflow.keras.models import Sequential\n",
        "from tensorflow.keras.layers import Embedding, LSTM, Dense, Dropout, Bidirectional\n",
        "from tensorflow.keras.callbacks import EarlyStopping\n",
        "from sklearn.model_selection import train_test_split # Import train_test_split\n",
        "from sklearn.metrics import f1_score, classification_report # Import classification_report\n",
        "import seaborn as sns"
      ],
      "metadata": {
        "id": "Jm7FiM7wqkWc"
      },
      "execution_count": 2,
      "outputs": []
    },
    {
      "cell_type": "code",
      "source": [
        "import pandas as pd\n",
        "import matplotlib.pyplot as plt\n",
        "from tensorflow.keras.preprocessing.text import Tokenizer\n",
        "from tensorflow.keras.preprocessing.sequence import pad_sequences\n",
        "from tensorflow.keras.models import Sequential\n",
        "from tensorflow.keras.layers import Embedding, LSTM, Dense, Dropout, Bidirectional\n",
        "from tensorflow.keras.callbacks import EarlyStopping\n",
        "from sklearn.model_selection import train_test_split # Import train_test_split\n",
        "from sklearn.metrics import accuracy_score, classification_report, confusion_matrix,f1_score\n",
        "max_len = 100\n",
        "vocab_size = 10000\n",
        "embedding_dim = 512\n",
        "\n",
        "texts = df['Tweet']\n",
        "texts = texts.astype(str)\n",
        "labels = df['Sarcasm']\n",
        "labels = df['Sarcasm'].map({'yes': 1, 'no': 0})\n",
        "\n",
        "tokenizer = Tokenizer(num_words=vocab_size)\n",
        "tokenizer.fit_on_texts(texts)\n",
        "sequences = tokenizer.texts_to_sequences(texts)\n",
        "padded_sequences = pad_sequences(sequences, maxlen=max_len)\n",
        "\n",
        "X_train, X_test, y_train, y_test = train_test_split(padded_sequences, labels, test_size=0.2, random_state=42)\n",
        "\n",
        "# Define the BLSTM model\n",
        "model = Sequential()\n",
        "model.add(Embedding(vocab_size, embedding_dim, input_length=max_len))\n",
        "model.add(Bidirectional(LSTM(512, return_sequences=True)))\n",
        "model.add(Bidirectional(LSTM(328, return_sequences=True)))\n",
        "model.add(Bidirectional(LSTM(128, return_sequences=True)))\n",
        "model.add(Bidirectional(LSTM(128)))\n",
        "model.add(Dense(128, activation='relu'))\n",
        "model.add(Dense(64, activation='relu'))\n",
        "model.add(Dense(1, activation='sigmoid'))\n",
        "\n",
        "#add early stopping\n",
        "early_stopping = EarlyStopping(monitor='val_loss', patience=3, restore_best_weights=True)\n",
        "\n",
        "#compile the model\n",
        "model.compile(loss='binary_crossentropy', optimizer='adam', metrics=['accuracy'])\n",
        "\n",
        "# Train the model\n",
        "model.fit(X_train, y_train, epochs=10, batch_size=256, validation_data=(X_test, y_test), callbacks=[early_stopping])\n",
        "\n",
        "# Evaluate the model\n",
        "loss, accuracy = model.evaluate(X_test, y_test)\n",
        "print(f\"Test Loss: {loss:.4f}, Accuracy: {accuracy:.4f}\")\n",
        "y_pred = (model.predict(X_test) > 0.5).astype(\"int32\")\n",
        "print(\"Classification Report:\")\n",
        "print(classification_report(y_test, y_pred))\n",
        "\n",
        "conf_matrix = confusion_matrix(y_test, y_pred)\n",
        "plt.figure(figsize=(8, 6))\n",
        "sns.heatmap(conf_matrix, annot=True, fmt='d', cmap='Blues', xticklabels=['Not Sarcastic', 'Sarcastic'], yticklabels=['Not Sarcastic', 'Sarcastic'])\n",
        "plt.xlabel('Predicted')\n",
        "plt.ylabel('Actual')\n",
        "plt.title('Confusion Matrix')\n",
        "plt.show()\n",
        "\n",
        "new_text = \"Can't wait to crush my to-do list ,tomorrow.\"\n",
        "sequence = tokenizer.texts_to_sequences([new_text])\n",
        "padded_sequence = pad_sequences(sequence, maxlen=max_len)\n",
        "prediction = model.predict(padded_sequence)\n",
        "if prediction > 0.5:\n",
        "    print(\"This text is predicted to be sarcastic.\")\n",
        "else:\n",
        "    print(\"This text is predicted to be non-sarcastic.\")"
      ],
      "metadata": {
        "colab": {
          "base_uri": "https://localhost:8080/",
          "height": 1000
        },
        "id": "MrmmX-jXdh4E",
        "outputId": "dfc801d8-6594-4774-c679-a54de128bcc6"
      },
      "execution_count": 4,
      "outputs": [
        {
          "output_type": "stream",
          "name": "stdout",
          "text": [
            "Epoch 1/10\n",
            "22/22 [==============================] - 27s 672ms/step - loss: 0.5289 - accuracy: 0.7330 - val_loss: 0.3410 - val_accuracy: 0.8838\n",
            "Epoch 2/10\n",
            "22/22 [==============================] - 12s 544ms/step - loss: 0.3031 - accuracy: 0.8795 - val_loss: 0.2576 - val_accuracy: 0.8997\n",
            "Epoch 3/10\n",
            "22/22 [==============================] - 12s 545ms/step - loss: 0.1729 - accuracy: 0.9360 - val_loss: 0.3221 - val_accuracy: 0.8853\n",
            "Epoch 4/10\n",
            "22/22 [==============================] - 12s 551ms/step - loss: 0.0852 - accuracy: 0.9722 - val_loss: 0.3070 - val_accuracy: 0.8947\n",
            "Epoch 5/10\n",
            "22/22 [==============================] - 12s 571ms/step - loss: 0.0590 - accuracy: 0.9825 - val_loss: 0.3703 - val_accuracy: 0.8817\n",
            "44/44 [==============================] - 2s 35ms/step - loss: 0.2576 - accuracy: 0.8997\n",
            "Test Loss: 0.2576, Accuracy: 0.8997\n",
            "44/44 [==============================] - 4s 33ms/step\n",
            "Classification Report:\n",
            "              precision    recall  f1-score   support\n",
            "\n",
            "           0       0.93      0.85      0.89       648\n",
            "           1       0.87      0.95      0.91       738\n",
            "\n",
            "    accuracy                           0.90      1386\n",
            "   macro avg       0.90      0.90      0.90      1386\n",
            "weighted avg       0.90      0.90      0.90      1386\n",
            "\n"
          ]
        },
        {
          "output_type": "display_data",
          "data": {
            "text/plain": [
              "<Figure size 800x600 with 2 Axes>"
            ],
            "image/png": "[encoded data removed]"
          },
          "metadata": {}
        },
        {
          "output_type": "stream",
          "name": "stdout",
          "text": [
            "1/1 [==============================] - 0s 29ms/step\n",
            "This text is predicted to be sarcastic.\n"
          ]
        }
      ]
    },
    {
      "cell_type": "markdown",
      "source": [
        "\n",
        "\n",
        "*   **Convolutional Neural Networks (CNNs) with Gated Convolutions:**\n",
        "\n",
        "\n"
      ],
      "metadata": {
        "id": "L9-IKaUv3ukC"
      }
    },
    {
      "cell_type": "code",
      "source": [
        "from tensorflow.keras.preprocessing.text import Tokenizer\n",
        "from tensorflow.keras.preprocessing.sequence import pad_sequences\n",
        "from tensorflow.keras.models import Model\n",
        "from tensorflow.keras.layers import Embedding, Conv1D, GlobalMaxPooling1D, Dense, Dropout, Input, Concatenate, LSTM, Bidirectional\n",
        "from tensorflow.keras.callbacks import EarlyStopping\n",
        "from tensorflow.keras.regularizers import l2\n",
        "import pandas as pd\n",
        "from sklearn.model_selection import train_test_split\n",
        "from sklearn.metrics import f1_score\n",
        "\n",
        "# Hyperparameters (adjust as needed)\n",
        "max_len = 100\n",
        "vocab_size = 10000\n",
        "embedding_dim = 512\n",
        "filter_sizes = [3, 4, 5]\n",
        "num_filters = 64\n",
        "dropout_rate1 = 0.4\n",
        "dropout_rate2= 0.2\n",
        "l2_lambda = 0.01\n",
        "\n",
        "# Load preprocessed data (replace with your actual data)\n",
        "texts = df['Tweet']\n",
        "labels = df['Sarcasm']\n",
        "labels = df['Sarcasm'].map({'yes': 1, 'no': 0}) # Map 'yes' to 1 and 'no' to 0\n",
        "\n",
        "# Tokenization\n",
        "tokenizer = Tokenizer(num_words=vocab_size)\n",
        "tokenizer.fit_on_texts(texts)\n",
        "sequences = tokenizer.texts_to_sequences(texts)\n",
        "padded_sequences = pad_sequences(sequences, maxlen=max_len) #ensures all sequences have the same length\n",
        "\n",
        "# Split data into training and testing sets\n",
        "X_train, X_test, y_train, y_test = train_test_split(padded_sequences, labels, test_size=0.2, random_state=42)\n",
        "\n",
        "# Define the model\n",
        "input_layer = Input(shape=(max_len,))\n",
        "embedding_layer = Embedding(vocab_size, embedding_dim, input_length=max_len)(input_layer)\n",
        "\n",
        "conv_layers = [] #creates an empty list\n",
        "for filter_size in filter_sizes: #loop creates multiple convolutional blocks\n",
        "    conv_layer = Conv1D(num_filters, filter_size, activation='tanh', padding='same')(embedding_layer) #Applies 1D convolution\n",
        "    gated_conv_layer = Conv1D(num_filters, filter_size, activation='sigmoid', padding='same')(conv_layer)\n",
        "    drop_layer = Dropout(dropout_rate2)(gated_conv_layer)\n",
        "    pooled_layer = GlobalMaxPooling1D()(drop_layer)\n",
        "    conv_layers.append(pooled_layer)\n",
        "\n",
        "merged_layer = Concatenate()(conv_layers) #combines the outputs from all convolutional blocks using concatenation, creating a richer representation.\n",
        "\n",
        "# additional dense and dropout layers\n",
        "dense_layer1 = Dense(128, activation='relu', kernel_regularizer=l2(l2_lambda))(merged_layer)   #dense layer(fully connected) with 128 neurons and ReLU activation\n",
        "dropout_layer1 = Dropout(dropout_rate1)(dense_layer1)\n",
        "\n",
        "# an LSTM layer\n",
        "lstm_layer = Bidirectional(LSTM(1024, return_sequences=False))(embedding_layer) #Bidirectional LSTM layer with 64 units(LSTM cells) #return_true-ensures the LSTM layer outputs a single vector representing the entire sequence\n",
        "\n",
        "# Concatenate LSTM output with CNN output\n",
        "concat_layer = Concatenate()([dropout_layer1, lstm_layer]) #combines the outputs from dense layer 1 (after dropout) and the LSTM layer\n",
        "\n",
        "# Final dense layers\n",
        "dense_layer2 = Dense(128, activation='relu', kernel_regularizer=l2(l2_lambda))(concat_layer)\n",
        "dropout_layer2 = Dropout(dropout_rate1)(dense_layer2)\n",
        "#final dense layer with sigmoid activation outputs the model's prediction for sarcasm\n",
        "output_layer = Dense(1, activation='sigmoid')(dropout_layer2) #sigmoid function outputs a probability-like value between 0 and 1\n",
        "\n",
        "model = Model(inputs=input_layer, outputs=output_layer) #creates a Keras model object.\n",
        "\n",
        "model.compile(loss='binary_crossentropy', optimizer='adam', metrics=['accuracy'])\n",
        "\n",
        "# Add early stopping\n",
        "early_stopping = EarlyStopping(monitor='val_loss', patience=3, restore_best_weights=True)\n",
        "\n",
        "# Train the model\n",
        "model.fit(X_train, y_train, epochs=12, batch_size=72, validation_data=(X_test, y_test), callbacks=[early_stopping])\n",
        "\n",
        "# Evaluate the model\n",
        "loss, accuracy = model.evaluate(X_test, y_test)\n",
        "print(f\"Test Loss: {loss:.4f}, Accuracy: {accuracy:.4f}\")\n",
        "y_pred = (model.predict(X_test) > 0.5).astype(\"int32\")\n",
        "f1 = f1_score(y_test, y_pred, average='weighted')\n",
        "print(f\"F1 Score (weighted): {f1:.4f}\")\n",
        "\n",
        "print(\"Classification Report:\")\n",
        "print(classification_report(y_test, y_pred))\n",
        "\n",
        "conf_matrix = confusion_matrix(y_test, y_pred)\n",
        "plt.figure(figsize=(8, 6))\n",
        "sns.heatmap(conf_matrix, annot=True, fmt='d', cmap='Blues', xticklabels=['Not Sarcastic', 'Sarcastic'], yticklabels=['Not Sarcastic', 'Sarcastic'])\n",
        "plt.xlabel('Predicted')\n",
        "plt.ylabel('Actual')\n",
        "plt.title('Confusion Matrix')\n",
        "plt.show()\n",
        "\n",
        "# Make predictions on new data (optional)\n",
        "new_text = \"My mom asked me this question as well.\"  # Replace with your text\n",
        "sequence = tokenizer.texts_to_sequences([new_text])\n",
        "padded_sequence = pad_sequences(sequence, maxlen=max_len)\n",
        "prediction = model.predict(padded_sequence)\n",
        "if prediction ==1:\n",
        "    print(\"This text is predicted to be sarcastic.\")\n",
        "else:\n",
        "    print(\"This text is predicted to be non-sarcastic.\")"
      ],
      "metadata": {
        "colab": {
          "base_uri": "https://localhost:8080/",
          "height": 1000
        },
        "id": "C9TsamNI3zN9",
        "outputId": "47dfe39e-6e4f-488a-ab33-16470aa7d355"
      },
      "execution_count": 6,
      "outputs": [
        {
          "output_type": "stream",
          "name": "stdout",
          "text": [
            "Epoch 1/12\n",
            "77/77 [==============================] - 33s 310ms/step - loss: 1.9293 - accuracy: 0.7381 - val_loss: 0.7514 - val_accuracy: 0.8838\n",
            "Epoch 2/12\n",
            "77/77 [==============================] - 19s 253ms/step - loss: 0.4812 - accuracy: 0.9197 - val_loss: 0.4263 - val_accuracy: 0.8831\n",
            "Epoch 3/12\n",
            "77/77 [==============================] - 20s 261ms/step - loss: 0.2003 - accuracy: 0.9674 - val_loss: 0.3281 - val_accuracy: 0.8983\n",
            "Epoch 4/12\n",
            "77/77 [==============================] - 20s 260ms/step - loss: 0.3133 - accuracy: 0.9192 - val_loss: 0.5169 - val_accuracy: 0.8730\n",
            "Epoch 5/12\n",
            "77/77 [==============================] - 19s 246ms/step - loss: 0.1658 - accuracy: 0.9784 - val_loss: 0.3990 - val_accuracy: 0.8896\n",
            "Epoch 6/12\n",
            "77/77 [==============================] - 20s 256ms/step - loss: 0.0946 - accuracy: 0.9903 - val_loss: 0.3851 - val_accuracy: 0.8932\n",
            "44/44 [==============================] - 3s 50ms/step - loss: 0.3281 - accuracy: 0.8983\n",
            "Test Loss: 0.3281, Accuracy: 0.8983\n",
            "44/44 [==============================] - 2s 39ms/step\n",
            "F1 Score (weighted): 0.8981\n",
            "Classification Report:\n",
            "              precision    recall  f1-score   support\n",
            "\n",
            "           0       0.91      0.87      0.89       648\n",
            "           1       0.89      0.92      0.91       738\n",
            "\n",
            "    accuracy                           0.90      1386\n",
            "   macro avg       0.90      0.90      0.90      1386\n",
            "weighted avg       0.90      0.90      0.90      1386\n",
            "\n"
          ]
        },
        {
          "output_type": "display_data",
          "data": {
            "text/plain": [
              "<Figure size 800x600 with 2 Axes>"
            ],
            "image/png": "[encoded data removed]"
          },
          "metadata": {}
        },
        {
          "output_type": "stream",
          "name": "stdout",
          "text": [
            "1/1 [==============================] - 0s 246ms/step\n",
            "This text is predicted to be non-sarcastic.\n"
          ]
        }
      ]
    },
    {
      "cell_type": "markdown",
      "source": [
        "\n",
        "*   **Gated Recurrent Units (GRUs):**\n",
        "\n"
      ],
      "metadata": {
        "id": "G2ELCFQQ2fro"
      }
    },
    {
      "cell_type": "code",
      "source": [
        "from tensorflow.keras.preprocessing.text import Tokenizer\n",
        "from tensorflow.keras.preprocessing.sequence import pad_sequences\n",
        "from tensorflow.keras.models import Sequential\n",
        "from tensorflow.keras.layers import Embedding, GRU, Dense, Dropout\n",
        "from sklearn.metrics import f1_score\n",
        "from tensorflow.keras.callbacks import EarlyStopping\n",
        "from sklearn.model_selection import train_test_split # Import train_test_split\n",
        "\n",
        "# Hyperparameters (adjust as needed)\n",
        "max_len = 100  # Maximum sequence length\n",
        "vocab_size = 10000  # Limit on the number of words in vocabulary\n",
        "embedding_dim = 512  # Dimensionality of word embeddings\n",
        "\n",
        "# Load preprocessed data (replace with your actual data)\n",
        "texts = df['Tweet']  # List to store your text data (sarcastic and non-sarcastic)\n",
        "labels = df['Sarcasm']  # List to store labels (1 for sarcastic, 0 for non-sarcastic)\n",
        "labels = df['Sarcasm'].map({'yes': 1, 'no': 0})\n",
        "\n",
        "# Tokenization\n",
        "tokenizer = Tokenizer(num_words=vocab_size)\n",
        "tokenizer.fit_on_texts(texts)\n",
        "sequences = tokenizer.texts_to_sequences(texts)\n",
        "\n",
        "# Padding sequences to a fixed length\n",
        "padded_sequences = pad_sequences(sequences, maxlen=max_len)\n",
        "\n",
        "# Split data into training and testing sets\n",
        "from sklearn.model_selection import train_test_split\n",
        "X_train, X_test, y_train, y_test = train_test_split(padded_sequences, labels, test_size=0.2, random_state=42)\n",
        "\n",
        "# Define the GRU model\n",
        "model = Sequential()\n",
        "model.add(Embedding(vocab_size, embedding_dim, input_length=max_len))\n",
        "model.add(GRU(512, return_sequences=True)) #(return_sequences_true)ensures the layer outputs a sequence of hidden states for each timestep (keeps the sequence information)\n",
        "model.add(GRU(512, return_sequences=True))\n",
        "model.add(GRU(256)) #(return_sequences_False)(default) layer outputs a single vector representing the entire sequence.\n",
        "model.add(Dense(128, activation='relu'))\n",
        "model.add(Dense(128, activation='relu'))\n",
        "model.add(Dense(1, activation='sigmoid')) #final dense layer with sigmoid activation outputs the model's prediction for sarcasm(probability-like value between 0 and 1)\n",
        "\n",
        "early_stopping = EarlyStopping(monitor='val_loss', patience=3, restore_best_weights=True)\n",
        "model.compile(loss='binary_crossentropy', optimizer='adam', metrics=['accuracy'])\n",
        "\n",
        "# Train the model\n",
        "model.fit(X_train, y_train, epochs=10, batch_size=256, validation_data=(X_test, y_test), callbacks=[early_stopping])\n",
        "\n",
        "# Evaluate the model\n",
        "loss, accuracy = model.evaluate(X_test, y_test)\n",
        "print(f\"Test Loss: {loss:.4f}, Accuracy: {accuracy:.4f}\")\n",
        "y_pred = (model.predict(X_test) > 0.5).astype(\"int32\")\n",
        "f1 = f1_score(y_test, y_pred, average='weighted')\n",
        "print(f\"F1 Score (weighted): {f1:.4f}\")\n",
        "\n",
        "print(\"Classification Report:\")\n",
        "print(classification_report(y_test, y_pred))\n",
        "\n",
        "conf_matrix = confusion_matrix(y_test, y_pred)\n",
        "plt.figure(figsize=(8, 6))\n",
        "sns.heatmap(conf_matrix, annot=True, fmt='d', cmap='Blues', xticklabels=['Not Sarcastic', 'Sarcastic'], yticklabels=['Not Sarcastic', 'Sarcastic'])\n",
        "plt.xlabel('Predicted')\n",
        "plt.ylabel('Actual')\n",
        "plt.title('Confusion Matrix')\n",
        "plt.show()\n",
        "\n",
        "# Make predictions on new data (optional)\n",
        "new_text = \"My mom asked me this question as well.\"  # Replace with your text\n",
        "sequence = tokenizer.texts_to_sequences([new_text])\n",
        "padded_sequence = pad_sequences(sequence, maxlen=max_len)\n",
        "prediction = model.predict(padded_sequence)\n",
        "if prediction ==1:\n",
        "    print(\"This text is predicted to be sarcastic.\")\n",
        "else:\n",
        "    print(\"This text is predicted to be non-sarcastic.\")"
      ],
      "metadata": {
        "colab": {
          "base_uri": "https://localhost:8080/",
          "height": 1000
        },
        "id": "j1QQAUO12qAB",
        "outputId": "e9be6e6c-e4b7-4db4-dfba-280475c2c4a8"
      },
      "execution_count": 7,
      "outputs": [
        {
          "output_type": "stream",
          "name": "stdout",
          "text": [
            "Epoch 1/10\n",
            "22/22 [==============================] - 12s 275ms/step - loss: 0.4881 - accuracy: 0.7738 - val_loss: 0.3170 - val_accuracy: 0.8810\n",
            "Epoch 2/10\n",
            "22/22 [==============================] - 5s 226ms/step - loss: 0.2367 - accuracy: 0.9058 - val_loss: 0.2804 - val_accuracy: 0.8925\n",
            "Epoch 3/10\n",
            "22/22 [==============================] - 5s 235ms/step - loss: 0.1148 - accuracy: 0.9573 - val_loss: 0.3352 - val_accuracy: 0.8853\n",
            "Epoch 4/10\n",
            "22/22 [==============================] - 5s 233ms/step - loss: 0.0535 - accuracy: 0.9803 - val_loss: 0.4637 - val_accuracy: 0.8903\n",
            "Epoch 5/10\n",
            "22/22 [==============================] - 5s 232ms/step - loss: 0.0403 - accuracy: 0.9859 - val_loss: 0.4601 - val_accuracy: 0.8781\n",
            "44/44 [==============================] - 1s 16ms/step - loss: 0.2804 - accuracy: 0.8925\n",
            "Test Loss: 0.2804, Accuracy: 0.8925\n",
            "44/44 [==============================] - 1s 14ms/step\n",
            "F1 Score (weighted): 0.8920\n",
            "Classification Report:\n",
            "              precision    recall  f1-score   support\n",
            "\n",
            "           0       0.92      0.84      0.88       648\n",
            "           1       0.87      0.94      0.90       738\n",
            "\n",
            "    accuracy                           0.89      1386\n",
            "   macro avg       0.90      0.89      0.89      1386\n",
            "weighted avg       0.89      0.89      0.89      1386\n",
            "\n"
          ]
        },
        {
          "output_type": "display_data",
          "data": {
            "text/plain": [
              "<Figure size 800x600 with 2 Axes>"
            ],
            "image/png": "[encoded data removed]"
          },
          "metadata": {}
        },
        {
          "output_type": "stream",
          "name": "stdout",
          "text": [
            "1/1 [==============================] - 0s 22ms/step\n",
            "This text is predicted to be non-sarcastic.\n"
          ]
        }
      ]
    },
    {
      "cell_type": "markdown",
      "source": [
        "# **Conclusion**\n",
        "**Data Loading and Preprocessing:**\n",
        "\n",
        "Loaded the dataset and displayed basic information.\n",
        "\n",
        "Cleaned the data by removing @,# and URLs and also emojis.\n",
        "\n",
        "Encoded and Tokenized the labels.\n",
        "\n",
        "**Handling Imbalanced Data:**\n",
        "\n",
        "Used SMOTE to handle imbalanced data. Visualized the class distribution before and after resampling.\n",
        "\n",
        "**Training and Evaluating the Model:**\n",
        "\n",
        "Tried various deep learning models and found blstm to have the best performance among them.\n",
        "\n",
        "\n",
        "Tested the model with new random tweets and displayed the results"
      ],
      "metadata": {
        "id": "z1CFbqrzmRV6"
      }
    }
  ]
}
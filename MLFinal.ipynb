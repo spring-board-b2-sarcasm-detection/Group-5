{
  "cells": [
    {
      "cell_type": "code",
      "source": [
        "!pip install emoji"
      ],
      "metadata": {
        "colab": {
          "base_uri": "https://localhost:8080/"
        },
        "id": "8MDCpIhCn1Gj",
        "outputId": "9703ed0a-93eb-409a-c31a-7b2ff40d3a73"
      },
      "execution_count": null,
      "outputs": [
        {
          "output_type": "stream",
          "name": "stdout",
          "text": [
            "Collecting emoji\n",
            "  Downloading emoji-2.12.1-py3-none-any.whl (431 kB)\n",
            "\u001b[2K     \u001b[90m━━━━━━━━━━━━━━━━━━━━━━━━━━━━━━━━━━━━━━━━\u001b[0m \u001b[32m431.4/431.4 kB\u001b[0m \u001b[31m2.5 MB/s\u001b[0m eta \u001b[36m0:00:00\u001b[0m\n",
            "\u001b[?25hRequirement already satisfied: typing-extensions>=4.7.0 in /usr/local/lib/python3.10/dist-packages (from emoji) (4.12.2)\n",
            "Installing collected packages: emoji\n",
            "Successfully installed emoji-2.12.1\n"
          ]
        }
      ]
    },
    {
      "cell_type": "markdown",
      "source": [
        "Importing the Libraries"
      ],
      "metadata": {
        "id": "UZorpDIafwTi"
      }
    },
    {
      "cell_type": "code",
      "source": [
        "import pandas as pd\n",
        "import csv\n",
        "import re\n",
        "import emoji\n",
        "from sklearn.feature_extraction.text import TfidfVectorizer\n",
        "from sklearn.ensemble import RandomForestClassifier\n",
        "from sklearn.model_selection import train_test_split\n",
        "import nltk\n",
        "from nltk.tokenize import word_tokenize\n",
        "import matplotlib.pyplot as plt\n",
        "from nltk.tokenize import TweetTokenizer\n",
        "from sklearn.linear_model import LogisticRegression\n",
        "from sklearn.metrics import accuracy_score, classification_report, confusion_matrix, roc_curve, auc\n",
        "import seaborn as sns\n",
        "from sklearn.svm import SVC\n",
        "from sklearn.metrics import roc_curve"
      ],
      "metadata": {
        "id": "knSo5TAvm0b7"
      },
      "execution_count": null,
      "outputs": []
    },
    {
      "cell_type": "markdown",
      "source": [
        "# **DATA PREPROCESSING**"
      ],
      "metadata": {
        "id": "PFPqMgYzpjCe"
      }
    },
    {
      "cell_type": "markdown",
      "source": [
        "\n",
        "\n",
        "*   Formatting the dataset"
      ],
      "metadata": {
        "id": "q5JkCmyErFUF"
      }
    },
    {
      "cell_type": "code",
      "execution_count": null,
      "metadata": {
        "id": "eIOJiTNhpUAR"
      },
      "outputs": [],
      "source": [
        "def extract(text):\n",
        "    # Split the text on the last comma to separate the boolean value\n",
        "    parts = text.rsplit(',', 1)\n",
        "    # Extract the string part and trim any extra whitespace\n",
        "    if len(parts) == 2:\n",
        "        es = parts[0].strip()\n",
        "        bv = parts[1].strip().lower() == 'true'\n",
        "    else: # If there's no comma, handle it by returning the entire text and a default false value\n",
        "        es = text.strip()\n",
        "        bv = False\n",
        "\n",
        "    return es, bv\n",
        "\n",
        "def process_file(filepath, output_filepath):\n",
        "    results = [] # List to store the results as tuples (extracted_string, boolean_value)\n",
        "    s = \"\"\n",
        "\n",
        "    with open(filepath, 'r') as file:\n",
        "        ls = file.readlines()\n",
        "\n",
        "    # Process each line in the file\n",
        "    for i, l in enumerate(ls):\n",
        "        l = l.strip()\n",
        "        if l:\n",
        "            s += l + \" \"\n",
        "        if (i + 1 == len(ls) or not ls[i + 1].strip()) and s:\n",
        "            es, bv = extract(s.strip())\n",
        "            results.append((es, bv))\n",
        "            s = \"\"\n",
        "    with open(output_filepath, 'w') as outfile:\n",
        "        for result in results:\n",
        "            outfile.write(f\"{result[0]}, {result[1]}\\n\")\n",
        "\n",
        "input_file_path = 'llama2_sarcasm_training_data.txt'\n",
        "output_file_path = 'output_file.txt'\n",
        "process_file(input_file_path, output_file_path)\n",
        "\n"
      ]
    },
    {
      "cell_type": "markdown",
      "source": [
        "\n",
        "\n",
        "*   Handling URLs, Hashtags and Mentions\n",
        "\n"
      ],
      "metadata": {
        "id": "iWFfYTo6p3n5"
      }
    },
    {
      "cell_type": "code",
      "execution_count": null,
      "metadata": {
        "id": "t4LLaeB6pUAU",
        "outputId": "6c1ff145-39da-4c72-884f-670aa56dfaa2"
      },
      "outputs": [
        {
          "name": "stdout",
          "output_type": "stream",
          "text": [
            "Cleaned data has been written to cleaned_output.csv\n"
          ]
        }
      ],
      "source": [
        "\n",
        "def clean_text(text):\n",
        "    # Remove URLs\n",
        "    text = re.sub(r'http[s]?://\\S+', '', text)\n",
        "    # Remove hashtags\n",
        "    text = re.sub(r'#\\w+', '', text)\n",
        "    # Remove @mentions\n",
        "    text = re.sub(r'@\\w+', '', text)\n",
        "    return text.strip()\n",
        "\n",
        "def process_csv(input_file, output_file):\n",
        "    with open(input_file, 'r', encoding='utf-8') as file:\n",
        "        r = csv.reader(file)\n",
        "        h = next(r)\n",
        "        df = list(r)\n",
        "# Clean text in the CSV data\n",
        "    cleaned_data = [(clean_text(row[0]), row[1]) for row in df]\n",
        " # Write cleaned data to a new CSV file\n",
        "    with open(output_file, 'w', newline='', encoding='utf-8') as file:\n",
        "        w = csv.writer(file)\n",
        "        w.writerow(h)\n",
        "        for row in cleaned_data:\n",
        "            w.writerow(row)\n",
        "\n",
        "    print(\"Cleaned data has been written to\", output_file)\n",
        "\n",
        "process_csv('output.csv', 'cleaned_output.csv')\n"
      ]
    },
    {
      "cell_type": "markdown",
      "source": [
        "\n",
        "\n",
        "*   Replacing Emojis to a descriptive word\n",
        "\n"
      ],
      "metadata": {
        "id": "1bzBGQEDql7r"
      }
    },
    {
      "cell_type": "code",
      "execution_count": null,
      "metadata": {
        "id": "zReoUurOpUAU"
      },
      "outputs": [],
      "source": [
        "\n",
        "def replace_emojis_with_descriptions(text):\n",
        "    def replace(match):\n",
        "        emoji_desc = match.group(0)\n",
        "        try:\n",
        "            return emoji.demojize(emoji_desc)\n",
        "        except KeyError:\n",
        "            return ''  # If emoji not found, replace with an empty string\n",
        "\n",
        "    emojis = re.compile(\"[\"\n",
        "                       u\"\\U0001F600-\\U0001F64F\"\n",
        "                       u\"\\U0001F300-\\U0001F5FF\"\n",
        "                       u\"\\U0001F680-\\U0001F6FF\"\n",
        "                       u\"\\U0001F700-\\U0001F77F\"\n",
        "                       u\"\\U0001F780-\\U0001F7FF\"\n",
        "                       u\"\\U0001F800-\\U0001F8FF\"\n",
        "                       u\"\\U0001F900-\\U0001F9FF\"\n",
        "                       u\"\\U0001FA00-\\U0001FA6F\"\n",
        "                       u\"\\U0001FA70-\\U0001FAFF\"\n",
        "                       u\"\\U00002702-\\U000027B0\"\n",
        "                       u\"\\U000024C2-\\U0001F251\"\n",
        "                       \"]+\", flags=re.UNICODE)\n",
        "    return emojis.sub(replace, text)\n",
        "\n",
        "def process_file(input_file_path, output_file_path):\n",
        "    with open(input_file_path, 'r', encoding='utf-8') as file:\n",
        "        lines = file.readlines()\n",
        "\n",
        "    cleaned_lines = [replace_emojis_with_descriptions(line) for line in lines]\n",
        "\n",
        "    with open(output_file_path, 'w', encoding='utf-8') as file:\n",
        "        file.writelines(cleaned_lines)\n",
        "\n",
        "input_path = 'Tweet.txt'\n",
        "output_path = 'cleaned.txt'\n",
        "process_file(input_path, output_path)"
      ]
    },
    {
      "cell_type": "markdown",
      "source": [
        "\n",
        "\n",
        "*   Handling Abbreviations\n",
        "\n"
      ],
      "metadata": {
        "id": "ooz54OWcq0Gh"
      }
    },
    {
      "cell_type": "code",
      "execution_count": null,
      "metadata": {
        "id": "oQX-mX4fpUAU"
      },
      "outputs": [],
      "source": [
        "def expand_contractions(text):\n",
        "    # Define common contractions and their expansions\n",
        "    contractions_dict = {\n",
        "        \"ain't\": \"am not\",\n",
        "        \"aren't\": \"are not\",\n",
        "        \"can't\": \"cannot\",\n",
        "        \"could've\": \"could have\",\n",
        "        \"couldn't\": \"could not\",\n",
        "        \"didn't\": \"did not\",\n",
        "        \"doesn't\": \"does not\",\n",
        "        \"don't\": \"do not\",\n",
        "        \"hadn't\": \"had not\",\n",
        "        \"hasn't\": \"has not\",\n",
        "        \"haven't\": \"have not\",\n",
        "        \"he'd\": \"he would\",\n",
        "        \"he'll\": \"he will\",\n",
        "        \"he's\": \"he is\",\n",
        "        \"how'd\": \"how did\",\n",
        "        \"how'll\": \"how will\",\n",
        "        \"how's\": \"how is\",\n",
        "        \"I'd\": \"I would\",\n",
        "        \"I'll\": \"I will\",\n",
        "        \"I'm\": \"I am\",\n",
        "        \"I've\": \"I have\",\n",
        "        \"isn't\": \"is not\",\n",
        "        \"it'd\": \"it would\",\n",
        "        \"it'll\": \"it will\",\n",
        "        \"it's\": \"it is\",\n",
        "        \"let's\": \"let us\",\n",
        "        \"mustn't\": \"must not\",\n",
        "        \"shan't\": \"shall not\",\n",
        "        \"she'd\": \"she would\",\n",
        "        \"she'll\": \"she will\",\n",
        "        \"she's\": \"she is\",\n",
        "        \"should've\": \"should have\",\n",
        "        \"shouldn't\": \"should not\",\n",
        "        \"that's\": \"that is\",\n",
        "        \"there's\": \"there is\",\n",
        "        \"they'd\": \"they would\",\n",
        "        \"they'll\": \"they will\",\n",
        "        \"they're\": \"they are\",\n",
        "        \"they've\": \"they have\",\n",
        "        \"wasn't\": \"was not\",\n",
        "        \"we'd\": \"we would\",\n",
        "        \"we'll\": \"we will\",\n",
        "        \"we're\": \"we are\",\n",
        "        \"we've\": \"we have\",\n",
        "        \"weren't\": \"were not\",\n",
        "        \"what'll\": \"what will\",\n",
        "        \"what're\": \"what are\",\n",
        "        \"what's\": \"what is\",\n",
        "        \"what've\": \"what have\",\n",
        "        \"when's\": \"when is\",\n",
        "        \"where'd\": \"where did\",\n",
        "        \"where's\": \"where is\",\n",
        "        \"who'll\": \"who will\",\n",
        "        \"who's\": \"who is\",\n",
        "        \"won't\": \"will not\",\n",
        "        \"would've\": \"would have\",\n",
        "        \"wouldn't\": \"would not\",\n",
        "        \"you'd\": \"you would\",\n",
        "        \"you'll\": \"you will\",\n",
        "        \"you're\": \"you are\",\n",
        "        \"you've\": \"you have\"\n",
        "    }\n",
        "\n",
        "    # Regular expression pattern for finding contractions\n",
        "    contractions_re = re.compile('(%s)' % '|'.join(contractions_dict.keys()))\n",
        "\n",
        "    def expand_match(contraction):\n",
        "        match = contraction.group(0)\n",
        "        expanded_contraction = contractions_dict.get(match) if contractions_dict.get(match) else contractions_dict.get(match.lower())\n",
        "        return expanded_contraction\n",
        "\n",
        "    # Replace contractions with their expansions\n",
        "    expanded_text = contractions_re.sub(expand_match, text)\n",
        "    return expanded_text\n",
        "\n",
        "# Open final.txt for reading\n",
        "with open('cleaned.txt', 'r') as infile:\n",
        "    # Read lines from the file\n",
        "    lines = infile.readlines()\n",
        "\n",
        "# Apply expand_contractions() function to each line\n",
        "expanded_lines = [expand_contractions(line) for line in lines]\n",
        "\n",
        "# Write the expanded content to expanded_final.txt\n",
        "with open('final.txt', 'w') as outfile:\n",
        "    # Write each expanded line to the output file\n",
        "    for line in expanded_lines:\n",
        "        outfile.write(line)\n"
      ]
    },
    {
      "cell_type": "markdown",
      "source": [
        "\n",
        "*   Removing Special Characters"
      ],
      "metadata": {
        "id": "iz_HzBe6q8n7"
      }
    },
    {
      "cell_type": "code",
      "execution_count": null,
      "metadata": {
        "id": "FtlK43hfpUAV"
      },
      "outputs": [],
      "source": [
        "\n",
        "# Define a function to remove special characters\n",
        "def remove_special_characters(text):\n",
        "    # Remove special characters except for \",\", \".\", \"!\", and newline characters\n",
        "    cleaned_text = re.sub(r'[^\\w\\s,.!\\n]', '', text)\n",
        "    return cleaned_text\n",
        "\n",
        "# Open final.txt for reading\n",
        "with open('final.txt', 'r') as infile:\n",
        "    # Read lines from the file\n",
        "    lines = infile.readlines()\n",
        "\n",
        "# Apply remove_special_characters() function to each line\n",
        "cleaned_lines = [remove_special_characters(line) for line in lines]\n",
        "\n",
        "# Write the cleaned content to final_cleaned.txt\n",
        "with open('final_cleaned.txt', 'w') as outfile:\n",
        "    # Write each cleaned line to the output file\n",
        "    for line in cleaned_lines:\n",
        "        outfile.write(line)\n"
      ]
    },
    {
      "cell_type": "markdown",
      "source": [
        "# **Tokenization**"
      ],
      "metadata": {
        "id": "7j-rdJJzsTq6"
      }
    },
    {
      "cell_type": "code",
      "source": [
        "\n",
        "df = pd.read_csv('merged_file.csv', index_col=False)\n",
        "\n",
        "df.head()"
      ],
      "metadata": {
        "colab": {
          "base_uri": "https://localhost:8080/",
          "height": 206
        },
        "id": "gc7JTJo7sjDk",
        "outputId": "d160073d-7940-4284-f258-4547b017b016"
      },
      "execution_count": null,
      "outputs": [
        {
          "output_type": "execute_result",
          "data": {
            "text/plain": [
              "                                               Tweet Sarcasm\n",
              "0  Fantastic service yet again from EE. 1st you u...     yes\n",
              "1  Not sure if that was or. I will take it! face_...     yes\n",
              "2         Barely 9 am and already shaking with rage.     yes\n",
              "3  I guess that proves it then. Black folks have ...     yes\n",
              "4                         Does this tweet need a tag     yes"
            ],
            "text/html": [
              "\n",
              "  <div id=\"df-804b05b8-d7ff-4bd7-a32a-b9aa061dbc64\" class=\"colab-df-container\">\n",
              "    <div>\n",
              "<style scoped>\n",
              "    .dataframe tbody tr th:only-of-type {\n",
              "        vertical-align: middle;\n",
              "    }\n",
              "\n",
              "    .dataframe tbody tr th {\n",
              "        vertical-align: top;\n",
              "    }\n",
              "\n",
              "    .dataframe thead th {\n",
              "        text-align: right;\n",
              "    }\n",
              "</style>\n",
              "<table border=\"1\" class=\"dataframe\">\n",
              "  <thead>\n",
              "    <tr style=\"text-align: right;\">\n",
              "      <th></th>\n",
              "      <th>Tweet</th>\n",
              "      <th>Sarcasm</th>\n",
              "    </tr>\n",
              "  </thead>\n",
              "  <tbody>\n",
              "    <tr>\n",
              "      <th>0</th>\n",
              "      <td>Fantastic service yet again from EE. 1st you u...</td>\n",
              "      <td>yes</td>\n",
              "    </tr>\n",
              "    <tr>\n",
              "      <th>1</th>\n",
              "      <td>Not sure if that was or. I will take it! face_...</td>\n",
              "      <td>yes</td>\n",
              "    </tr>\n",
              "    <tr>\n",
              "      <th>2</th>\n",
              "      <td>Barely 9 am and already shaking with rage.</td>\n",
              "      <td>yes</td>\n",
              "    </tr>\n",
              "    <tr>\n",
              "      <th>3</th>\n",
              "      <td>I guess that proves it then. Black folks have ...</td>\n",
              "      <td>yes</td>\n",
              "    </tr>\n",
              "    <tr>\n",
              "      <th>4</th>\n",
              "      <td>Does this tweet need a tag</td>\n",
              "      <td>yes</td>\n",
              "    </tr>\n",
              "  </tbody>\n",
              "</table>\n",
              "</div>\n",
              "    <div class=\"colab-df-buttons\">\n",
              "\n",
              "  <div class=\"colab-df-container\">\n",
              "    <button class=\"colab-df-convert\" onclick=\"convertToInteractive('df-804b05b8-d7ff-4bd7-a32a-b9aa061dbc64')\"\n",
              "            title=\"Convert this dataframe to an interactive table.\"\n",
              "            style=\"display:none;\">\n",
              "\n",
              "  <svg xmlns=\"http://www.w3.org/2000/svg\" height=\"24px\" viewBox=\"0 -960 960 960\">\n",
              "    <path d=\"M120-120v-720h720v720H120Zm60-500h600v-160H180v160Zm220 220h160v-160H400v160Zm0 220h160v-160H400v160ZM180-400h160v-160H180v160Zm440 0h160v-160H620v160ZM180-180h160v-160H180v160Zm440 0h160v-160H620v160Z\"/>\n",
              "  </svg>\n",
              "    </button>\n",
              "\n",
              "  <style>\n",
              "    .colab-df-container {\n",
              "      display:flex;\n",
              "      gap: 12px;\n",
              "    }\n",
              "\n",
              "    .colab-df-convert {\n",
              "      background-color: #E8F0FE;\n",
              "      border: none;\n",
              "      border-radius: 50%;\n",
              "      cursor: pointer;\n",
              "      display: none;\n",
              "      fill: #1967D2;\n",
              "      height: 32px;\n",
              "      padding: 0 0 0 0;\n",
              "      width: 32px;\n",
              "    }\n",
              "\n",
              "    .colab-df-convert:hover {\n",
              "      background-color: #E2EBFA;\n",
              "      box-shadow: 0px 1px 2px rgba(60, 64, 67, 0.3), 0px 1px 3px 1px rgba(60, 64, 67, 0.15);\n",
              "      fill: #174EA6;\n",
              "    }\n",
              "\n",
              "    .colab-df-buttons div {\n",
              "      margin-bottom: 4px;\n",
              "    }\n",
              "\n",
              "    [theme=dark] .colab-df-convert {\n",
              "      background-color: #3B4455;\n",
              "      fill: #D2E3FC;\n",
              "    }\n",
              "\n",
              "    [theme=dark] .colab-df-convert:hover {\n",
              "      background-color: #434B5C;\n",
              "      box-shadow: 0px 1px 3px 1px rgba(0, 0, 0, 0.15);\n",
              "      filter: drop-shadow(0px 1px 2px rgba(0, 0, 0, 0.3));\n",
              "      fill: #FFFFFF;\n",
              "    }\n",
              "  </style>\n",
              "\n",
              "    <script>\n",
              "      const buttonEl =\n",
              "        document.querySelector('#df-804b05b8-d7ff-4bd7-a32a-b9aa061dbc64 button.colab-df-convert');\n",
              "      buttonEl.style.display =\n",
              "        google.colab.kernel.accessAllowed ? 'block' : 'none';\n",
              "\n",
              "      async function convertToInteractive(key) {\n",
              "        const element = document.querySelector('#df-804b05b8-d7ff-4bd7-a32a-b9aa061dbc64');\n",
              "        const dataTable =\n",
              "          await google.colab.kernel.invokeFunction('convertToInteractive',\n",
              "                                                    [key], {});\n",
              "        if (!dataTable) return;\n",
              "\n",
              "        const docLinkHtml = 'Like what you see? Visit the ' +\n",
              "          '<a target=\"_blank\" href=https://colab.research.google.com/notebooks/data_table.ipynb>data table notebook</a>'\n",
              "          + ' to learn more about interactive tables.';\n",
              "        element.innerHTML = '';\n",
              "        dataTable['output_type'] = 'display_data';\n",
              "        await google.colab.output.renderOutput(dataTable, element);\n",
              "        const docLink = document.createElement('div');\n",
              "        docLink.innerHTML = docLinkHtml;\n",
              "        element.appendChild(docLink);\n",
              "      }\n",
              "    </script>\n",
              "  </div>\n",
              "\n",
              "\n",
              "<div id=\"df-d211bd9f-7b74-4350-ae1c-68d57845e42b\">\n",
              "  <button class=\"colab-df-quickchart\" onclick=\"quickchart('df-d211bd9f-7b74-4350-ae1c-68d57845e42b')\"\n",
              "            title=\"Suggest charts\"\n",
              "            style=\"display:none;\">\n",
              "\n",
              "<svg xmlns=\"http://www.w3.org/2000/svg\" height=\"24px\"viewBox=\"0 0 24 24\"\n",
              "     width=\"24px\">\n",
              "    <g>\n",
              "        <path d=\"M19 3H5c-1.1 0-2 .9-2 2v14c0 1.1.9 2 2 2h14c1.1 0 2-.9 2-2V5c0-1.1-.9-2-2-2zM9 17H7v-7h2v7zm4 0h-2V7h2v10zm4 0h-2v-4h2v4z\"/>\n",
              "    </g>\n",
              "</svg>\n",
              "  </button>\n",
              "\n",
              "<style>\n",
              "  .colab-df-quickchart {\n",
              "      --bg-color: #E8F0FE;\n",
              "      --fill-color: #1967D2;\n",
              "      --hover-bg-color: #E2EBFA;\n",
              "      --hover-fill-color: #174EA6;\n",
              "      --disabled-fill-color: #AAA;\n",
              "      --disabled-bg-color: #DDD;\n",
              "  }\n",
              "\n",
              "  [theme=dark] .colab-df-quickchart {\n",
              "      --bg-color: #3B4455;\n",
              "      --fill-color: #D2E3FC;\n",
              "      --hover-bg-color: #434B5C;\n",
              "      --hover-fill-color: #FFFFFF;\n",
              "      --disabled-bg-color: #3B4455;\n",
              "      --disabled-fill-color: #666;\n",
              "  }\n",
              "\n",
              "  .colab-df-quickchart {\n",
              "    background-color: var(--bg-color);\n",
              "    border: none;\n",
              "    border-radius: 50%;\n",
              "    cursor: pointer;\n",
              "    display: none;\n",
              "    fill: var(--fill-color);\n",
              "    height: 32px;\n",
              "    padding: 0;\n",
              "    width: 32px;\n",
              "  }\n",
              "\n",
              "  .colab-df-quickchart:hover {\n",
              "    background-color: var(--hover-bg-color);\n",
              "    box-shadow: 0 1px 2px rgba(60, 64, 67, 0.3), 0 1px 3px 1px rgba(60, 64, 67, 0.15);\n",
              "    fill: var(--button-hover-fill-color);\n",
              "  }\n",
              "\n",
              "  .colab-df-quickchart-complete:disabled,\n",
              "  .colab-df-quickchart-complete:disabled:hover {\n",
              "    background-color: var(--disabled-bg-color);\n",
              "    fill: var(--disabled-fill-color);\n",
              "    box-shadow: none;\n",
              "  }\n",
              "\n",
              "  .colab-df-spinner {\n",
              "    border: 2px solid var(--fill-color);\n",
              "    border-color: transparent;\n",
              "    border-bottom-color: var(--fill-color);\n",
              "    animation:\n",
              "      spin 1s steps(1) infinite;\n",
              "  }\n",
              "\n",
              "  @keyframes spin {\n",
              "    0% {\n",
              "      border-color: transparent;\n",
              "      border-bottom-color: var(--fill-color);\n",
              "      border-left-color: var(--fill-color);\n",
              "    }\n",
              "    20% {\n",
              "      border-color: transparent;\n",
              "      border-left-color: var(--fill-color);\n",
              "      border-top-color: var(--fill-color);\n",
              "    }\n",
              "    30% {\n",
              "      border-color: transparent;\n",
              "      border-left-color: var(--fill-color);\n",
              "      border-top-color: var(--fill-color);\n",
              "      border-right-color: var(--fill-color);\n",
              "    }\n",
              "    40% {\n",
              "      border-color: transparent;\n",
              "      border-right-color: var(--fill-color);\n",
              "      border-top-color: var(--fill-color);\n",
              "    }\n",
              "    60% {\n",
              "      border-color: transparent;\n",
              "      border-right-color: var(--fill-color);\n",
              "    }\n",
              "    80% {\n",
              "      border-color: transparent;\n",
              "      border-right-color: var(--fill-color);\n",
              "      border-bottom-color: var(--fill-color);\n",
              "    }\n",
              "    90% {\n",
              "      border-color: transparent;\n",
              "      border-bottom-color: var(--fill-color);\n",
              "    }\n",
              "  }\n",
              "</style>\n",
              "\n",
              "  <script>\n",
              "    async function quickchart(key) {\n",
              "      const quickchartButtonEl =\n",
              "        document.querySelector('#' + key + ' button');\n",
              "      quickchartButtonEl.disabled = true;  // To prevent multiple clicks.\n",
              "      quickchartButtonEl.classList.add('colab-df-spinner');\n",
              "      try {\n",
              "        const charts = await google.colab.kernel.invokeFunction(\n",
              "            'suggestCharts', [key], {});\n",
              "      } catch (error) {\n",
              "        console.error('Error during call to suggestCharts:', error);\n",
              "      }\n",
              "      quickchartButtonEl.classList.remove('colab-df-spinner');\n",
              "      quickchartButtonEl.classList.add('colab-df-quickchart-complete');\n",
              "    }\n",
              "    (() => {\n",
              "      let quickchartButtonEl =\n",
              "        document.querySelector('#df-d211bd9f-7b74-4350-ae1c-68d57845e42b button');\n",
              "      quickchartButtonEl.style.display =\n",
              "        google.colab.kernel.accessAllowed ? 'block' : 'none';\n",
              "    })();\n",
              "  </script>\n",
              "</div>\n",
              "\n",
              "    </div>\n",
              "  </div>\n"
            ],
            "application/vnd.google.colaboratory.intrinsic+json": {
              "type": "dataframe",
              "variable_name": "df",
              "summary": "{\n  \"name\": \"df\",\n  \"rows\": 2981,\n  \"fields\": [\n    {\n      \"column\": \"Tweet\",\n      \"properties\": {\n        \"dtype\": \"string\",\n        \"num_unique_values\": 2980,\n        \"samples\": [\n          \"if the other girls in my grade try to talk to him , ill cut off their tongues so they lose the ability to speak \",\n          \"trisler I'm still on the ground \",\n          \"Want to create more  and meaning in your day Surround yourself with truth and beauty!\"\n        ],\n        \"semantic_type\": \"\",\n        \"description\": \"\"\n      }\n    },\n    {\n      \"column\": \"Sarcasm\",\n      \"properties\": {\n        \"dtype\": \"category\",\n        \"num_unique_values\": 2,\n        \"samples\": [\n          \"no\",\n          \"yes\"\n        ],\n        \"semantic_type\": \"\",\n        \"description\": \"\"\n      }\n    }\n  ]\n}"
            }
          },
          "metadata": {},
          "execution_count": 22
        }
      ]
    },
    {
      "cell_type": "markdown",
      "source": [
        "\n",
        "\n",
        "*   Word Tokenization\n",
        "\n",
        "\n"
      ],
      "metadata": {
        "id": "JqXadVFMszbw"
      }
    },
    {
      "cell_type": "code",
      "source": [
        "\n",
        "# Initialize the TweetTokenizer\n",
        "tokenizer = TweetTokenizer()\n",
        "\n",
        "def tokenize_text(Tweet):\n",
        "    return tokenizer.tokenize(Tweet)\n",
        "\n",
        "df = pd.read_csv('merged_file.csv')\n",
        "df['tokens'] = df['Tweet'].apply(tokenize_text)\n",
        "\n",
        "print(df.head(15))\n",
        "df.to_csv('t_dataset.csv', index=False)"
      ],
      "metadata": {
        "id": "hH6gqAs8skqi",
        "colab": {
          "base_uri": "https://localhost:8080/"
        },
        "outputId": "a9ef1c02-4706-436c-9471-0573846efce6"
      },
      "execution_count": null,
      "outputs": [
        {
          "output_type": "stream",
          "name": "stdout",
          "text": [
            "                                                Tweet Sarcasm  \\\n",
            "0   Fantastic service yet again from EE. 1st you u...     yes   \n",
            "1   Not sure if that was or. I will take it! face_...     yes   \n",
            "2          Barely 9 am and already shaking with rage.     yes   \n",
            "3   I guess that proves it then. Black folks have ...     yes   \n",
            "4                          Does this tweet need a tag     yes   \n",
            "5   both. Wont be using you again. Made a formal c...     yes   \n",
            "6                Fuuuuuuuuck this shit screams thug!!     yes   \n",
            "7   66 UEs from Staniel and he wins in straights. ...     yes   \n",
            "8              totally surprising to every husker fan     yes   \n",
            "9                     Haha got to love the enthusiasm     yes   \n",
            "10  a southern pride advocate but of course it has...     yes   \n",
            "11  So nice not hearing any rumors that the  are n...     yes   \n",
            "12  We should divide illegals into two lines one f...     yes   \n",
            "13      does not even look like that great of a view.     yes   \n",
            "14  Mondays are always dreadful. Why are Fridays s...     yes   \n",
            "\n",
            "                                               tokens  \n",
            "0   [Fantastic, service, yet, again, from, EE, ., ...  \n",
            "1   [Not, sure, if, that, was, or, ., I, will, tak...  \n",
            "2   [Barely, 9, am, and, already, shaking, with, r...  \n",
            "3   [I, guess, that, proves, it, then, ., Black, f...  \n",
            "4                   [Does, this, tweet, need, a, tag]  \n",
            "5   [both, ., Wont, be, using, you, again, ., Made...  \n",
            "6      [Fuuuuuuuuck, this, shit, screams, thug, !, !]  \n",
            "7   [66, UEs, from, Staniel, and, he, wins, in, st...  \n",
            "8       [totally, surprising, to, every, husker, fan]  \n",
            "9              [Haha, got, to, love, the, enthusiasm]  \n",
            "10  [a, southern, pride, advocate, but, of, course...  \n",
            "11  [So, nice, not, hearing, any, rumors, that, th...  \n",
            "12  [We, should, divide, illegals, into, two, line...  \n",
            "13  [does, not, even, look, like, that, great, of,...  \n",
            "14  [Mondays, are, always, dreadful, ., Why, are, ...  \n"
          ]
        }
      ]
    },
    {
      "cell_type": "markdown",
      "source": [
        "# **Encoding**"
      ],
      "metadata": {
        "id": "o2h1SU3htMCW"
      }
    },
    {
      "cell_type": "markdown",
      "source": [
        "\n",
        "*   TF-IDF(Term Frequency-Inverse Document Frequency)\n"
      ],
      "metadata": {
        "id": "cJaFrteftGT8"
      }
    },
    {
      "cell_type": "code",
      "source": [
        "#tfidf\n",
        "tweets = df['Tweet']\n",
        "tfidf_vectorizer = TfidfVectorizer()\n",
        "X = tfidf_vectorizer.fit_transform(tweets)\n",
        "tfidf_df = pd.DataFrame(X.toarray(), columns=tfidf_vectorizer.get_feature_names_out())\n",
        "final_df = pd.concat([df.drop('Tweet', axis=1), tfidf_df], axis=1)\n",
        "final_df.to_csv(\"tfidf_encoded_tweets.csv\", index=False)"
      ],
      "metadata": {
        "id": "bbeLSiv_s4VW"
      },
      "execution_count": null,
      "outputs": []
    },
    {
      "cell_type": "markdown",
      "source": [
        "# **Handling Imbalance in our Dataset**"
      ],
      "metadata": {
        "id": "m99sADLWtj3q"
      }
    },
    {
      "cell_type": "markdown",
      "source": [
        "\n",
        "\n",
        "*   Finding if our dataset has imbalance\n",
        "\n"
      ],
      "metadata": {
        "id": "bcwTO4q_uTh0"
      }
    },
    {
      "cell_type": "code",
      "source": [
        "y = df['Sarcasm']\n",
        "y.value_counts()"
      ],
      "metadata": {
        "id": "2UTYzP1Xtwp1",
        "colab": {
          "base_uri": "https://localhost:8080/"
        },
        "outputId": "8d474d90-e01c-4f43-95bf-ece571f44cd8"
      },
      "execution_count": null,
      "outputs": [
        {
          "output_type": "execute_result",
          "data": {
            "text/plain": [
              "Sarcasm\n",
              "yes    1687\n",
              "no     1294\n",
              "Name: count, dtype: int64"
            ]
          },
          "metadata": {},
          "execution_count": 9
        }
      ]
    },
    {
      "cell_type": "code",
      "source": [
        "y.value_counts().plot.pie(autopct='%.2f')"
      ],
      "metadata": {
        "id": "sxulUDlAudj2",
        "colab": {
          "base_uri": "https://localhost:8080/",
          "height": 424
        },
        "outputId": "3819b2f2-555a-4c5f-be2b-589abb52fe5e"
      },
      "execution_count": null,
      "outputs": [
        {
          "output_type": "execute_result",
          "data": {
            "text/plain": [
              "<Axes: ylabel='count'>"
            ]
          },
          "metadata": {},
          "execution_count": 10
        },
        {
          "output_type": "display_data",
          "data": {
            "text/plain": [
              "<Figure size 640x480 with 1 Axes>"
            ],
            "image/png": "[encoded data removed]"
          },
          "metadata": {}
        }
      ]
    },
    {
      "cell_type": "markdown",
      "source": [
        "\n",
        "\n",
        "*   Random Oversampling\n",
        "\n"
      ],
      "metadata": {
        "id": "DeyXbrJ3d0Xv"
      }
    },
    {
      "cell_type": "code",
      "source": [
        "from sklearn.feature_extraction.text import TfidfVectorizer\n",
        "from imblearn.over_sampling import SMOTE\n",
        "from imblearn.over_sampling import RandomOverSampler\n",
        "# Convert text data to numerical data using TF-IDF\n",
        "tfidf = TfidfVectorizer()\n",
        "tfidf = TfidfVectorizer()\n",
        "X_tfidf = tfidf.fit_transform(df['Tweet'])\n",
        "y = df['Sarcasm']\n",
        "smote = SMOTE()\n",
        "X_resampled, y_resampled = smote.fit_resample(X_tfidf, y)\n",
        "ax = y_resampled.value_counts().plot.pie(autopct='%.2f')\n",
        "_ = ax.set_title(\"Over-sampling with SMOTE\")\n",
        "plt.show()\n",
        "y_resampled.value_counts()"
      ],
      "metadata": {
        "colab": {
          "base_uri": "https://localhost:8080/",
          "height": 499
        },
        "id": "6tY1nQjHd1pn",
        "outputId": "0fa49298-a1f3-485a-afb4-c782422a860a"
      },
      "execution_count": null,
      "outputs": [
        {
          "output_type": "display_data",
          "data": {
            "text/plain": [
              "<Figure size 640x480 with 1 Axes>"
            ],
            "image/png": "[encoded data removed]"
          },
          "metadata": {}
        },
        {
          "output_type": "execute_result",
          "data": {
            "text/plain": [
              "Sarcasm\n",
              "yes    1687\n",
              "no     1687\n",
              "Name: count, dtype: int64"
            ]
          },
          "metadata": {},
          "execution_count": 26
        }
      ]
    },
    {
      "cell_type": "markdown",
      "source": [
        "# **ML Model**"
      ],
      "metadata": {
        "id": "TvbsNkN0d218"
      }
    },
    {
      "cell_type": "markdown",
      "source": [
        "Importing the Dataset"
      ],
      "metadata": {
        "id": "PkvLwCK3f0nX"
      }
    },
    {
      "cell_type": "code",
      "source": [
        "df = pd.read_csv('t_dataset.csv', index_col=False)"
      ],
      "metadata": {
        "id": "xWaQpYIMd_v3"
      },
      "execution_count": null,
      "outputs": []
    },
    {
      "cell_type": "markdown",
      "source": [
        "Function for Model Evaluation"
      ],
      "metadata": {
        "id": "c4x9RA5MgEX2"
      }
    },
    {
      "cell_type": "code",
      "source": [
        "def evaluate_model(y_test, y_pred, y_pred_prob):\n",
        "    # Accuracy\n",
        "    accuracy = accuracy_score(y_test, y_pred)\n",
        "    print(f'Accuracy: {accuracy * 100:.2f}%')\n",
        "\n",
        "    # Classification report\n",
        "    print(\"Classification Report:\")\n",
        "    print(classification_report(y_test, y_pred))\n",
        "\n",
        "    # Confusion matrix\n",
        "    conf_matrix = confusion_matrix(y_test, y_pred)\n",
        "    plt.figure(figsize=(8, 6))\n",
        "    sns.heatmap(conf_matrix, annot=True, fmt='d', cmap='Blues', xticklabels=['Not Sarcastic', 'Sarcastic'], yticklabels=['Not Sarcastic', 'Sarcastic'])\n",
        "    plt.xlabel('Predicted')\n",
        "    plt.ylabel('Actual')\n",
        "    plt.title('Confusion Matrix')\n",
        "    plt.show()"
      ],
      "metadata": {
        "id": "fVzsoH-EeH3A"
      },
      "execution_count": null,
      "outputs": []
    },
    {
      "cell_type": "code",
      "source": [
        "df['Sarcasm'] = df['Sarcasm'].map({'yes': 1, 'no': 0})"
      ],
      "metadata": {
        "id": "mzpeVLEueLkD"
      },
      "execution_count": null,
      "outputs": []
    },
    {
      "cell_type": "markdown",
      "source": [
        "Splitting the dataset into Train and Test"
      ],
      "metadata": {
        "id": "6kPDJWNdfmGQ"
      }
    },
    {
      "cell_type": "code",
      "source": [
        "X_train, X_test, y_train, y_test = train_test_split(df['Tweet'], df['Sarcasm'], test_size=0.2, random_state=42)"
      ],
      "metadata": {
        "id": "d-Za_BM0eOqt"
      },
      "execution_count": null,
      "outputs": []
    },
    {
      "cell_type": "code",
      "source": [
        "vectorizer = TfidfVectorizer(max_features=5000, ngram_range=(1, 2))\n",
        "X_train_tfidf = vectorizer.fit_transform(X_train)\n",
        "X_test_tfidf = vectorizer.transform(X_test)"
      ],
      "metadata": {
        "id": "mM_YHwTseRKj"
      },
      "execution_count": null,
      "outputs": []
    },
    {
      "cell_type": "markdown",
      "source": [
        "**Logistic Regression**"
      ],
      "metadata": {
        "id": "2ATatRmheivP"
      }
    },
    {
      "cell_type": "code",
      "source": [
        "# Train Logistic Regression model\n",
        "model = LogisticRegression()\n",
        "model.fit(X_train_tfidf, y_train)\n",
        "y_train = y_train.map({'yes': 1, 'no': 0})\n",
        "\n",
        "y_pred = model.predict(X_test_tfidf)\n",
        "y_pred_prob = model.predict_proba(X_test_tfidf)[:, 1]"
      ],
      "metadata": {
        "id": "ZrBOAC82wjDz"
      },
      "execution_count": null,
      "outputs": []
    },
    {
      "cell_type": "code",
      "source": [
        "evaluate_model(y_test, y_pred, y_pred_prob)"
      ],
      "metadata": {
        "colab": {
          "base_uri": "https://localhost:8080/",
          "height": 760
        },
        "id": "auGiCL5aeaDf",
        "outputId": "7757896e-9fe8-482d-ddbf-44187d62f658"
      },
      "execution_count": null,
      "outputs": [
        {
          "output_type": "stream",
          "name": "stdout",
          "text": [
            "Accuracy: 77.89%\n",
            "Classification Report:\n",
            "              precision    recall  f1-score   support\n",
            "\n",
            "           0       0.83      0.59      0.69       250\n",
            "           1       0.76      0.91      0.83       347\n",
            "\n",
            "    accuracy                           0.78       597\n",
            "   macro avg       0.79      0.75      0.76       597\n",
            "weighted avg       0.79      0.78      0.77       597\n",
            "\n"
          ]
        },
        {
          "output_type": "display_data",
          "data": {
            "text/plain": [
              "<Figure size 800x600 with 2 Axes>"
            ],
            "image/png": "[encoded data removed]"
          },
          "metadata": {}
        }
      ]
    },
    {
      "cell_type": "markdown",
      "source": [
        "Predictions"
      ],
      "metadata": {
        "id": "dXwv9fbQ4xAl"
      }
    },
    {
      "cell_type": "code",
      "source": [
        "import pandas as pd\n",
        "import numpy as np\n",
        "from sklearn.model_selection import train_test_split\n",
        "from sklearn.linear_model import LogisticRegression\n",
        "from sklearn.metrics import accuracy_score, classification_report\n",
        "from sklearn.feature_extraction.text import TfidfVectorizer\n",
        "# Train the model\n",
        "log_reg = LogisticRegression(max_iter=1000)\n",
        "log_reg.fit(X_train_tfidf, y_train)\n",
        "# Make prediction\n",
        "y_pred = log_reg.predict(X_test_tfidf)"
      ],
      "metadata": {
        "id": "XmuoF0qZxTLY"
      },
      "execution_count": null,
      "outputs": []
    },
    {
      "cell_type": "code",
      "source": [
        "# Now, let's test the model with new random reviews\n",
        "new_review = ['Sure, I will get right on finishing that report after I clean the entire office building with a toothbrush.']\n",
        "\n",
        "# Transform these new reviews using the same TF-IDF vectorizer\n",
        "# Note: Use the 'transform' method, not 'fit_transform', to ensure consistency with the training data vocabulary\n",
        "new_reviews_tfidf = tfidf.transform(new_review)\n",
        "\n",
        "# Limit the features of new_reviews_tfidf to match the training data\n",
        "new_reviews_tfidf = new_reviews_tfidf[:, :log_reg.n_features_in_]\n",
        "\n",
        "# Predict the labels for the new reviews\n",
        "new_predictions = log_reg.predict(new_reviews_tfidf)\n",
        "\n",
        "# Output the predictions for the new reviews\n",
        "for review, prediction in zip(new_review, new_predictions):\n",
        "    print(f'Review: \"{review}\" - Predicted Label: {prediction}')"
      ],
      "metadata": {
        "colab": {
          "base_uri": "https://localhost:8080/"
        },
        "id": "4OmbuQDJyxqS",
        "outputId": "ab68afdb-ea43-4f32-aa43-be6147c676f6"
      },
      "execution_count": null,
      "outputs": [
        {
          "output_type": "stream",
          "name": "stdout",
          "text": [
            "Review: \"Sure, I will get right on finishing that report after I clean the entire office building with a toothbrush.\" - Predicted Label: 1\n"
          ]
        }
      ]
    },
    {
      "cell_type": "markdown",
      "source": [
        "# **Hyperparameter Tuning**"
      ],
      "metadata": {
        "id": "KgJEZ4QZ16lz"
      }
    },
    {
      "cell_type": "code",
      "source": [
        "import pandas as pd\n",
        "import numpy as np\n",
        "from sklearn.feature_extraction.text import TfidfVectorizer\n",
        "from sklearn.model_selection import train_test_split, GridSearchCV\n",
        "from sklearn.linear_model import LogisticRegression\n",
        "from sklearn.ensemble import RandomForestClassifier\n",
        "from sklearn.svm import SVC\n",
        "from xgboost import XGBClassifier\n",
        "from sklearn.metrics import accuracy_score, classification_report\n",
        "from sklearn.preprocessing import LabelEncoder\n",
        "\n",
        "# Preprocess the data\n",
        "tfidf_vectorizer = TfidfVectorizer(max_features=1000)\n",
        "X = tfidf_vectorizer.fit_transform(df['Tweet']).toarray()\n",
        "\n",
        "# Encode labels into numerical format\n",
        "label_encoder = LabelEncoder()\n",
        "y = label_encoder.fit_transform(df['Sarcasm'])\n",
        "\n",
        "# Split the dataset into training and testing sets\n",
        "X_train, X_test, y_train, y_test = train_test_split(X, y, test_size=0.2, random_state=42)"
      ],
      "metadata": {
        "id": "QCGIJq8a1GQL"
      },
      "execution_count": null,
      "outputs": []
    },
    {
      "cell_type": "code",
      "source": [
        "# Logistic Regression Hyperparameter Tuning\n",
        "log_reg_params = {\n",
        "    'C': [0.01, 0.1, 1, 10, 100],\n",
        "    'solver': ['liblinear', 'lbfgs']\n",
        "}\n",
        "log_reg = LogisticRegression(max_iter=1000)\n",
        "log_reg_grid = GridSearchCV(log_reg, log_reg_params, cv=5, scoring='accuracy')\n",
        "log_reg_grid.fit(X_train, y_train)"
      ],
      "metadata": {
        "colab": {
          "base_uri": "https://localhost:8080/",
          "height": 239
        },
        "id": "A-v5hisM1Tf9",
        "outputId": "0bcff7c7-a21e-40e3-9ee9-46d565b30b06"
      },
      "execution_count": null,
      "outputs": [
        {
          "output_type": "execute_result",
          "data": {
            "text/plain": [
              "GridSearchCV(cv=5, estimator=LogisticRegression(max_iter=1000),\n",
              "             param_grid={'C': [0.01, 0.1, 1, 10, 100],\n",
              "                         'solver': ['liblinear', 'lbfgs']},\n",
              "             scoring='accuracy')"
            ],
            "text/html": [
              "<style>#sk-container-id-1 {color: black;background-color: white;}#sk-container-id-1 pre{padding: 0;}#sk-container-id-1 div.sk-toggleable {background-color: white;}#sk-container-id-1 label.sk-toggleable__label {cursor: pointer;display: block;width: 100%;margin-bottom: 0;padding: 0.3em;box-sizing: border-box;text-align: center;}#sk-container-id-1 label.sk-toggleable__label-arrow:before {content: \"▸\";float: left;margin-right: 0.25em;color: #696969;}#sk-container-id-1 label.sk-toggleable__label-arrow:hover:before {color: black;}#sk-container-id-1 div.sk-estimator:hover label.sk-toggleable__label-arrow:before {color: black;}#sk-container-id-1 div.sk-toggleable__content {max-height: 0;max-width: 0;overflow: hidden;text-align: left;background-color: #f0f8ff;}#sk-container-id-1 div.sk-toggleable__content pre {margin: 0.2em;color: black;border-radius: 0.25em;background-color: #f0f8ff;}#sk-container-id-1 input.sk-toggleable__control:checked~div.sk-toggleable__content {max-height: 200px;max-width: 100%;overflow: auto;}#sk-container-id-1 input.sk-toggleable__control:checked~label.sk-toggleable__label-arrow:before {content: \"▾\";}#sk-container-id-1 div.sk-estimator input.sk-toggleable__control:checked~label.sk-toggleable__label {background-color: #d4ebff;}#sk-container-id-1 div.sk-label input.sk-toggleable__control:checked~label.sk-toggleable__label {background-color: #d4ebff;}#sk-container-id-1 input.sk-hidden--visually {border: 0;clip: rect(1px 1px 1px 1px);clip: rect(1px, 1px, 1px, 1px);height: 1px;margin: -1px;overflow: hidden;padding: 0;position: absolute;width: 1px;}#sk-container-id-1 div.sk-estimator {font-family: monospace;background-color: #f0f8ff;border: 1px dotted black;border-radius: 0.25em;box-sizing: border-box;margin-bottom: 0.5em;}#sk-container-id-1 div.sk-estimator:hover {background-color: #d4ebff;}#sk-container-id-1 div.sk-parallel-item::after {content: \"\";width: 100%;border-bottom: 1px solid gray;flex-grow: 1;}#sk-container-id-1 div.sk-label:hover label.sk-toggleable__label {background-color: #d4ebff;}#sk-container-id-1 div.sk-serial::before {content: \"\";position: absolute;border-left: 1px solid gray;box-sizing: border-box;top: 0;bottom: 0;left: 50%;z-index: 0;}#sk-container-id-1 div.sk-serial {display: flex;flex-direction: column;align-items: center;background-color: white;padding-right: 0.2em;padding-left: 0.2em;position: relative;}#sk-container-id-1 div.sk-item {position: relative;z-index: 1;}#sk-container-id-1 div.sk-parallel {display: flex;align-items: stretch;justify-content: center;background-color: white;position: relative;}#sk-container-id-1 div.sk-item::before, #sk-container-id-1 div.sk-parallel-item::before {content: \"\";position: absolute;border-left: 1px solid gray;box-sizing: border-box;top: 0;bottom: 0;left: 50%;z-index: -1;}#sk-container-id-1 div.sk-parallel-item {display: flex;flex-direction: column;z-index: 1;position: relative;background-color: white;}#sk-container-id-1 div.sk-parallel-item:first-child::after {align-self: flex-end;width: 50%;}#sk-container-id-1 div.sk-parallel-item:last-child::after {align-self: flex-start;width: 50%;}#sk-container-id-1 div.sk-parallel-item:only-child::after {width: 0;}#sk-container-id-1 div.sk-dashed-wrapped {border: 1px dashed gray;margin: 0 0.4em 0.5em 0.4em;box-sizing: border-box;padding-bottom: 0.4em;background-color: white;}#sk-container-id-1 div.sk-label label {font-family: monospace;font-weight: bold;display: inline-block;line-height: 1.2em;}#sk-container-id-1 div.sk-label-container {text-align: center;}#sk-container-id-1 div.sk-container {/* jupyter's `normalize.less` sets `[hidden] { display: none; }` but bootstrap.min.css set `[hidden] { display: none !important; }` so we also need the `!important` here to be able to override the default hidden behavior on the sphinx rendered scikit-learn.org. See: https://github.com/scikit-learn/scikit-learn/issues/21755 */display: inline-block !important;position: relative;}#sk-container-id-1 div.sk-text-repr-fallback {display: none;}</style><div id=\"sk-container-id-1\" class=\"sk-top-container\"><div class=\"sk-text-repr-fallback\"><pre>GridSearchCV(cv=5, estimator=LogisticRegression(max_iter=1000),\n",
              "             param_grid={&#x27;C&#x27;: [0.01, 0.1, 1, 10, 100],\n",
              "                         &#x27;solver&#x27;: [&#x27;liblinear&#x27;, &#x27;lbfgs&#x27;]},\n",
              "             scoring=&#x27;accuracy&#x27;)</pre><b>In a Jupyter environment, please rerun this cell to show the HTML representation or trust the notebook. <br />On GitHub, the HTML representation is unable to render, please try loading this page with nbviewer.org.</b></div><div class=\"sk-container\" hidden><div class=\"sk-item sk-dashed-wrapped\"><div class=\"sk-label-container\"><div class=\"sk-label sk-toggleable\"><input class=\"sk-toggleable__control sk-hidden--visually\" id=\"sk-estimator-id-1\" type=\"checkbox\" ><label for=\"sk-estimator-id-1\" class=\"sk-toggleable__label sk-toggleable__label-arrow\">GridSearchCV</label><div class=\"sk-toggleable__content\"><pre>GridSearchCV(cv=5, estimator=LogisticRegression(max_iter=1000),\n",
              "             param_grid={&#x27;C&#x27;: [0.01, 0.1, 1, 10, 100],\n",
              "                         &#x27;solver&#x27;: [&#x27;liblinear&#x27;, &#x27;lbfgs&#x27;]},\n",
              "             scoring=&#x27;accuracy&#x27;)</pre></div></div></div><div class=\"sk-parallel\"><div class=\"sk-parallel-item\"><div class=\"sk-item\"><div class=\"sk-label-container\"><div class=\"sk-label sk-toggleable\"><input class=\"sk-toggleable__control sk-hidden--visually\" id=\"sk-estimator-id-2\" type=\"checkbox\" ><label for=\"sk-estimator-id-2\" class=\"sk-toggleable__label sk-toggleable__label-arrow\">estimator: LogisticRegression</label><div class=\"sk-toggleable__content\"><pre>LogisticRegression(max_iter=1000)</pre></div></div></div><div class=\"sk-serial\"><div class=\"sk-item\"><div class=\"sk-estimator sk-toggleable\"><input class=\"sk-toggleable__control sk-hidden--visually\" id=\"sk-estimator-id-3\" type=\"checkbox\" ><label for=\"sk-estimator-id-3\" class=\"sk-toggleable__label sk-toggleable__label-arrow\">LogisticRegression</label><div class=\"sk-toggleable__content\"><pre>LogisticRegression(max_iter=1000)</pre></div></div></div></div></div></div></div></div></div></div>"
            ]
          },
          "metadata": {},
          "execution_count": 108
        }
      ]
    },
    {
      "cell_type": "code",
      "source": [
        "# Evaluate Logistic Regression\n",
        "log_reg_best = log_reg_grid.best_estimator_\n",
        "log_reg_pred = log_reg_best.predict(X_test)\n",
        "print(\"Logistic Regression Best Parameters:\", log_reg_grid.best_params_)\n",
        "print(\"Logistic Regression Accuracy:\", accuracy_score(y_test, log_reg_pred))\n",
        "print(\"Logistic Regression Classification Report:\\n\", classification_report(y_test, log_reg_pred))"
      ],
      "metadata": {
        "colab": {
          "base_uri": "https://localhost:8080/"
        },
        "id": "B_U84H271g1N",
        "outputId": "51b1516a-1d18-4ed9-ba18-4066e8b66b18"
      },
      "execution_count": null,
      "outputs": [
        {
          "output_type": "stream",
          "name": "stdout",
          "text": [
            "Logistic Regression Best Parameters: {'C': 0.1, 'solver': 'liblinear'}\n",
            "Logistic Regression Accuracy: 0.7989949748743719\n",
            "Logistic Regression Classification Report:\n",
            "               precision    recall  f1-score   support\n",
            "\n",
            "           0       0.95      0.55      0.70       250\n",
            "           1       0.75      0.98      0.85       347\n",
            "\n",
            "    accuracy                           0.80       597\n",
            "   macro avg       0.85      0.76      0.77       597\n",
            "weighted avg       0.83      0.80      0.79       597\n",
            "\n"
          ]
        }
      ]
    },
    {
      "cell_type": "markdown",
      "source": [
        "# **Conclusion**\n",
        "\n",
        "**Data Loading and Preprocessing**:\n",
        "\n",
        "Loaded the dataset and displayed basic information.\n",
        "\n",
        "Cleaned the data by removing @,# and URLs and also emojis.\n",
        "\n",
        "Encoded and Tokenized the labels.\n",
        "\n",
        "**Handling Imbalanced Data**:\n",
        "\n",
        "Used SMOTE to handle imbalanced data.\n",
        "Visualized the class distribution before and after resampling.\n",
        "\n",
        "**Training and Evaluating the Model**:\n",
        "\n",
        "*   We explored different ML Models and found Logistic Regression to have the best accuracy-77.89%.\n",
        "*   SVM was also good with accuracy 77.55%.\n",
        "*   Logistic Regression improved its accuracy after tuning and now perform comparably well.\n",
        "*   Evaluated the model using classification report, confusion matrix, and accuracy score.\n",
        "*   tested the model with new random tweets.\n",
        "\n",
        "**Hyperparameter Tuning**:\n",
        "\n",
        "Performed Grid Search to find the best hyperparameters.\n",
        "Displayed the best parameters and the best score.\n",
        "\n",
        "\n",
        "\n",
        "\n",
        "\n"
      ],
      "metadata": {
        "id": "zieqxFDtsX2k"
      }
    }
  ],
  "metadata": {
    "kernelspec": {
      "display_name": "base",
      "language": "python",
      "name": "python3"
    },
    "language_info": {
      "codemirror_mode": {
        "name": "ipython",
        "version": 3
      },
      "file_extension": ".py",
      "mimetype": "text/x-python",
      "name": "python",
      "nbconvert_exporter": "python",
      "pygments_lexer": "ipython3",
      "version": "3.11.7"
    },
    "colab": {
      "provenance": []
    }
  },
  "nbformat": 4,
  "nbformat_minor": 0
}
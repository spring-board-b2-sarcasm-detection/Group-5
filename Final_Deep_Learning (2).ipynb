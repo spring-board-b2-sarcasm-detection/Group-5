{
 "cells": [
  {
   "cell_type": "markdown",
   "id": "8cf15f8d-cdb3-4fe9-b622-5d96d3a6ac9a",
   "metadata": {},
   "source": [
    "# Sarcasm Detection in Twitter Comments"
   ]
  },
  {
   "cell_type": "code",
   "execution_count": 23,
   "id": "1bfed90d-71e0-41d6-9c73-c9dd0f03e4c2",
   "metadata": {},
   "outputs": [],
   "source": [
    "import pandas as pd\n",
    "import numpy as np\n",
    "import emoji\n",
    "import nltk\n",
    "from nltk.tokenize import TweetTokenizer\n",
    "from sklearn.model_selection import train_test_split\n",
    "from sklearn.feature_extraction.text import TfidfVectorizer\n",
    "from sklearn.metrics import accuracy_score, classification_report, confusion_matrix, roc_curve, roc_auc_score\n",
    "import seaborn as sns\n",
    "import matplotlib.pyplot as plt\n",
    "from imblearn.over_sampling import SMOTE\n",
    "from imblearn.over_sampling import RandomOverSampler\n",
    "from sklearn.metrics import f1_score\n",
    "from tensorflow.keras.preprocessing.text import Tokenizer\n",
    "from tensorflow.keras.preprocessing.sequence import pad_sequences\n",
    "from tensorflow.keras.models import Sequential\n",
    "from tensorflow.keras.layers import Embedding, GRU, Dense, Dropout\n",
    "from tensorflow.keras.preprocessing.text import Tokenizer\n",
    "from tensorflow.keras.preprocessing.sequence import pad_sequences\n",
    "from tensorflow.keras.models import Sequential\n",
    "from tensorflow.keras.callbacks import EarlyStopping"
   ]
  },
  {
   "cell_type": "markdown",
   "id": "7a7a33fc-f754-4b99-a1f0-8a0ad4d5404f",
   "metadata": {},
   "source": [
    "### Loading Text File into Pandas DataFrame"
   ]
  },
  {
   "cell_type": "code",
   "execution_count": 3,
   "id": "c07805db-d0d5-4687-8850-8c68636a760a",
   "metadata": {},
   "outputs": [],
   "source": [
    "df = pd.read_csv(\"C:\\\\Users\\\\HP\\\\OneDrive\\\\Desktop\\\\Test_v1.txt\", delimiter='\\t')"
   ]
  },
  {
   "cell_type": "code",
   "execution_count": 4,
   "id": "8f356ecb-72d0-4b60-b514-86de3c29ec98",
   "metadata": {},
   "outputs": [
    {
     "data": {
      "text/html": [
       "<div>\n",
       "<style scoped>\n",
       "    .dataframe tbody tr th:only-of-type {\n",
       "        vertical-align: middle;\n",
       "    }\n",
       "\n",
       "    .dataframe tbody tr th {\n",
       "        vertical-align: top;\n",
       "    }\n",
       "\n",
       "    .dataframe thead th {\n",
       "        text-align: right;\n",
       "    }\n",
       "</style>\n",
       "<table border=\"1\" class=\"dataframe\">\n",
       "  <thead>\n",
       "    <tr style=\"text-align: right;\">\n",
       "      <th></th>\n",
       "      <th>TrainSen</th>\n",
       "      <th>1</th>\n",
       "      <th>I loovee when people text back ... 😒 #sarcastictweet</th>\n",
       "    </tr>\n",
       "  </thead>\n",
       "  <tbody>\n",
       "    <tr>\n",
       "      <th>0</th>\n",
       "      <td>TrainSen</td>\n",
       "      <td>1</td>\n",
       "      <td>Don't you love it when your parents are Pissed...</td>\n",
       "    </tr>\n",
       "    <tr>\n",
       "      <th>1</th>\n",
       "      <td>TrainSen</td>\n",
       "      <td>1</td>\n",
       "      <td>So many useless classes , great to be student</td>\n",
       "    </tr>\n",
       "    <tr>\n",
       "      <th>2</th>\n",
       "      <td>TrainSen</td>\n",
       "      <td>1</td>\n",
       "      <td>Oh how I love getting home from work at 3am an...</td>\n",
       "    </tr>\n",
       "    <tr>\n",
       "      <th>3</th>\n",
       "      <td>TrainSen</td>\n",
       "      <td>1</td>\n",
       "      <td>I just love having grungy ass hair 😑 #not</td>\n",
       "    </tr>\n",
       "    <tr>\n",
       "      <th>4</th>\n",
       "      <td>TrainSen</td>\n",
       "      <td>1</td>\n",
       "      <td>Thank you , random guy , for sneaking up behin...</td>\n",
       "    </tr>\n",
       "  </tbody>\n",
       "</table>\n",
       "</div>"
      ],
      "text/plain": [
       "   TrainSen  1 I loovee when people text back ... 😒 #sarcastictweet\n",
       "0  TrainSen  1  Don't you love it when your parents are Pissed...  \n",
       "1  TrainSen  1      So many useless classes , great to be student  \n",
       "2  TrainSen  1  Oh how I love getting home from work at 3am an...  \n",
       "3  TrainSen  1          I just love having grungy ass hair 😑 #not  \n",
       "4  TrainSen  1  Thank you , random guy , for sneaking up behin...  "
      ]
     },
     "execution_count": 4,
     "metadata": {},
     "output_type": "execute_result"
    }
   ],
   "source": [
    "df.head()"
   ]
  },
  {
   "cell_type": "markdown",
   "id": "41fc38d8-bb3a-4a0d-9cd9-a80f85895d78",
   "metadata": {},
   "source": [
    "## Reading, Renaming Columns, and Saving DataFrame to CSV"
   ]
  },
  {
   "cell_type": "code",
   "execution_count": 5,
   "id": "5be9ffad-8889-4f1b-8ffb-a67c487fb17a",
   "metadata": {},
   "outputs": [
    {
     "name": "stdout",
     "output_type": "stream",
     "text": [
      "      Train  Label                                             Tweets\n",
      "0  TrainSen      1  I loovee when people text back ... 😒 #sarcasti...\n",
      "1  TrainSen      1  Don't you love it when your parents are Pissed...\n",
      "2  TrainSen      1      So many useless classes , great to be student\n",
      "3  TrainSen      1  Oh how I love getting home from work at 3am an...\n",
      "4  TrainSen      1          I just love having grungy ass hair 😑 #not\n"
     ]
    }
   ],
   "source": [
    "df = pd.read_csv('C:\\\\Users\\\\HP\\\\OneDrive\\\\Desktop\\\\Test_v1.txt', header=None, delimiter='\\t')\n",
    "\n",
    "# name the columns\n",
    "df.columns = ['Train', 'Label', 'Tweets']\n",
    "\n",
    "print(df.head())\n",
    "\n",
    "df.to_csv('Clean_Dataset.csv', index=False)"
   ]
  },
  {
   "cell_type": "markdown",
   "id": "ef0313fc-4fbf-4ff9-a19b-396889300fd1",
   "metadata": {},
   "source": [
    "## Drop the 'Train' column"
   ]
  },
  {
   "cell_type": "code",
   "execution_count": 6,
   "id": "4329a9c1-7fb4-445a-8063-ea3cc2ebe86b",
   "metadata": {},
   "outputs": [],
   "source": [
    "if df.shape[1] == 3:\n",
    "    df.columns = ['Train', 'Label', 'Tweets']\n",
    "    \n",
    "    # Drop the 'Train' column\n",
    "    df = df.drop(columns=['Train'])\n",
    "  \n",
    "    df.to_csv('Clean_Dataset.csv', index=False)\n",
    "else:\n",
    "    print(\"Unexpected number of columns in the dataset. Expected 3 columns, but found:\", df.shape[1])"
   ]
  },
  {
   "cell_type": "code",
   "execution_count": 7,
   "id": "139ec7dc-5a19-4405-a423-4e16e2d94599",
   "metadata": {},
   "outputs": [
    {
     "data": {
      "text/html": [
       "<div>\n",
       "<style scoped>\n",
       "    .dataframe tbody tr th:only-of-type {\n",
       "        vertical-align: middle;\n",
       "    }\n",
       "\n",
       "    .dataframe tbody tr th {\n",
       "        vertical-align: top;\n",
       "    }\n",
       "\n",
       "    .dataframe thead th {\n",
       "        text-align: right;\n",
       "    }\n",
       "</style>\n",
       "<table border=\"1\" class=\"dataframe\">\n",
       "  <thead>\n",
       "    <tr style=\"text-align: right;\">\n",
       "      <th></th>\n",
       "      <th>Label</th>\n",
       "      <th>Tweets</th>\n",
       "    </tr>\n",
       "  </thead>\n",
       "  <tbody>\n",
       "    <tr>\n",
       "      <th>0</th>\n",
       "      <td>1</td>\n",
       "      <td>I loovee when people text back ... 😒 #sarcasti...</td>\n",
       "    </tr>\n",
       "    <tr>\n",
       "      <th>1</th>\n",
       "      <td>1</td>\n",
       "      <td>Don't you love it when your parents are Pissed...</td>\n",
       "    </tr>\n",
       "    <tr>\n",
       "      <th>2</th>\n",
       "      <td>1</td>\n",
       "      <td>So many useless classes , great to be student</td>\n",
       "    </tr>\n",
       "    <tr>\n",
       "      <th>3</th>\n",
       "      <td>1</td>\n",
       "      <td>Oh how I love getting home from work at 3am an...</td>\n",
       "    </tr>\n",
       "    <tr>\n",
       "      <th>4</th>\n",
       "      <td>1</td>\n",
       "      <td>I just love having grungy ass hair 😑 #not</td>\n",
       "    </tr>\n",
       "  </tbody>\n",
       "</table>\n",
       "</div>"
      ],
      "text/plain": [
       "   Label                                             Tweets\n",
       "0      1  I loovee when people text back ... 😒 #sarcasti...\n",
       "1      1  Don't you love it when your parents are Pissed...\n",
       "2      1      So many useless classes , great to be student\n",
       "3      1  Oh how I love getting home from work at 3am an...\n",
       "4      1          I just love having grungy ass hair 😑 #not"
      ]
     },
     "execution_count": 7,
     "metadata": {},
     "output_type": "execute_result"
    }
   ],
   "source": [
    "df.head()"
   ]
  },
  {
   "cell_type": "markdown",
   "id": "b10f4a1a-836e-43ff-8539-20d1e2e10bb9",
   "metadata": {},
   "source": [
    "## Replace emojis with text descriptions in the 'Tweets' column"
   ]
  },
  {
   "cell_type": "code",
   "execution_count": 8,
   "id": "afce1b48-25dc-4fae-8674-16a9cab6ac96",
   "metadata": {},
   "outputs": [
    {
     "name": "stdout",
     "output_type": "stream",
     "text": [
      "   Label                                             Tweets\n",
      "0      1  I loovee when people text back ... unamused_fa...\n",
      "1      1  Don't you love it when your parents are Pissed...\n",
      "2      1      So many useless classes , great to be student\n",
      "3      1  Oh how I love getting home from work at 3am an...\n",
      "4      1  I just love having grungy ass hair expressionl...\n"
     ]
    }
   ],
   "source": [
    "def replace_emojis(text):\n",
    "    return emoji.demojize(text, delimiters=(\"\", \"\"))\n",
    "\n",
    "df = pd.read_csv('Clean_Dataset.csv')\n",
    "\n",
    "df['Tweets'] = df['Tweets'].apply(replace_emojis)\n",
    "\n",
    "df.to_csv('Clean_Dataset.csv', index=False)\n",
    "\n",
    "print(df.head())"
   ]
  },
  {
   "cell_type": "markdown",
   "id": "cb0bc945-80e0-4f8c-8700-7d1cf930d34f",
   "metadata": {},
   "source": [
    "## Remove '#' with its following text from tweets"
   ]
  },
  {
   "cell_type": "code",
   "execution_count": 9,
   "id": "1440eaa7-44da-48ee-8b6a-c158cc434c58",
   "metadata": {},
   "outputs": [],
   "source": [
    "df = pd.read_csv('Clean_Dataset.csv')\n",
    "\n",
    "# Remove '#' with its following text from tweets\n",
    "df['Tweets'] = df['Tweets'].str.replace(r'#\\w+', '', regex=True)\n",
    "\n",
    "df.to_csv('Clean_Dataset.csv', index=False)"
   ]
  },
  {
   "cell_type": "markdown",
   "id": "53aece25-247f-48c3-b8c2-66aad3da06e1",
   "metadata": {},
   "source": [
    "## Replace abbreviations with their expansions"
   ]
  },
  {
   "cell_type": "code",
   "execution_count": 11,
   "id": "697f1eea-e87d-4cdb-889a-9408b1505983",
   "metadata": {},
   "outputs": [],
   "source": [
    "# Define a dictionary of abbreviations and their expansions\n",
    "abbreviations = {\n",
    "    'lol': 'laugh out loud',\n",
    "    'brb': 'be right back',\n",
    "    'btw': 'by the way',\n",
    "    'omg': 'oh my god',\n",
    "    'tbh': 'to be honest',\n",
    "    'fyi': 'for your information',\n",
    "    'idk': 'I don\\'t know',\n",
    "    'imo': 'in my opinion',\n",
    "    'imho': 'in my humble opinion',\n",
    "    'np': 'no problem',\n",
    "    'tmi': 'too much information',\n",
    "    'smh': 'shake my head',\n",
    "    'irl': 'in real life',\n",
    "    'afk': 'away from keyboard',\n",
    "    'fomo': 'fear of missing out',\n",
    "    'imo': 'in my opinion',\n",
    "    'irl': 'in real life',\n",
    "    'omw': 'on my way',\n",
    "    'rofl': 'rolling on the floor laughing',\n",
    "    'afaik': 'as far as I know',\n",
    "    'gg': 'good game',\n",
    "    'ggwp': 'good game, well played',\n",
    "    'icymi': 'in case you missed it',\n",
    "    'nvm': 'never mind',\n",
    "    'ttyl': 'talk to you later',\n",
    "    'ftw': 'for the win',\n",
    "    'smh': 'shaking my head',\n",
    "}\n",
    "\n",
    "# Function to replace abbreviations with their expansions\n",
    "def replace_abbreviations(text):\n",
    "    for word in text.split():\n",
    "        if word.lower() in abbreviations:\n",
    "            text = text.replace(word, abbreviations[word.lower()])\n",
    "    return text\n",
    "\n",
    "df = pd.read_csv('Clean_Dataset.csv')\n",
    "df['Tweets'] = df['Tweets'].apply(replace_abbreviations)\n",
    "df.to_csv('Clean_Dataset.csv', index=False)"
   ]
  },
  {
   "cell_type": "markdown",
   "id": "2d130231-2d84-449a-974a-bec877961012",
   "metadata": {},
   "source": [
    "## Removing Special Characters from Tweets and Saving to CSV"
   ]
  },
  {
   "cell_type": "code",
   "execution_count": 12,
   "id": "12a66f17-e7ce-49f7-be26-6309281572db",
   "metadata": {},
   "outputs": [],
   "source": [
    "df = pd.read_csv('Clean_Dataset.csv')\n",
    "df['Tweets'] = df['Tweets'].str.replace('#', '')\n",
    "df['Tweets'] = df['Tweets'].str.replace('\"', '')\n",
    "df['Tweets'] = df['Tweets'].str.replace(':', '')\n",
    "df['Tweets'] = df['Tweets'].str.replace(':', '')\n",
    "df['Tweets'] = df['Tweets'].str.replace('?', '')\n",
    "df['Tweets'] = df['Tweets'].str.replace('*', '')\n",
    "df['Tweets'] = df['Tweets'].str.replace('<', '')\n",
    "df['Tweets'] = df['Tweets'].str.replace('...', '')\n",
    "df['Tweets'] = df['Tweets'].str.replace('/', '')\n",
    "df['Tweets'] = df['Tweets'].str.replace('@', '')\n",
    "df['Tweets'] = df['Tweets'].str.replace('~', '')\n",
    "df['Tweets'] = df['Tweets'].str.replace('!', '')\n",
    "df['Tweets'] = df['Tweets'].str.replace('>', '')\n",
    "df['Tweets'] = df['Tweets'].str.replace('-', '')\n",
    "df['Tweets'] = df['Tweets'].str.replace(')', '')\n",
    "df['Tweets'] = df['Tweets'].str.replace('(', '')\n",
    "df['Tweets'] = df['Tweets'].str.replace('3', '')\n",
    "df.to_csv('Clean_Dataset.csv', index=False)"
   ]
  },
  {
   "cell_type": "markdown",
   "id": "c36514f7-6d94-4027-be00-9a4e85b84f2f",
   "metadata": {},
   "source": [
    "## Replace 1 with 'sarcastic' and 0 with 'not sarcastic' in the 'Label' column"
   ]
  },
  {
   "cell_type": "code",
   "execution_count": 13,
   "id": "78d2ff0a-01e7-43ec-94d6-4327fd0f5f47",
   "metadata": {},
   "outputs": [],
   "source": [
    "df = pd.read_csv('Clean_Dataset.csv')\n",
    "\n",
    "# Replace 1 with 'sarcastic' and 0 with 'not sarcastic' in the 'Label' column\n",
    "df['Label'] = df['Label'].replace({1: 'sarcastic', 0: 'not sarcastic'})\n",
    "\n",
    "df.to_csv('Clean_Dataset.csv', index=False)"
   ]
  },
  {
   "cell_type": "code",
   "execution_count": 14,
   "id": "13f88962-97c2-4389-9c82-6c073c936c87",
   "metadata": {},
   "outputs": [
    {
     "data": {
      "text/html": [
       "<div>\n",
       "<style scoped>\n",
       "    .dataframe tbody tr th:only-of-type {\n",
       "        vertical-align: middle;\n",
       "    }\n",
       "\n",
       "    .dataframe tbody tr th {\n",
       "        vertical-align: top;\n",
       "    }\n",
       "\n",
       "    .dataframe thead th {\n",
       "        text-align: right;\n",
       "    }\n",
       "</style>\n",
       "<table border=\"1\" class=\"dataframe\">\n",
       "  <thead>\n",
       "    <tr style=\"text-align: right;\">\n",
       "      <th></th>\n",
       "      <th>Label</th>\n",
       "      <th>Tweets</th>\n",
       "    </tr>\n",
       "  </thead>\n",
       "  <tbody>\n",
       "    <tr>\n",
       "      <th>0</th>\n",
       "      <td>sarcastic</td>\n",
       "      <td>I loovee when people text back  unamused_face</td>\n",
       "    </tr>\n",
       "    <tr>\n",
       "      <th>1</th>\n",
       "      <td>sarcastic</td>\n",
       "      <td>Don't you love it when your parents are Pissed...</td>\n",
       "    </tr>\n",
       "    <tr>\n",
       "      <th>2</th>\n",
       "      <td>sarcastic</td>\n",
       "      <td>So many useless classes , great to be student</td>\n",
       "    </tr>\n",
       "    <tr>\n",
       "      <th>3</th>\n",
       "      <td>sarcastic</td>\n",
       "      <td>Oh how I love getting home from work at am and...</td>\n",
       "    </tr>\n",
       "    <tr>\n",
       "      <th>4</th>\n",
       "      <td>sarcastic</td>\n",
       "      <td>I just love having grungy ass hair expressionl...</td>\n",
       "    </tr>\n",
       "  </tbody>\n",
       "</table>\n",
       "</div>"
      ],
      "text/plain": [
       "       Label                                             Tweets\n",
       "0  sarcastic     I loovee when people text back  unamused_face \n",
       "1  sarcastic  Don't you love it when your parents are Pissed...\n",
       "2  sarcastic      So many useless classes , great to be student\n",
       "3  sarcastic  Oh how I love getting home from work at am and...\n",
       "4  sarcastic  I just love having grungy ass hair expressionl..."
      ]
     },
     "execution_count": 14,
     "metadata": {},
     "output_type": "execute_result"
    }
   ],
   "source": [
    "df.head()"
   ]
  },
  {
   "cell_type": "code",
   "execution_count": 15,
   "id": "95d734d5-ba07-4016-a184-d71d331bdd03",
   "metadata": {},
   "outputs": [
    {
     "data": {
      "text/plain": [
       "Label     object\n",
       "Tweets    object\n",
       "dtype: object"
      ]
     },
     "execution_count": 15,
     "metadata": {},
     "output_type": "execute_result"
    }
   ],
   "source": [
    "df.dtypes"
   ]
  },
  {
   "cell_type": "markdown",
   "id": "fe240b0a-e6a4-4fdc-b20c-a004eaca0de4",
   "metadata": {},
   "source": [
    "## Remove URLs from the 'Tweets' column"
   ]
  },
  {
   "cell_type": "code",
   "execution_count": 16,
   "id": "f8149ca8-ea75-4edd-b5e2-ab4529299202",
   "metadata": {},
   "outputs": [],
   "source": [
    "df = pd.read_csv('Clean_Dataset.csv')\n",
    "\n",
    "# Remove URLs from the 'Tweets' column\n",
    "df['Tweets'] = df['Tweets'].str.replace(r'https?://\\S+|www\\.\\S+', '', regex=True)\n",
    "\n",
    "df.to_csv('C:\\\\Users\\\\HP\\\\OneDrive\\\\Desktop\\\\Clean_Dataset.csv', index=False)"
   ]
  },
  {
   "cell_type": "markdown",
   "id": "7e1c8d6d-3073-4176-9cfe-c141bfa45dad",
   "metadata": {},
   "source": [
    "## Merge two dataset"
   ]
  },
  {
   "cell_type": "code",
   "execution_count": 17,
   "id": "609e1d72-c250-4363-beb3-06c4985c0e5d",
   "metadata": {},
   "outputs": [],
   "source": [
    "df1 = pd.read_csv(\"C:\\\\Users\\\\HP\\\\Downloads\\\\fd1.csv\")\n",
    "df2 = pd.read_csv('Clean_Dataset.csv')\n",
    "\n",
    "df1 = df1.rename(columns={\"sarcsam\": \"Sarcasm\", \"tweet\": \"Tweet\"})\n",
    "df2 = df2.rename(columns={\"Label\": \"Sarcasm\", \"Tweets\": \"Tweet\"})\n",
    "\n",
    "df1['Sarcasm'] = df1['Sarcasm'].replace({'sarcastic': 'yes', 'non sarcastic': 'no', 'not sarcastic': 'no'})\n",
    "merged_df = pd.concat([df1[['Tweet', 'Sarcasm']], df2[['Tweet', 'Sarcasm']]], ignore_index=True)\n",
    "\n",
    "merged_df.to_csv('Merge.csv', index=False)\n"
   ]
  },
  {
   "cell_type": "code",
   "execution_count": 18,
   "id": "883f6fe5-10ad-44e0-bdfd-0b3b36ff059a",
   "metadata": {},
   "outputs": [
    {
     "data": {
      "text/html": [
       "<div>\n",
       "<style scoped>\n",
       "    .dataframe tbody tr th:only-of-type {\n",
       "        vertical-align: middle;\n",
       "    }\n",
       "\n",
       "    .dataframe tbody tr th {\n",
       "        vertical-align: top;\n",
       "    }\n",
       "\n",
       "    .dataframe thead th {\n",
       "        text-align: right;\n",
       "    }\n",
       "</style>\n",
       "<table border=\"1\" class=\"dataframe\">\n",
       "  <thead>\n",
       "    <tr style=\"text-align: right;\">\n",
       "      <th></th>\n",
       "      <th>Tweet</th>\n",
       "      <th>Sarcasm</th>\n",
       "    </tr>\n",
       "  </thead>\n",
       "  <tbody>\n",
       "    <tr>\n",
       "      <th>0</th>\n",
       "      <td>Fantastic service yet again from EE. 1st you u...</td>\n",
       "      <td>yes</td>\n",
       "    </tr>\n",
       "    <tr>\n",
       "      <th>1</th>\n",
       "      <td>Not sure if that was or. I will take it! face_...</td>\n",
       "      <td>yes</td>\n",
       "    </tr>\n",
       "    <tr>\n",
       "      <th>2</th>\n",
       "      <td>Barely 9 am and already shaking with rage.</td>\n",
       "      <td>yes</td>\n",
       "    </tr>\n",
       "    <tr>\n",
       "      <th>3</th>\n",
       "      <td>I guess that proves it then. Black folks have ...</td>\n",
       "      <td>yes</td>\n",
       "    </tr>\n",
       "    <tr>\n",
       "      <th>4</th>\n",
       "      <td>Does this tweet need a tag</td>\n",
       "      <td>yes</td>\n",
       "    </tr>\n",
       "  </tbody>\n",
       "</table>\n",
       "</div>"
      ],
      "text/plain": [
       "                                               Tweet Sarcasm\n",
       "0  Fantastic service yet again from EE. 1st you u...     yes\n",
       "1  Not sure if that was or. I will take it! face_...     yes\n",
       "2         Barely 9 am and already shaking with rage.     yes\n",
       "3  I guess that proves it then. Black folks have ...     yes\n",
       "4                         Does this tweet need a tag     yes"
      ]
     },
     "execution_count": 18,
     "metadata": {},
     "output_type": "execute_result"
    }
   ],
   "source": [
    "merged_df.head()"
   ]
  },
  {
   "cell_type": "markdown",
   "id": "265064c8-67cd-46ac-ae9f-f27d89545f65",
   "metadata": {},
   "source": [
    "## Check for Duplicated"
   ]
  },
  {
   "cell_type": "code",
   "execution_count": 19,
   "id": "bc6cd0eb-ecf1-4e08-b369-be9695ee8803",
   "metadata": {},
   "outputs": [
    {
     "data": {
      "text/plain": [
       "0"
      ]
     },
     "execution_count": 19,
     "metadata": {},
     "output_type": "execute_result"
    }
   ],
   "source": [
    "df.duplicated().sum()"
   ]
  },
  {
   "cell_type": "markdown",
   "id": "1ece73a8-d6e7-4f63-8081-3aa7fa458a08",
   "metadata": {},
   "source": [
    "## Check for Null value"
   ]
  },
  {
   "cell_type": "code",
   "execution_count": 20,
   "id": "e5368e63-2277-4b23-8c18-91ed7919a4a8",
   "metadata": {},
   "outputs": [
    {
     "data": {
      "text/plain": [
       "Label     0\n",
       "Tweets    0\n",
       "dtype: int64"
      ]
     },
     "execution_count": 20,
     "metadata": {},
     "output_type": "execute_result"
    }
   ],
   "source": [
    "df.isnull().sum()"
   ]
  },
  {
   "cell_type": "markdown",
   "id": "6bfe466d-7043-463d-9b9c-2950ff449c58",
   "metadata": {},
   "source": [
    "## Word Tokenization"
   ]
  },
  {
   "cell_type": "code",
   "execution_count": 21,
   "id": "64477e3b-659b-49a2-b40d-8cbd24564aa6",
   "metadata": {},
   "outputs": [
    {
     "name": "stdout",
     "output_type": "stream",
     "text": [
      "                                                Tweet Sarcasm  \\\n",
      "0   Fantastic service yet again from EE. 1st you u...     yes   \n",
      "1   Not sure if that was or. I will take it! face_...     yes   \n",
      "2          Barely 9 am and already shaking with rage.     yes   \n",
      "3   I guess that proves it then. Black folks have ...     yes   \n",
      "4                          Does this tweet need a tag     yes   \n",
      "5   both. Wont be using you again. Made a formal c...     yes   \n",
      "6                Fuuuuuuuuck this shit screams thug!!     yes   \n",
      "7   66 UEs from Staniel and he wins in straights. ...     yes   \n",
      "8              totally surprising to every husker fan     yes   \n",
      "9                     Haha got to love the enthusiasm     yes   \n",
      "10  a southern pride advocate but of course it has...     yes   \n",
      "11  So nice not hearing any rumors that the  are n...     yes   \n",
      "12  We should divide illegals into two lines one f...     yes   \n",
      "13      does not even look like that great of a view.     yes   \n",
      "14  Mondays are always dreadful. Why are Fridays s...     yes   \n",
      "\n",
      "                                               tokens  \n",
      "0   [Fantastic, service, yet, again, from, EE, ., ...  \n",
      "1   [Not, sure, if, that, was, or, ., I, will, tak...  \n",
      "2   [Barely, 9, am, and, already, shaking, with, r...  \n",
      "3   [I, guess, that, proves, it, then, ., Black, f...  \n",
      "4                   [Does, this, tweet, need, a, tag]  \n",
      "5   [both, ., Wont, be, using, you, again, ., Made...  \n",
      "6      [Fuuuuuuuuck, this, shit, screams, thug, !, !]  \n",
      "7   [66, UEs, from, Staniel, and, he, wins, in, st...  \n",
      "8       [totally, surprising, to, every, husker, fan]  \n",
      "9              [Haha, got, to, love, the, enthusiasm]  \n",
      "10  [a, southern, pride, advocate, but, of, course...  \n",
      "11  [So, nice, not, hearing, any, rumors, that, th...  \n",
      "12  [We, should, divide, illegals, into, two, line...  \n",
      "13  [does, not, even, look, like, that, great, of,...  \n",
      "14  [Mondays, are, always, dreadful, ., Why, are, ...  \n"
     ]
    }
   ],
   "source": [
    "tokenizer = TweetTokenizer()\n",
    "\n",
    "def tokenize_text(Tweets):\n",
    "    return tokenizer.tokenize(Tweets)\n",
    "\n",
    "df = pd.read_csv('Merge.csv')\n",
    "df['tokens'] = df['Tweet'].apply(tokenize_text)\n",
    "\n",
    "print(df.head(15))\n",
    "df.to_csv('Merge.csv', index=False)"
   ]
  },
  {
   "cell_type": "code",
   "execution_count": 25,
   "id": "cbaa63f3-9fb8-4734-9867-57b157510786",
   "metadata": {},
   "outputs": [],
   "source": [
    "df = pd.read_csv(\"Small.csv\", delimiter=',')"
   ]
  },
  {
   "cell_type": "code",
   "execution_count": 19,
   "id": "e9eea8f5-bf78-4e0c-a925-710afb39b72b",
   "metadata": {},
   "outputs": [
    {
     "data": {
      "text/html": [
       "<div>\n",
       "<style scoped>\n",
       "    .dataframe tbody tr th:only-of-type {\n",
       "        vertical-align: middle;\n",
       "    }\n",
       "\n",
       "    .dataframe tbody tr th {\n",
       "        vertical-align: top;\n",
       "    }\n",
       "\n",
       "    .dataframe thead th {\n",
       "        text-align: right;\n",
       "    }\n",
       "</style>\n",
       "<table border=\"1\" class=\"dataframe\">\n",
       "  <thead>\n",
       "    <tr style=\"text-align: right;\">\n",
       "      <th></th>\n",
       "      <th>Tweet</th>\n",
       "      <th>Sarcasm</th>\n",
       "      <th>tokens</th>\n",
       "    </tr>\n",
       "  </thead>\n",
       "  <tbody>\n",
       "    <tr>\n",
       "      <th>0</th>\n",
       "      <td>Fantastic service yet again from EE. 1st you u...</td>\n",
       "      <td>yes</td>\n",
       "      <td>[Fantastic, service, yet, again, from, EE, ., ...</td>\n",
       "    </tr>\n",
       "    <tr>\n",
       "      <th>1</th>\n",
       "      <td>Not sure if that was or. I will take it! face_...</td>\n",
       "      <td>yes</td>\n",
       "      <td>[Not, sure, if, that, was, or, ., I, will, tak...</td>\n",
       "    </tr>\n",
       "    <tr>\n",
       "      <th>2</th>\n",
       "      <td>Barely 9 am and already shaking with rage.</td>\n",
       "      <td>yes</td>\n",
       "      <td>[Barely, 9, am, and, already, shaking, with, r...</td>\n",
       "    </tr>\n",
       "    <tr>\n",
       "      <th>3</th>\n",
       "      <td>I guess that proves it then. Black folks have ...</td>\n",
       "      <td>yes</td>\n",
       "      <td>[I, guess, that, proves, it, then, ., Black, f...</td>\n",
       "    </tr>\n",
       "    <tr>\n",
       "      <th>4</th>\n",
       "      <td>Does this tweet need a tag</td>\n",
       "      <td>yes</td>\n",
       "      <td>[Does, this, tweet, need, a, tag]</td>\n",
       "    </tr>\n",
       "    <tr>\n",
       "      <th>...</th>\n",
       "      <td>...</td>\n",
       "      <td>...</td>\n",
       "      <td>...</td>\n",
       "    </tr>\n",
       "    <tr>\n",
       "      <th>6925</th>\n",
       "      <td>just home from uni and im knackered have no en...</td>\n",
       "      <td>no</td>\n",
       "      <td>[just, home, from, uni, and, im, knackered, ha...</td>\n",
       "    </tr>\n",
       "    <tr>\n",
       "      <th>6926</th>\n",
       "      <td>as we have been approved by god to be entruste...</td>\n",
       "      <td>no</td>\n",
       "      <td>[as, we, have, been, approved, by, god, to, be...</td>\n",
       "    </tr>\n",
       "    <tr>\n",
       "      <th>6927</th>\n",
       "      <td>i love these boys so much and id be so gratefu...</td>\n",
       "      <td>yes</td>\n",
       "      <td>[i, love, these, boys, so, much, and, id, be, ...</td>\n",
       "    </tr>\n",
       "    <tr>\n",
       "      <th>6928</th>\n",
       "      <td>if youre in ny wed love to have you speak on w...</td>\n",
       "      <td>no</td>\n",
       "      <td>[if, youre, in, ny, wed, love, to, have, you, ...</td>\n",
       "    </tr>\n",
       "    <tr>\n",
       "      <th>6929</th>\n",
       "      <td>i learned so much chatting w u today thank you...</td>\n",
       "      <td>no</td>\n",
       "      <td>[i, learned, so, much, chatting, w, u, today, ...</td>\n",
       "    </tr>\n",
       "  </tbody>\n",
       "</table>\n",
       "<p>6930 rows × 3 columns</p>\n",
       "</div>"
      ],
      "text/plain": [
       "                                                  Tweet Sarcasm  \\\n",
       "0     Fantastic service yet again from EE. 1st you u...     yes   \n",
       "1     Not sure if that was or. I will take it! face_...     yes   \n",
       "2            Barely 9 am and already shaking with rage.     yes   \n",
       "3     I guess that proves it then. Black folks have ...     yes   \n",
       "4                            Does this tweet need a tag     yes   \n",
       "...                                                 ...     ...   \n",
       "6925  just home from uni and im knackered have no en...      no   \n",
       "6926  as we have been approved by god to be entruste...      no   \n",
       "6927  i love these boys so much and id be so gratefu...     yes   \n",
       "6928  if youre in ny wed love to have you speak on w...      no   \n",
       "6929  i learned so much chatting w u today thank you...      no   \n",
       "\n",
       "                                                 tokens  \n",
       "0     [Fantastic, service, yet, again, from, EE, ., ...  \n",
       "1     [Not, sure, if, that, was, or, ., I, will, tak...  \n",
       "2     [Barely, 9, am, and, already, shaking, with, r...  \n",
       "3     [I, guess, that, proves, it, then, ., Black, f...  \n",
       "4                     [Does, this, tweet, need, a, tag]  \n",
       "...                                                 ...  \n",
       "6925  [just, home, from, uni, and, im, knackered, ha...  \n",
       "6926  [as, we, have, been, approved, by, god, to, be...  \n",
       "6927  [i, love, these, boys, so, much, and, id, be, ...  \n",
       "6928  [if, youre, in, ny, wed, love, to, have, you, ...  \n",
       "6929  [i, learned, so, much, chatting, w, u, today, ...  \n",
       "\n",
       "[6930 rows x 3 columns]"
      ]
     },
     "execution_count": 19,
     "metadata": {},
     "output_type": "execute_result"
    }
   ],
   "source": [
    "df"
   ]
  },
  {
   "cell_type": "markdown",
   "id": "fe3626b5-b6ce-42fa-9db7-1ed69a7f1fd0",
   "metadata": {},
   "source": [
    "### Converting Sarcasm Labels to Binary Values"
   ]
  },
  {
   "cell_type": "code",
   "execution_count": 20,
   "id": "000941b3-2058-4cf2-a4e8-32e223ebc3f0",
   "metadata": {},
   "outputs": [
    {
     "data": {
      "text/html": [
       "<div>\n",
       "<style scoped>\n",
       "    .dataframe tbody tr th:only-of-type {\n",
       "        vertical-align: middle;\n",
       "    }\n",
       "\n",
       "    .dataframe tbody tr th {\n",
       "        vertical-align: top;\n",
       "    }\n",
       "\n",
       "    .dataframe thead th {\n",
       "        text-align: right;\n",
       "    }\n",
       "</style>\n",
       "<table border=\"1\" class=\"dataframe\">\n",
       "  <thead>\n",
       "    <tr style=\"text-align: right;\">\n",
       "      <th></th>\n",
       "      <th>Tweet</th>\n",
       "      <th>Sarcasm</th>\n",
       "      <th>tokens</th>\n",
       "    </tr>\n",
       "  </thead>\n",
       "  <tbody>\n",
       "    <tr>\n",
       "      <th>0</th>\n",
       "      <td>Fantastic service yet again from EE. 1st you u...</td>\n",
       "      <td>1</td>\n",
       "      <td>[Fantastic, service, yet, again, from, EE, ., ...</td>\n",
       "    </tr>\n",
       "    <tr>\n",
       "      <th>1</th>\n",
       "      <td>Not sure if that was or. I will take it! face_...</td>\n",
       "      <td>1</td>\n",
       "      <td>[Not, sure, if, that, was, or, ., I, will, tak...</td>\n",
       "    </tr>\n",
       "    <tr>\n",
       "      <th>2</th>\n",
       "      <td>Barely 9 am and already shaking with rage.</td>\n",
       "      <td>1</td>\n",
       "      <td>[Barely, 9, am, and, already, shaking, with, r...</td>\n",
       "    </tr>\n",
       "    <tr>\n",
       "      <th>3</th>\n",
       "      <td>I guess that proves it then. Black folks have ...</td>\n",
       "      <td>1</td>\n",
       "      <td>[I, guess, that, proves, it, then, ., Black, f...</td>\n",
       "    </tr>\n",
       "    <tr>\n",
       "      <th>4</th>\n",
       "      <td>Does this tweet need a tag</td>\n",
       "      <td>1</td>\n",
       "      <td>[Does, this, tweet, need, a, tag]</td>\n",
       "    </tr>\n",
       "    <tr>\n",
       "      <th>...</th>\n",
       "      <td>...</td>\n",
       "      <td>...</td>\n",
       "      <td>...</td>\n",
       "    </tr>\n",
       "    <tr>\n",
       "      <th>6925</th>\n",
       "      <td>just home from uni and im knackered have no en...</td>\n",
       "      <td>0</td>\n",
       "      <td>[just, home, from, uni, and, im, knackered, ha...</td>\n",
       "    </tr>\n",
       "    <tr>\n",
       "      <th>6926</th>\n",
       "      <td>as we have been approved by god to be entruste...</td>\n",
       "      <td>0</td>\n",
       "      <td>[as, we, have, been, approved, by, god, to, be...</td>\n",
       "    </tr>\n",
       "    <tr>\n",
       "      <th>6927</th>\n",
       "      <td>i love these boys so much and id be so gratefu...</td>\n",
       "      <td>1</td>\n",
       "      <td>[i, love, these, boys, so, much, and, id, be, ...</td>\n",
       "    </tr>\n",
       "    <tr>\n",
       "      <th>6928</th>\n",
       "      <td>if youre in ny wed love to have you speak on w...</td>\n",
       "      <td>0</td>\n",
       "      <td>[if, youre, in, ny, wed, love, to, have, you, ...</td>\n",
       "    </tr>\n",
       "    <tr>\n",
       "      <th>6929</th>\n",
       "      <td>i learned so much chatting w u today thank you...</td>\n",
       "      <td>0</td>\n",
       "      <td>[i, learned, so, much, chatting, w, u, today, ...</td>\n",
       "    </tr>\n",
       "  </tbody>\n",
       "</table>\n",
       "<p>6930 rows × 3 columns</p>\n",
       "</div>"
      ],
      "text/plain": [
       "                                                  Tweet  Sarcasm  \\\n",
       "0     Fantastic service yet again from EE. 1st you u...        1   \n",
       "1     Not sure if that was or. I will take it! face_...        1   \n",
       "2            Barely 9 am and already shaking with rage.        1   \n",
       "3     I guess that proves it then. Black folks have ...        1   \n",
       "4                            Does this tweet need a tag        1   \n",
       "...                                                 ...      ...   \n",
       "6925  just home from uni and im knackered have no en...        0   \n",
       "6926  as we have been approved by god to be entruste...        0   \n",
       "6927  i love these boys so much and id be so gratefu...        1   \n",
       "6928  if youre in ny wed love to have you speak on w...        0   \n",
       "6929  i learned so much chatting w u today thank you...        0   \n",
       "\n",
       "                                                 tokens  \n",
       "0     [Fantastic, service, yet, again, from, EE, ., ...  \n",
       "1     [Not, sure, if, that, was, or, ., I, will, tak...  \n",
       "2     [Barely, 9, am, and, already, shaking, with, r...  \n",
       "3     [I, guess, that, proves, it, then, ., Black, f...  \n",
       "4                     [Does, this, tweet, need, a, tag]  \n",
       "...                                                 ...  \n",
       "6925  [just, home, from, uni, and, im, knackered, ha...  \n",
       "6926  [as, we, have, been, approved, by, god, to, be...  \n",
       "6927  [i, love, these, boys, so, much, and, id, be, ...  \n",
       "6928  [if, youre, in, ny, wed, love, to, have, you, ...  \n",
       "6929  [i, learned, so, much, chatting, w, u, today, ...  \n",
       "\n",
       "[6930 rows x 3 columns]"
      ]
     },
     "execution_count": 20,
     "metadata": {},
     "output_type": "execute_result"
    }
   ],
   "source": [
    "df['Sarcasm'] = df['Sarcasm'].map({'yes': 1, 'no': 0, 'sarcastic': 1, 'not sarcastic': 0})\n",
    "df"
   ]
  },
  {
   "cell_type": "markdown",
   "id": "96fb8537-b52b-4728-882e-dc33a5db9153",
   "metadata": {},
   "source": [
    "# GRU"
   ]
  },
  {
   "cell_type": "code",
   "execution_count": 26,
   "id": "62a7de80-cb37-49e9-aa4b-0e67fbc8244c",
   "metadata": {},
   "outputs": [],
   "source": [
    "# Define parameters\n",
    "max_len = 100  \n",
    "vocab_size = 10000  \n",
    "embedding_dim = 128  \n",
    "\n",
    "# Prepare the text data\n",
    "texts = df['Tweet'] \n",
    "labels = df['Sarcasm']  \n",
    "\n",
    "# Tokenize and pad sequences\n",
    "tokenizer = Tokenizer(num_words=vocab_size)\n",
    "tokenizer.fit_on_texts(texts)\n",
    "sequences = tokenizer.texts_to_sequences(texts)\n",
    "padded_sequences = pad_sequences(sequences, maxlen=max_len)"
   ]
  },
  {
   "cell_type": "code",
   "execution_count": 27,
   "id": "417993a9-9ead-4b52-ad1a-742fab272dfc",
   "metadata": {},
   "outputs": [],
   "source": [
    "# Split the dataset into Train, Test, and Validation sets\n",
    "X_train_val, X_test, y_train_val, y_test = train_test_split(padded_sequences, labels, test_size=0.2, random_state=42)\n",
    "X_train, X_val, y_train, y_val = train_test_split(X_train_val, y_train_val, test_size=0.2, random_state=42)"
   ]
  },
  {
   "cell_type": "code",
   "execution_count": 28,
   "id": "612aa058-95fd-448c-a87d-6e9a29b53535",
   "metadata": {},
   "outputs": [],
   "source": [
    "# Calculate sizes\n",
    "train_size = len(X_train)\n",
    "test_size = len(X_test)\n",
    "val_size = len(X_val)\n",
    "sizes = [train_size, test_size, val_size]\n",
    "dataset_labels = ['Train', 'Test', 'Validation']"
   ]
  },
  {
   "cell_type": "code",
   "execution_count": 29,
   "id": "f9249b53-1a3e-40d9-8f1f-db2282334a70",
   "metadata": {},
   "outputs": [
    {
     "data": {
      "image/png": "[encoded data removed]",
      "text/plain": [
       "<Figure size 800x600 with 1 Axes>"
      ]
     },
     "metadata": {},
     "output_type": "display_data"
    }
   ],
   "source": [
    "# Plot Dataset sizes\n",
    "plt.figure(figsize=(8, 6))\n",
    "plt.bar(dataset_labels, sizes, color=['blue', 'orange', 'green'])\n",
    "plt.xlabel('Dataset')\n",
    "plt.ylabel('Number of Samples')\n",
    "plt.title('Dataset Sizes')\n",
    "plt.show()"
   ]
  },
  {
   "cell_type": "code",
   "execution_count": 30,
   "id": "aa23c103-6e9b-4a75-b926-879fda9a433d",
   "metadata": {},
   "outputs": [],
   "source": [
    "# Data Visualization - Label-wise Split in Train Data\n",
    "label_counts = pd.Series(y_train).value_counts()"
   ]
  },
  {
   "cell_type": "code",
   "execution_count": 34,
   "id": "1e1f8ad8-c3c6-4301-a840-520e2e3996c1",
   "metadata": {},
   "outputs": [
    {
     "data": {
      "image/png": "[encoded data removed]",
      "text/plain": [
       "<Figure size 800x600 with 1 Axes>"
      ]
     },
     "metadata": {},
     "output_type": "display_data"
    }
   ],
   "source": [
    "plt.figure(figsize=(8, 6))\n",
    "label_counts.plot(kind='bar', color=['blue', 'green'])\n",
    "plt.xlabel('Label')\n",
    "plt.ylabel('Number of Samples')\n",
    "plt.title('Label Distribution in Training Data')\n",
    "plt.show()"
   ]
  },
  {
   "cell_type": "code",
   "execution_count": 35,
   "id": "1f8d784c-af7f-42f2-9c82-1329c74e9f77",
   "metadata": {},
   "outputs": [
    {
     "data": {
      "image/png": "[encoded data removed]",
      "text/plain": [
       "<Figure size 800x600 with 1 Axes>"
      ]
     },
     "metadata": {},
     "output_type": "display_data"
    }
   ],
   "source": [
    "# Plot Label distribution (Pie Chart)\n",
    "plt.figure(figsize=(8, 6))\n",
    "label_counts.plot(kind='pie', autopct='%1.1f%%', colors=['blue', 'orange'])\n",
    "plt.ylabel('')\n",
    "plt.title('Label Distribution in Training Data')\n",
    "plt.show()"
   ]
  },
  {
   "cell_type": "code",
   "execution_count": 37,
   "id": "72845dd8-454e-4b13-8976-09817136a9cf",
   "metadata": {},
   "outputs": [
    {
     "name": "stdout",
     "output_type": "stream",
     "text": [
      "Epoch 1/10\n",
      "\u001b[1m28/28\u001b[0m \u001b[32m━━━━━━━━━━━━━━━━━━━━\u001b[0m\u001b[37m\u001b[0m \u001b[1m162s\u001b[0m 5s/step - accuracy: 0.6268 - loss: 0.6279 - val_accuracy: 0.4779 - val_loss: 0.7098\n",
      "Epoch 2/10\n",
      "\u001b[1m28/28\u001b[0m \u001b[32m━━━━━━━━━━━━━━━━━━━━\u001b[0m\u001b[37m\u001b[0m \u001b[1m380s\u001b[0m 14s/step - accuracy: 0.7915 - loss: 0.4480 - val_accuracy: 0.8449 - val_loss: 0.3509\n",
      "Epoch 3/10\n",
      "\u001b[1m28/28\u001b[0m \u001b[32m━━━━━━━━━━━━━━━━━━━━\u001b[0m\u001b[37m\u001b[0m \u001b[1m127s\u001b[0m 5s/step - accuracy: 0.9084 - loss: 0.2298 - val_accuracy: 0.8647 - val_loss: 0.3848\n",
      "Epoch 4/10\n",
      "\u001b[1m28/28\u001b[0m \u001b[32m━━━━━━━━━━━━━━━━━━━━\u001b[0m\u001b[37m\u001b[0m \u001b[1m133s\u001b[0m 5s/step - accuracy: 0.9340 - loss: 0.1641 - val_accuracy: 0.8828 - val_loss: 0.2887\n",
      "Epoch 5/10\n",
      "\u001b[1m28/28\u001b[0m \u001b[32m━━━━━━━━━━━━━━━━━━━━\u001b[0m\u001b[37m\u001b[0m \u001b[1m129s\u001b[0m 5s/step - accuracy: 0.9654 - loss: 0.1153 - val_accuracy: 0.8711 - val_loss: 0.3377\n",
      "Epoch 6/10\n",
      "\u001b[1m28/28\u001b[0m \u001b[32m━━━━━━━━━━━━━━━━━━━━\u001b[0m\u001b[37m\u001b[0m \u001b[1m133s\u001b[0m 5s/step - accuracy: 0.9696 - loss: 0.0932 - val_accuracy: 0.8665 - val_loss: 0.5095\n",
      "Epoch 7/10\n",
      "\u001b[1m28/28\u001b[0m \u001b[32m━━━━━━━━━━━━━━━━━━━━\u001b[0m\u001b[37m\u001b[0m \u001b[1m136s\u001b[0m 5s/step - accuracy: 0.9802 - loss: 0.0541 - val_accuracy: 0.8729 - val_loss: 0.4576\n",
      "\u001b[1m44/44\u001b[0m \u001b[32m━━━━━━━━━━━━━━━━━━━━\u001b[0m\u001b[37m\u001b[0m \u001b[1m16s\u001b[0m 360ms/step - accuracy: 0.8840 - loss: 0.2755\n",
      "Test Loss: 0.2811, Accuracy: 0.8838\n"
     ]
    }
   ],
   "source": [
    "# Define the GRU model\n",
    "model = Sequential()\n",
    "model.add(Embedding(vocab_size, embedding_dim, input_length=max_len))\n",
    "model.add(GRU(294, return_sequences=True))\n",
    "model.add(GRU(254, return_sequences=True))\n",
    "model.add(Dense(102, activation='relu'))\n",
    "model.add(GRU(194, return_sequences=True))\n",
    "model.add(GRU(194))\n",
    "model.add(Dense(192, activation='relu'))\n",
    "model.add(Dense(192, activation='relu'))\n",
    "model.add(Dense(152, activation='relu'))\n",
    "model.add(Dense(1, activation='sigmoid'))\n",
    "\n",
    "early_stopping = EarlyStopping(monitor='val_loss', patience=3, restore_best_weights=True)\n",
    "model.compile(loss='binary_crossentropy', optimizer='adam', metrics=['accuracy'])\n",
    "\n",
    "# Train the model\n",
    "model.fit(X_train, y_train, epochs=10, batch_size=164, validation_data=(X_val, y_val), callbacks=[early_stopping])\n",
    "\n",
    "# Evaluate the model\n",
    "loss, accuracy = model.evaluate(X_test, y_test)\n",
    "print(f\"Test Loss: {loss:.4f}, Accuracy: {accuracy:.4f}\")"
   ]
  },
  {
   "cell_type": "code",
   "execution_count": 38,
   "id": "8730e8c8-05c8-44fc-835d-f668f4605137",
   "metadata": {},
   "outputs": [
    {
     "name": "stdout",
     "output_type": "stream",
     "text": [
      "\u001b[1m44/44\u001b[0m \u001b[32m━━━━━━━━━━━━━━━━━━━━\u001b[0m\u001b[37m\u001b[0m \u001b[1m14s\u001b[0m 289ms/step\n",
      "F1 Score (weighted): 0.8838\n",
      "Classification Report:\n",
      "              precision    recall  f1-score   support\n",
      "\n",
      "           0       0.88      0.88      0.88       648\n",
      "           1       0.89      0.89      0.89       738\n",
      "\n",
      "    accuracy                           0.88      1386\n",
      "   macro avg       0.88      0.88      0.88      1386\n",
      "weighted avg       0.88      0.88      0.88      1386\n",
      "\n"
     ]
    }
   ],
   "source": [
    "y_pred = (model.predict(X_test) > 0.5).astype(\"int32\")\n",
    "f1 = f1_score(y_test, y_pred, average='weighted')\n",
    "print(f\"F1 Score (weighted): {f1:.4f}\")\n",
    "\n",
    "print(\"Classification Report:\")\n",
    "print(classification_report(y_test, y_pred))"
   ]
  },
  {
   "cell_type": "code",
   "execution_count": 39,
   "id": "ce5e7bb3-ee92-4235-9d4c-2dbe022c7400",
   "metadata": {},
   "outputs": [
    {
     "data": {
      "image/png": "[encoded data removed]",
      "text/plain": [
       "<Figure size 800x600 with 2 Axes>"
      ]
     },
     "metadata": {},
     "output_type": "display_data"
    }
   ],
   "source": [
    "conf_matrix = confusion_matrix(y_test, y_pred)\n",
    "plt.figure(figsize=(8, 6))\n",
    "sns.heatmap(conf_matrix, annot=True, fmt='d', cmap='Blues', xticklabels=['Not Sarcastic', 'Sarcastic'], yticklabels=['Not Sarcastic', 'Sarcastic'])\n",
    "plt.xlabel('Predicted')\n",
    "plt.ylabel('Actual')\n",
    "plt.title('Confusion Matrix')\n",
    "plt.show()"
   ]
  },
  {
   "cell_type": "code",
   "execution_count": 40,
   "id": "aa92b268-f7a0-457f-a1df-39b88c35eb27",
   "metadata": {},
   "outputs": [
    {
     "name": "stdout",
     "output_type": "stream",
     "text": [
      "\u001b[1m1/1\u001b[0m \u001b[32m━━━━━━━━━━━━━━━━━━━━\u001b[0m\u001b[37m\u001b[0m \u001b[1m0s\u001b[0m 87ms/step\n",
      "This text is predicted to be sarcastic.\n"
     ]
    }
   ],
   "source": [
    "new_text = \"This new restaurant is a real gem, NOT.\"\n",
    "sequence = tokenizer.texts_to_sequences([new_text])\n",
    "padded_sequence = pad_sequences(sequence, maxlen=max_len)\n",
    "prediction = model.predict(padded_sequence)\n",
    "if prediction > 0.5:\n",
    "    print(\"This text is predicted to be sarcastic.\")\n",
    "else:\n",
    "    print(\"This text is predicted to be non-sarcastic.\")"
   ]
  },
  {
   "cell_type": "code",
   "execution_count": 41,
   "id": "149d876b-4b74-45d2-b1ee-7a5bd037c093",
   "metadata": {},
   "outputs": [
    {
     "name": "stdout",
     "output_type": "stream",
     "text": [
      "\u001b[1m1/1\u001b[0m \u001b[32m━━━━━━━━━━━━━━━━━━━━\u001b[0m\u001b[37m\u001b[0m \u001b[1m0s\u001b[0m 78ms/step\n",
      "This text is predicted to be non-sarcastic.\n"
     ]
    }
   ],
   "source": [
    "new_text = \"Can i also came with you\"\n",
    "sequence = tokenizer.texts_to_sequences([new_text])\n",
    "padded_sequence = pad_sequences(sequence, maxlen=max_len)\n",
    "prediction = model.predict(padded_sequence)\n",
    "if prediction > 0.5:\n",
    "    print(\"This text is predicted to be sarcastic.\")\n",
    "else:\n",
    "    print(\"This text is predicted to be non-sarcastic.\")"
   ]
  },
  {
   "cell_type": "code",
   "execution_count": 42,
   "id": "dafb870e-33cb-4de1-b5ce-5a5dfae7d992",
   "metadata": {},
   "outputs": [
    {
     "name": "stdout",
     "output_type": "stream",
     "text": [
      "\u001b[1m1/1\u001b[0m \u001b[32m━━━━━━━━━━━━━━━━━━━━\u001b[0m\u001b[37m\u001b[0m \u001b[1m0s\u001b[0m 88ms/step\n",
      "This text is predicted to be non-sarcastic.\n"
     ]
    }
   ],
   "source": [
    "new_text = \"Meet my friends\"\n",
    "sequence = tokenizer.texts_to_sequences([new_text])\n",
    "padded_sequence = pad_sequences(sequence, maxlen=max_len)\n",
    "prediction = model.predict(padded_sequence)\n",
    "if prediction > 0.5:\n",
    "    print(\"This text is predicted to be sarcastic.\")\n",
    "else:\n",
    "    print(\"This text is predicted to be non-sarcastic.\")"
   ]
  },
  {
   "cell_type": "code",
   "execution_count": 43,
   "id": "c3c98726-12b3-40cc-8c1b-f6b5a695fdd3",
   "metadata": {},
   "outputs": [
    {
     "name": "stdout",
     "output_type": "stream",
     "text": [
      "\u001b[1m1/1\u001b[0m \u001b[32m━━━━━━━━━━━━━━━━━━━━\u001b[0m\u001b[37m\u001b[0m \u001b[1m0s\u001b[0m 78ms/step\n",
      "This text is predicted to be sarcastic.\n"
     ]
    }
   ],
   "source": [
    "new_text = \"i love being annoyed\"\n",
    "sequence = tokenizer.texts_to_sequences([new_text])\n",
    "padded_sequence = pad_sequences(sequence, maxlen=max_len)\n",
    "prediction = model.predict(padded_sequence)\n",
    "if prediction > 0.5:\n",
    "    print(\"This text is predicted to be sarcastic.\")\n",
    "else:\n",
    "    print(\"This text is predicted to be non-sarcastic.\")"
   ]
  },
  {
   "cell_type": "code",
   "execution_count": 44,
   "id": "2d79c4aa-2224-497f-89b3-b4f1f0d09704",
   "metadata": {},
   "outputs": [
    {
     "name": "stdout",
     "output_type": "stream",
     "text": [
      "\u001b[1m1/1\u001b[0m \u001b[32m━━━━━━━━━━━━━━━━━━━━\u001b[0m\u001b[37m\u001b[0m \u001b[1m0s\u001b[0m 80ms/step\n",
      "This text is predicted to be sarcastic.\n"
     ]
    }
   ],
   "source": [
    "new_text = \"I am busy right now, can I ignore you some other time?\"\n",
    "sequence = tokenizer.texts_to_sequences([new_text])\n",
    "padded_sequence = pad_sequences(sequence, maxlen=max_len)\n",
    "prediction = model.predict(padded_sequence)\n",
    "if prediction > 0.5:\n",
    "    print(\"This text is predicted to be sarcastic.\")\n",
    "else:\n",
    "    print(\"This text is predicted to be non-sarcastic.\")"
   ]
  },
  {
   "cell_type": "code",
   "execution_count": 45,
   "id": "249f7300-29f9-4382-a998-8d5aedd8f600",
   "metadata": {},
   "outputs": [
    {
     "name": "stdout",
     "output_type": "stream",
     "text": [
      "\u001b[1m1/1\u001b[0m \u001b[32m━━━━━━━━━━━━━━━━━━━━\u001b[0m\u001b[37m\u001b[0m \u001b[1m0s\u001b[0m 79ms/step\n",
      "This text is predicted to be non-sarcastic.\n"
     ]
    }
   ],
   "source": [
    "new_text = \"Find your patience before I lose mine.\"\n",
    "sequence = tokenizer.texts_to_sequences([new_text])\n",
    "padded_sequence = pad_sequences(sequence, maxlen=max_len)\n",
    "prediction = model.predict(padded_sequence)\n",
    "if prediction > 0.5:\n",
    "    print(\"This text is predicted to be sarcastic.\")\n",
    "else:\n",
    "    print(\"This text is predicted to be non-sarcastic.\")"
   ]
  },
  {
   "cell_type": "code",
   "execution_count": 46,
   "id": "19fff6f5-4fe2-49b9-8449-e3070960dd6a",
   "metadata": {},
   "outputs": [
    {
     "name": "stdout",
     "output_type": "stream",
     "text": [
      "\u001b[1m1/1\u001b[0m \u001b[32m━━━━━━━━━━━━━━━━━━━━\u001b[0m\u001b[37m\u001b[0m \u001b[1m0s\u001b[0m 83ms/step\n",
      "This text is predicted to be non-sarcastic.\n"
     ]
    }
   ],
   "source": [
    "new_text = \"Congratulations on your promotion.\"\n",
    "sequence = tokenizer.texts_to_sequences([new_text])\n",
    "padded_sequence = pad_sequences(sequence, maxlen=max_len)\n",
    "prediction = model.predict(padded_sequence)\n",
    "if prediction > 0.5:\n",
    "    print(\"This text is predicted to be sarcastic.\")\n",
    "else:\n",
    "    print(\"This text is predicted to be non-sarcastic.\")"
   ]
  },
  {
   "cell_type": "code",
   "execution_count": 47,
   "id": "9ae9ce4a-c9f9-46c6-8d74-fbede9c6d66b",
   "metadata": {},
   "outputs": [
    {
     "name": "stdout",
     "output_type": "stream",
     "text": [
      "\u001b[1m1/1\u001b[0m \u001b[32m━━━━━━━━━━━━━━━━━━━━\u001b[0m\u001b[37m\u001b[0m \u001b[1m0s\u001b[0m 96ms/step\n",
      "This text is predicted to be non-sarcastic.\n"
     ]
    }
   ],
   "source": [
    "new_text = \"The weather is beautiful today.\"\n",
    "sequence = tokenizer.texts_to_sequences([new_text])\n",
    "padded_sequence = pad_sequences(sequence, maxlen=max_len)\n",
    "prediction = model.predict(padded_sequence)\n",
    "if prediction > 0.5:\n",
    "    print(\"This text is predicted to be sarcastic.\")\n",
    "else:\n",
    "    print(\"This text is predicted to be non-sarcastic.\")"
   ]
  },
  {
   "cell_type": "code",
   "execution_count": 48,
   "id": "7966da95-c578-4086-8134-c549c2900814",
   "metadata": {},
   "outputs": [
    {
     "name": "stdout",
     "output_type": "stream",
     "text": [
      "\u001b[1m1/1\u001b[0m \u001b[32m━━━━━━━━━━━━━━━━━━━━\u001b[0m\u001b[37m\u001b[0m \u001b[1m0s\u001b[0m 92ms/step\n",
      "This text is predicted to be sarcastic.\n"
     ]
    }
   ],
   "source": [
    "new_text = \"Great job! You’ve managed to make things worse than before.\"\n",
    "sequence = tokenizer.texts_to_sequences([new_text])\n",
    "padded_sequence = pad_sequences(sequence, maxlen=max_len)\n",
    "prediction = model.predict(padded_sequence)\n",
    "if prediction > 0.5:\n",
    "    print(\"This text is predicted to be sarcastic.\")\n",
    "else:\n",
    "    print(\"This text is predicted to be non-sarcastic.\")"
   ]
  },
  {
   "cell_type": "code",
   "execution_count": 56,
   "id": "59d9d6b3-a694-401e-a045-9052d12f0b57",
   "metadata": {},
   "outputs": [
    {
     "name": "stdout",
     "output_type": "stream",
     "text": [
      "\u001b[1m1/1\u001b[0m \u001b[32m━━━━━━━━━━━━━━━━━━━━\u001b[0m\u001b[37m\u001b[0m \u001b[1m0s\u001b[0m 95ms/step\n",
      "This text is predicted to be sarcastic.\n"
     ]
    }
   ],
   "source": [
    "new_text = \"Just what I needed, more rain on my only day off.\"\n",
    "sequence = tokenizer.texts_to_sequences([new_text])\n",
    "padded_sequence = pad_sequences(sequence, maxlen=max_len)\n",
    "prediction = model.predict(padded_sequence)\n",
    "if prediction > 0.5:\n",
    "    print(\"This text is predicted to be sarcastic.\")\n",
    "else:\n",
    "    print(\"This text is predicted to be non-sarcastic.\")"
   ]
  },
  {
   "cell_type": "markdown",
   "id": "fcab0921-e47b-4913-b17e-2ae3c451ef53",
   "metadata": {},
   "source": [
    "# Conclusion\n",
    "\n",
    "#### Firstly Loaded the dataset\n",
    "\n",
    "#### Preprosessed the dataset\n",
    "\n",
    "#### Merged two dataset \n",
    "\n",
    "#### Applied Word Tokenization to the 'Tweet' column of our dataset\n",
    "\n",
    "#### Trained and Evaluate the Model:\n",
    "####       We explored different DL Models and found GRU to have the best accuracy - 88.38%.\n",
    "\n",
    "#### And then checked the Model for differnt tweets.\n",
    "\n"
   ]
  },
  {
   "cell_type": "code",
   "execution_count": null,
   "id": "6f8da9eb-f768-4f4f-b01b-202bf3df6617",
   "metadata": {},
   "outputs": [],
   "source": []
  }
 ],
 "metadata": {
  "kernelspec": {
   "display_name": "Python 3 (ipykernel)",
   "language": "python",
   "name": "python3"
  },
  "language_info": {
   "codemirror_mode": {
    "name": "ipython",
    "version": 3
   },
   "file_extension": ".py",
   "mimetype": "text/x-python",
   "name": "python",
   "nbconvert_exporter": "python",
   "pygments_lexer": "ipython3",
   "version": "3.12.3"
  }
 },
 "nbformat": 4,
 "nbformat_minor": 5
}

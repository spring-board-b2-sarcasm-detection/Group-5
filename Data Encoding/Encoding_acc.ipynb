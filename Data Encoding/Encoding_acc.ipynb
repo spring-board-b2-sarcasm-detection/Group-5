{
 "cells": [
  {
   "cell_type": "markdown",
   "id": "c5d01d9d-e5d2-46b9-97db-698f72c615b2",
   "metadata": {},
   "source": [
    "### One-Hot Encoding;"
   ]
  },
  {
   "cell_type": "code",
   "execution_count": 1,
   "id": "ac525e9d-9a10-4531-bfb4-92da069197b3",
   "metadata": {},
   "outputs": [],
   "source": [
    "import pandas as pd\n",
    "df=pd.read_csv(\"t_dataset.csv\")\n",
    "df_encoded = pd.get_dummies(df, columns=['Sarcasm'])\n",
    "\n",
    "df_encoded.to_csv(\"onehot_dataset.csv\", index=False)"
   ]
  },
  {
   "cell_type": "markdown",
   "id": "75253da7-baf8-4845-9683-1b1321e3c9bf",
   "metadata": {},
   "source": [
    "### Random Forest Model;"
   ]
  },
  {
   "cell_type": "code",
   "execution_count": 11,
   "id": "9d479aca-b8d0-4501-b1c9-ff6aad032115",
   "metadata": {},
   "outputs": [
    {
     "name": "stdout",
     "output_type": "stream",
     "text": [
      "Accuracy: 0.7956448911222781\n",
      "Classification Report:\n",
      "               precision    recall  f1-score   support\n",
      "\n",
      "           0       0.83      0.65      0.73       250\n",
      "           1       0.78      0.90      0.84       347\n",
      "\n",
      "    accuracy                           0.80       597\n",
      "   macro avg       0.80      0.78      0.78       597\n",
      "weighted avg       0.80      0.80      0.79       597\n",
      "\n"
     ]
    }
   ],
   "source": [
    "from sklearn.preprocessing import OneHotEncoder\n",
    "from sklearn.ensemble import RandomForestClassifier\n",
    "from sklearn.model_selection import train_test_split\n",
    "from sklearn.metrics import classification_report, accuracy_score\n",
    "from sklearn.feature_extraction.text import CountVectorizer\n",
    "tweets = df['Tweet']\n",
    "y = df['Sarcasm'].apply(lambda x: 1 if x == 'yes' else 0)\n",
    "\n",
    "vectorizer = CountVectorizer()\n",
    "X = vectorizer.fit_transform(tweets)\n",
    "\n",
    "if 'Category' in df.columns:\n",
    "    encoder = OneHotEncoder(sparse=False)\n",
    "    category_encoded = encoder.fit_transform(df[['Category']])\n",
    "    category_df = pd.DataFrame(category_encoded, columns=encoder.get_feature_names_out(['Category']))\n",
    "    X = pd.concat([pd.DataFrame(X.toarray(), columns=vectorizer.get_feature_names_out()), category_df], axis=1)\n",
    "else:\n",
    "    X = pd.DataFrame(X.toarray(), columns=vectorizer.get_feature_names_out())\n",
    "\n",
    "X.to_csv(\"one_hot_encoded_tweets.csv\", index=False)\n",
    "\n",
    "X_train, X_test, y_train, y_test = train_test_split(X, y, test_size=0.2, random_state=42)\n",
    "\n",
    "rf = RandomForestClassifier(n_estimators=100, random_state=42)\n",
    "rf.fit(X_train, y_train)\n",
    "\n",
    "y_pred = rf.predict(X_test)\n",
    "\n",
    "print(\"Accuracy:\", accuracy_score(y_test, y_pred))\n",
    "print(\"Classification Report:\\n\", classification_report(y_test, y_pred))"
   ]
  },
  {
   "cell_type": "markdown",
   "id": "71407ea6-2ddc-437d-b2f6-968278969c39",
   "metadata": {},
   "source": [
    "### Term Frequency encoding;"
   ]
  },
  {
   "cell_type": "code",
   "execution_count": 2,
   "id": "c56a415d-6b3c-4567-aa5e-c64c941575f6",
   "metadata": {},
   "outputs": [],
   "source": [
    "from sklearn.feature_extraction.text import CountVectorizer\n",
    "from sklearn.ensemble import RandomForestClassifier\n",
    "from sklearn.model_selection import train_test_split\n",
    "from sklearn.metrics import classification_report, accuracy_score\n",
    "import nltk\n",
    "from nltk.tokenize import word_tokenize\n",
    "tweets = df['Tweet']\n",
    "vectorizer = CountVectorizer()\n",
    "X = vectorizer.fit_transform(tweets)\n",
    "tf_df = pd.DataFrame(X.toarray(), columns=vectorizer.get_feature_names_out())\n",
    "final_df = pd.concat([df.drop('Tweet', axis=1), tf_df], axis=1)\n",
    "final_df.to_csv(\"tfencoded_tweets.csv\", index=False)\n",
    "\n"
   ]
  },
  {
   "cell_type": "markdown",
   "id": "e4a73872-fa0e-4529-aec6-81631f983a07",
   "metadata": {},
   "source": [
    "### Random Forest Model"
   ]
  },
  {
   "cell_type": "code",
   "execution_count": 10,
   "id": "e0c9403b-8ba8-41bf-8033-c02856e3514f",
   "metadata": {},
   "outputs": [
    {
     "name": "stdout",
     "output_type": "stream",
     "text": [
      "Accuracy: 0.695142378559464\n",
      "Classification Report:\n",
      "               precision    recall  f1-score   support\n",
      "\n",
      "           0       0.67      0.53      0.59       250\n",
      "           1       0.71      0.81      0.76       347\n",
      "\n",
      "    accuracy                           0.70       597\n",
      "   macro avg       0.69      0.67      0.67       597\n",
      "weighted avg       0.69      0.70      0.69       597\n",
      "\n"
     ]
    }
   ],
   "source": [
    "y = df['Sarcasm'].apply(lambda x: 1 if x == 'yes' else 0)\n",
    "X_train, X_test, y_train, y_test = train_test_split(X, y, test_size=0.2, random_state=42)\n",
    "rf = RandomForestClassifier(n_estimators=100, random_state=42)  \n",
    "\n",
    "rf.fit(X_train, y_train)\n",
    "y_pred = rf.predict(X_test)\n",
    "\n",
    "print(\"Accuracy:\", accuracy_score(y_test, y_pred))\n",
    "print(\"Classification Report:\\n\", classification_report(y_test, y_pred))"
   ]
  },
  {
   "cell_type": "markdown",
   "id": "27aa6217-06c7-49bc-a782-47e4d8a1b56d",
   "metadata": {},
   "source": [
    "### TF-IDF;"
   ]
  },
  {
   "cell_type": "code",
   "execution_count": 4,
   "id": "bb03e538-03c3-43e7-b7ae-0e2f8d3658d7",
   "metadata": {},
   "outputs": [],
   "source": [
    "from sklearn.feature_extraction.text import TfidfVectorizer\n",
    "from sklearn.metrics import classification_report, accuracy_score\n",
    "from nltk.tokenize import word_tokenize\n",
    "tweets = df['Tweet']\n",
    "tfidf_vectorizer = TfidfVectorizer()\n",
    "X = tfidf_vectorizer.fit_transform(tweets)\n",
    "tfidf_df = pd.DataFrame(X.toarray(), columns=tfidf_vectorizer.get_feature_names_out())\n",
    "final_df = pd.concat([df.drop('Tweet', axis=1), tfidf_df], axis=1)\n",
    "final_df.to_csv(\"tfidf_encoded_tweets.csv\", index=False)"
   ]
  },
  {
   "cell_type": "code",
   "execution_count": 5,
   "id": "be77d507-a42e-4321-936f-fbc100161f10",
   "metadata": {},
   "outputs": [
    {
     "name": "stdout",
     "output_type": "stream",
     "text": [
      "Accuracy: 0.7906197654941374\n",
      "Classification Report:\n",
      "               precision    recall  f1-score   support\n",
      "\n",
      "           0       0.89      0.57      0.69       250\n",
      "           1       0.75      0.95      0.84       347\n",
      "\n",
      "    accuracy                           0.79       597\n",
      "   macro avg       0.82      0.76      0.77       597\n",
      "weighted avg       0.81      0.79      0.78       597\n",
      "\n"
     ]
    }
   ],
   "source": [
    "y = df['Sarcasm'].apply(lambda x: 1 if x == 'yes' else 0)\n",
    "X_train, X_test, y_train, y_test = train_test_split(X, y, test_size=0.2, random_state=42)\n",
    "rf = RandomForestClassifier(n_estimators=100, random_state=42)  \n",
    "\n",
    "rf.fit(X_train, y_train)\n",
    "y_pred = rf.predict(X_test)\n",
    "\n",
    "print(\"Accuracy:\", accuracy_score(y_test, y_pred))\n",
    "print(\"Classification Report:\\n\", classification_report(y_test, y_pred))"
   ]
  },
  {
   "cell_type": "markdown",
   "id": "55fa2fda-99e8-4351-b965-bf81b310bc33",
   "metadata": {},
   "source": [
    "### Label Encoding;"
   ]
  },
  {
   "cell_type": "code",
   "execution_count": 6,
   "id": "08525ee9-ae08-421f-9adb-12c0ea1e9011",
   "metadata": {},
   "outputs": [
    {
     "name": "stdout",
     "output_type": "stream",
     "text": [
      "Label encoding mapping: {'no': 0, 'yes': 1}\n"
     ]
    }
   ],
   "source": [
    "from sklearn.preprocessing import LabelEncoder\n",
    "label_encoder = LabelEncoder()\n",
    "\n",
    "df['Sarcasm_encoded'] = label_encoder.fit_transform(df['Sarcasm'])\n",
    "label_mapping = dict(zip(label_encoder.classes_, label_encoder.transform(label_encoder.classes_)))\n",
    "print(\"Label encoding mapping:\", label_mapping)\n",
    "df.to_csv(\"label_encoded_tweets.csv\", index=False)"
   ]
  },
  {
   "cell_type": "code",
   "execution_count": 12,
   "id": "512f2344-cd7f-4809-a464-c70fb3dc1bd6",
   "metadata": {},
   "outputs": [
    {
     "name": "stdout",
     "output_type": "stream",
     "text": [
      "Accuracy: 0.7956448911222781\n",
      "Classification Report:\n",
      "               precision    recall  f1-score   support\n",
      "\n",
      "           0       0.83      0.65      0.73       250\n",
      "           1       0.78      0.90      0.84       347\n",
      "\n",
      "    accuracy                           0.80       597\n",
      "   macro avg       0.80      0.78      0.78       597\n",
      "weighted avg       0.80      0.80      0.79       597\n",
      "\n"
     ]
    }
   ],
   "source": [
    "from sklearn.preprocessing import LabelEncoder\n",
    "tweets = df['Tweet']\n",
    "y = df['Sarcasm'].apply(lambda x: 1 if x == 'yes' else 0)\n",
    "\n",
    "vectorizer = CountVectorizer()\n",
    "X = vectorizer.fit_transform(tweets)\n",
    "\n",
    "if 'Category' in df.columns:\n",
    "    label_encoder = LabelEncoder()\n",
    "    df['Category_encoded'] = label_encoder.fit_transform(df['Category'])\n",
    "    X = pd.concat([pd.DataFrame(X.toarray(), columns=vectorizer.get_feature_names_out()), df[['Category_encoded']]], axis=1)\n",
    "else:\n",
    "    X = pd.DataFrame(X.toarray(), columns=vectorizer.get_feature_names_out())\n",
    "\n",
    "X.to_csv(\"label_encoded_tweets.csv\", index=False)\n",
    "\n",
    "X_train, X_test, y_train, y_test = train_test_split(X, y, test_size=0.2, random_state=42)\n",
    "\n",
    "rf = RandomForestClassifier(n_estimators=100, random_state=42)\n",
    "rf.fit(X_train, y_train)\n",
    "\n",
    "y_pred = rf.predict(X_test)\n",
    "\n",
    "print(\"Accuracy:\", accuracy_score(y_test, y_pred))\n",
    "print(\"Classification Report:\\n\", classification_report(y_test, y_pred))"
   ]
  },
  {
   "cell_type": "markdown",
   "id": "54b55375-7477-4e9a-803e-370bf79253b1",
   "metadata": {},
   "source": [
    "### Word 2 Vec;"
   ]
  },
  {
   "cell_type": "code",
   "execution_count": 8,
   "id": "e42cfbe1-ba63-4ee6-8f73-3b1d98214c81",
   "metadata": {},
   "outputs": [],
   "source": [
    "from gensim.models import Word2Vec\n",
    "from nltk.tokenize import word_tokenize\n",
    "model = Word2Vec(sentences=df['word_tokens'], vector_size=100, window=5, min_count=1, workers=4)\n",
    "import numpy as np\n",
    "def tweet_vector(tweet, model):\n",
    "    # Remove out-of-vocabulary words\n",
    "    words = [word for word in tweet if word in model.wv.key_to_index]\n",
    "    if len(words) >= 1:\n",
    "        return np.mean(model.wv[words], axis=0)\n",
    "    else:\n",
    "        return np.zeros(model.vector_size)\n",
    "\n",
    "df['tweet_vector'] = df['word_tokens'].apply(lambda x: tweet_vector(x, model))\n",
    "vector_df = pd.DataFrame(df['tweet_vector'].tolist())\n",
    "vector_df.to_csv(\"word2vec_vectors.csv\", index=False)"
   ]
  },
  {
   "cell_type": "markdown",
   "id": "e10c0719-9ba3-42f3-9601-49bfbb4d361c",
   "metadata": {},
   "source": [
    "### Random Forest Model;"
   ]
  },
  {
   "cell_type": "code",
   "execution_count": 9,
   "id": "286897a8-e537-4697-948c-90249c6f0e9e",
   "metadata": {},
   "outputs": [
    {
     "name": "stdout",
     "output_type": "stream",
     "text": [
      "Accuracy: 0.695142378559464\n",
      "Classification Report:\n",
      "               precision    recall  f1-score   support\n",
      "\n",
      "           0       0.67      0.53      0.59       250\n",
      "           1       0.71      0.81      0.76       347\n",
      "\n",
      "    accuracy                           0.70       597\n",
      "   macro avg       0.69      0.67      0.67       597\n",
      "weighted avg       0.69      0.70      0.69       597\n",
      "\n"
     ]
    }
   ],
   "source": [
    "df_vectors = pd.read_csv(\"word2vec_vectors.csv\")\n",
    "\n",
    "df_original = pd.read_csv(\"t_dataset.csv\")\n",
    "\n",
    "y = df_original['Sarcasm'].apply(lambda x: 1 if x == 'yes' else 0)\n",
    "X = df_vectors.values  \n",
    "X_train, X_test, y_train, y_test = train_test_split(X, y, test_size=0.2, random_state=42)\n",
    "rf = RandomForestClassifier(n_estimators=100, random_state=42)\n",
    "\n",
    "rf.fit(X_train, y_train)\n",
    "y_pred = rf.predict(X_test)\n",
    "\n",
    "print(\"Accuracy:\", accuracy_score(y_test, y_pred))\n",
    "print(\"Classification Report:\\n\", classification_report(y_test, y_pred))"
   ]
  },
  {
   "cell_type": "code",
   "execution_count": null,
   "id": "2c47557c-bf54-44ed-9e0b-50098e1d8858",
   "metadata": {},
   "outputs": [],
   "source": []
  }
 ],
 "metadata": {
  "kernelspec": {
   "display_name": "Python 3 (ipykernel)",
   "language": "python",
   "name": "python3"
  },
  "language_info": {
   "codemirror_mode": {
    "name": "ipython",
    "version": 3
   },
   "file_extension": ".py",
   "mimetype": "text/x-python",
   "name": "python",
   "nbconvert_exporter": "python",
   "pygments_lexer": "ipython3",
   "version": "3.11.7"
  }
 },
 "nbformat": 4,
 "nbformat_minor": 5
}

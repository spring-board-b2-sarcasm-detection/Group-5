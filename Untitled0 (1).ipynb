{
  "nbformat": 4,
  "nbformat_minor": 0,
  "metadata": {
    "colab": {
      "provenance": [],
      "toc_visible": true
    },
    "kernelspec": {
      "name": "python3",
      "display_name": "Python 3"
    },
    "language_info": {
      "name": "python"
    }
  },
  "cells": [
    {
      "cell_type": "code",
      "execution_count": null,
      "metadata": {
        "id": "-hnF4Q5nXolY"
      },
      "outputs": [],
      "source": []
    },
    {
      "cell_type": "markdown",
      "source": [
        "IMPORTING THE LIBRARIES\n"
      ],
      "metadata": {
        "id": "1ddCFetPXpKd"
      }
    },
    {
      "cell_type": "code",
      "source": [
        "import numpy as np\n",
        "import matplotlib.pyplot as plt\n",
        "import pandas as pd\n"
      ],
      "metadata": {
        "id": "fMWl3RMbXvl4"
      },
      "execution_count": 1,
      "outputs": []
    },
    {
      "cell_type": "markdown",
      "source": [
        "IMPORTING THE DATASET"
      ],
      "metadata": {
        "id": "XuNaFQNCYCBo"
      }
    },
    {
      "cell_type": "code",
      "source": [
        "dataset=pd.read_csv('sarcasm_tweets.csv')\n",
        "x=dataset.iloc[:,:-1].values\n",
        "y=dataset.iloc[:,-1].values\n",
        "print(x)\n",
        "print(y)"
      ],
      "metadata": {
        "colab": {
          "base_uri": "https://localhost:8080/"
        },
        "id": "J3I4vt_WYGxl",
        "outputId": "413b4bde-4491-4b74-994f-9ae56390b264"
      },
      "execution_count": 10,
      "outputs": [
        {
          "output_type": "stream",
          "name": "stdout",
          "text": [
            "[['I genuinely love musicians.']\n",
            " ['I find vegetarians to be wonderful.']\n",
            " ['Because artists really make everything better.']\n",
            " ...\n",
            " ['I am always excited for this book.']\n",
            " ['I find the concert to be wonderful.']\n",
            " ['I genuinely love the concert.']]\n",
            "['no' 'no' 'yes' ... 'no' 'no' 'no']\n"
          ]
        }
      ]
    },
    {
      "cell_type": "markdown",
      "source": [
        "MISSING VALUES"
      ],
      "metadata": {
        "id": "l7k2iqFta4xU"
      }
    },
    {
      "cell_type": "code",
      "source": [
        "data_without_missing_columns=dataset.dropna()\n",
        "data_without_missing_columns.shape"
      ],
      "metadata": {
        "colab": {
          "base_uri": "https://localhost:8080/"
        },
        "id": "34_8RaYLa7kM",
        "outputId": "01f2c55f-72ec-45e1-c47b-61f4dca4578d"
      },
      "execution_count": 18,
      "outputs": [
        {
          "output_type": "execute_result",
          "data": {
            "text/plain": [
              "(5000, 2)"
            ]
          },
          "metadata": {},
          "execution_count": 18
        }
      ]
    }
  ]
}
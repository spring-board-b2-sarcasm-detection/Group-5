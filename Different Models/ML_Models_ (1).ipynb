{
 "cells": [
  {
   "cell_type": "code",
   "execution_count": 63,
   "id": "ce313da5-579f-4537-bee5-044d720859c4",
   "metadata": {},
   "outputs": [],
   "source": [
    "import pandas as pd\n",
    "from sklearn.model_selection import train_test_split\n",
    "from sklearn.feature_extraction.text import TfidfVectorizer\n",
    "from sklearn.linear_model import LogisticRegression\n",
    "from sklearn.metrics import accuracy_score, classification_report, confusion_matrix, roc_curve, auc\n",
    "import matplotlib.pyplot as plt\n",
    "import seaborn as sns\n",
    "from sklearn.svm import SVC\n",
    "from sklearn.naive_bayes import MultinomialNB\n",
    "from sklearn.tree import DecisionTreeClassifier\n",
    "from sklearn.neighbors import KNeighborsClassifier"
   ]
  },
  {
   "cell_type": "markdown",
   "id": "37ad1e93-98e2-49b3-9a84-f40f7f0ad2e2",
   "metadata": {},
   "source": [
    "### Load the Dataset"
   ]
  },
  {
   "cell_type": "code",
   "execution_count": 64,
   "id": "e94c6618-f4bb-43fd-8e30-de797f807aef",
   "metadata": {},
   "outputs": [],
   "source": [
    "df = pd.read_csv('C:\\\\Users\\\\HP\\\\OneDrive\\\\Desktop\\\\t_dataset.csv', index_col=False)"
   ]
  },
  {
   "cell_type": "code",
   "execution_count": 65,
   "id": "6ef9d271-6bb4-4053-84b3-033c4f323c6a",
   "metadata": {},
   "outputs": [
    {
     "data": {
      "text/html": [
       "<div>\n",
       "<style scoped>\n",
       "    .dataframe tbody tr th:only-of-type {\n",
       "        vertical-align: middle;\n",
       "    }\n",
       "\n",
       "    .dataframe tbody tr th {\n",
       "        vertical-align: top;\n",
       "    }\n",
       "\n",
       "    .dataframe thead th {\n",
       "        text-align: right;\n",
       "    }\n",
       "</style>\n",
       "<table border=\"1\" class=\"dataframe\">\n",
       "  <thead>\n",
       "    <tr style=\"text-align: right;\">\n",
       "      <th></th>\n",
       "      <th>Tweet</th>\n",
       "      <th>Sarcasm</th>\n",
       "      <th>word_tokens</th>\n",
       "      <th>char_tokens</th>\n",
       "      <th>sentence_tokens</th>\n",
       "      <th>subword_tokens</th>\n",
       "      <th>lemmatized_tweet</th>\n",
       "    </tr>\n",
       "  </thead>\n",
       "  <tbody>\n",
       "    <tr>\n",
       "      <th>0</th>\n",
       "      <td>Fantastic service yet again from EE. 1st you u...</td>\n",
       "      <td>yes</td>\n",
       "      <td>['Fantastic', 'service', 'yet', 'again', 'from...</td>\n",
       "      <td>['F', 'a', 'n', 't', 'a', 's', 't', 'i', 'c', ...</td>\n",
       "      <td>['Fantastic service yet again from EE.', '1st ...</td>\n",
       "      <td>['fantastic', 'service', 'yet', 'again', 'from...</td>\n",
       "      <td>Fantastic service yet again from EE . 1st you ...</td>\n",
       "    </tr>\n",
       "    <tr>\n",
       "      <th>1</th>\n",
       "      <td>Not sure if that was or. I will take it! face_...</td>\n",
       "      <td>yes</td>\n",
       "      <td>['Not', 'sure', 'if', 'that', 'was', 'or.', 'I...</td>\n",
       "      <td>['N', 'o', 't', ' ', 's', 'u', 'r', 'e', ' ', ...</td>\n",
       "      <td>['Not sure if that was or.', 'I will take it!'...</td>\n",
       "      <td>['not', 'sure', 'if', 'that', 'was', 'or', '.'...</td>\n",
       "      <td>Not sure if that wa or . I will take it ! face...</td>\n",
       "    </tr>\n",
       "    <tr>\n",
       "      <th>2</th>\n",
       "      <td>Barely 9 am and already shaking with rage.</td>\n",
       "      <td>yes</td>\n",
       "      <td>['Barely', '9', 'am', 'and', 'already', 'shaki...</td>\n",
       "      <td>['B', 'a', 'r', 'e', 'l', 'y', ' ', '9', ' ', ...</td>\n",
       "      <td>['Barely 9 am and already shaking with rage.']</td>\n",
       "      <td>['barely', '9', 'am', 'and', 'already', 'shaki...</td>\n",
       "      <td>Barely 9 am and already shaking with rage .</td>\n",
       "    </tr>\n",
       "    <tr>\n",
       "      <th>3</th>\n",
       "      <td>I guess that proves it then. Black folks have ...</td>\n",
       "      <td>yes</td>\n",
       "      <td>['I', 'guess', 'that', 'proves', 'it', 'then.'...</td>\n",
       "      <td>['I', ' ', 'g', 'u', 'e', 's', 's', ' ', 't', ...</td>\n",
       "      <td>['I guess that proves it then.', 'Black folks ...</td>\n",
       "      <td>['i', 'guess', 'that', 'proves', 'it', 'then',...</td>\n",
       "      <td>I guess that prof it then . Black folk have no...</td>\n",
       "    </tr>\n",
       "    <tr>\n",
       "      <th>4</th>\n",
       "      <td>Does this tweet need a tag</td>\n",
       "      <td>yes</td>\n",
       "      <td>['Does', 'this', 'tweet', 'need', 'a', 'tag']</td>\n",
       "      <td>['D', 'o', 'e', 's', ' ', 't', 'h', 'i', 's', ...</td>\n",
       "      <td>['Does this tweet need a tag']</td>\n",
       "      <td>['does', 'this', 't', '##wee', '##t', 'need', ...</td>\n",
       "      <td>Does this tweet need a tag</td>\n",
       "    </tr>\n",
       "    <tr>\n",
       "      <th>...</th>\n",
       "      <td>...</td>\n",
       "      <td>...</td>\n",
       "      <td>...</td>\n",
       "      <td>...</td>\n",
       "      <td>...</td>\n",
       "      <td>...</td>\n",
       "      <td>...</td>\n",
       "    </tr>\n",
       "    <tr>\n",
       "      <th>2976</th>\n",
       "      <td>Sometimes truth is glaring you in the face  bl...</td>\n",
       "      <td>no</td>\n",
       "      <td>['Sometimes', 'truth', 'is', 'glaring', 'you',...</td>\n",
       "      <td>['S', 'o', 'm', 'e', 't', 'i', 'm', 'e', 's', ...</td>\n",
       "      <td>[\"Sometimes truth is glaring you in the face  ...</td>\n",
       "      <td>['sometimes', 'truth', 'is', 'glaring', 'you',...</td>\n",
       "      <td>Sometimes truth is glaring you in the face bli...</td>\n",
       "    </tr>\n",
       "    <tr>\n",
       "      <th>2977</th>\n",
       "      <td>I just love not hanging out with my boyfriend .</td>\n",
       "      <td>no</td>\n",
       "      <td>['I', 'just', 'love', 'not', 'hanging', 'out',...</td>\n",
       "      <td>['I', ' ', 'j', 'u', 's', 't', ' ', 'l', 'o', ...</td>\n",
       "      <td>['I just love not hanging out with my boyfrien...</td>\n",
       "      <td>['i', 'just', 'love', 'not', 'hanging', 'out',...</td>\n",
       "      <td>I just love not hanging out with my boyfriend .</td>\n",
       "    </tr>\n",
       "    <tr>\n",
       "      <th>2978</th>\n",
       "      <td>There is this 1 quince picture I have that I'm...</td>\n",
       "      <td>no</td>\n",
       "      <td>['There', 'is', 'this', '1', 'quince', 'pictur...</td>\n",
       "      <td>['T', 'h', 'e', 'r', 'e', ' ', 'i', 's', ' ', ...</td>\n",
       "      <td>[\"There is this 1 quince picture I have that I...</td>\n",
       "      <td>['there', 'is', 'this', '1', 'qui', '##nce', '...</td>\n",
       "      <td>There is this 1 quince picture I have that I '...</td>\n",
       "    </tr>\n",
       "    <tr>\n",
       "      <th>2979</th>\n",
       "      <td>I feel so ill at the moment that I cant speak ...</td>\n",
       "      <td>no</td>\n",
       "      <td>['I', 'feel', 'so', 'ill', 'at', 'the', 'momen...</td>\n",
       "      <td>['I', ' ', 'f', 'e', 'e', 'l', ' ', 's', 'o', ...</td>\n",
       "      <td>[\"I feel so ill at the moment that I cant spea...</td>\n",
       "      <td>['i', 'feel', 'so', 'ill', 'at', 'the', 'momen...</td>\n",
       "      <td>I feel so ill at the moment that I cant speak ...</td>\n",
       "    </tr>\n",
       "    <tr>\n",
       "      <th>2980</th>\n",
       "      <td>I'm So Erked Nobody Better Not Speak To Me</td>\n",
       "      <td>no</td>\n",
       "      <td>[\"I'm\", 'So', 'Erked', 'Nobody', 'Better', 'No...</td>\n",
       "      <td>['I', \"'\", 'm', ' ', 'S', 'o', ' ', 'E', 'r', ...</td>\n",
       "      <td>[\"I'm So Erked Nobody Better Not Speak To Me\"]</td>\n",
       "      <td>['i', \"'\", 'm', 'so', 'er', '##ked', 'nobody',...</td>\n",
       "      <td>I 'm So Erked Nobody Better Not Speak To Me</td>\n",
       "    </tr>\n",
       "  </tbody>\n",
       "</table>\n",
       "<p>2981 rows × 7 columns</p>\n",
       "</div>"
      ],
      "text/plain": [
       "                                                  Tweet Sarcasm  \\\n",
       "0     Fantastic service yet again from EE. 1st you u...     yes   \n",
       "1     Not sure if that was or. I will take it! face_...     yes   \n",
       "2            Barely 9 am and already shaking with rage.     yes   \n",
       "3     I guess that proves it then. Black folks have ...     yes   \n",
       "4                            Does this tweet need a tag     yes   \n",
       "...                                                 ...     ...   \n",
       "2976  Sometimes truth is glaring you in the face  bl...      no   \n",
       "2977    I just love not hanging out with my boyfriend .      no   \n",
       "2978  There is this 1 quince picture I have that I'm...      no   \n",
       "2979  I feel so ill at the moment that I cant speak ...      no   \n",
       "2980         I'm So Erked Nobody Better Not Speak To Me      no   \n",
       "\n",
       "                                            word_tokens  \\\n",
       "0     ['Fantastic', 'service', 'yet', 'again', 'from...   \n",
       "1     ['Not', 'sure', 'if', 'that', 'was', 'or.', 'I...   \n",
       "2     ['Barely', '9', 'am', 'and', 'already', 'shaki...   \n",
       "3     ['I', 'guess', 'that', 'proves', 'it', 'then.'...   \n",
       "4         ['Does', 'this', 'tweet', 'need', 'a', 'tag']   \n",
       "...                                                 ...   \n",
       "2976  ['Sometimes', 'truth', 'is', 'glaring', 'you',...   \n",
       "2977  ['I', 'just', 'love', 'not', 'hanging', 'out',...   \n",
       "2978  ['There', 'is', 'this', '1', 'quince', 'pictur...   \n",
       "2979  ['I', 'feel', 'so', 'ill', 'at', 'the', 'momen...   \n",
       "2980  [\"I'm\", 'So', 'Erked', 'Nobody', 'Better', 'No...   \n",
       "\n",
       "                                            char_tokens  \\\n",
       "0     ['F', 'a', 'n', 't', 'a', 's', 't', 'i', 'c', ...   \n",
       "1     ['N', 'o', 't', ' ', 's', 'u', 'r', 'e', ' ', ...   \n",
       "2     ['B', 'a', 'r', 'e', 'l', 'y', ' ', '9', ' ', ...   \n",
       "3     ['I', ' ', 'g', 'u', 'e', 's', 's', ' ', 't', ...   \n",
       "4     ['D', 'o', 'e', 's', ' ', 't', 'h', 'i', 's', ...   \n",
       "...                                                 ...   \n",
       "2976  ['S', 'o', 'm', 'e', 't', 'i', 'm', 'e', 's', ...   \n",
       "2977  ['I', ' ', 'j', 'u', 's', 't', ' ', 'l', 'o', ...   \n",
       "2978  ['T', 'h', 'e', 'r', 'e', ' ', 'i', 's', ' ', ...   \n",
       "2979  ['I', ' ', 'f', 'e', 'e', 'l', ' ', 's', 'o', ...   \n",
       "2980  ['I', \"'\", 'm', ' ', 'S', 'o', ' ', 'E', 'r', ...   \n",
       "\n",
       "                                        sentence_tokens  \\\n",
       "0     ['Fantastic service yet again from EE.', '1st ...   \n",
       "1     ['Not sure if that was or.', 'I will take it!'...   \n",
       "2        ['Barely 9 am and already shaking with rage.']   \n",
       "3     ['I guess that proves it then.', 'Black folks ...   \n",
       "4                        ['Does this tweet need a tag']   \n",
       "...                                                 ...   \n",
       "2976  [\"Sometimes truth is glaring you in the face  ...   \n",
       "2977  ['I just love not hanging out with my boyfrien...   \n",
       "2978  [\"There is this 1 quince picture I have that I...   \n",
       "2979  [\"I feel so ill at the moment that I cant spea...   \n",
       "2980     [\"I'm So Erked Nobody Better Not Speak To Me\"]   \n",
       "\n",
       "                                         subword_tokens  \\\n",
       "0     ['fantastic', 'service', 'yet', 'again', 'from...   \n",
       "1     ['not', 'sure', 'if', 'that', 'was', 'or', '.'...   \n",
       "2     ['barely', '9', 'am', 'and', 'already', 'shaki...   \n",
       "3     ['i', 'guess', 'that', 'proves', 'it', 'then',...   \n",
       "4     ['does', 'this', 't', '##wee', '##t', 'need', ...   \n",
       "...                                                 ...   \n",
       "2976  ['sometimes', 'truth', 'is', 'glaring', 'you',...   \n",
       "2977  ['i', 'just', 'love', 'not', 'hanging', 'out',...   \n",
       "2978  ['there', 'is', 'this', '1', 'qui', '##nce', '...   \n",
       "2979  ['i', 'feel', 'so', 'ill', 'at', 'the', 'momen...   \n",
       "2980  ['i', \"'\", 'm', 'so', 'er', '##ked', 'nobody',...   \n",
       "\n",
       "                                       lemmatized_tweet  \n",
       "0     Fantastic service yet again from EE . 1st you ...  \n",
       "1     Not sure if that wa or . I will take it ! face...  \n",
       "2           Barely 9 am and already shaking with rage .  \n",
       "3     I guess that prof it then . Black folk have no...  \n",
       "4                            Does this tweet need a tag  \n",
       "...                                                 ...  \n",
       "2976  Sometimes truth is glaring you in the face bli...  \n",
       "2977    I just love not hanging out with my boyfriend .  \n",
       "2978  There is this 1 quince picture I have that I '...  \n",
       "2979  I feel so ill at the moment that I cant speak ...  \n",
       "2980        I 'm So Erked Nobody Better Not Speak To Me  \n",
       "\n",
       "[2981 rows x 7 columns]"
      ]
     },
     "execution_count": 65,
     "metadata": {},
     "output_type": "execute_result"
    }
   ],
   "source": [
    "df"
   ]
  },
  {
   "cell_type": "markdown",
   "id": "256ee40f-2883-42ed-b1ad-99a22bbf7062",
   "metadata": {},
   "source": [
    "### Converting Sarcasm Labels to Binary Values"
   ]
  },
  {
   "cell_type": "code",
   "execution_count": 66,
   "id": "6210be52-5671-4f25-877c-df3e6a9df6c9",
   "metadata": {},
   "outputs": [],
   "source": [
    "df['Sarcasm'] = df['Sarcasm'].map({'yes': 1, 'no': 0})"
   ]
  },
  {
   "cell_type": "markdown",
   "id": "300ab1a0-6165-4ccf-82cb-7d138bf86294",
   "metadata": {},
   "source": [
    "### Splitting Data into Training and Testing Sets"
   ]
  },
  {
   "cell_type": "code",
   "execution_count": 67,
   "id": "6f1beccd-68e9-4ce2-9cc3-1f3a589bf705",
   "metadata": {},
   "outputs": [],
   "source": [
    "X_train, X_test, y_train, y_test = train_test_split(df['Tweet'], df['Sarcasm'], test_size=0.2, random_state=42)"
   ]
  },
  {
   "cell_type": "markdown",
   "id": "ff154528-2901-4b7a-83c3-f735d476713b",
   "metadata": {},
   "source": [
    "### Creating TF-IDF Vectors for Text Data"
   ]
  },
  {
   "cell_type": "code",
   "execution_count": 68,
   "id": "9bc8f325-734a-4bf0-b54c-a6a0bb724525",
   "metadata": {},
   "outputs": [],
   "source": [
    "vectorizer = TfidfVectorizer(max_features=5000, ngram_range=(1, 2))\n",
    "X_train_tfidf = vectorizer.fit_transform(X_train)\n",
    "X_test_tfidf = vectorizer.transform(X_test)"
   ]
  },
  {
   "cell_type": "code",
   "execution_count": 69,
   "id": "be0ed68c-cd28-4eb7-a233-cc77b7443d88",
   "metadata": {},
   "outputs": [
    {
     "data": {
      "text/html": [
       "<div>\n",
       "<style scoped>\n",
       "    .dataframe tbody tr th:only-of-type {\n",
       "        vertical-align: middle;\n",
       "    }\n",
       "\n",
       "    .dataframe tbody tr th {\n",
       "        vertical-align: top;\n",
       "    }\n",
       "\n",
       "    .dataframe thead th {\n",
       "        text-align: right;\n",
       "    }\n",
       "</style>\n",
       "<table border=\"1\" class=\"dataframe\">\n",
       "  <thead>\n",
       "    <tr style=\"text-align: right;\">\n",
       "      <th></th>\n",
       "      <th>Tweet</th>\n",
       "      <th>Sarcasm</th>\n",
       "      <th>word_tokens</th>\n",
       "      <th>char_tokens</th>\n",
       "      <th>sentence_tokens</th>\n",
       "      <th>subword_tokens</th>\n",
       "      <th>lemmatized_tweet</th>\n",
       "    </tr>\n",
       "  </thead>\n",
       "  <tbody>\n",
       "    <tr>\n",
       "      <th>0</th>\n",
       "      <td>Fantastic service yet again from EE. 1st you u...</td>\n",
       "      <td>1</td>\n",
       "      <td>['Fantastic', 'service', 'yet', 'again', 'from...</td>\n",
       "      <td>['F', 'a', 'n', 't', 'a', 's', 't', 'i', 'c', ...</td>\n",
       "      <td>['Fantastic service yet again from EE.', '1st ...</td>\n",
       "      <td>['fantastic', 'service', 'yet', 'again', 'from...</td>\n",
       "      <td>Fantastic service yet again from EE . 1st you ...</td>\n",
       "    </tr>\n",
       "    <tr>\n",
       "      <th>1</th>\n",
       "      <td>Not sure if that was or. I will take it! face_...</td>\n",
       "      <td>1</td>\n",
       "      <td>['Not', 'sure', 'if', 'that', 'was', 'or.', 'I...</td>\n",
       "      <td>['N', 'o', 't', ' ', 's', 'u', 'r', 'e', ' ', ...</td>\n",
       "      <td>['Not sure if that was or.', 'I will take it!'...</td>\n",
       "      <td>['not', 'sure', 'if', 'that', 'was', 'or', '.'...</td>\n",
       "      <td>Not sure if that wa or . I will take it ! face...</td>\n",
       "    </tr>\n",
       "    <tr>\n",
       "      <th>2</th>\n",
       "      <td>Barely 9 am and already shaking with rage.</td>\n",
       "      <td>1</td>\n",
       "      <td>['Barely', '9', 'am', 'and', 'already', 'shaki...</td>\n",
       "      <td>['B', 'a', 'r', 'e', 'l', 'y', ' ', '9', ' ', ...</td>\n",
       "      <td>['Barely 9 am and already shaking with rage.']</td>\n",
       "      <td>['barely', '9', 'am', 'and', 'already', 'shaki...</td>\n",
       "      <td>Barely 9 am and already shaking with rage .</td>\n",
       "    </tr>\n",
       "    <tr>\n",
       "      <th>3</th>\n",
       "      <td>I guess that proves it then. Black folks have ...</td>\n",
       "      <td>1</td>\n",
       "      <td>['I', 'guess', 'that', 'proves', 'it', 'then.'...</td>\n",
       "      <td>['I', ' ', 'g', 'u', 'e', 's', 's', ' ', 't', ...</td>\n",
       "      <td>['I guess that proves it then.', 'Black folks ...</td>\n",
       "      <td>['i', 'guess', 'that', 'proves', 'it', 'then',...</td>\n",
       "      <td>I guess that prof it then . Black folk have no...</td>\n",
       "    </tr>\n",
       "    <tr>\n",
       "      <th>4</th>\n",
       "      <td>Does this tweet need a tag</td>\n",
       "      <td>1</td>\n",
       "      <td>['Does', 'this', 'tweet', 'need', 'a', 'tag']</td>\n",
       "      <td>['D', 'o', 'e', 's', ' ', 't', 'h', 'i', 's', ...</td>\n",
       "      <td>['Does this tweet need a tag']</td>\n",
       "      <td>['does', 'this', 't', '##wee', '##t', 'need', ...</td>\n",
       "      <td>Does this tweet need a tag</td>\n",
       "    </tr>\n",
       "    <tr>\n",
       "      <th>...</th>\n",
       "      <td>...</td>\n",
       "      <td>...</td>\n",
       "      <td>...</td>\n",
       "      <td>...</td>\n",
       "      <td>...</td>\n",
       "      <td>...</td>\n",
       "      <td>...</td>\n",
       "    </tr>\n",
       "    <tr>\n",
       "      <th>2976</th>\n",
       "      <td>Sometimes truth is glaring you in the face  bl...</td>\n",
       "      <td>0</td>\n",
       "      <td>['Sometimes', 'truth', 'is', 'glaring', 'you',...</td>\n",
       "      <td>['S', 'o', 'm', 'e', 't', 'i', 'm', 'e', 's', ...</td>\n",
       "      <td>[\"Sometimes truth is glaring you in the face  ...</td>\n",
       "      <td>['sometimes', 'truth', 'is', 'glaring', 'you',...</td>\n",
       "      <td>Sometimes truth is glaring you in the face bli...</td>\n",
       "    </tr>\n",
       "    <tr>\n",
       "      <th>2977</th>\n",
       "      <td>I just love not hanging out with my boyfriend .</td>\n",
       "      <td>0</td>\n",
       "      <td>['I', 'just', 'love', 'not', 'hanging', 'out',...</td>\n",
       "      <td>['I', ' ', 'j', 'u', 's', 't', ' ', 'l', 'o', ...</td>\n",
       "      <td>['I just love not hanging out with my boyfrien...</td>\n",
       "      <td>['i', 'just', 'love', 'not', 'hanging', 'out',...</td>\n",
       "      <td>I just love not hanging out with my boyfriend .</td>\n",
       "    </tr>\n",
       "    <tr>\n",
       "      <th>2978</th>\n",
       "      <td>There is this 1 quince picture I have that I'm...</td>\n",
       "      <td>0</td>\n",
       "      <td>['There', 'is', 'this', '1', 'quince', 'pictur...</td>\n",
       "      <td>['T', 'h', 'e', 'r', 'e', ' ', 'i', 's', ' ', ...</td>\n",
       "      <td>[\"There is this 1 quince picture I have that I...</td>\n",
       "      <td>['there', 'is', 'this', '1', 'qui', '##nce', '...</td>\n",
       "      <td>There is this 1 quince picture I have that I '...</td>\n",
       "    </tr>\n",
       "    <tr>\n",
       "      <th>2979</th>\n",
       "      <td>I feel so ill at the moment that I cant speak ...</td>\n",
       "      <td>0</td>\n",
       "      <td>['I', 'feel', 'so', 'ill', 'at', 'the', 'momen...</td>\n",
       "      <td>['I', ' ', 'f', 'e', 'e', 'l', ' ', 's', 'o', ...</td>\n",
       "      <td>[\"I feel so ill at the moment that I cant spea...</td>\n",
       "      <td>['i', 'feel', 'so', 'ill', 'at', 'the', 'momen...</td>\n",
       "      <td>I feel so ill at the moment that I cant speak ...</td>\n",
       "    </tr>\n",
       "    <tr>\n",
       "      <th>2980</th>\n",
       "      <td>I'm So Erked Nobody Better Not Speak To Me</td>\n",
       "      <td>0</td>\n",
       "      <td>[\"I'm\", 'So', 'Erked', 'Nobody', 'Better', 'No...</td>\n",
       "      <td>['I', \"'\", 'm', ' ', 'S', 'o', ' ', 'E', 'r', ...</td>\n",
       "      <td>[\"I'm So Erked Nobody Better Not Speak To Me\"]</td>\n",
       "      <td>['i', \"'\", 'm', 'so', 'er', '##ked', 'nobody',...</td>\n",
       "      <td>I 'm So Erked Nobody Better Not Speak To Me</td>\n",
       "    </tr>\n",
       "  </tbody>\n",
       "</table>\n",
       "<p>2981 rows × 7 columns</p>\n",
       "</div>"
      ],
      "text/plain": [
       "                                                  Tweet  Sarcasm  \\\n",
       "0     Fantastic service yet again from EE. 1st you u...        1   \n",
       "1     Not sure if that was or. I will take it! face_...        1   \n",
       "2            Barely 9 am and already shaking with rage.        1   \n",
       "3     I guess that proves it then. Black folks have ...        1   \n",
       "4                            Does this tweet need a tag        1   \n",
       "...                                                 ...      ...   \n",
       "2976  Sometimes truth is glaring you in the face  bl...        0   \n",
       "2977    I just love not hanging out with my boyfriend .        0   \n",
       "2978  There is this 1 quince picture I have that I'm...        0   \n",
       "2979  I feel so ill at the moment that I cant speak ...        0   \n",
       "2980         I'm So Erked Nobody Better Not Speak To Me        0   \n",
       "\n",
       "                                            word_tokens  \\\n",
       "0     ['Fantastic', 'service', 'yet', 'again', 'from...   \n",
       "1     ['Not', 'sure', 'if', 'that', 'was', 'or.', 'I...   \n",
       "2     ['Barely', '9', 'am', 'and', 'already', 'shaki...   \n",
       "3     ['I', 'guess', 'that', 'proves', 'it', 'then.'...   \n",
       "4         ['Does', 'this', 'tweet', 'need', 'a', 'tag']   \n",
       "...                                                 ...   \n",
       "2976  ['Sometimes', 'truth', 'is', 'glaring', 'you',...   \n",
       "2977  ['I', 'just', 'love', 'not', 'hanging', 'out',...   \n",
       "2978  ['There', 'is', 'this', '1', 'quince', 'pictur...   \n",
       "2979  ['I', 'feel', 'so', 'ill', 'at', 'the', 'momen...   \n",
       "2980  [\"I'm\", 'So', 'Erked', 'Nobody', 'Better', 'No...   \n",
       "\n",
       "                                            char_tokens  \\\n",
       "0     ['F', 'a', 'n', 't', 'a', 's', 't', 'i', 'c', ...   \n",
       "1     ['N', 'o', 't', ' ', 's', 'u', 'r', 'e', ' ', ...   \n",
       "2     ['B', 'a', 'r', 'e', 'l', 'y', ' ', '9', ' ', ...   \n",
       "3     ['I', ' ', 'g', 'u', 'e', 's', 's', ' ', 't', ...   \n",
       "4     ['D', 'o', 'e', 's', ' ', 't', 'h', 'i', 's', ...   \n",
       "...                                                 ...   \n",
       "2976  ['S', 'o', 'm', 'e', 't', 'i', 'm', 'e', 's', ...   \n",
       "2977  ['I', ' ', 'j', 'u', 's', 't', ' ', 'l', 'o', ...   \n",
       "2978  ['T', 'h', 'e', 'r', 'e', ' ', 'i', 's', ' ', ...   \n",
       "2979  ['I', ' ', 'f', 'e', 'e', 'l', ' ', 's', 'o', ...   \n",
       "2980  ['I', \"'\", 'm', ' ', 'S', 'o', ' ', 'E', 'r', ...   \n",
       "\n",
       "                                        sentence_tokens  \\\n",
       "0     ['Fantastic service yet again from EE.', '1st ...   \n",
       "1     ['Not sure if that was or.', 'I will take it!'...   \n",
       "2        ['Barely 9 am and already shaking with rage.']   \n",
       "3     ['I guess that proves it then.', 'Black folks ...   \n",
       "4                        ['Does this tweet need a tag']   \n",
       "...                                                 ...   \n",
       "2976  [\"Sometimes truth is glaring you in the face  ...   \n",
       "2977  ['I just love not hanging out with my boyfrien...   \n",
       "2978  [\"There is this 1 quince picture I have that I...   \n",
       "2979  [\"I feel so ill at the moment that I cant spea...   \n",
       "2980     [\"I'm So Erked Nobody Better Not Speak To Me\"]   \n",
       "\n",
       "                                         subword_tokens  \\\n",
       "0     ['fantastic', 'service', 'yet', 'again', 'from...   \n",
       "1     ['not', 'sure', 'if', 'that', 'was', 'or', '.'...   \n",
       "2     ['barely', '9', 'am', 'and', 'already', 'shaki...   \n",
       "3     ['i', 'guess', 'that', 'proves', 'it', 'then',...   \n",
       "4     ['does', 'this', 't', '##wee', '##t', 'need', ...   \n",
       "...                                                 ...   \n",
       "2976  ['sometimes', 'truth', 'is', 'glaring', 'you',...   \n",
       "2977  ['i', 'just', 'love', 'not', 'hanging', 'out',...   \n",
       "2978  ['there', 'is', 'this', '1', 'qui', '##nce', '...   \n",
       "2979  ['i', 'feel', 'so', 'ill', 'at', 'the', 'momen...   \n",
       "2980  ['i', \"'\", 'm', 'so', 'er', '##ked', 'nobody',...   \n",
       "\n",
       "                                       lemmatized_tweet  \n",
       "0     Fantastic service yet again from EE . 1st you ...  \n",
       "1     Not sure if that wa or . I will take it ! face...  \n",
       "2           Barely 9 am and already shaking with rage .  \n",
       "3     I guess that prof it then . Black folk have no...  \n",
       "4                            Does this tweet need a tag  \n",
       "...                                                 ...  \n",
       "2976  Sometimes truth is glaring you in the face bli...  \n",
       "2977    I just love not hanging out with my boyfriend .  \n",
       "2978  There is this 1 quince picture I have that I '...  \n",
       "2979  I feel so ill at the moment that I cant speak ...  \n",
       "2980        I 'm So Erked Nobody Better Not Speak To Me  \n",
       "\n",
       "[2981 rows x 7 columns]"
      ]
     },
     "execution_count": 69,
     "metadata": {},
     "output_type": "execute_result"
    }
   ],
   "source": [
    "df"
   ]
  },
  {
   "cell_type": "markdown",
   "id": "f4554760-b0bc-4e3b-ae8f-b76e6852d8bd",
   "metadata": {},
   "source": [
    "### Function for Model Evaluation"
   ]
  },
  {
   "cell_type": "code",
   "execution_count": 70,
   "id": "4d8dd88b-0030-460f-be27-28fa3553d74b",
   "metadata": {},
   "outputs": [],
   "source": [
    "def evaluate_model(y_test, y_pred, y_pred_prob):\n",
    "    # Accuracy\n",
    "    accuracy = accuracy_score(y_test, y_pred)\n",
    "    print(f'Accuracy: {accuracy * 100:.2f}%')\n",
    "\n",
    "    # Classification report\n",
    "    print(\"Classification Report:\")\n",
    "    print(classification_report(y_test, y_pred))\n",
    "\n",
    "    # Confusion matrix\n",
    "    conf_matrix = confusion_matrix(y_test, y_pred)\n",
    "    plt.figure(figsize=(8, 6))\n",
    "    sns.heatmap(conf_matrix, annot=True, fmt='d', cmap='Blues', xticklabels=['Not Sarcastic', 'Sarcastic'], yticklabels=['Not Sarcastic', 'Sarcastic'])\n",
    "    plt.xlabel('Predicted')\n",
    "    plt.ylabel('Actual')\n",
    "    plt.title('Confusion Matrix')\n",
    "    plt.show()"
   ]
  },
  {
   "cell_type": "markdown",
   "id": "18c92992-059d-466b-8e19-3693e5821d3d",
   "metadata": {},
   "source": [
    "## Logistic Regression"
   ]
  },
  {
   "cell_type": "code",
   "execution_count": 71,
   "id": "525d272b-ace5-4b2f-a0de-56985d1c8937",
   "metadata": {},
   "outputs": [],
   "source": [
    "# Train Logistic Regression model\n",
    "model = LogisticRegression()\n",
    "model.fit(X_train_tfidf, y_train)\n",
    "\n",
    "y_pred = model.predict(X_test_tfidf)\n",
    "y_pred_prob = model.predict_proba(X_test_tfidf)[:, 1]"
   ]
  },
  {
   "cell_type": "code",
   "execution_count": 72,
   "id": "de3ed0cc-471e-4a36-bea8-1a098dc75e8c",
   "metadata": {},
   "outputs": [
    {
     "name": "stdout",
     "output_type": "stream",
     "text": [
      "Accuracy: 77.89%\n",
      "Classification Report:\n",
      "              precision    recall  f1-score   support\n",
      "\n",
      "           0       0.83      0.59      0.69       250\n",
      "           1       0.76      0.91      0.83       347\n",
      "\n",
      "    accuracy                           0.78       597\n",
      "   macro avg       0.79      0.75      0.76       597\n",
      "weighted avg       0.79      0.78      0.77       597\n",
      "\n"
     ]
    },
    {
     "data": {
      "image/png": "[encoded data removed]",
      "text/plain": [
       "<Figure size 800x600 with 2 Axes>"
      ]
     },
     "metadata": {},
     "output_type": "display_data"
    }
   ],
   "source": [
    "evaluate_model(y_test, y_pred, y_pred_prob)"
   ]
  },
  {
   "cell_type": "markdown",
   "id": "cb85e172-8946-4986-8b82-330da243fcc1",
   "metadata": {},
   "source": [
    "## SVM (Support Vector Machine) model"
   ]
  },
  {
   "cell_type": "code",
   "execution_count": 73,
   "id": "78595bc5-3737-4d87-9b4c-1baee3115876",
   "metadata": {},
   "outputs": [],
   "source": [
    "# Train SVM model\n",
    "model = SVC(kernel='linear', probability=True)\n",
    "model.fit(X_train_tfidf, y_train)\n",
    "\n",
    "y_pred = model.predict(X_test_tfidf)"
   ]
  },
  {
   "cell_type": "code",
   "execution_count": 74,
   "id": "7315a5e0-e28b-4934-b21b-915f4413d396",
   "metadata": {},
   "outputs": [
    {
     "name": "stdout",
     "output_type": "stream",
     "text": [
      "Accuracy: 77.55%\n",
      "Classification Report:\n",
      "              precision    recall  f1-score   support\n",
      "\n",
      "           0       0.82      0.60      0.69       250\n",
      "           1       0.76      0.90      0.82       347\n",
      "\n",
      "    accuracy                           0.78       597\n",
      "   macro avg       0.79      0.75      0.76       597\n",
      "weighted avg       0.78      0.78      0.77       597\n",
      "\n"
     ]
    },
    {
     "data": {
      "image/png": "[encoded data removed]",
      "text/plain": [
       "<Figure size 800x600 with 2 Axes>"
      ]
     },
     "metadata": {},
     "output_type": "display_data"
    }
   ],
   "source": [
    "evaluate_model(y_test, y_pred, y_pred_prob)"
   ]
  },
  {
   "cell_type": "markdown",
   "id": "8901441f-aa8a-4b6b-a786-0ed849ab2c98",
   "metadata": {},
   "source": [
    "## Naive Bayes model"
   ]
  },
  {
   "cell_type": "code",
   "execution_count": 75,
   "id": "36c3918c-0c74-4d93-bd94-8063346812ef",
   "metadata": {},
   "outputs": [],
   "source": [
    "# Train Naive Bayes model\n",
    "model = MultinomialNB()\n",
    "model.fit(X_train_tfidf, y_train)\n",
    "\n",
    "y_pred = model.predict(X_test_tfidf)"
   ]
  },
  {
   "cell_type": "code",
   "execution_count": 76,
   "id": "fed800ad-53ec-49f0-a5f1-ed5e07c16ed8",
   "metadata": {},
   "outputs": [
    {
     "name": "stdout",
     "output_type": "stream",
     "text": [
      "Accuracy: 78.22%\n",
      "Classification Report:\n",
      "              precision    recall  f1-score   support\n",
      "\n",
      "           0       0.83      0.60      0.70       250\n",
      "           1       0.76      0.91      0.83       347\n",
      "\n",
      "    accuracy                           0.78       597\n",
      "   macro avg       0.80      0.76      0.76       597\n",
      "weighted avg       0.79      0.78      0.77       597\n",
      "\n"
     ]
    },
    {
     "data": {
      "image/png": "[encoded data removed]",
      "text/plain": [
       "<Figure size 800x600 with 2 Axes>"
      ]
     },
     "metadata": {},
     "output_type": "display_data"
    }
   ],
   "source": [
    "evaluate_model(y_test, y_pred, y_pred_prob)"
   ]
  },
  {
   "cell_type": "code",
   "execution_count": 77,
   "id": "0ffb6588-f2c6-4be5-bd8e-af491fb3c7cb",
   "metadata": {},
   "outputs": [],
   "source": [
    "## Decision Tree model"
   ]
  },
  {
   "cell_type": "code",
   "execution_count": 78,
   "id": "e7564e2c-19d8-4646-a213-682ce4b7bd76",
   "metadata": {},
   "outputs": [],
   "source": [
    "# Train Decision Tree model\n",
    "model = DecisionTreeClassifier(random_state=42)\n",
    "model.fit(X_train_tfidf, y_train)\n",
    "\n",
    "y_pred = model.predict(X_test_tfidf)"
   ]
  },
  {
   "cell_type": "code",
   "execution_count": 79,
   "id": "d07a5b43-e072-4630-bde6-0d8137b3d0de",
   "metadata": {},
   "outputs": [
    {
     "name": "stdout",
     "output_type": "stream",
     "text": [
      "Accuracy: 76.72%\n",
      "Classification Report:\n",
      "              precision    recall  f1-score   support\n",
      "\n",
      "           0       0.72      0.74      0.73       250\n",
      "           1       0.81      0.79      0.80       347\n",
      "\n",
      "    accuracy                           0.77       597\n",
      "   macro avg       0.76      0.76      0.76       597\n",
      "weighted avg       0.77      0.77      0.77       597\n",
      "\n"
     ]
    },
    {
     "data": {
      "image/png": "[encoded data removed]",
      "text/plain": [
       "<Figure size 800x600 with 2 Axes>"
      ]
     },
     "metadata": {},
     "output_type": "display_data"
    }
   ],
   "source": [
    "evaluate_model(y_test, y_pred, y_pred_prob)"
   ]
  },
  {
   "cell_type": "markdown",
   "id": "f0607859-22eb-4acd-bcad-59dcfb9e301b",
   "metadata": {},
   "source": [
    "## K-Nearest Neighbors (KNN) model"
   ]
  },
  {
   "cell_type": "code",
   "execution_count": 80,
   "id": "b1e829c4-4041-4a8f-bb39-964bb66a75a4",
   "metadata": {},
   "outputs": [],
   "source": [
    "# Train KNN model\n",
    "k = 5\n",
    "model = KNeighborsClassifier(n_neighbors=k)\n",
    "model.fit(X_train_tfidf, y_train)\n",
    "\n",
    "y_pred = model.predict(X_test_tfidf)"
   ]
  },
  {
   "cell_type": "code",
   "execution_count": 81,
   "id": "02e2a66c-48df-41bb-ab32-46320d0dc339",
   "metadata": {},
   "outputs": [
    {
     "name": "stdout",
     "output_type": "stream",
     "text": [
      "Accuracy: 43.55%\n",
      "Classification Report:\n",
      "              precision    recall  f1-score   support\n",
      "\n",
      "           0       0.43      1.00      0.60       250\n",
      "           1       0.92      0.03      0.06       347\n",
      "\n",
      "    accuracy                           0.44       597\n",
      "   macro avg       0.67      0.51      0.33       597\n",
      "weighted avg       0.71      0.44      0.29       597\n",
      "\n"
     ]
    },
    {
     "data": {
      "image/png": "[encoded data removed]",
      "text/plain": [
       "<Figure size 800x600 with 2 Axes>"
      ]
     },
     "metadata": {},
     "output_type": "display_data"
    }
   ],
   "source": [
    "evaluate_model(y_test, y_pred, y_pred_prob)"
   ]
  },
  {
   "cell_type": "code",
   "execution_count": null,
   "id": "9d21dc8c-f246-465b-aa1d-512d0cf5834e",
   "metadata": {},
   "outputs": [],
   "source": []
  }
 ],
 "metadata": {
  "kernelspec": {
   "display_name": "Python 3 (ipykernel)",
   "language": "python",
   "name": "python3"
  },
  "language_info": {
   "codemirror_mode": {
    "name": "ipython",
    "version": 3
   },
   "file_extension": ".py",
   "mimetype": "text/x-python",
   "name": "python",
   "nbconvert_exporter": "python",
   "pygments_lexer": "ipython3",
   "version": "3.12.3"
  }
 },
 "nbformat": 4,
 "nbformat_minor": 5
}

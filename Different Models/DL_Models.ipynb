{
  "cells": [
    {
      "cell_type": "code",
      "execution_count": 49,
      "metadata": {
        "id": "L6xFI10UqFtr"
      },
      "outputs": [],
      "source": [
        "import pandas as pd\n",
        "import numpy as np\n",
        "import nltk\n",
        "from nltk.tokenize import TweetTokenizer\n",
        "from sklearn.model_selection import train_test_split\n",
        "from sklearn.feature_extraction.text import TfidfVectorizer\n",
        "from sklearn.metrics import accuracy_score, classification_report, confusion_matrix, roc_curve, roc_auc_score\n",
        "import seaborn as sns\n",
        "from tensorflow.keras.models import Model\n",
        "import matplotlib.pyplot as plt\n",
        "from imblearn.over_sampling import SMOTE\n",
        "from imblearn.over_sampling import RandomOverSampler\n",
        "from sklearn.metrics import f1_score\n",
        "from tensorflow.keras.layers import Embedding, GRU, Dense, Dropout, Bidirectional, LSTM\n",
        "from tensorflow.keras.preprocessing.text import Tokenizer\n",
        "from tensorflow.keras.preprocessing.sequence import pad_sequences\n",
        "from tensorflow.keras.models import Sequential\n",
        "from tensorflow.keras.callbacks import EarlyStopping\n",
        "from tensorflow.keras.layers import Embedding, Conv1D, GlobalMaxPooling1D, Dense, Dropout, Input, Concatenate, LSTM, Bidirectional,SimpleRNN\n",
        "from tensorflow.keras.regularizers import l2"
      ]
    },
    {
      "cell_type": "markdown",
      "source": [
        "### Loading Text File into Pandas DataFrame"
      ],
      "metadata": {
        "id": "BORbwW-HgngV"
      }
    },
    {
      "cell_type": "code",
      "source": [
        "df = pd.read_csv(\"Test_v1.txt\", delimiter='\\t')"
      ],
      "metadata": {
        "id": "AGnxImamgnGA"
      },
      "execution_count": 2,
      "outputs": []
    },
    {
      "cell_type": "code",
      "source": [
        "df.head()"
      ],
      "metadata": {
        "colab": {
          "base_uri": "https://localhost:8080/",
          "height": 206
        },
        "id": "xJ9ib3FfkIn7",
        "outputId": "7b5258bf-8ca0-4b43-bcea-4c3e0d120527"
      },
      "execution_count": 3,
      "outputs": [
        {
          "output_type": "execute_result",
          "data": {
            "text/plain": [
              "   TrainSen  1 I loovee when people text back ... 😒 #sarcastictweet\n",
              "0  TrainSen  1  Don't you love it when your parents are Pissed...  \n",
              "1  TrainSen  1      So many useless classes , great to be student  \n",
              "2  TrainSen  1  Oh how I love getting home from work at 3am an...  \n",
              "3  TrainSen  1          I just love having grungy ass hair 😑 #not  \n",
              "4  TrainSen  1  Thank you , random guy , for sneaking up behin...  "
            ],
            "text/html": [
              "\n",
              "  <div id=\"df-1d3e72cf-f97a-406f-a5e2-7a917a1b5301\" class=\"colab-df-container\">\n",
              "    <div>\n",
              "<style scoped>\n",
              "    .dataframe tbody tr th:only-of-type {\n",
              "        vertical-align: middle;\n",
              "    }\n",
              "\n",
              "    .dataframe tbody tr th {\n",
              "        vertical-align: top;\n",
              "    }\n",
              "\n",
              "    .dataframe thead th {\n",
              "        text-align: right;\n",
              "    }\n",
              "</style>\n",
              "<table border=\"1\" class=\"dataframe\">\n",
              "  <thead>\n",
              "    <tr style=\"text-align: right;\">\n",
              "      <th></th>\n",
              "      <th>TrainSen</th>\n",
              "      <th>1</th>\n",
              "      <th>I loovee when people text back ... 😒 #sarcastictweet</th>\n",
              "    </tr>\n",
              "  </thead>\n",
              "  <tbody>\n",
              "    <tr>\n",
              "      <th>0</th>\n",
              "      <td>TrainSen</td>\n",
              "      <td>1</td>\n",
              "      <td>Don't you love it when your parents are Pissed...</td>\n",
              "    </tr>\n",
              "    <tr>\n",
              "      <th>1</th>\n",
              "      <td>TrainSen</td>\n",
              "      <td>1</td>\n",
              "      <td>So many useless classes , great to be student</td>\n",
              "    </tr>\n",
              "    <tr>\n",
              "      <th>2</th>\n",
              "      <td>TrainSen</td>\n",
              "      <td>1</td>\n",
              "      <td>Oh how I love getting home from work at 3am an...</td>\n",
              "    </tr>\n",
              "    <tr>\n",
              "      <th>3</th>\n",
              "      <td>TrainSen</td>\n",
              "      <td>1</td>\n",
              "      <td>I just love having grungy ass hair 😑 #not</td>\n",
              "    </tr>\n",
              "    <tr>\n",
              "      <th>4</th>\n",
              "      <td>TrainSen</td>\n",
              "      <td>1</td>\n",
              "      <td>Thank you , random guy , for sneaking up behin...</td>\n",
              "    </tr>\n",
              "  </tbody>\n",
              "</table>\n",
              "</div>\n",
              "    <div class=\"colab-df-buttons\">\n",
              "\n",
              "  <div class=\"colab-df-container\">\n",
              "    <button class=\"colab-df-convert\" onclick=\"convertToInteractive('df-1d3e72cf-f97a-406f-a5e2-7a917a1b5301')\"\n",
              "            title=\"Convert this dataframe to an interactive table.\"\n",
              "            style=\"display:none;\">\n",
              "\n",
              "  <svg xmlns=\"http://www.w3.org/2000/svg\" height=\"24px\" viewBox=\"0 -960 960 960\">\n",
              "    <path d=\"M120-120v-720h720v720H120Zm60-500h600v-160H180v160Zm220 220h160v-160H400v160Zm0 220h160v-160H400v160ZM180-400h160v-160H180v160Zm440 0h160v-160H620v160ZM180-180h160v-160H180v160Zm440 0h160v-160H620v160Z\"/>\n",
              "  </svg>\n",
              "    </button>\n",
              "\n",
              "  <style>\n",
              "    .colab-df-container {\n",
              "      display:flex;\n",
              "      gap: 12px;\n",
              "    }\n",
              "\n",
              "    .colab-df-convert {\n",
              "      background-color: #E8F0FE;\n",
              "      border: none;\n",
              "      border-radius: 50%;\n",
              "      cursor: pointer;\n",
              "      display: none;\n",
              "      fill: #1967D2;\n",
              "      height: 32px;\n",
              "      padding: 0 0 0 0;\n",
              "      width: 32px;\n",
              "    }\n",
              "\n",
              "    .colab-df-convert:hover {\n",
              "      background-color: #E2EBFA;\n",
              "      box-shadow: 0px 1px 2px rgba(60, 64, 67, 0.3), 0px 1px 3px 1px rgba(60, 64, 67, 0.15);\n",
              "      fill: #174EA6;\n",
              "    }\n",
              "\n",
              "    .colab-df-buttons div {\n",
              "      margin-bottom: 4px;\n",
              "    }\n",
              "\n",
              "    [theme=dark] .colab-df-convert {\n",
              "      background-color: #3B4455;\n",
              "      fill: #D2E3FC;\n",
              "    }\n",
              "\n",
              "    [theme=dark] .colab-df-convert:hover {\n",
              "      background-color: #434B5C;\n",
              "      box-shadow: 0px 1px 3px 1px rgba(0, 0, 0, 0.15);\n",
              "      filter: drop-shadow(0px 1px 2px rgba(0, 0, 0, 0.3));\n",
              "      fill: #FFFFFF;\n",
              "    }\n",
              "  </style>\n",
              "\n",
              "    <script>\n",
              "      const buttonEl =\n",
              "        document.querySelector('#df-1d3e72cf-f97a-406f-a5e2-7a917a1b5301 button.colab-df-convert');\n",
              "      buttonEl.style.display =\n",
              "        google.colab.kernel.accessAllowed ? 'block' : 'none';\n",
              "\n",
              "      async function convertToInteractive(key) {\n",
              "        const element = document.querySelector('#df-1d3e72cf-f97a-406f-a5e2-7a917a1b5301');\n",
              "        const dataTable =\n",
              "          await google.colab.kernel.invokeFunction('convertToInteractive',\n",
              "                                                    [key], {});\n",
              "        if (!dataTable) return;\n",
              "\n",
              "        const docLinkHtml = 'Like what you see? Visit the ' +\n",
              "          '<a target=\"_blank\" href=https://colab.research.google.com/notebooks/data_table.ipynb>data table notebook</a>'\n",
              "          + ' to learn more about interactive tables.';\n",
              "        element.innerHTML = '';\n",
              "        dataTable['output_type'] = 'display_data';\n",
              "        await google.colab.output.renderOutput(dataTable, element);\n",
              "        const docLink = document.createElement('div');\n",
              "        docLink.innerHTML = docLinkHtml;\n",
              "        element.appendChild(docLink);\n",
              "      }\n",
              "    </script>\n",
              "  </div>\n",
              "\n",
              "\n",
              "<div id=\"df-762bf184-cc1c-422e-8675-e68411c13285\">\n",
              "  <button class=\"colab-df-quickchart\" onclick=\"quickchart('df-762bf184-cc1c-422e-8675-e68411c13285')\"\n",
              "            title=\"Suggest charts\"\n",
              "            style=\"display:none;\">\n",
              "\n",
              "<svg xmlns=\"http://www.w3.org/2000/svg\" height=\"24px\"viewBox=\"0 0 24 24\"\n",
              "     width=\"24px\">\n",
              "    <g>\n",
              "        <path d=\"M19 3H5c-1.1 0-2 .9-2 2v14c0 1.1.9 2 2 2h14c1.1 0 2-.9 2-2V5c0-1.1-.9-2-2-2zM9 17H7v-7h2v7zm4 0h-2V7h2v10zm4 0h-2v-4h2v4z\"/>\n",
              "    </g>\n",
              "</svg>\n",
              "  </button>\n",
              "\n",
              "<style>\n",
              "  .colab-df-quickchart {\n",
              "      --bg-color: #E8F0FE;\n",
              "      --fill-color: #1967D2;\n",
              "      --hover-bg-color: #E2EBFA;\n",
              "      --hover-fill-color: #174EA6;\n",
              "      --disabled-fill-color: #AAA;\n",
              "      --disabled-bg-color: #DDD;\n",
              "  }\n",
              "\n",
              "  [theme=dark] .colab-df-quickchart {\n",
              "      --bg-color: #3B4455;\n",
              "      --fill-color: #D2E3FC;\n",
              "      --hover-bg-color: #434B5C;\n",
              "      --hover-fill-color: #FFFFFF;\n",
              "      --disabled-bg-color: #3B4455;\n",
              "      --disabled-fill-color: #666;\n",
              "  }\n",
              "\n",
              "  .colab-df-quickchart {\n",
              "    background-color: var(--bg-color);\n",
              "    border: none;\n",
              "    border-radius: 50%;\n",
              "    cursor: pointer;\n",
              "    display: none;\n",
              "    fill: var(--fill-color);\n",
              "    height: 32px;\n",
              "    padding: 0;\n",
              "    width: 32px;\n",
              "  }\n",
              "\n",
              "  .colab-df-quickchart:hover {\n",
              "    background-color: var(--hover-bg-color);\n",
              "    box-shadow: 0 1px 2px rgba(60, 64, 67, 0.3), 0 1px 3px 1px rgba(60, 64, 67, 0.15);\n",
              "    fill: var(--button-hover-fill-color);\n",
              "  }\n",
              "\n",
              "  .colab-df-quickchart-complete:disabled,\n",
              "  .colab-df-quickchart-complete:disabled:hover {\n",
              "    background-color: var(--disabled-bg-color);\n",
              "    fill: var(--disabled-fill-color);\n",
              "    box-shadow: none;\n",
              "  }\n",
              "\n",
              "  .colab-df-spinner {\n",
              "    border: 2px solid var(--fill-color);\n",
              "    border-color: transparent;\n",
              "    border-bottom-color: var(--fill-color);\n",
              "    animation:\n",
              "      spin 1s steps(1) infinite;\n",
              "  }\n",
              "\n",
              "  @keyframes spin {\n",
              "    0% {\n",
              "      border-color: transparent;\n",
              "      border-bottom-color: var(--fill-color);\n",
              "      border-left-color: var(--fill-color);\n",
              "    }\n",
              "    20% {\n",
              "      border-color: transparent;\n",
              "      border-left-color: var(--fill-color);\n",
              "      border-top-color: var(--fill-color);\n",
              "    }\n",
              "    30% {\n",
              "      border-color: transparent;\n",
              "      border-left-color: var(--fill-color);\n",
              "      border-top-color: var(--fill-color);\n",
              "      border-right-color: var(--fill-color);\n",
              "    }\n",
              "    40% {\n",
              "      border-color: transparent;\n",
              "      border-right-color: var(--fill-color);\n",
              "      border-top-color: var(--fill-color);\n",
              "    }\n",
              "    60% {\n",
              "      border-color: transparent;\n",
              "      border-right-color: var(--fill-color);\n",
              "    }\n",
              "    80% {\n",
              "      border-color: transparent;\n",
              "      border-right-color: var(--fill-color);\n",
              "      border-bottom-color: var(--fill-color);\n",
              "    }\n",
              "    90% {\n",
              "      border-color: transparent;\n",
              "      border-bottom-color: var(--fill-color);\n",
              "    }\n",
              "  }\n",
              "</style>\n",
              "\n",
              "  <script>\n",
              "    async function quickchart(key) {\n",
              "      const quickchartButtonEl =\n",
              "        document.querySelector('#' + key + ' button');\n",
              "      quickchartButtonEl.disabled = true;  // To prevent multiple clicks.\n",
              "      quickchartButtonEl.classList.add('colab-df-spinner');\n",
              "      try {\n",
              "        const charts = await google.colab.kernel.invokeFunction(\n",
              "            'suggestCharts', [key], {});\n",
              "      } catch (error) {\n",
              "        console.error('Error during call to suggestCharts:', error);\n",
              "      }\n",
              "      quickchartButtonEl.classList.remove('colab-df-spinner');\n",
              "      quickchartButtonEl.classList.add('colab-df-quickchart-complete');\n",
              "    }\n",
              "    (() => {\n",
              "      let quickchartButtonEl =\n",
              "        document.querySelector('#df-762bf184-cc1c-422e-8675-e68411c13285 button');\n",
              "      quickchartButtonEl.style.display =\n",
              "        google.colab.kernel.accessAllowed ? 'block' : 'none';\n",
              "    })();\n",
              "  </script>\n",
              "</div>\n",
              "\n",
              "    </div>\n",
              "  </div>\n"
            ],
            "application/vnd.google.colaboratory.intrinsic+json": {
              "type": "dataframe",
              "variable_name": "df",
              "summary": "{\n  \"name\": \"df\",\n  \"rows\": 1974,\n  \"fields\": [\n    {\n      \"column\": \"TrainSen\",\n      \"properties\": {\n        \"dtype\": \"category\",\n        \"num_unique_values\": 1,\n        \"samples\": [\n          \"TrainSen\"\n        ],\n        \"semantic_type\": \"\",\n        \"description\": \"\"\n      }\n    },\n    {\n      \"column\": \"1\",\n      \"properties\": {\n        \"dtype\": \"number\",\n        \"std\": 0,\n        \"min\": 0,\n        \"max\": 1,\n        \"num_unique_values\": 2,\n        \"samples\": [\n          0\n        ],\n        \"semantic_type\": \"\",\n        \"description\": \"\"\n      }\n    },\n    {\n      \"column\": \"I loovee when people text back ... \\ud83d\\ude12 #sarcastictweet\",\n      \"properties\": {\n        \"dtype\": \"string\",\n        \"num_unique_values\": 1974,\n        \"samples\": [\n          \"So cool to hear Dr . Gerald Rubin speak at our #LeadershipLunch ! wish could be here ! \\ud83d\\udd2c\"\n        ],\n        \"semantic_type\": \"\",\n        \"description\": \"\"\n      }\n    }\n  ]\n}"
            }
          },
          "metadata": {},
          "execution_count": 3
        }
      ]
    },
    {
      "cell_type": "markdown",
      "source": [
        "## Reading, Renaming Columns, and Saving DataFrame to CSV"
      ],
      "metadata": {
        "id": "2zKywPvIkS4E"
      }
    },
    {
      "cell_type": "code",
      "source": [
        "df = pd.read_csv('Test_v1.txt', header=None, delimiter='\\t')\n",
        "\n",
        "# name the columns\n",
        "df.columns = ['Train', 'Label', 'Tweets']\n",
        "\n",
        "print(df.head())\n",
        "\n",
        "df.to_csv('Clean_Dataset.csv', index=False)"
      ],
      "metadata": {
        "colab": {
          "base_uri": "https://localhost:8080/"
        },
        "id": "W0SsWQVykIke",
        "outputId": "4d19d209-9d5f-4a1a-a32b-110cf9bac577"
      },
      "execution_count": 4,
      "outputs": [
        {
          "output_type": "stream",
          "name": "stdout",
          "text": [
            "      Train  Label                                             Tweets\n",
            "0  TrainSen      1  I loovee when people text back ... 😒 #sarcasti...\n",
            "1  TrainSen      1  Don't you love it when your parents are Pissed...\n",
            "2  TrainSen      1      So many useless classes , great to be student\n",
            "3  TrainSen      1  Oh how I love getting home from work at 3am an...\n",
            "4  TrainSen      1          I just love having grungy ass hair 😑 #not\n"
          ]
        }
      ]
    },
    {
      "cell_type": "markdown",
      "source": [
        "## Drop the 'Train' column"
      ],
      "metadata": {
        "id": "mT0KJfjmkfFy"
      }
    },
    {
      "cell_type": "code",
      "source": [
        "if df.shape[1] == 3:\n",
        "    df.columns = ['Train', 'Label', 'Tweets']\n",
        "\n",
        "    # Drop the 'Train' column\n",
        "    df = df.drop(columns=['Train'])\n",
        "\n",
        "    df.to_csv('Clean_Dataset.csv', index=False)\n",
        "else:\n",
        "    print(\"Unexpected number of columns in the dataset. Expected 3 columns, but found:\", df.shape[1])"
      ],
      "metadata": {
        "id": "2fSPhYRpkIiJ"
      },
      "execution_count": 5,
      "outputs": []
    },
    {
      "cell_type": "code",
      "source": [
        "df.head()"
      ],
      "metadata": {
        "colab": {
          "base_uri": "https://localhost:8080/",
          "height": 206
        },
        "id": "sFgv1MFekIfY",
        "outputId": "dc76a0d5-06af-4db4-c587-a3a7c02b848c"
      },
      "execution_count": 6,
      "outputs": [
        {
          "output_type": "execute_result",
          "data": {
            "text/plain": [
              "   Label                                             Tweets\n",
              "0      1  I loovee when people text back ... 😒 #sarcasti...\n",
              "1      1  Don't you love it when your parents are Pissed...\n",
              "2      1      So many useless classes , great to be student\n",
              "3      1  Oh how I love getting home from work at 3am an...\n",
              "4      1          I just love having grungy ass hair 😑 #not"
            ],
            "text/html": [
              "\n",
              "  <div id=\"df-9c1e1dc7-095b-4e7e-bd31-72579ffce471\" class=\"colab-df-container\">\n",
              "    <div>\n",
              "<style scoped>\n",
              "    .dataframe tbody tr th:only-of-type {\n",
              "        vertical-align: middle;\n",
              "    }\n",
              "\n",
              "    .dataframe tbody tr th {\n",
              "        vertical-align: top;\n",
              "    }\n",
              "\n",
              "    .dataframe thead th {\n",
              "        text-align: right;\n",
              "    }\n",
              "</style>\n",
              "<table border=\"1\" class=\"dataframe\">\n",
              "  <thead>\n",
              "    <tr style=\"text-align: right;\">\n",
              "      <th></th>\n",
              "      <th>Label</th>\n",
              "      <th>Tweets</th>\n",
              "    </tr>\n",
              "  </thead>\n",
              "  <tbody>\n",
              "    <tr>\n",
              "      <th>0</th>\n",
              "      <td>1</td>\n",
              "      <td>I loovee when people text back ... 😒 #sarcasti...</td>\n",
              "    </tr>\n",
              "    <tr>\n",
              "      <th>1</th>\n",
              "      <td>1</td>\n",
              "      <td>Don't you love it when your parents are Pissed...</td>\n",
              "    </tr>\n",
              "    <tr>\n",
              "      <th>2</th>\n",
              "      <td>1</td>\n",
              "      <td>So many useless classes , great to be student</td>\n",
              "    </tr>\n",
              "    <tr>\n",
              "      <th>3</th>\n",
              "      <td>1</td>\n",
              "      <td>Oh how I love getting home from work at 3am an...</td>\n",
              "    </tr>\n",
              "    <tr>\n",
              "      <th>4</th>\n",
              "      <td>1</td>\n",
              "      <td>I just love having grungy ass hair 😑 #not</td>\n",
              "    </tr>\n",
              "  </tbody>\n",
              "</table>\n",
              "</div>\n",
              "    <div class=\"colab-df-buttons\">\n",
              "\n",
              "  <div class=\"colab-df-container\">\n",
              "    <button class=\"colab-df-convert\" onclick=\"convertToInteractive('df-9c1e1dc7-095b-4e7e-bd31-72579ffce471')\"\n",
              "            title=\"Convert this dataframe to an interactive table.\"\n",
              "            style=\"display:none;\">\n",
              "\n",
              "  <svg xmlns=\"http://www.w3.org/2000/svg\" height=\"24px\" viewBox=\"0 -960 960 960\">\n",
              "    <path d=\"M120-120v-720h720v720H120Zm60-500h600v-160H180v160Zm220 220h160v-160H400v160Zm0 220h160v-160H400v160ZM180-400h160v-160H180v160Zm440 0h160v-160H620v160ZM180-180h160v-160H180v160Zm440 0h160v-160H620v160Z\"/>\n",
              "  </svg>\n",
              "    </button>\n",
              "\n",
              "  <style>\n",
              "    .colab-df-container {\n",
              "      display:flex;\n",
              "      gap: 12px;\n",
              "    }\n",
              "\n",
              "    .colab-df-convert {\n",
              "      background-color: #E8F0FE;\n",
              "      border: none;\n",
              "      border-radius: 50%;\n",
              "      cursor: pointer;\n",
              "      display: none;\n",
              "      fill: #1967D2;\n",
              "      height: 32px;\n",
              "      padding: 0 0 0 0;\n",
              "      width: 32px;\n",
              "    }\n",
              "\n",
              "    .colab-df-convert:hover {\n",
              "      background-color: #E2EBFA;\n",
              "      box-shadow: 0px 1px 2px rgba(60, 64, 67, 0.3), 0px 1px 3px 1px rgba(60, 64, 67, 0.15);\n",
              "      fill: #174EA6;\n",
              "    }\n",
              "\n",
              "    .colab-df-buttons div {\n",
              "      margin-bottom: 4px;\n",
              "    }\n",
              "\n",
              "    [theme=dark] .colab-df-convert {\n",
              "      background-color: #3B4455;\n",
              "      fill: #D2E3FC;\n",
              "    }\n",
              "\n",
              "    [theme=dark] .colab-df-convert:hover {\n",
              "      background-color: #434B5C;\n",
              "      box-shadow: 0px 1px 3px 1px rgba(0, 0, 0, 0.15);\n",
              "      filter: drop-shadow(0px 1px 2px rgba(0, 0, 0, 0.3));\n",
              "      fill: #FFFFFF;\n",
              "    }\n",
              "  </style>\n",
              "\n",
              "    <script>\n",
              "      const buttonEl =\n",
              "        document.querySelector('#df-9c1e1dc7-095b-4e7e-bd31-72579ffce471 button.colab-df-convert');\n",
              "      buttonEl.style.display =\n",
              "        google.colab.kernel.accessAllowed ? 'block' : 'none';\n",
              "\n",
              "      async function convertToInteractive(key) {\n",
              "        const element = document.querySelector('#df-9c1e1dc7-095b-4e7e-bd31-72579ffce471');\n",
              "        const dataTable =\n",
              "          await google.colab.kernel.invokeFunction('convertToInteractive',\n",
              "                                                    [key], {});\n",
              "        if (!dataTable) return;\n",
              "\n",
              "        const docLinkHtml = 'Like what you see? Visit the ' +\n",
              "          '<a target=\"_blank\" href=https://colab.research.google.com/notebooks/data_table.ipynb>data table notebook</a>'\n",
              "          + ' to learn more about interactive tables.';\n",
              "        element.innerHTML = '';\n",
              "        dataTable['output_type'] = 'display_data';\n",
              "        await google.colab.output.renderOutput(dataTable, element);\n",
              "        const docLink = document.createElement('div');\n",
              "        docLink.innerHTML = docLinkHtml;\n",
              "        element.appendChild(docLink);\n",
              "      }\n",
              "    </script>\n",
              "  </div>\n",
              "\n",
              "\n",
              "<div id=\"df-5b5d230a-1dfa-48a9-a1b1-d2d032a7d7ce\">\n",
              "  <button class=\"colab-df-quickchart\" onclick=\"quickchart('df-5b5d230a-1dfa-48a9-a1b1-d2d032a7d7ce')\"\n",
              "            title=\"Suggest charts\"\n",
              "            style=\"display:none;\">\n",
              "\n",
              "<svg xmlns=\"http://www.w3.org/2000/svg\" height=\"24px\"viewBox=\"0 0 24 24\"\n",
              "     width=\"24px\">\n",
              "    <g>\n",
              "        <path d=\"M19 3H5c-1.1 0-2 .9-2 2v14c0 1.1.9 2 2 2h14c1.1 0 2-.9 2-2V5c0-1.1-.9-2-2-2zM9 17H7v-7h2v7zm4 0h-2V7h2v10zm4 0h-2v-4h2v4z\"/>\n",
              "    </g>\n",
              "</svg>\n",
              "  </button>\n",
              "\n",
              "<style>\n",
              "  .colab-df-quickchart {\n",
              "      --bg-color: #E8F0FE;\n",
              "      --fill-color: #1967D2;\n",
              "      --hover-bg-color: #E2EBFA;\n",
              "      --hover-fill-color: #174EA6;\n",
              "      --disabled-fill-color: #AAA;\n",
              "      --disabled-bg-color: #DDD;\n",
              "  }\n",
              "\n",
              "  [theme=dark] .colab-df-quickchart {\n",
              "      --bg-color: #3B4455;\n",
              "      --fill-color: #D2E3FC;\n",
              "      --hover-bg-color: #434B5C;\n",
              "      --hover-fill-color: #FFFFFF;\n",
              "      --disabled-bg-color: #3B4455;\n",
              "      --disabled-fill-color: #666;\n",
              "  }\n",
              "\n",
              "  .colab-df-quickchart {\n",
              "    background-color: var(--bg-color);\n",
              "    border: none;\n",
              "    border-radius: 50%;\n",
              "    cursor: pointer;\n",
              "    display: none;\n",
              "    fill: var(--fill-color);\n",
              "    height: 32px;\n",
              "    padding: 0;\n",
              "    width: 32px;\n",
              "  }\n",
              "\n",
              "  .colab-df-quickchart:hover {\n",
              "    background-color: var(--hover-bg-color);\n",
              "    box-shadow: 0 1px 2px rgba(60, 64, 67, 0.3), 0 1px 3px 1px rgba(60, 64, 67, 0.15);\n",
              "    fill: var(--button-hover-fill-color);\n",
              "  }\n",
              "\n",
              "  .colab-df-quickchart-complete:disabled,\n",
              "  .colab-df-quickchart-complete:disabled:hover {\n",
              "    background-color: var(--disabled-bg-color);\n",
              "    fill: var(--disabled-fill-color);\n",
              "    box-shadow: none;\n",
              "  }\n",
              "\n",
              "  .colab-df-spinner {\n",
              "    border: 2px solid var(--fill-color);\n",
              "    border-color: transparent;\n",
              "    border-bottom-color: var(--fill-color);\n",
              "    animation:\n",
              "      spin 1s steps(1) infinite;\n",
              "  }\n",
              "\n",
              "  @keyframes spin {\n",
              "    0% {\n",
              "      border-color: transparent;\n",
              "      border-bottom-color: var(--fill-color);\n",
              "      border-left-color: var(--fill-color);\n",
              "    }\n",
              "    20% {\n",
              "      border-color: transparent;\n",
              "      border-left-color: var(--fill-color);\n",
              "      border-top-color: var(--fill-color);\n",
              "    }\n",
              "    30% {\n",
              "      border-color: transparent;\n",
              "      border-left-color: var(--fill-color);\n",
              "      border-top-color: var(--fill-color);\n",
              "      border-right-color: var(--fill-color);\n",
              "    }\n",
              "    40% {\n",
              "      border-color: transparent;\n",
              "      border-right-color: var(--fill-color);\n",
              "      border-top-color: var(--fill-color);\n",
              "    }\n",
              "    60% {\n",
              "      border-color: transparent;\n",
              "      border-right-color: var(--fill-color);\n",
              "    }\n",
              "    80% {\n",
              "      border-color: transparent;\n",
              "      border-right-color: var(--fill-color);\n",
              "      border-bottom-color: var(--fill-color);\n",
              "    }\n",
              "    90% {\n",
              "      border-color: transparent;\n",
              "      border-bottom-color: var(--fill-color);\n",
              "    }\n",
              "  }\n",
              "</style>\n",
              "\n",
              "  <script>\n",
              "    async function quickchart(key) {\n",
              "      const quickchartButtonEl =\n",
              "        document.querySelector('#' + key + ' button');\n",
              "      quickchartButtonEl.disabled = true;  // To prevent multiple clicks.\n",
              "      quickchartButtonEl.classList.add('colab-df-spinner');\n",
              "      try {\n",
              "        const charts = await google.colab.kernel.invokeFunction(\n",
              "            'suggestCharts', [key], {});\n",
              "      } catch (error) {\n",
              "        console.error('Error during call to suggestCharts:', error);\n",
              "      }\n",
              "      quickchartButtonEl.classList.remove('colab-df-spinner');\n",
              "      quickchartButtonEl.classList.add('colab-df-quickchart-complete');\n",
              "    }\n",
              "    (() => {\n",
              "      let quickchartButtonEl =\n",
              "        document.querySelector('#df-5b5d230a-1dfa-48a9-a1b1-d2d032a7d7ce button');\n",
              "      quickchartButtonEl.style.display =\n",
              "        google.colab.kernel.accessAllowed ? 'block' : 'none';\n",
              "    })();\n",
              "  </script>\n",
              "</div>\n",
              "\n",
              "    </div>\n",
              "  </div>\n"
            ],
            "application/vnd.google.colaboratory.intrinsic+json": {
              "type": "dataframe",
              "variable_name": "df",
              "summary": "{\n  \"name\": \"df\",\n  \"rows\": 1975,\n  \"fields\": [\n    {\n      \"column\": \"Label\",\n      \"properties\": {\n        \"dtype\": \"number\",\n        \"std\": 0,\n        \"min\": 0,\n        \"max\": 1,\n        \"num_unique_values\": 2,\n        \"samples\": [\n          0,\n          1\n        ],\n        \"semantic_type\": \"\",\n        \"description\": \"\"\n      }\n    },\n    {\n      \"column\": \"Tweets\",\n      \"properties\": {\n        \"dtype\": \"string\",\n        \"num_unique_values\": 1975,\n        \"samples\": [\n          \"So cool to hear Dr . Gerald Rubin speak at our #LeadershipLunch ! wish could be here ! \\ud83d\\udd2c\",\n          \"So annoying seeing people u used to speak to and realising they actually got well good looking\"\n        ],\n        \"semantic_type\": \"\",\n        \"description\": \"\"\n      }\n    }\n  ]\n}"
            }
          },
          "metadata": {},
          "execution_count": 6
        }
      ]
    },
    {
      "cell_type": "markdown",
      "source": [
        "## Replace emojis with text descriptions in the 'Tweets' column"
      ],
      "metadata": {
        "id": "juvEIuJLkyW5"
      }
    },
    {
      "cell_type": "code",
      "source": [
        "!pip install emoji\n",
        "\n",
        "import pandas as pd\n",
        "import emoji\n",
        "\n",
        "def replace_emojis(text):\n",
        "    return emoji.demojize(text, delimiters=(\"\", \"\"))\n",
        "\n",
        "# Load the dataset\n",
        "df = pd.read_csv('Clean_Dataset.csv')\n",
        "\n",
        "# Apply the replace_emojis function to the 'Tweets' column\n",
        "df['Tweets'] = df['Tweets'].apply(replace_emojis)\n",
        "\n",
        "# Save the cleaned dataset\n",
        "df.to_csv('Clean_Dataset.csv', index=False)\n",
        "\n",
        "# Print the first few rows of the dataframe\n",
        "print(df.head())\n"
      ],
      "metadata": {
        "colab": {
          "base_uri": "https://localhost:8080/"
        },
        "id": "neC9ZGGVkIc4",
        "outputId": "77472477-e70b-4358-fdbb-4dd8e42e5f05"
      },
      "execution_count": 7,
      "outputs": [
        {
          "output_type": "stream",
          "name": "stdout",
          "text": [
            "Collecting emoji\n",
            "  Downloading emoji-2.12.1-py3-none-any.whl (431 kB)\n",
            "\u001b[2K     \u001b[90m━━━━━━━━━━━━━━━━━━━━━━━━━━━━━━━━━━━━━━━━\u001b[0m \u001b[32m431.4/431.4 kB\u001b[0m \u001b[31m11.5 MB/s\u001b[0m eta \u001b[36m0:00:00\u001b[0m\n",
            "\u001b[?25hRequirement already satisfied: typing-extensions>=4.7.0 in /usr/local/lib/python3.10/dist-packages (from emoji) (4.12.2)\n",
            "Installing collected packages: emoji\n",
            "Successfully installed emoji-2.12.1\n",
            "   Label                                             Tweets\n",
            "0      1  I loovee when people text back ... unamused_fa...\n",
            "1      1  Don't you love it when your parents are Pissed...\n",
            "2      1      So many useless classes , great to be student\n",
            "3      1  Oh how I love getting home from work at 3am an...\n",
            "4      1  I just love having grungy ass hair expressionl...\n"
          ]
        }
      ]
    },
    {
      "cell_type": "markdown",
      "source": [
        "## Remove '#' with its following text from tweets"
      ],
      "metadata": {
        "id": "U1RuTKOQlWtI"
      }
    },
    {
      "cell_type": "code",
      "source": [
        "df = pd.read_csv('Clean_Dataset.csv')\n",
        "\n",
        "# Remove '#' with its following text from tweets\n",
        "df['Tweets'] = df['Tweets'].str.replace(r'#\\w+', '', regex=True)\n",
        "\n",
        "df.to_csv('Clean_Dataset.csv', index=False)"
      ],
      "metadata": {
        "id": "vALaI4J8kIaS"
      },
      "execution_count": 8,
      "outputs": []
    },
    {
      "cell_type": "markdown",
      "source": [
        "## Replace abbreviations with their expansions"
      ],
      "metadata": {
        "id": "4KQS2gfwlb5R"
      }
    },
    {
      "cell_type": "code",
      "source": [
        "# Define a dictionary of abbreviations and their expansions\n",
        "abbreviations = {\n",
        "    'lol': 'laugh out loud',\n",
        "    'brb': 'be right back',\n",
        "    'btw': 'by the way',\n",
        "    'omg': 'oh my god',\n",
        "    'tbh': 'to be honest',\n",
        "    'fyi': 'for your information',\n",
        "    'idk': 'I don\\'t know',\n",
        "    'imo': 'in my opinion',\n",
        "    'imho': 'in my humble opinion',\n",
        "    'np': 'no problem',\n",
        "    'tmi': 'too much information',\n",
        "    'smh': 'shake my head',\n",
        "    'irl': 'in real life',\n",
        "    'afk': 'away from keyboard',\n",
        "    'fomo': 'fear of missing out',\n",
        "    'imo': 'in my opinion',\n",
        "    'irl': 'in real life',\n",
        "    'omw': 'on my way',\n",
        "    'rofl': 'rolling on the floor laughing',\n",
        "    'afaik': 'as far as I know',\n",
        "    'gg': 'good game',\n",
        "    'ggwp': 'good game, well played',\n",
        "    'icymi': 'in case you missed it',\n",
        "    'nvm': 'never mind',\n",
        "    'ttyl': 'talk to you later',\n",
        "    'ftw': 'for the win',\n",
        "    'smh': 'shaking my head',\n",
        "}\n",
        "\n",
        "# Function to replace abbreviations with their expansions\n",
        "def replace_abbreviations(text):\n",
        "    for word in text.split():\n",
        "        if word.lower() in abbreviations:\n",
        "            text = text.replace(word, abbreviations[word.lower()])\n",
        "    return text\n",
        "\n",
        "df = pd.read_csv('Clean_Dataset.csv')\n",
        "df['Tweets'] = df['Tweets'].apply(replace_abbreviations)\n",
        "df.to_csv('Clean_Dataset.csv', index=False)"
      ],
      "metadata": {
        "id": "aNg9uKhYkIXr"
      },
      "execution_count": 9,
      "outputs": []
    },
    {
      "cell_type": "markdown",
      "source": [
        "## Removing Special Characters from Tweets and Saving to CSV"
      ],
      "metadata": {
        "id": "rodL7R_blico"
      }
    },
    {
      "cell_type": "code",
      "source": [
        "df = pd.read_csv('Clean_Dataset.csv')\n",
        "df['Tweets'] = df['Tweets'].str.replace('#', '')\n",
        "df['Tweets'] = df['Tweets'].str.replace('\"', '')\n",
        "df['Tweets'] = df['Tweets'].str.replace(':', '')\n",
        "df['Tweets'] = df['Tweets'].str.replace(':', '')\n",
        "df['Tweets'] = df['Tweets'].str.replace('?', '')\n",
        "df['Tweets'] = df['Tweets'].str.replace('*', '')\n",
        "df['Tweets'] = df['Tweets'].str.replace('<', '')\n",
        "df['Tweets'] = df['Tweets'].str.replace('...', '')\n",
        "df['Tweets'] = df['Tweets'].str.replace('/', '')\n",
        "df['Tweets'] = df['Tweets'].str.replace('@', '')\n",
        "df['Tweets'] = df['Tweets'].str.replace('~', '')\n",
        "df['Tweets'] = df['Tweets'].str.replace('!', '')\n",
        "df['Tweets'] = df['Tweets'].str.replace('>', '')\n",
        "df['Tweets'] = df['Tweets'].str.replace('-', '')\n",
        "df['Tweets'] = df['Tweets'].str.replace(')', '')\n",
        "df['Tweets'] = df['Tweets'].str.replace('(', '')\n",
        "df['Tweets'] = df['Tweets'].str.replace('3', '')\n",
        "df.to_csv('Clean_Dataset.csv', index=False)"
      ],
      "metadata": {
        "id": "5AvgZtypkIVS"
      },
      "execution_count": 10,
      "outputs": []
    },
    {
      "cell_type": "markdown",
      "source": [
        "## Replace 1 with 'sarcastic' and 0 with 'not sarcastic' in the 'Label' column"
      ],
      "metadata": {
        "id": "j6HeJpZ5lo8p"
      }
    },
    {
      "cell_type": "code",
      "source": [
        "df = pd.read_csv('Clean_Dataset.csv')\n",
        "\n",
        "# Replace 1 with 'sarcastic' and 0 with 'not sarcastic' in the 'Label' column\n",
        "df['Label'] = df['Label'].replace({1: 'sarcastic', 0: 'not sarcastic'})\n",
        "\n",
        "df.to_csv('Clean_Dataset.csv', index=False)"
      ],
      "metadata": {
        "id": "twbnylTxkISr"
      },
      "execution_count": 11,
      "outputs": []
    },
    {
      "cell_type": "code",
      "source": [
        "df.head()"
      ],
      "metadata": {
        "colab": {
          "base_uri": "https://localhost:8080/",
          "height": 206
        },
        "id": "tb7oqWEMkIQM",
        "outputId": "ef84fa5c-b92d-48eb-8cff-95f9f3e6ec8f"
      },
      "execution_count": 12,
      "outputs": [
        {
          "output_type": "execute_result",
          "data": {
            "text/plain": [
              "       Label                                             Tweets\n",
              "0  sarcastic     I loovee when people text back  unamused_face \n",
              "1  sarcastic  Don't you love it when your parents are Pissed...\n",
              "2  sarcastic      So many useless classes , great to be student\n",
              "3  sarcastic  Oh how I love getting home from work at am and...\n",
              "4  sarcastic  I just love having grungy ass hair expressionl..."
            ],
            "text/html": [
              "\n",
              "  <div id=\"df-2a204836-c858-44aa-98de-b20b99f18f66\" class=\"colab-df-container\">\n",
              "    <div>\n",
              "<style scoped>\n",
              "    .dataframe tbody tr th:only-of-type {\n",
              "        vertical-align: middle;\n",
              "    }\n",
              "\n",
              "    .dataframe tbody tr th {\n",
              "        vertical-align: top;\n",
              "    }\n",
              "\n",
              "    .dataframe thead th {\n",
              "        text-align: right;\n",
              "    }\n",
              "</style>\n",
              "<table border=\"1\" class=\"dataframe\">\n",
              "  <thead>\n",
              "    <tr style=\"text-align: right;\">\n",
              "      <th></th>\n",
              "      <th>Label</th>\n",
              "      <th>Tweets</th>\n",
              "    </tr>\n",
              "  </thead>\n",
              "  <tbody>\n",
              "    <tr>\n",
              "      <th>0</th>\n",
              "      <td>sarcastic</td>\n",
              "      <td>I loovee when people text back  unamused_face</td>\n",
              "    </tr>\n",
              "    <tr>\n",
              "      <th>1</th>\n",
              "      <td>sarcastic</td>\n",
              "      <td>Don't you love it when your parents are Pissed...</td>\n",
              "    </tr>\n",
              "    <tr>\n",
              "      <th>2</th>\n",
              "      <td>sarcastic</td>\n",
              "      <td>So many useless classes , great to be student</td>\n",
              "    </tr>\n",
              "    <tr>\n",
              "      <th>3</th>\n",
              "      <td>sarcastic</td>\n",
              "      <td>Oh how I love getting home from work at am and...</td>\n",
              "    </tr>\n",
              "    <tr>\n",
              "      <th>4</th>\n",
              "      <td>sarcastic</td>\n",
              "      <td>I just love having grungy ass hair expressionl...</td>\n",
              "    </tr>\n",
              "  </tbody>\n",
              "</table>\n",
              "</div>\n",
              "    <div class=\"colab-df-buttons\">\n",
              "\n",
              "  <div class=\"colab-df-container\">\n",
              "    <button class=\"colab-df-convert\" onclick=\"convertToInteractive('df-2a204836-c858-44aa-98de-b20b99f18f66')\"\n",
              "            title=\"Convert this dataframe to an interactive table.\"\n",
              "            style=\"display:none;\">\n",
              "\n",
              "  <svg xmlns=\"http://www.w3.org/2000/svg\" height=\"24px\" viewBox=\"0 -960 960 960\">\n",
              "    <path d=\"M120-120v-720h720v720H120Zm60-500h600v-160H180v160Zm220 220h160v-160H400v160Zm0 220h160v-160H400v160ZM180-400h160v-160H180v160Zm440 0h160v-160H620v160ZM180-180h160v-160H180v160Zm440 0h160v-160H620v160Z\"/>\n",
              "  </svg>\n",
              "    </button>\n",
              "\n",
              "  <style>\n",
              "    .colab-df-container {\n",
              "      display:flex;\n",
              "      gap: 12px;\n",
              "    }\n",
              "\n",
              "    .colab-df-convert {\n",
              "      background-color: #E8F0FE;\n",
              "      border: none;\n",
              "      border-radius: 50%;\n",
              "      cursor: pointer;\n",
              "      display: none;\n",
              "      fill: #1967D2;\n",
              "      height: 32px;\n",
              "      padding: 0 0 0 0;\n",
              "      width: 32px;\n",
              "    }\n",
              "\n",
              "    .colab-df-convert:hover {\n",
              "      background-color: #E2EBFA;\n",
              "      box-shadow: 0px 1px 2px rgba(60, 64, 67, 0.3), 0px 1px 3px 1px rgba(60, 64, 67, 0.15);\n",
              "      fill: #174EA6;\n",
              "    }\n",
              "\n",
              "    .colab-df-buttons div {\n",
              "      margin-bottom: 4px;\n",
              "    }\n",
              "\n",
              "    [theme=dark] .colab-df-convert {\n",
              "      background-color: #3B4455;\n",
              "      fill: #D2E3FC;\n",
              "    }\n",
              "\n",
              "    [theme=dark] .colab-df-convert:hover {\n",
              "      background-color: #434B5C;\n",
              "      box-shadow: 0px 1px 3px 1px rgba(0, 0, 0, 0.15);\n",
              "      filter: drop-shadow(0px 1px 2px rgba(0, 0, 0, 0.3));\n",
              "      fill: #FFFFFF;\n",
              "    }\n",
              "  </style>\n",
              "\n",
              "    <script>\n",
              "      const buttonEl =\n",
              "        document.querySelector('#df-2a204836-c858-44aa-98de-b20b99f18f66 button.colab-df-convert');\n",
              "      buttonEl.style.display =\n",
              "        google.colab.kernel.accessAllowed ? 'block' : 'none';\n",
              "\n",
              "      async function convertToInteractive(key) {\n",
              "        const element = document.querySelector('#df-2a204836-c858-44aa-98de-b20b99f18f66');\n",
              "        const dataTable =\n",
              "          await google.colab.kernel.invokeFunction('convertToInteractive',\n",
              "                                                    [key], {});\n",
              "        if (!dataTable) return;\n",
              "\n",
              "        const docLinkHtml = 'Like what you see? Visit the ' +\n",
              "          '<a target=\"_blank\" href=https://colab.research.google.com/notebooks/data_table.ipynb>data table notebook</a>'\n",
              "          + ' to learn more about interactive tables.';\n",
              "        element.innerHTML = '';\n",
              "        dataTable['output_type'] = 'display_data';\n",
              "        await google.colab.output.renderOutput(dataTable, element);\n",
              "        const docLink = document.createElement('div');\n",
              "        docLink.innerHTML = docLinkHtml;\n",
              "        element.appendChild(docLink);\n",
              "      }\n",
              "    </script>\n",
              "  </div>\n",
              "\n",
              "\n",
              "<div id=\"df-80eb33e6-8fbc-4b58-a073-f22928fb2585\">\n",
              "  <button class=\"colab-df-quickchart\" onclick=\"quickchart('df-80eb33e6-8fbc-4b58-a073-f22928fb2585')\"\n",
              "            title=\"Suggest charts\"\n",
              "            style=\"display:none;\">\n",
              "\n",
              "<svg xmlns=\"http://www.w3.org/2000/svg\" height=\"24px\"viewBox=\"0 0 24 24\"\n",
              "     width=\"24px\">\n",
              "    <g>\n",
              "        <path d=\"M19 3H5c-1.1 0-2 .9-2 2v14c0 1.1.9 2 2 2h14c1.1 0 2-.9 2-2V5c0-1.1-.9-2-2-2zM9 17H7v-7h2v7zm4 0h-2V7h2v10zm4 0h-2v-4h2v4z\"/>\n",
              "    </g>\n",
              "</svg>\n",
              "  </button>\n",
              "\n",
              "<style>\n",
              "  .colab-df-quickchart {\n",
              "      --bg-color: #E8F0FE;\n",
              "      --fill-color: #1967D2;\n",
              "      --hover-bg-color: #E2EBFA;\n",
              "      --hover-fill-color: #174EA6;\n",
              "      --disabled-fill-color: #AAA;\n",
              "      --disabled-bg-color: #DDD;\n",
              "  }\n",
              "\n",
              "  [theme=dark] .colab-df-quickchart {\n",
              "      --bg-color: #3B4455;\n",
              "      --fill-color: #D2E3FC;\n",
              "      --hover-bg-color: #434B5C;\n",
              "      --hover-fill-color: #FFFFFF;\n",
              "      --disabled-bg-color: #3B4455;\n",
              "      --disabled-fill-color: #666;\n",
              "  }\n",
              "\n",
              "  .colab-df-quickchart {\n",
              "    background-color: var(--bg-color);\n",
              "    border: none;\n",
              "    border-radius: 50%;\n",
              "    cursor: pointer;\n",
              "    display: none;\n",
              "    fill: var(--fill-color);\n",
              "    height: 32px;\n",
              "    padding: 0;\n",
              "    width: 32px;\n",
              "  }\n",
              "\n",
              "  .colab-df-quickchart:hover {\n",
              "    background-color: var(--hover-bg-color);\n",
              "    box-shadow: 0 1px 2px rgba(60, 64, 67, 0.3), 0 1px 3px 1px rgba(60, 64, 67, 0.15);\n",
              "    fill: var(--button-hover-fill-color);\n",
              "  }\n",
              "\n",
              "  .colab-df-quickchart-complete:disabled,\n",
              "  .colab-df-quickchart-complete:disabled:hover {\n",
              "    background-color: var(--disabled-bg-color);\n",
              "    fill: var(--disabled-fill-color);\n",
              "    box-shadow: none;\n",
              "  }\n",
              "\n",
              "  .colab-df-spinner {\n",
              "    border: 2px solid var(--fill-color);\n",
              "    border-color: transparent;\n",
              "    border-bottom-color: var(--fill-color);\n",
              "    animation:\n",
              "      spin 1s steps(1) infinite;\n",
              "  }\n",
              "\n",
              "  @keyframes spin {\n",
              "    0% {\n",
              "      border-color: transparent;\n",
              "      border-bottom-color: var(--fill-color);\n",
              "      border-left-color: var(--fill-color);\n",
              "    }\n",
              "    20% {\n",
              "      border-color: transparent;\n",
              "      border-left-color: var(--fill-color);\n",
              "      border-top-color: var(--fill-color);\n",
              "    }\n",
              "    30% {\n",
              "      border-color: transparent;\n",
              "      border-left-color: var(--fill-color);\n",
              "      border-top-color: var(--fill-color);\n",
              "      border-right-color: var(--fill-color);\n",
              "    }\n",
              "    40% {\n",
              "      border-color: transparent;\n",
              "      border-right-color: var(--fill-color);\n",
              "      border-top-color: var(--fill-color);\n",
              "    }\n",
              "    60% {\n",
              "      border-color: transparent;\n",
              "      border-right-color: var(--fill-color);\n",
              "    }\n",
              "    80% {\n",
              "      border-color: transparent;\n",
              "      border-right-color: var(--fill-color);\n",
              "      border-bottom-color: var(--fill-color);\n",
              "    }\n",
              "    90% {\n",
              "      border-color: transparent;\n",
              "      border-bottom-color: var(--fill-color);\n",
              "    }\n",
              "  }\n",
              "</style>\n",
              "\n",
              "  <script>\n",
              "    async function quickchart(key) {\n",
              "      const quickchartButtonEl =\n",
              "        document.querySelector('#' + key + ' button');\n",
              "      quickchartButtonEl.disabled = true;  // To prevent multiple clicks.\n",
              "      quickchartButtonEl.classList.add('colab-df-spinner');\n",
              "      try {\n",
              "        const charts = await google.colab.kernel.invokeFunction(\n",
              "            'suggestCharts', [key], {});\n",
              "      } catch (error) {\n",
              "        console.error('Error during call to suggestCharts:', error);\n",
              "      }\n",
              "      quickchartButtonEl.classList.remove('colab-df-spinner');\n",
              "      quickchartButtonEl.classList.add('colab-df-quickchart-complete');\n",
              "    }\n",
              "    (() => {\n",
              "      let quickchartButtonEl =\n",
              "        document.querySelector('#df-80eb33e6-8fbc-4b58-a073-f22928fb2585 button');\n",
              "      quickchartButtonEl.style.display =\n",
              "        google.colab.kernel.accessAllowed ? 'block' : 'none';\n",
              "    })();\n",
              "  </script>\n",
              "</div>\n",
              "\n",
              "    </div>\n",
              "  </div>\n"
            ],
            "application/vnd.google.colaboratory.intrinsic+json": {
              "type": "dataframe",
              "variable_name": "df",
              "summary": "{\n  \"name\": \"df\",\n  \"rows\": 1975,\n  \"fields\": [\n    {\n      \"column\": \"Label\",\n      \"properties\": {\n        \"dtype\": \"category\",\n        \"num_unique_values\": 2,\n        \"samples\": [\n          \"not sarcastic\",\n          \"sarcastic\"\n        ],\n        \"semantic_type\": \"\",\n        \"description\": \"\"\n      }\n    },\n    {\n      \"column\": \"Tweets\",\n      \"properties\": {\n        \"dtype\": \"string\",\n        \"num_unique_values\": 1975,\n        \"samples\": [\n          \"So cool to hear Dr . Gerald Rubin speak at our   wish could be here  microscope\",\n          \"So annoying seeing people u used to speak to and realising they actually got well good looking\"\n        ],\n        \"semantic_type\": \"\",\n        \"description\": \"\"\n      }\n    }\n  ]\n}"
            }
          },
          "metadata": {},
          "execution_count": 12
        }
      ]
    },
    {
      "cell_type": "code",
      "source": [
        "df.dtypes"
      ],
      "metadata": {
        "colab": {
          "base_uri": "https://localhost:8080/"
        },
        "id": "_NJvu14MkIN5",
        "outputId": "4483445d-7a5a-4322-96b5-e2373e174d88"
      },
      "execution_count": 13,
      "outputs": [
        {
          "output_type": "execute_result",
          "data": {
            "text/plain": [
              "Label     object\n",
              "Tweets    object\n",
              "dtype: object"
            ]
          },
          "metadata": {},
          "execution_count": 13
        }
      ]
    },
    {
      "cell_type": "markdown",
      "source": [
        "## Remove URLs from the 'Tweets' column"
      ],
      "metadata": {
        "id": "6M08TuJhlznE"
      }
    },
    {
      "cell_type": "code",
      "source": [
        "df = pd.read_csv('Clean_Dataset.csv')\n",
        "\n",
        "# Remove URLs from the 'Tweets' column\n",
        "df['Tweets'] = df['Tweets'].str.replace(r'https?://\\S+|www\\.\\S+', '', regex=True)\n",
        "\n",
        "df.to_csv('Clean_Dataset.csv', index=False)"
      ],
      "metadata": {
        "id": "FAy6rf69kILX"
      },
      "execution_count": 14,
      "outputs": []
    },
    {
      "cell_type": "markdown",
      "source": [
        "## Merge two dataset"
      ],
      "metadata": {
        "id": "Hx83JDJ0l9GM"
      }
    },
    {
      "cell_type": "code",
      "source": [
        "df1 = pd.read_csv(\"fd1.csv\")\n",
        "df2 = pd.read_csv('Clean_Dataset.csv')\n",
        "\n",
        "df1 = df1.rename(columns={\"sarcsam\": \"Sarcasm\", \"tweet\": \"Tweet\"})\n",
        "df2 = df2.rename(columns={\"Label\": \"Sarcasm\", \"Tweets\": \"Tweet\"})\n",
        "\n",
        "df1['Sarcasm'] = df1['Sarcasm'].replace({'sarcastic': 'yes', 'non sarcastic': 'no', 'not sarcastic': 'no'})\n",
        "merged_df = pd.concat([df1[['Tweet', 'Sarcasm']], df2[['Tweet', 'Sarcasm']]], ignore_index=True)\n",
        "\n",
        "merged_df.to_csv('Merge.csv', index=False)\n"
      ],
      "metadata": {
        "id": "Bmo6HpK7kIIu"
      },
      "execution_count": 16,
      "outputs": []
    },
    {
      "cell_type": "code",
      "source": [
        "merged_df.head()"
      ],
      "metadata": {
        "colab": {
          "base_uri": "https://localhost:8080/",
          "height": 206
        },
        "id": "OUk2V6X6kIGX",
        "outputId": "e6cbf53d-1d2d-416e-cca0-7bf2876770c5"
      },
      "execution_count": 17,
      "outputs": [
        {
          "output_type": "execute_result",
          "data": {
            "text/plain": [
              "                                               Tweet Sarcasm\n",
              "0  Fantastic service yet again from EE. 1st you u...     yes\n",
              "1  Not sure if that was or. I will take it! face_...     yes\n",
              "2         Barely 9 am and already shaking with rage.     yes\n",
              "3  I guess that proves it then. Black folks have ...     yes\n",
              "4                         Does this tweet need a tag     yes"
            ],
            "text/html": [
              "\n",
              "  <div id=\"df-98c3ac70-b238-4f32-a94a-bbb3730a26fa\" class=\"colab-df-container\">\n",
              "    <div>\n",
              "<style scoped>\n",
              "    .dataframe tbody tr th:only-of-type {\n",
              "        vertical-align: middle;\n",
              "    }\n",
              "\n",
              "    .dataframe tbody tr th {\n",
              "        vertical-align: top;\n",
              "    }\n",
              "\n",
              "    .dataframe thead th {\n",
              "        text-align: right;\n",
              "    }\n",
              "</style>\n",
              "<table border=\"1\" class=\"dataframe\">\n",
              "  <thead>\n",
              "    <tr style=\"text-align: right;\">\n",
              "      <th></th>\n",
              "      <th>Tweet</th>\n",
              "      <th>Sarcasm</th>\n",
              "    </tr>\n",
              "  </thead>\n",
              "  <tbody>\n",
              "    <tr>\n",
              "      <th>0</th>\n",
              "      <td>Fantastic service yet again from EE. 1st you u...</td>\n",
              "      <td>yes</td>\n",
              "    </tr>\n",
              "    <tr>\n",
              "      <th>1</th>\n",
              "      <td>Not sure if that was or. I will take it! face_...</td>\n",
              "      <td>yes</td>\n",
              "    </tr>\n",
              "    <tr>\n",
              "      <th>2</th>\n",
              "      <td>Barely 9 am and already shaking with rage.</td>\n",
              "      <td>yes</td>\n",
              "    </tr>\n",
              "    <tr>\n",
              "      <th>3</th>\n",
              "      <td>I guess that proves it then. Black folks have ...</td>\n",
              "      <td>yes</td>\n",
              "    </tr>\n",
              "    <tr>\n",
              "      <th>4</th>\n",
              "      <td>Does this tweet need a tag</td>\n",
              "      <td>yes</td>\n",
              "    </tr>\n",
              "  </tbody>\n",
              "</table>\n",
              "</div>\n",
              "    <div class=\"colab-df-buttons\">\n",
              "\n",
              "  <div class=\"colab-df-container\">\n",
              "    <button class=\"colab-df-convert\" onclick=\"convertToInteractive('df-98c3ac70-b238-4f32-a94a-bbb3730a26fa')\"\n",
              "            title=\"Convert this dataframe to an interactive table.\"\n",
              "            style=\"display:none;\">\n",
              "\n",
              "  <svg xmlns=\"http://www.w3.org/2000/svg\" height=\"24px\" viewBox=\"0 -960 960 960\">\n",
              "    <path d=\"M120-120v-720h720v720H120Zm60-500h600v-160H180v160Zm220 220h160v-160H400v160Zm0 220h160v-160H400v160ZM180-400h160v-160H180v160Zm440 0h160v-160H620v160ZM180-180h160v-160H180v160Zm440 0h160v-160H620v160Z\"/>\n",
              "  </svg>\n",
              "    </button>\n",
              "\n",
              "  <style>\n",
              "    .colab-df-container {\n",
              "      display:flex;\n",
              "      gap: 12px;\n",
              "    }\n",
              "\n",
              "    .colab-df-convert {\n",
              "      background-color: #E8F0FE;\n",
              "      border: none;\n",
              "      border-radius: 50%;\n",
              "      cursor: pointer;\n",
              "      display: none;\n",
              "      fill: #1967D2;\n",
              "      height: 32px;\n",
              "      padding: 0 0 0 0;\n",
              "      width: 32px;\n",
              "    }\n",
              "\n",
              "    .colab-df-convert:hover {\n",
              "      background-color: #E2EBFA;\n",
              "      box-shadow: 0px 1px 2px rgba(60, 64, 67, 0.3), 0px 1px 3px 1px rgba(60, 64, 67, 0.15);\n",
              "      fill: #174EA6;\n",
              "    }\n",
              "\n",
              "    .colab-df-buttons div {\n",
              "      margin-bottom: 4px;\n",
              "    }\n",
              "\n",
              "    [theme=dark] .colab-df-convert {\n",
              "      background-color: #3B4455;\n",
              "      fill: #D2E3FC;\n",
              "    }\n",
              "\n",
              "    [theme=dark] .colab-df-convert:hover {\n",
              "      background-color: #434B5C;\n",
              "      box-shadow: 0px 1px 3px 1px rgba(0, 0, 0, 0.15);\n",
              "      filter: drop-shadow(0px 1px 2px rgba(0, 0, 0, 0.3));\n",
              "      fill: #FFFFFF;\n",
              "    }\n",
              "  </style>\n",
              "\n",
              "    <script>\n",
              "      const buttonEl =\n",
              "        document.querySelector('#df-98c3ac70-b238-4f32-a94a-bbb3730a26fa button.colab-df-convert');\n",
              "      buttonEl.style.display =\n",
              "        google.colab.kernel.accessAllowed ? 'block' : 'none';\n",
              "\n",
              "      async function convertToInteractive(key) {\n",
              "        const element = document.querySelector('#df-98c3ac70-b238-4f32-a94a-bbb3730a26fa');\n",
              "        const dataTable =\n",
              "          await google.colab.kernel.invokeFunction('convertToInteractive',\n",
              "                                                    [key], {});\n",
              "        if (!dataTable) return;\n",
              "\n",
              "        const docLinkHtml = 'Like what you see? Visit the ' +\n",
              "          '<a target=\"_blank\" href=https://colab.research.google.com/notebooks/data_table.ipynb>data table notebook</a>'\n",
              "          + ' to learn more about interactive tables.';\n",
              "        element.innerHTML = '';\n",
              "        dataTable['output_type'] = 'display_data';\n",
              "        await google.colab.output.renderOutput(dataTable, element);\n",
              "        const docLink = document.createElement('div');\n",
              "        docLink.innerHTML = docLinkHtml;\n",
              "        element.appendChild(docLink);\n",
              "      }\n",
              "    </script>\n",
              "  </div>\n",
              "\n",
              "\n",
              "<div id=\"df-18d1b214-ff0b-42c3-9707-5153caeb0bd1\">\n",
              "  <button class=\"colab-df-quickchart\" onclick=\"quickchart('df-18d1b214-ff0b-42c3-9707-5153caeb0bd1')\"\n",
              "            title=\"Suggest charts\"\n",
              "            style=\"display:none;\">\n",
              "\n",
              "<svg xmlns=\"http://www.w3.org/2000/svg\" height=\"24px\"viewBox=\"0 0 24 24\"\n",
              "     width=\"24px\">\n",
              "    <g>\n",
              "        <path d=\"M19 3H5c-1.1 0-2 .9-2 2v14c0 1.1.9 2 2 2h14c1.1 0 2-.9 2-2V5c0-1.1-.9-2-2-2zM9 17H7v-7h2v7zm4 0h-2V7h2v10zm4 0h-2v-4h2v4z\"/>\n",
              "    </g>\n",
              "</svg>\n",
              "  </button>\n",
              "\n",
              "<style>\n",
              "  .colab-df-quickchart {\n",
              "      --bg-color: #E8F0FE;\n",
              "      --fill-color: #1967D2;\n",
              "      --hover-bg-color: #E2EBFA;\n",
              "      --hover-fill-color: #174EA6;\n",
              "      --disabled-fill-color: #AAA;\n",
              "      --disabled-bg-color: #DDD;\n",
              "  }\n",
              "\n",
              "  [theme=dark] .colab-df-quickchart {\n",
              "      --bg-color: #3B4455;\n",
              "      --fill-color: #D2E3FC;\n",
              "      --hover-bg-color: #434B5C;\n",
              "      --hover-fill-color: #FFFFFF;\n",
              "      --disabled-bg-color: #3B4455;\n",
              "      --disabled-fill-color: #666;\n",
              "  }\n",
              "\n",
              "  .colab-df-quickchart {\n",
              "    background-color: var(--bg-color);\n",
              "    border: none;\n",
              "    border-radius: 50%;\n",
              "    cursor: pointer;\n",
              "    display: none;\n",
              "    fill: var(--fill-color);\n",
              "    height: 32px;\n",
              "    padding: 0;\n",
              "    width: 32px;\n",
              "  }\n",
              "\n",
              "  .colab-df-quickchart:hover {\n",
              "    background-color: var(--hover-bg-color);\n",
              "    box-shadow: 0 1px 2px rgba(60, 64, 67, 0.3), 0 1px 3px 1px rgba(60, 64, 67, 0.15);\n",
              "    fill: var(--button-hover-fill-color);\n",
              "  }\n",
              "\n",
              "  .colab-df-quickchart-complete:disabled,\n",
              "  .colab-df-quickchart-complete:disabled:hover {\n",
              "    background-color: var(--disabled-bg-color);\n",
              "    fill: var(--disabled-fill-color);\n",
              "    box-shadow: none;\n",
              "  }\n",
              "\n",
              "  .colab-df-spinner {\n",
              "    border: 2px solid var(--fill-color);\n",
              "    border-color: transparent;\n",
              "    border-bottom-color: var(--fill-color);\n",
              "    animation:\n",
              "      spin 1s steps(1) infinite;\n",
              "  }\n",
              "\n",
              "  @keyframes spin {\n",
              "    0% {\n",
              "      border-color: transparent;\n",
              "      border-bottom-color: var(--fill-color);\n",
              "      border-left-color: var(--fill-color);\n",
              "    }\n",
              "    20% {\n",
              "      border-color: transparent;\n",
              "      border-left-color: var(--fill-color);\n",
              "      border-top-color: var(--fill-color);\n",
              "    }\n",
              "    30% {\n",
              "      border-color: transparent;\n",
              "      border-left-color: var(--fill-color);\n",
              "      border-top-color: var(--fill-color);\n",
              "      border-right-color: var(--fill-color);\n",
              "    }\n",
              "    40% {\n",
              "      border-color: transparent;\n",
              "      border-right-color: var(--fill-color);\n",
              "      border-top-color: var(--fill-color);\n",
              "    }\n",
              "    60% {\n",
              "      border-color: transparent;\n",
              "      border-right-color: var(--fill-color);\n",
              "    }\n",
              "    80% {\n",
              "      border-color: transparent;\n",
              "      border-right-color: var(--fill-color);\n",
              "      border-bottom-color: var(--fill-color);\n",
              "    }\n",
              "    90% {\n",
              "      border-color: transparent;\n",
              "      border-bottom-color: var(--fill-color);\n",
              "    }\n",
              "  }\n",
              "</style>\n",
              "\n",
              "  <script>\n",
              "    async function quickchart(key) {\n",
              "      const quickchartButtonEl =\n",
              "        document.querySelector('#' + key + ' button');\n",
              "      quickchartButtonEl.disabled = true;  // To prevent multiple clicks.\n",
              "      quickchartButtonEl.classList.add('colab-df-spinner');\n",
              "      try {\n",
              "        const charts = await google.colab.kernel.invokeFunction(\n",
              "            'suggestCharts', [key], {});\n",
              "      } catch (error) {\n",
              "        console.error('Error during call to suggestCharts:', error);\n",
              "      }\n",
              "      quickchartButtonEl.classList.remove('colab-df-spinner');\n",
              "      quickchartButtonEl.classList.add('colab-df-quickchart-complete');\n",
              "    }\n",
              "    (() => {\n",
              "      let quickchartButtonEl =\n",
              "        document.querySelector('#df-18d1b214-ff0b-42c3-9707-5153caeb0bd1 button');\n",
              "      quickchartButtonEl.style.display =\n",
              "        google.colab.kernel.accessAllowed ? 'block' : 'none';\n",
              "    })();\n",
              "  </script>\n",
              "</div>\n",
              "\n",
              "    </div>\n",
              "  </div>\n"
            ],
            "application/vnd.google.colaboratory.intrinsic+json": {
              "type": "dataframe",
              "variable_name": "merged_df",
              "summary": "{\n  \"name\": \"merged_df\",\n  \"rows\": 2981,\n  \"fields\": [\n    {\n      \"column\": \"Tweet\",\n      \"properties\": {\n        \"dtype\": \"string\",\n        \"num_unique_values\": 2980,\n        \"samples\": [\n          \"if the other girls in my grade try to talk to him , ill cut off their tongues so they lose the ability to speak \",\n          \"trisler I'm still on the ground \",\n          \"Want to create more  and meaning in your day Surround yourself with truth and beauty!\"\n        ],\n        \"semantic_type\": \"\",\n        \"description\": \"\"\n      }\n    },\n    {\n      \"column\": \"Sarcasm\",\n      \"properties\": {\n        \"dtype\": \"category\",\n        \"num_unique_values\": 4,\n        \"samples\": [\n          \"no\",\n          \"not sarcastic\",\n          \"yes\"\n        ],\n        \"semantic_type\": \"\",\n        \"description\": \"\"\n      }\n    }\n  ]\n}"
            }
          },
          "metadata": {},
          "execution_count": 17
        }
      ]
    },
    {
      "cell_type": "markdown",
      "source": [
        "## Check for Duplicated"
      ],
      "metadata": {
        "id": "MEfxNgnDmSHn"
      }
    },
    {
      "cell_type": "code",
      "source": [
        "df.duplicated().sum()"
      ],
      "metadata": {
        "colab": {
          "base_uri": "https://localhost:8080/"
        },
        "id": "T52wE5F6kIEL",
        "outputId": "f1dae63e-1ac1-46e6-8d5c-35e8919ee4b4"
      },
      "execution_count": 18,
      "outputs": [
        {
          "output_type": "execute_result",
          "data": {
            "text/plain": [
              "0"
            ]
          },
          "metadata": {},
          "execution_count": 18
        }
      ]
    },
    {
      "cell_type": "markdown",
      "source": [
        "## Check for Null value"
      ],
      "metadata": {
        "id": "bDzxSReumdgF"
      }
    },
    {
      "cell_type": "code",
      "source": [
        "df.isnull().sum()"
      ],
      "metadata": {
        "colab": {
          "base_uri": "https://localhost:8080/"
        },
        "id": "sIex1nV9kIBq",
        "outputId": "bdaaf731-e742-4b7a-b639-3aeddb306b98"
      },
      "execution_count": 19,
      "outputs": [
        {
          "output_type": "execute_result",
          "data": {
            "text/plain": [
              "Label     0\n",
              "Tweets    0\n",
              "dtype: int64"
            ]
          },
          "metadata": {},
          "execution_count": 19
        }
      ]
    },
    {
      "cell_type": "markdown",
      "source": [
        "## Word Tokenization"
      ],
      "metadata": {
        "id": "NWvdtSDDmkiW"
      }
    },
    {
      "cell_type": "code",
      "source": [
        "tokenizer = TweetTokenizer()\n",
        "\n",
        "def tokenize_text(Tweets):\n",
        "    return tokenizer.tokenize(Tweets)\n",
        "\n",
        "df = pd.read_csv('Merge.csv')\n",
        "df['tokens'] = df['Tweet'].apply(tokenize_text)\n",
        "\n",
        "print(df.head(15))\n",
        "df.to_csv('Merge.csv', index=False)"
      ],
      "metadata": {
        "colab": {
          "base_uri": "https://localhost:8080/"
        },
        "id": "OtMVLDlVkH_J",
        "outputId": "ef12aa93-56ba-44e9-a00d-ce6b2639267a"
      },
      "execution_count": 20,
      "outputs": [
        {
          "output_type": "stream",
          "name": "stdout",
          "text": [
            "                                                Tweet Sarcasm  \\\n",
            "0   Fantastic service yet again from EE. 1st you u...     yes   \n",
            "1   Not sure if that was or. I will take it! face_...     yes   \n",
            "2          Barely 9 am and already shaking with rage.     yes   \n",
            "3   I guess that proves it then. Black folks have ...     yes   \n",
            "4                          Does this tweet need a tag     yes   \n",
            "5   both. Wont be using you again. Made a formal c...     yes   \n",
            "6                Fuuuuuuuuck this shit screams thug!!     yes   \n",
            "7   66 UEs from Staniel and he wins in straights. ...     yes   \n",
            "8              totally surprising to every husker fan     yes   \n",
            "9                     Haha got to love the enthusiasm     yes   \n",
            "10  a southern pride advocate but of course it has...     yes   \n",
            "11  So nice not hearing any rumors that the  are n...     yes   \n",
            "12  We should divide illegals into two lines one f...     yes   \n",
            "13      does not even look like that great of a view.     yes   \n",
            "14  Mondays are always dreadful. Why are Fridays s...     yes   \n",
            "\n",
            "                                               tokens  \n",
            "0   [Fantastic, service, yet, again, from, EE, ., ...  \n",
            "1   [Not, sure, if, that, was, or, ., I, will, tak...  \n",
            "2   [Barely, 9, am, and, already, shaking, with, r...  \n",
            "3   [I, guess, that, proves, it, then, ., Black, f...  \n",
            "4                   [Does, this, tweet, need, a, tag]  \n",
            "5   [both, ., Wont, be, using, you, again, ., Made...  \n",
            "6      [Fuuuuuuuuck, this, shit, screams, thug, !, !]  \n",
            "7   [66, UEs, from, Staniel, and, he, wins, in, st...  \n",
            "8       [totally, surprising, to, every, husker, fan]  \n",
            "9              [Haha, got, to, love, the, enthusiasm]  \n",
            "10  [a, southern, pride, advocate, but, of, course...  \n",
            "11  [So, nice, not, hearing, any, rumors, that, th...  \n",
            "12  [We, should, divide, illegals, into, two, line...  \n",
            "13  [does, not, even, look, like, that, great, of,...  \n",
            "14  [Mondays, are, always, dreadful, ., Why, are, ...  \n"
          ]
        }
      ]
    },
    {
      "cell_type": "code",
      "source": [
        "df = pd.read_csv(\"Small.csv\", delimiter=',')"
      ],
      "metadata": {
        "id": "eiKg2VZdmwXO"
      },
      "execution_count": 22,
      "outputs": []
    },
    {
      "cell_type": "code",
      "execution_count": 23,
      "metadata": {
        "colab": {
          "base_uri": "https://localhost:8080/"
        },
        "id": "ETVkiG5xqhpl",
        "outputId": "caf147a4-d6e6-4b0c-aac0-b6dd24c61869"
      },
      "outputs": [
        {
          "output_type": "execute_result",
          "data": {
            "text/plain": [
              "Sarcasm\n",
              "yes    3633\n",
              "no     3297\n",
              "Name: count, dtype: int64"
            ]
          },
          "metadata": {},
          "execution_count": 23
        }
      ],
      "source": [
        "y = df['Sarcasm']\n",
        "y.value_counts()"
      ]
    },
    {
      "cell_type": "code",
      "execution_count": 25,
      "metadata": {
        "colab": {
          "base_uri": "https://localhost:8080/"
        },
        "id": "tV5Z1sbtsf7F",
        "outputId": "719547ec-f84d-4de0-cb06-8f41af3dce5c"
      },
      "outputs": [
        {
          "output_type": "stream",
          "name": "stdout",
          "text": [
            "object\n"
          ]
        }
      ],
      "source": [
        "print(df['Tweet'].dtype)"
      ]
    },
    {
      "cell_type": "code",
      "execution_count": 26,
      "metadata": {
        "id": "XPecP4qLs0_T"
      },
      "outputs": [],
      "source": [
        "df['Sarcasm'] = df['Sarcasm'].apply(lambda x: 1 if x.lower() == 'yes' else 0)"
      ]
    },
    {
      "cell_type": "markdown",
      "source": [
        "# **GRU** (Grated Recurrent Unit)"
      ],
      "metadata": {
        "id": "UkIlYUcinCTR"
      }
    },
    {
      "cell_type": "code",
      "source": [
        "max_len = 100\n",
        "vocab_size = 10000\n",
        "embedding_dim = 128\n",
        "\n",
        "# Prepare the text data\n",
        "texts = df['Tweet']\n",
        "labels = df['Sarcasm']\n",
        "\n",
        "# Tokenize and pad sequences\n",
        "tokenizer = Tokenizer(num_words=vocab_size)\n",
        "tokenizer.fit_on_texts(texts)\n",
        "sequences = tokenizer.texts_to_sequences(texts)\n",
        "padded_sequences = pad_sequences(sequences, maxlen=max_len)"
      ],
      "metadata": {
        "id": "tXfRgsT5nY8Z"
      },
      "execution_count": 27,
      "outputs": []
    },
    {
      "cell_type": "code",
      "source": [
        "# Split the dataset into Train, Test, and Validation sets\n",
        "X_train_val, X_test, y_train_val, y_test = train_test_split(padded_sequences, labels, test_size=0.2, random_state=42)\n",
        "X_train, X_val, y_train, y_val = train_test_split(X_train_val, y_train_val, test_size=0.2, random_state=42)"
      ],
      "metadata": {
        "id": "cGoIjKAsncwr"
      },
      "execution_count": 28,
      "outputs": []
    },
    {
      "cell_type": "code",
      "source": [
        "# Calculate sizes\n",
        "train_size = len(X_train)\n",
        "test_size = len(X_test)\n",
        "val_size = len(X_val)\n",
        "sizes = [train_size, test_size, val_size]\n",
        "dataset_labels = ['Train', 'Test', 'Validation']"
      ],
      "metadata": {
        "id": "VgCruUBJnf_x"
      },
      "execution_count": 29,
      "outputs": []
    },
    {
      "cell_type": "code",
      "source": [
        "# Plot Dataset sizes\n",
        "plt.figure(figsize=(6, 4))\n",
        "plt.bar(dataset_labels, sizes, color=['blue', 'orange', 'green'])\n",
        "plt.xlabel('Dataset')\n",
        "plt.ylabel('Number of Samples')\n",
        "plt.title('Dataset Sizes')\n",
        "plt.show()"
      ],
      "metadata": {
        "colab": {
          "base_uri": "https://localhost:8080/",
          "height": 410
        },
        "id": "1FqR1CMInjN0",
        "outputId": "dbd8e378-fcc6-4d22-d7b5-879397137b9a"
      },
      "execution_count": 30,
      "outputs": [
        {
          "output_type": "display_data",
          "data": {
            "text/plain": [
              "<Figure size 600x400 with 1 Axes>"
            ],
            "image/png": "[encoded data removed]"
          },
          "metadata": {}
        }
      ]
    },
    {
      "cell_type": "code",
      "source": [
        "# Data Visualization - Label-wise Split in Train Data\n",
        "label_counts = pd.Series(y_train).value_counts()\n",
        "\n",
        "plt.figure(figsize=(6, 4))\n",
        "label_counts.plot(kind='bar', color=['blue', 'green'])\n",
        "plt.xlabel('Label')\n",
        "plt.ylabel('Number of Samples')\n",
        "plt.title('Label Distribution in Training Data')\n",
        "plt.show()"
      ],
      "metadata": {
        "colab": {
          "base_uri": "https://localhost:8080/",
          "height": 405
        },
        "id": "hfQARCEIno5o",
        "outputId": "3211b821-ed03-40e4-b31e-32f59527a3e7"
      },
      "execution_count": 31,
      "outputs": [
        {
          "output_type": "display_data",
          "data": {
            "text/plain": [
              "<Figure size 600x400 with 1 Axes>"
            ],
            "image/png": "[encoded data removed]"
          },
          "metadata": {}
        }
      ]
    },
    {
      "cell_type": "code",
      "source": [
        "# Plot Label distribution (Pie Chart)\n",
        "plt.figure(figsize=(6, 4))\n",
        "label_counts.plot(kind='pie', autopct='%1.1f%%', colors=['blue', 'orange'])\n",
        "plt.ylabel('')\n",
        "plt.title('Label Distribution in Training Data')\n",
        "plt.show()"
      ],
      "metadata": {
        "colab": {
          "base_uri": "https://localhost:8080/",
          "height": 367
        },
        "id": "CHRzumEvnvj3",
        "outputId": "a3a869ca-e6dc-4459-b985-5c03b5321ea8"
      },
      "execution_count": 32,
      "outputs": [
        {
          "output_type": "display_data",
          "data": {
            "text/plain": [
              "<Figure size 600x400 with 1 Axes>"
            ],
            "image/png": "[encoded data removed]"
          },
          "metadata": {}
        }
      ]
    },
    {
      "cell_type": "code",
      "execution_count": null,
      "metadata": {
        "colab": {
          "base_uri": "https://localhost:8080/"
        },
        "id": "IQamZyYgvRHS",
        "outputId": "ebc0a333-8d64-469f-f6e4-f12395668fbc"
      },
      "outputs": [
        {
          "output_type": "stream",
          "name": "stdout",
          "text": [
            "Epoch 1/10\n",
            "87/87 [==============================] - 18s 107ms/step - loss: 0.4342 - accuracy: 0.8092 - val_loss: 0.2721 - val_accuracy: 0.8874\n",
            "Epoch 2/10\n",
            "87/87 [==============================] - 6s 70ms/step - loss: 0.2120 - accuracy: 0.9192 - val_loss: 0.2406 - val_accuracy: 0.9019\n",
            "Epoch 3/10\n",
            "87/87 [==============================] - 4s 46ms/step - loss: 0.1019 - accuracy: 0.9639 - val_loss: 0.2954 - val_accuracy: 0.8947\n",
            "Epoch 4/10\n",
            "87/87 [==============================] - 4s 52ms/step - loss: 0.0609 - accuracy: 0.9791 - val_loss: 0.3792 - val_accuracy: 0.8882\n",
            "Epoch 5/10\n",
            "87/87 [==============================] - 4s 41ms/step - loss: 0.0500 - accuracy: 0.9821 - val_loss: 0.4182 - val_accuracy: 0.8831\n",
            "44/44 [==============================] - 0s 10ms/step - loss: 0.2406 - accuracy: 0.9019\n",
            "Test Loss: 0.2406, Accuracy: 0.9019\n",
            "44/44 [==============================] - 1s 9ms/step\n",
            "F1 Score (weighted): 0.9018\n",
            "Classification Report:\n",
            "              precision    recall  f1-score   support\n",
            "\n",
            "           0       0.91      0.88      0.89       648\n",
            "           1       0.90      0.92      0.91       738\n",
            "\n",
            "    accuracy                           0.90      1386\n",
            "   macro avg       0.90      0.90      0.90      1386\n",
            "weighted avg       0.90      0.90      0.90      1386\n",
            "\n",
            "1/1 [==============================] - 0s 28ms/step\n",
            "This text is predicted to be sarcastic.\n"
          ]
        }
      ],
      "source": [
        "# Define the GRU model\n",
        "model = Sequential()\n",
        "model.add(Embedding(vocab_size, embedding_dim, input_length=max_len))\n",
        "model.add(GRU(294, return_sequences=True))\n",
        "model.add(GRU(254, return_sequences=True))\n",
        "model.add(Dense(102, activation='relu'))\n",
        "model.add(GRU(194, return_sequences=True))\n",
        "model.add(GRU(194))\n",
        "model.add(Dense(192, activation='relu'))\n",
        "model.add(Dense(192, activation='relu'))\n",
        "model.add(Dense(152, activation='relu'))\n",
        "model.add(Dense(1, activation='sigmoid'))\n",
        "\n",
        "early_stopping = EarlyStopping(monitor='val_loss', patience=3, restore_best_weights=True)\n",
        "model.compile(loss='binary_crossentropy', optimizer='adam', metrics=['accuracy'])\n",
        "\n",
        "model.fit(X_train, y_train, epochs=10, batch_size=64, validation_data=(X_test, y_test), callbacks=[early_stopping])\n",
        "\n",
        "loss, accuracy = model.evaluate(X_test, y_test)\n",
        "print(f\"Test Loss: {loss:.4f}, Accuracy: {accuracy:.4f}\")\n",
        "\n",
        "y_pred = (model.predict(X_test) > 0.5).astype(\"int32\")\n",
        "f1 = f1_score(y_test, y_pred, average='weighted')\n",
        "print(f\"F1 Score (weighted): {f1:.4f}\")\n",
        "\n",
        "print(\"Classification Report:\")\n",
        "print(classification_report(y_test, y_pred))\n",
        "\n",
        "new_text = \"This new restaurant is a real gem, NOT.\"\n",
        "sequence = tokenizer.texts_to_sequences([new_text])\n",
        "padded_sequence = pad_sequences(sequence, maxlen=max_len)\n",
        "prediction = model.predict(padded_sequence)\n",
        "if prediction > 0.5:\n",
        "    print(\"This text is predicted to be sarcastic.\")\n",
        "else:\n",
        "    print(\"This text is predicted to be non-sarcastic.\")"
      ]
    },
    {
      "cell_type": "code",
      "execution_count": null,
      "metadata": {
        "id": "E9uYK-iulwrr",
        "colab": {
          "base_uri": "https://localhost:8080/",
          "height": 564
        },
        "outputId": "7d8d3499-473c-4e01-e434-e08a5887380e"
      },
      "outputs": [
        {
          "output_type": "display_data",
          "data": {
            "text/plain": [
              "<Figure size 800x600 with 2 Axes>"
            ],
            "image/png": "[encoded data removed]"
          },
          "metadata": {}
        }
      ],
      "source": [
        "conf_matrix = confusion_matrix(y_test, y_pred)\n",
        "plt.figure(figsize=(8, 6))\n",
        "sns.heatmap(conf_matrix, annot=True, fmt='d', cmap='Blues', xticklabels=['Not Sarcastic', 'Sarcastic'], yticklabels=['Not Sarcastic', 'Sarcastic'])\n",
        "plt.xlabel('Predicted')\n",
        "plt.ylabel('Actual')\n",
        "plt.title('Confusion Matrix')\n",
        "plt.show()"
      ]
    },
    {
      "cell_type": "markdown",
      "source": [
        "# **BLSTM** : Bidirectional Long Short-Term Memory"
      ],
      "metadata": {
        "id": "UezzR-Lq74jb"
      }
    },
    {
      "cell_type": "code",
      "source": [
        "max_len = 100\n",
        "vocab_size = 10000\n",
        "embedding_dim = 128\n",
        "\n",
        "texts = df['Tweet'].astype(str)\n",
        "labels = df['Sarcasm'].astype(int)\n",
        "\n",
        "tokenizer = Tokenizer(num_words=vocab_size)\n",
        "tokenizer.fit_on_texts(texts)\n",
        "sequences = tokenizer.texts_to_sequences(texts)\n",
        "padded_sequences = pad_sequences(sequences, maxlen=max_len)\n",
        "\n",
        "X_train, X_test, y_train, y_test = train_test_split(padded_sequences, labels, test_size=0.2, random_state=42)\n",
        "\n",
        "model = Sequential()\n",
        "model.add(Embedding(vocab_size, embedding_dim, input_length=max_len))\n",
        "model.add(Bidirectional(LSTM(256, return_sequences=True)))\n",
        "model.add(Bidirectional(LSTM(236, return_sequences=True)))\n",
        "model.add(Bidirectional(LSTM(228)))\n",
        "model.add(Dense(1, activation='sigmoid'))\n",
        "model.compile(loss='binary_crossentropy', optimizer='adam', metrics=['accuracy'])\n",
        "\n",
        "early_stopping = EarlyStopping(monitor='val_loss', patience=3, restore_best_weights=True)\n",
        "\n",
        "history = model.fit(X_train, y_train, epochs=20, batch_size=164, validation_data=(X_test, y_test), callbacks=[early_stopping])\n",
        "\n",
        "y_pred = (model.predict(X_test) > 0.5).astype(\"int32\")\n",
        "f1 = f1_score(y_test, y_pred, average='weighted')\n",
        "print(f\"F1 Score (weighted): {f1:.4f}\")\n",
        "\n",
        "new_text = \"This new restaurant is a real gem, NOT.\"\n",
        "sequence = tokenizer.texts_to_sequences([new_text])\n",
        "padded_sequence = pad_sequences(sequence, maxlen=max_len)\n",
        "prediction = model.predict(padded_sequence)\n",
        "if prediction > 0.5:\n",
        "    print(\"This text is predicted to be sarcastic.\")\n",
        "else:\n",
        "    print(\"This text is predicted to be non-sarcastic.\")\n"
      ],
      "metadata": {
        "id": "qqXknxDZ3mq9",
        "colab": {
          "base_uri": "https://localhost:8080/"
        },
        "outputId": "6615b829-22fe-4c19-a510-05df52837bbb"
      },
      "execution_count": 42,
      "outputs": [
        {
          "output_type": "stream",
          "name": "stdout",
          "text": [
            "Epoch 1/20\n",
            "34/34 [==============================] - 22s 294ms/step - loss: 0.5138 - accuracy: 0.7576 - val_loss: 0.3526 - val_accuracy: 0.8752\n",
            "Epoch 2/20\n",
            "34/34 [==============================] - 6s 189ms/step - loss: 0.2704 - accuracy: 0.8927 - val_loss: 0.2698 - val_accuracy: 0.8831\n",
            "Epoch 3/20\n",
            "34/34 [==============================] - 7s 197ms/step - loss: 0.1269 - accuracy: 0.9527 - val_loss: 0.3181 - val_accuracy: 0.8939\n",
            "Epoch 4/20\n",
            "34/34 [==============================] - 6s 179ms/step - loss: 0.0583 - accuracy: 0.9802 - val_loss: 0.3544 - val_accuracy: 0.8961\n",
            "Epoch 5/20\n",
            "34/34 [==============================] - 7s 204ms/step - loss: 0.0401 - accuracy: 0.9861 - val_loss: 0.3588 - val_accuracy: 0.8990\n",
            "44/44 [==============================] - 3s 19ms/step\n",
            "F1 Score (weighted): 0.8832\n",
            "1/1 [==============================] - 0s 30ms/step\n",
            "This text is predicted to be sarcastic.\n"
          ]
        }
      ]
    },
    {
      "cell_type": "code",
      "source": [
        "y_pred = (model.predict(X_test) > 0.5).astype(\"int32\")\n",
        "f1 = f1_score(y_test, y_pred, average='weighted')\n",
        "print(f\"F1 Score (weighted): {f1:.4f}\")\n",
        "\n",
        "print(\"Classification Report:\")\n",
        "print(classification_report(y_test, y_pred))"
      ],
      "metadata": {
        "colab": {
          "base_uri": "https://localhost:8080/"
        },
        "id": "nHHEjBE_-K-t",
        "outputId": "2a25538b-0b0e-439b-9ad3-09161931e6de"
      },
      "execution_count": 43,
      "outputs": [
        {
          "output_type": "stream",
          "name": "stdout",
          "text": [
            "44/44 [==============================] - 1s 16ms/step\n",
            "F1 Score (weighted): 0.8832\n",
            "Classification Report:\n",
            "              precision    recall  f1-score   support\n",
            "\n",
            "           0       0.86      0.90      0.88       648\n",
            "           1       0.90      0.87      0.89       738\n",
            "\n",
            "    accuracy                           0.88      1386\n",
            "   macro avg       0.88      0.88      0.88      1386\n",
            "weighted avg       0.88      0.88      0.88      1386\n",
            "\n"
          ]
        }
      ]
    },
    {
      "cell_type": "code",
      "source": [
        "conf_matrix = confusion_matrix(y_test, y_pred)\n",
        "plt.figure(figsize=(8, 6))\n",
        "sns.heatmap(conf_matrix, annot=True, fmt='d', cmap='Blues', xticklabels=['Not Sarcastic', 'Sarcastic'], yticklabels=['Not Sarcastic', 'Sarcastic'])\n",
        "plt.xlabel('Predicted')\n",
        "plt.ylabel('Actual')\n",
        "plt.title('Confusion Matrix')\n",
        "plt.show()"
      ],
      "metadata": {
        "colab": {
          "base_uri": "https://localhost:8080/",
          "height": 564
        },
        "id": "gKD1I4wQ8CUp",
        "outputId": "cafb6ae3-7cae-46ee-c92b-aeda8eb7eec0"
      },
      "execution_count": 44,
      "outputs": [
        {
          "output_type": "display_data",
          "data": {
            "text/plain": [
              "<Figure size 800x600 with 2 Axes>"
            ],
            "image/png": "[encoded data removed]"
          },
          "metadata": {}
        }
      ]
    },
    {
      "cell_type": "markdown",
      "source": [
        "# CNN : Convolutional Neural network"
      ],
      "metadata": {
        "id": "uuDoRdWh87CY"
      }
    },
    {
      "cell_type": "code",
      "source": [
        "# Parameters\n",
        "max_len = 100\n",
        "vocab_size = 10000\n",
        "embedding_dim = 128\n",
        "filter_sizes = [3, 4, 5]\n",
        "num_filters = 64\n",
        "dropout_rate = 0.5\n",
        "l2_lambda = 0.01\n",
        "\n",
        "# Prepare the data\n",
        "texts = df['Tweet']\n",
        "labels = df['Sarcasm']\n",
        "\n",
        "tokenizer = Tokenizer(num_words=vocab_size)\n",
        "tokenizer.fit_on_texts(texts)\n",
        "sequences = tokenizer.texts_to_sequences(texts)\n",
        "\n",
        "padded_sequences = pad_sequences(sequences, maxlen=max_len)\n",
        "\n",
        "X_train, X_test, y_train, y_test = train_test_split(padded_sequences, labels, test_size=0.2, random_state=42)\n",
        "\n",
        "# Define the model\n",
        "input_layer = Input(shape=(max_len,))\n",
        "embedding_layer = Embedding(vocab_size, embedding_dim, input_length=max_len)(input_layer)\n",
        "\n",
        "conv_layers = []\n",
        "for filter_size in filter_sizes:\n",
        "    conv_layer = Conv1D(num_filters, filter_size, activation='tanh', padding='same')(embedding_layer)\n",
        "    gated_conv_layer = Conv1D(num_filters, filter_size, activation='sigmoid', padding='same')(conv_layer)\n",
        "    drop_layer = Dropout(dropout_rate)(gated_conv_layer)\n",
        "    pooled_layer = GlobalMaxPooling1D()(drop_layer)\n",
        "    conv_layers.append(pooled_layer)\n",
        "\n",
        "merged_layer = Concatenate()(conv_layers)\n",
        "\n",
        "# Add additional dense and dropout layers\n",
        "dense_layer1 = Dense(128, activation='relu', kernel_regularizer=l2(l2_lambda))(merged_layer)\n",
        "dropout_layer1 = Dropout(dropout_rate)(dense_layer1)\n",
        "\n",
        "# Add an LSTM layer\n",
        "lstm_layer = Bidirectional(LSTM(64, return_sequences=False))(embedding_layer)\n",
        "\n",
        "# Concatenate LSTM output with CNN output\n",
        "concat_layer = Concatenate()([dropout_layer1, lstm_layer])\n",
        "\n",
        "# Final dense layers\n",
        "dense_layer2 = Dense(64, activation='relu', kernel_regularizer=l2(l2_lambda))(concat_layer)\n",
        "dropout_layer2 = Dropout(dropout_rate)(dense_layer2)\n",
        "output_layer = Dense(1, activation='sigmoid')(dropout_layer2)\n",
        "\n",
        "model = Model(inputs=input_layer, outputs=output_layer)\n",
        "\n",
        "model.compile(loss='binary_crossentropy', optimizer='adam', metrics=['accuracy'])\n",
        "\n",
        "# Add early stopping\n",
        "early_stopping = EarlyStopping(monitor='val_loss', patience=3, restore_best_weights=True)\n",
        "\n",
        "# Train the model\n",
        "model.fit(X_train, y_train, epochs=20, batch_size=32, validation_data=(X_test, y_test), callbacks=[early_stopping])\n",
        "\n",
        "# Evaluate the model\n",
        "loss, accuracy = model.evaluate(X_test, y_test)\n",
        "print(f\"Test Loss: {loss:.4f}, Accuracy: {accuracy:.4f}\")\n",
        "\n",
        "# Predict new text\n",
        "new_text = \"This new restaurant is a real gem, NOT.\"  # Replace with your text\n",
        "sequence = tokenizer.texts_to_sequences([new_text])\n",
        "padded_sequence = pad_sequences(sequence, maxlen=max_len)\n",
        "prediction = model.predict(padded_sequence)\n",
        "if prediction > 0.5:\n",
        "    print(\"This text is predicted to be sarcastic.\")\n",
        "else:\n",
        "    print(\"This text is predicted to be non-sarcastic.\")\n"
      ],
      "metadata": {
        "colab": {
          "base_uri": "https://localhost:8080/"
        },
        "id": "3qMKmwtw8mNM",
        "outputId": "4587a1e3-a620-4b8d-93e7-54e5ed66235b"
      },
      "execution_count": 39,
      "outputs": [
        {
          "output_type": "stream",
          "name": "stdout",
          "text": [
            "Epoch 1/20\n",
            "174/174 [==============================] - 24s 76ms/step - loss: 1.6129 - accuracy: 0.6838 - val_loss: 0.7745 - val_accuracy: 0.8680\n",
            "Epoch 2/20\n",
            "174/174 [==============================] - 8s 47ms/step - loss: 0.5353 - accuracy: 0.8975 - val_loss: 0.4402 - val_accuracy: 0.8882\n",
            "Epoch 3/20\n",
            "174/174 [==============================] - 3s 20ms/step - loss: 0.2580 - accuracy: 0.9553 - val_loss: 0.3775 - val_accuracy: 0.8817\n",
            "Epoch 4/20\n",
            "174/174 [==============================] - 3s 18ms/step - loss: 0.1457 - accuracy: 0.9771 - val_loss: 0.3591 - val_accuracy: 0.8802\n",
            "Epoch 5/20\n",
            "174/174 [==============================] - 4s 21ms/step - loss: 0.0934 - accuracy: 0.9868 - val_loss: 0.3509 - val_accuracy: 0.8889\n",
            "Epoch 6/20\n",
            "174/174 [==============================] - 6s 35ms/step - loss: 0.0695 - accuracy: 0.9903 - val_loss: 0.3757 - val_accuracy: 0.8947\n",
            "Epoch 7/20\n",
            "174/174 [==============================] - 3s 20ms/step - loss: 0.0567 - accuracy: 0.9910 - val_loss: 0.3993 - val_accuracy: 0.8810\n",
            "Epoch 8/20\n",
            "174/174 [==============================] - 3s 17ms/step - loss: 0.0473 - accuracy: 0.9919 - val_loss: 0.3861 - val_accuracy: 0.8911\n",
            "44/44 [==============================] - 0s 8ms/step - loss: 0.3509 - accuracy: 0.8889\n",
            "Test Loss: 0.3509, Accuracy: 0.8889\n",
            "1/1 [==============================] - 1s 958ms/step\n",
            "This text is predicted to be sarcastic.\n"
          ]
        }
      ]
    },
    {
      "cell_type": "code",
      "source": [
        "y_pred = (model.predict(X_test) > 0.5).astype(\"int32\")\n",
        "f1 = f1_score(y_test, y_pred, average='weighted')\n",
        "print(f\"F1 Score (weighted): {f1:.4f}\")\n",
        "\n",
        "print(\"Classification Report:\")\n",
        "print(classification_report(y_test, y_pred))"
      ],
      "metadata": {
        "colab": {
          "base_uri": "https://localhost:8080/"
        },
        "id": "T6yrgptF9owI",
        "outputId": "f82117c0-a8d4-4910-ce3d-706f78937ed1"
      },
      "execution_count": 40,
      "outputs": [
        {
          "output_type": "stream",
          "name": "stdout",
          "text": [
            "44/44 [==============================] - 0s 5ms/step\n",
            "F1 Score (weighted): 0.8890\n",
            "Classification Report:\n",
            "              precision    recall  f1-score   support\n",
            "\n",
            "           0       0.85      0.92      0.89       648\n",
            "           1       0.93      0.86      0.89       738\n",
            "\n",
            "    accuracy                           0.89      1386\n",
            "   macro avg       0.89      0.89      0.89      1386\n",
            "weighted avg       0.89      0.89      0.89      1386\n",
            "\n"
          ]
        }
      ]
    },
    {
      "cell_type": "code",
      "source": [
        "conf_matrix = confusion_matrix(y_test, y_pred)\n",
        "plt.figure(figsize=(8, 6))\n",
        "sns.heatmap(conf_matrix, annot=True, fmt='d', cmap='Blues', xticklabels=['Not Sarcastic', 'Sarcastic'], yticklabels=['Not Sarcastic', 'Sarcastic'])\n",
        "plt.xlabel('Predicted')\n",
        "plt.ylabel('Actual')\n",
        "plt.title('Confusion Matrix')\n",
        "plt.show()"
      ],
      "metadata": {
        "colab": {
          "base_uri": "https://localhost:8080/",
          "height": 564
        },
        "id": "N7S3b8i099Yj",
        "outputId": "2f3a8411-7e8a-4eb4-e881-b44c4c7177b5"
      },
      "execution_count": 41,
      "outputs": [
        {
          "output_type": "display_data",
          "data": {
            "text/plain": [
              "<Figure size 800x600 with 2 Axes>"
            ],
            "image/png": "[encoded data removed]"
          },
          "metadata": {}
        }
      ]
    },
    {
      "cell_type": "markdown",
      "source": [
        "## **RNN** : Recurrent Neural network"
      ],
      "metadata": {
        "id": "7YZxh1mYEOtq"
      }
    },
    {
      "cell_type": "code",
      "source": [
        "max_len = 100\n",
        "vocab_size = 10000\n",
        "embedding_dim = 128\n",
        "\n",
        "texts = df['Tweet'].astype(str).tolist()\n",
        "labels = df['Sarcasm'].astype(int).tolist()\n",
        "\n",
        "# Tokenization and Padding\n",
        "tokenizer = Tokenizer(num_words=vocab_size)\n",
        "tokenizer.fit_on_texts(texts)\n",
        "sequences = tokenizer.texts_to_sequences(texts)\n",
        "padded_sequences = pad_sequences(sequences, maxlen=max_len)\n",
        "\n",
        "# Define the RNN Model\n",
        "model = Sequential()\n",
        "model.add(Embedding(vocab_size, embedding_dim, input_length=max_len))\n",
        "model.add(SimpleRNN(128, return_sequences=False))  # SimpleRNN layer\n",
        "model.add(Dense(1, activation='sigmoid'))\n",
        "\n",
        "# Compile the model\n",
        "model.compile(optimizer='adam',\n",
        "              loss='binary_crossentropy',\n",
        "              metrics=['accuracy'])\n",
        "\n",
        "# Train the model\n",
        "history = model.fit(X_train, y_train,\n",
        "                    epochs=5,\n",
        "                    batch_size=32,\n",
        "                    validation_data=(X_test, y_test))\n",
        "\n",
        "# Evaluate the model\n",
        "loss, accuracy = model.evaluate(X_test, y_test)\n",
        "print(f'Loss: {loss:.4f}, Accuracy: {accuracy:.4f}')\n",
        "\n",
        "# Predict on new text\n",
        "new_text = \"This new restaurant is a real gem, NOT.\"\n",
        "sequence = tokenizer.texts_to_sequences([new_text])\n",
        "padded_sequence = pad_sequences(sequence, maxlen=max_len)\n",
        "prediction = model.predict(padded_sequence)\n",
        "\n",
        "if prediction > 0.5:\n",
        "    print(\"This text is predicted to be sarcastic.\")\n",
        "else:\n",
        "    print(\"This text is predicted to be non-sarcastic.\")\n"
      ],
      "metadata": {
        "colab": {
          "base_uri": "https://localhost:8080/"
        },
        "id": "U0Y87zdu_T4b",
        "outputId": "aafbee59-21be-4c6c-92fe-170b099958e0"
      },
      "execution_count": 50,
      "outputs": [
        {
          "output_type": "stream",
          "name": "stdout",
          "text": [
            "Epoch 1/5\n",
            "174/174 [==============================] - 40s 214ms/step - loss: 0.4436 - accuracy: 0.7913 - val_loss: 0.2736 - val_accuracy: 0.8846\n",
            "Epoch 2/5\n",
            "174/174 [==============================] - 30s 172ms/step - loss: 0.1361 - accuracy: 0.9497 - val_loss: 0.2932 - val_accuracy: 0.8838\n",
            "Epoch 3/5\n",
            "174/174 [==============================] - 17s 98ms/step - loss: 0.0597 - accuracy: 0.9807 - val_loss: 0.3537 - val_accuracy: 0.8615\n",
            "Epoch 4/5\n",
            "174/174 [==============================] - 34s 193ms/step - loss: 0.0301 - accuracy: 0.9922 - val_loss: 0.3375 - val_accuracy: 0.8867\n",
            "Epoch 5/5\n",
            "174/174 [==============================] - 21s 119ms/step - loss: 0.0119 - accuracy: 0.9968 - val_loss: 0.3854 - val_accuracy: 0.8846\n",
            "44/44 [==============================] - 0s 10ms/step - loss: 0.3854 - accuracy: 0.8846\n",
            "Loss: 0.3854, Accuracy: 0.8846\n",
            "1/1 [==============================] - 0s 126ms/step\n",
            "This text is predicted to be sarcastic.\n"
          ]
        }
      ]
    },
    {
      "cell_type": "code",
      "source": [
        "y_pred = (model.predict(X_test) > 0.5).astype(\"int32\")\n",
        "f1 = f1_score(y_test, y_pred, average='weighted')\n",
        "print(f\"F1 Score (weighted): {f1:.4f}\")\n",
        "\n",
        "print(\"Classification Report:\")\n",
        "print(classification_report(y_test, y_pred))"
      ],
      "metadata": {
        "colab": {
          "base_uri": "https://localhost:8080/"
        },
        "id": "_q8EgewAENi1",
        "outputId": "1e8f8246-4036-48dd-e484-f270628bad33"
      },
      "execution_count": 51,
      "outputs": [
        {
          "output_type": "stream",
          "name": "stdout",
          "text": [
            "44/44 [==============================] - 0s 10ms/step\n",
            "F1 Score (weighted): 0.8846\n",
            "Classification Report:\n",
            "              precision    recall  f1-score   support\n",
            "\n",
            "           0       0.88      0.88      0.88       648\n",
            "           1       0.89      0.89      0.89       738\n",
            "\n",
            "    accuracy                           0.88      1386\n",
            "   macro avg       0.88      0.88      0.88      1386\n",
            "weighted avg       0.88      0.88      0.88      1386\n",
            "\n"
          ]
        }
      ]
    },
    {
      "cell_type": "code",
      "source": [
        "conf_matrix = confusion_matrix(y_test, y_pred)\n",
        "plt.figure(figsize=(8, 6))\n",
        "sns.heatmap(conf_matrix, annot=True, fmt='d', cmap='Blues', xticklabels=['Not Sarcastic', 'Sarcastic'], yticklabels=['Not Sarcastic', 'Sarcastic'])\n",
        "plt.xlabel('Predicted')\n",
        "plt.ylabel('Actual')\n",
        "plt.title('Confusion Matrix')\n",
        "plt.show()"
      ],
      "metadata": {
        "colab": {
          "base_uri": "https://localhost:8080/",
          "height": 564
        },
        "id": "iJNW7lhpElU4",
        "outputId": "b81ca8c4-a501-4242-e221-d0eae9b8c9b1"
      },
      "execution_count": 52,
      "outputs": [
        {
          "output_type": "display_data",
          "data": {
            "text/plain": [
              "<Figure size 800x600 with 2 Axes>"
            ],
            "image/png": "[encoded data removed]"
          },
          "metadata": {}
        }
      ]
    },
    {
      "cell_type": "markdown",
      "source": [
        "# **Conclusion**:\n",
        "\n",
        "### **Upload the dataset**\n",
        "### **Preprocessed the dataset** : Remove urls, #, @, etc and check for null value or duplicate value or replace Emoji with its meaningful text.\n",
        "\n",
        "### Merge Two Datasets\n",
        "\n",
        "### Applied Word Tokenization to the 'Tweet' column\n",
        "\n",
        "### **Trained and Evaluate the Model**:\n",
        "\n",
        "Tried various deep learning models and found GRU to have the best performance among them.\n",
        "\n",
        "**Accuracy of different deep learning models**:\n",
        "\n",
        "\n",
        "*   GRU: 90.19%\n",
        "*   BLSTM: 88.32%\n",
        "*   CNN: 88.89%\n",
        "*   RNN: 88.46%\n",
        "\n",
        "\n",
        "\n",
        "\n",
        "\n"
      ],
      "metadata": {
        "id": "Dze7whnYFVTn"
      }
    },
    {
      "cell_type": "code",
      "source": [],
      "metadata": {
        "id": "HSD5mVh7EncO"
      },
      "execution_count": 52,
      "outputs": []
    }
  ],
  "metadata": {
    "accelerator": "GPU",
    "colab": {
      "gpuType": "T4",
      "provenance": []
    },
    "kernelspec": {
      "display_name": "Python 3",
      "name": "python3"
    },
    "language_info": {
      "name": "python"
    }
  },
  "nbformat": 4,
  "nbformat_minor": 0
}